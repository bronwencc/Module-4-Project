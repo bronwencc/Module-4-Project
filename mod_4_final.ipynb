{
 "cells": [
  {
   "cell_type": "markdown",
   "metadata": {},
   "source": [
    "# Module 4 Project\n",
    "* Student name: Bronwen C.\n",
    "* Student pace: Self-paced\n",
    "* Scheduled project review date/time: March 4, 11:00 EST\n",
    "* Instructor name: Jeff\n",
    "* Blog post URL: https://bronwencc.github.io/module_4_final_project"
   ]
  },
  {
   "cell_type": "markdown",
   "metadata": {},
   "source": [
    "## Objective:\n",
    "This notebook intends to select five areas from the Zillow dataset to recommend as the best real estate markets in which to invest.  It determines p, d, and q parameters from modeling a time series of an overall average and choosing those with the lowest AIC and resulted in terms' p-values under 0.05.  Those parameters are then used to model the median ninth (44th to 55th percentiles based on the prices for the last recorded date) of the data to narrow down the best 20 that have the lowest mean-squared error when matching the first five steps of forecasts using the training set to the correspondingly first five values of the test set.  With those 20, predictions for 2 years into the future were made (24 steps ahead) and confidence interval bounds were determined.  When comparing the lower bound of the last date to the last observed value for them, the five that had the highest percent change (in this case, the negative numbers closest to zero) were said to be the top five regions in which to invest."
   ]
  },
  {
   "cell_type": "code",
   "execution_count": null,
   "metadata": {},
   "outputs": [],
   "source": [
    "#all import statements at beginning\n",
    "import statsmodels.api as sm\n",
    "import math\n",
    "import time\n",
    "import pandas as pd"
   ]
  },
  {
   "cell_type": "code",
   "execution_count": null,
   "metadata": {},
   "outputs": [],
   "source": [
    "from statsmodels.graphics.tsaplots import plot_acf, plot_pacf\n",
    "import matplotlib.pyplot as plt\n",
    "%matplotlib inline\n",
    "plt.style.use(\"seaborn\")"
   ]
  },
  {
   "cell_type": "code",
   "execution_count": null,
   "metadata": {},
   "outputs": [],
   "source": [
    "import itertools"
   ]
  },
  {
   "cell_type": "code",
   "execution_count": 24,
   "metadata": {},
   "outputs": [],
   "source": [
    "#creating folder for files and images\n",
    "import os\n",
    "\n",
    "current = os.curdir\n",
    "newfolder = 'files'\n",
    "newpath = os.path.join(current,newfolder)\n",
    "if not os.path.exists(newpath):\n",
    "    os.makedirs(newpath)"
   ]
  },
  {
   "cell_type": "markdown",
   "metadata": {},
   "source": [
    "# 1: Load and Explore Data\n",
    "Find null values, look at shape and description."
   ]
  },
  {
   "cell_type": "code",
   "execution_count": 11,
   "metadata": {},
   "outputs": [
    {
     "name": "stdout",
     "output_type": "stream",
     "text": [
      "<class 'pandas.core.frame.DataFrame'>\n",
      "RangeIndex: 14723 entries, 0 to 14722\n",
      "Columns: 272 entries, RegionID to 2018-04\n",
      "dtypes: float64(219), int64(49), object(4)\n",
      "memory usage: 30.6+ MB\n"
     ]
    }
   ],
   "source": [
    "data = pd.read_csv(\"zillow_data.csv\")\n",
    "data.info()"
   ]
  },
  {
   "cell_type": "code",
   "execution_count": 3,
   "metadata": {
    "scrolled": true
   },
   "outputs": [
    {
     "data": {
      "text/plain": [
       "RegionID         0\n",
       "RegionName       0\n",
       "City             0\n",
       "State            0\n",
       "Metro         1043\n",
       "CountyName       0\n",
       "SizeRank         0\n",
       "1996-04       1039\n",
       "1996-05       1039\n",
       "1996-06       1039\n",
       "1996-07       1039\n",
       "1996-08       1039\n",
       "1996-09       1039\n",
       "1996-10       1039\n",
       "1996-11       1039\n",
       "1996-12       1039\n",
       "1997-01       1039\n",
       "1997-02       1039\n",
       "1997-03       1039\n",
       "1997-04       1039\n",
       "1997-05       1039\n",
       "1997-06       1039\n",
       "1997-07       1038\n",
       "1997-08       1038\n",
       "1997-09       1038\n",
       "1997-10       1038\n",
       "1997-11       1038\n",
       "1997-12       1038\n",
       "1998-01       1036\n",
       "1998-02       1036\n",
       "              ... \n",
       "2015-11          0\n",
       "2015-12          0\n",
       "2016-01          0\n",
       "2016-02          0\n",
       "2016-03          0\n",
       "2016-04          0\n",
       "2016-05          0\n",
       "2016-06          0\n",
       "2016-07          0\n",
       "2016-08          0\n",
       "2016-09          0\n",
       "2016-10          0\n",
       "2016-11          0\n",
       "2016-12          0\n",
       "2017-01          0\n",
       "2017-02          0\n",
       "2017-03          0\n",
       "2017-04          0\n",
       "2017-05          0\n",
       "2017-06          0\n",
       "2017-07          0\n",
       "2017-08          0\n",
       "2017-09          0\n",
       "2017-10          0\n",
       "2017-11          0\n",
       "2017-12          0\n",
       "2018-01          0\n",
       "2018-02          0\n",
       "2018-03          0\n",
       "2018-04          0\n",
       "Length: 272, dtype: int64"
      ]
     },
     "execution_count": 3,
     "metadata": {},
     "output_type": "execute_result"
    }
   ],
   "source": [
    "#checking for null/missing values in data\n",
    "data.isna().sum()"
   ]
  },
  {
   "cell_type": "markdown",
   "metadata": {},
   "source": [
    "The data is missing only 1039 values out of 14723 records so I will look at it transposed to compare the values missing and drop them."
   ]
  },
  {
   "cell_type": "code",
   "execution_count": 33,
   "metadata": {},
   "outputs": [],
   "source": [
    "#this function takes the columns of the dataframe that have dates and returns them as a DateTime series\n",
    "def get_datetimes(df):\n",
    "    '''\n",
    "    For a dataframe with the eighth column name onwards in the Year-month format.\n",
    "    \n",
    "    Args\n",
    "        df (pandas DataFrame): a dataframe with the eighth column title and subsequent names in the format of Year-month\n",
    "    \n",
    "    Returns\n",
    "        (pandas DateTime Series): a pandas DateTime object of those selected column names (e.g., 1980-5 becomes 1980-05-01)\n",
    "    '''\n",
    "    return pd.to_datetime(df.columns.values[7:], format='%Y-%m')"
   ]
  },
  {
   "cell_type": "code",
   "execution_count": 29,
   "metadata": {},
   "outputs": [
    {
     "data": {
      "text/plain": [
       "14723"
      ]
     },
     "execution_count": 29,
     "metadata": {},
     "output_type": "execute_result"
    }
   ],
   "source": [
    "#checking how many unique RegionID's are in data\n",
    "len(data.RegionID.value_counts())"
   ]
  },
  {
   "cell_type": "code",
   "execution_count": 30,
   "metadata": {},
   "outputs": [
    {
     "name": "stdout",
     "output_type": "stream",
     "text": [
      "<class 'pandas.core.frame.DataFrame'>\n",
      "RangeIndex: 14723 entries, 0 to 14722\n",
      "Columns: 272 entries, RegionID to 2018-04\n",
      "dtypes: float64(219), int64(49), object(4)\n",
      "memory usage: 30.6+ MB\n"
     ]
    }
   ],
   "source": [
    "#comparing how many records are in the DataFrame\n",
    "data.info()"
   ]
  },
  {
   "cell_type": "markdown",
   "metadata": {},
   "source": [
    "There are 14723 entries in the dataframe and 14723 RegionID's so each RegionID must be unique."
   ]
  },
  {
   "cell_type": "code",
   "execution_count": 32,
   "metadata": {},
   "outputs": [],
   "source": [
    "#function to convert selection of dataframe into a dictionary to become transposed and have months as the index\n",
    "def transposeDF(dataframe):\n",
    "    '''\n",
    "    Transposes dataframe to make a new one purely of prices data with RegionID's as column titles and dates as the index.\n",
    "    \n",
    "    Args\n",
    "        dataframe (pandas DataFrame): a DataFrame with the expected transposed column names in the first column and the relevant information in the eighth column onwards and dates of Year-month format in those same columns' titles.\n",
    "    \n",
    "    Returns\n",
    "        (pandas DataFrame): a DataFrame with the column titles from dataframe's first column and the index of DateTime objects from its eighth until its last column names\n",
    "    '''\n",
    "    \n",
    "    #transpose dataframe into matrix of prices and DateTimeIndex\n",
    "    thislist = [list(row) for row in dataframe.iloc[:,7:].values]\n",
    "    \n",
    "    #putting the dates into a datetime format\n",
    "    times = get_datetimes(dataframe)\n",
    "\n",
    "    thisdict = dict()\n",
    "    #converting the list into a dictionary\n",
    "    for idx, each in enumerate(thislist):\n",
    "        regionID = dataframe.iloc[idx,0] #0 is where the RegionID is\n",
    "        thisdict[regionID]=each #add it to a dictionary with RegionID as the key\n",
    " \n",
    "    return pd.DataFrame(data=thisdict, index=times)#with a dictionary, each key-value pair becomes a column name and column of data, respectively"
   ]
  },
  {
   "cell_type": "code",
   "execution_count": 37,
   "metadata": {},
   "outputs": [
    {
     "data": {
      "text/html": [
       "<div>\n",
       "<style scoped>\n",
       "    .dataframe tbody tr th:only-of-type {\n",
       "        vertical-align: middle;\n",
       "    }\n",
       "\n",
       "    .dataframe tbody tr th {\n",
       "        vertical-align: top;\n",
       "    }\n",
       "\n",
       "    .dataframe thead th {\n",
       "        text-align: right;\n",
       "    }\n",
       "</style>\n",
       "<table border=\"1\" class=\"dataframe\">\n",
       "  <thead>\n",
       "    <tr style=\"text-align: right;\">\n",
       "      <th></th>\n",
       "      <th>84654</th>\n",
       "      <th>90668</th>\n",
       "      <th>91982</th>\n",
       "      <th>84616</th>\n",
       "      <th>93144</th>\n",
       "      <th>91733</th>\n",
       "      <th>61807</th>\n",
       "      <th>84640</th>\n",
       "      <th>91940</th>\n",
       "      <th>97564</th>\n",
       "      <th>...</th>\n",
       "      <th>59187</th>\n",
       "      <th>94711</th>\n",
       "      <th>62556</th>\n",
       "      <th>99032</th>\n",
       "      <th>62697</th>\n",
       "      <th>58333</th>\n",
       "      <th>59107</th>\n",
       "      <th>75672</th>\n",
       "      <th>93733</th>\n",
       "      <th>95851</th>\n",
       "    </tr>\n",
       "  </thead>\n",
       "  <tbody>\n",
       "    <tr>\n",
       "      <th>1996-04-01</th>\n",
       "      <td>334200.0</td>\n",
       "      <td>235700.0</td>\n",
       "      <td>210400.0</td>\n",
       "      <td>498100.0</td>\n",
       "      <td>77300.0</td>\n",
       "      <td>95000.0</td>\n",
       "      <td>152900.0</td>\n",
       "      <td>216500.0</td>\n",
       "      <td>95400.0</td>\n",
       "      <td>766000.0</td>\n",
       "      <td>...</td>\n",
       "      <td>80800.0</td>\n",
       "      <td>135900.0</td>\n",
       "      <td>78300.0</td>\n",
       "      <td>136200.0</td>\n",
       "      <td>62500.0</td>\n",
       "      <td>94600.0</td>\n",
       "      <td>92700.0</td>\n",
       "      <td>57100.0</td>\n",
       "      <td>191100.0</td>\n",
       "      <td>176400.0</td>\n",
       "    </tr>\n",
       "    <tr>\n",
       "      <th>1996-05-01</th>\n",
       "      <td>335400.0</td>\n",
       "      <td>236900.0</td>\n",
       "      <td>212200.0</td>\n",
       "      <td>500900.0</td>\n",
       "      <td>77300.0</td>\n",
       "      <td>95200.0</td>\n",
       "      <td>152700.0</td>\n",
       "      <td>216700.0</td>\n",
       "      <td>95600.0</td>\n",
       "      <td>771100.0</td>\n",
       "      <td>...</td>\n",
       "      <td>80100.0</td>\n",
       "      <td>136300.0</td>\n",
       "      <td>78300.0</td>\n",
       "      <td>136600.0</td>\n",
       "      <td>62600.0</td>\n",
       "      <td>94300.0</td>\n",
       "      <td>92500.0</td>\n",
       "      <td>57300.0</td>\n",
       "      <td>192400.0</td>\n",
       "      <td>176300.0</td>\n",
       "    </tr>\n",
       "    <tr>\n",
       "      <th>1996-06-01</th>\n",
       "      <td>336500.0</td>\n",
       "      <td>236700.0</td>\n",
       "      <td>212200.0</td>\n",
       "      <td>503100.0</td>\n",
       "      <td>77300.0</td>\n",
       "      <td>95400.0</td>\n",
       "      <td>152600.0</td>\n",
       "      <td>216900.0</td>\n",
       "      <td>95800.0</td>\n",
       "      <td>776500.0</td>\n",
       "      <td>...</td>\n",
       "      <td>79400.0</td>\n",
       "      <td>136600.0</td>\n",
       "      <td>78200.0</td>\n",
       "      <td>136800.0</td>\n",
       "      <td>62700.0</td>\n",
       "      <td>94000.0</td>\n",
       "      <td>92400.0</td>\n",
       "      <td>57500.0</td>\n",
       "      <td>193700.0</td>\n",
       "      <td>176100.0</td>\n",
       "    </tr>\n",
       "    <tr>\n",
       "      <th>1996-07-01</th>\n",
       "      <td>337600.0</td>\n",
       "      <td>235400.0</td>\n",
       "      <td>210700.0</td>\n",
       "      <td>504600.0</td>\n",
       "      <td>77300.0</td>\n",
       "      <td>95700.0</td>\n",
       "      <td>152400.0</td>\n",
       "      <td>217000.0</td>\n",
       "      <td>96100.0</td>\n",
       "      <td>781900.0</td>\n",
       "      <td>...</td>\n",
       "      <td>78600.0</td>\n",
       "      <td>136900.0</td>\n",
       "      <td>78200.0</td>\n",
       "      <td>136800.0</td>\n",
       "      <td>62700.0</td>\n",
       "      <td>93700.0</td>\n",
       "      <td>92200.0</td>\n",
       "      <td>57700.0</td>\n",
       "      <td>195000.0</td>\n",
       "      <td>176000.0</td>\n",
       "    </tr>\n",
       "    <tr>\n",
       "      <th>1996-08-01</th>\n",
       "      <td>338500.0</td>\n",
       "      <td>233300.0</td>\n",
       "      <td>208300.0</td>\n",
       "      <td>505500.0</td>\n",
       "      <td>77400.0</td>\n",
       "      <td>95900.0</td>\n",
       "      <td>152300.0</td>\n",
       "      <td>217100.0</td>\n",
       "      <td>96400.0</td>\n",
       "      <td>787300.0</td>\n",
       "      <td>...</td>\n",
       "      <td>77900.0</td>\n",
       "      <td>137100.0</td>\n",
       "      <td>78100.0</td>\n",
       "      <td>136700.0</td>\n",
       "      <td>62700.0</td>\n",
       "      <td>93400.0</td>\n",
       "      <td>92100.0</td>\n",
       "      <td>58000.0</td>\n",
       "      <td>196300.0</td>\n",
       "      <td>175900.0</td>\n",
       "    </tr>\n",
       "  </tbody>\n",
       "</table>\n",
       "<p>5 rows × 14723 columns</p>\n",
       "</div>"
      ],
      "text/plain": [
       "               84654     90668     91982     84616    93144    91733  \\\n",
       "1996-04-01  334200.0  235700.0  210400.0  498100.0  77300.0  95000.0   \n",
       "1996-05-01  335400.0  236900.0  212200.0  500900.0  77300.0  95200.0   \n",
       "1996-06-01  336500.0  236700.0  212200.0  503100.0  77300.0  95400.0   \n",
       "1996-07-01  337600.0  235400.0  210700.0  504600.0  77300.0  95700.0   \n",
       "1996-08-01  338500.0  233300.0  208300.0  505500.0  77400.0  95900.0   \n",
       "\n",
       "               61807     84640    91940     97564    ...       59187  \\\n",
       "1996-04-01  152900.0  216500.0  95400.0  766000.0    ...     80800.0   \n",
       "1996-05-01  152700.0  216700.0  95600.0  771100.0    ...     80100.0   \n",
       "1996-06-01  152600.0  216900.0  95800.0  776500.0    ...     79400.0   \n",
       "1996-07-01  152400.0  217000.0  96100.0  781900.0    ...     78600.0   \n",
       "1996-08-01  152300.0  217100.0  96400.0  787300.0    ...     77900.0   \n",
       "\n",
       "               94711    62556     99032    62697    58333    59107    75672  \\\n",
       "1996-04-01  135900.0  78300.0  136200.0  62500.0  94600.0  92700.0  57100.0   \n",
       "1996-05-01  136300.0  78300.0  136600.0  62600.0  94300.0  92500.0  57300.0   \n",
       "1996-06-01  136600.0  78200.0  136800.0  62700.0  94000.0  92400.0  57500.0   \n",
       "1996-07-01  136900.0  78200.0  136800.0  62700.0  93700.0  92200.0  57700.0   \n",
       "1996-08-01  137100.0  78100.0  136700.0  62700.0  93400.0  92100.0  58000.0   \n",
       "\n",
       "               93733     95851  \n",
       "1996-04-01  191100.0  176400.0  \n",
       "1996-05-01  192400.0  176300.0  \n",
       "1996-06-01  193700.0  176100.0  \n",
       "1996-07-01  195000.0  176000.0  \n",
       "1996-08-01  196300.0  175900.0  \n",
       "\n",
       "[5 rows x 14723 columns]"
      ]
     },
     "execution_count": 37,
     "metadata": {},
     "output_type": "execute_result"
    }
   ],
   "source": [
    "pricedf = transposeDF(data)\n",
    "pricedf.head()"
   ]
  },
  {
   "cell_type": "code",
   "execution_count": 40,
   "metadata": {},
   "outputs": [
    {
     "name": "stdout",
     "output_type": "stream",
     "text": [
      "<class 'pandas.core.frame.DataFrame'>\n",
      "DatetimeIndex: 265 entries, 1996-04-01 to 2018-04-01\n",
      "Columns: 13684 entries, 84654 to 95851\n",
      "dtypes: float64(13684)\n",
      "memory usage: 27.7 MB\n"
     ]
    }
   ],
   "source": [
    "#drop columns with missing data:\n",
    "pricedf.dropna(axis=1, inplace=True)\n",
    "pricedf.info()"
   ]
  },
  {
   "cell_type": "code",
   "execution_count": 41,
   "metadata": {},
   "outputs": [],
   "source": [
    "#save the prices/dates-only transposed version of the dataframe\n",
    "pricedf.to_csv(\"files/transposedPrices.csv\")"
   ]
  },
  {
   "cell_type": "markdown",
   "metadata": {},
   "source": [
    "# Step 2: Data Preprocessing"
   ]
  },
  {
   "cell_type": "code",
   "execution_count": 31,
   "metadata": {},
   "outputs": [],
   "source": [
    "def melt_data(df):\n",
    "    '''\n",
    "    Taking the Zillow DataFrame's column names with dates to make a DateTimeIndex and the averaged prices for each date.\n",
    "    \n",
    "    Args\n",
    "        df (pandas DataFrame): a DataFrame with dates and descriptive properties in the column names\n",
    "        \n",
    "    Returns\n",
    "        (pandas DataFrame): a DataFrame with a DateTimeIndex \"time\" and one column titled \"value\", which is an average of the prices for that corresponding date\n",
    "    '''\n",
    "    melted = pd.melt(df, id_vars=['RegionID','RegionName', 'City', 'State', 'Metro', 'CountyName','SizeRank'], var_name='time')\n",
    "    melted['time'] = pd.to_datetime(melted['time'], infer_datetime_format=True)\n",
    "    melted = melted.dropna(subset=['value'])\n",
    "    return melted.groupby('time').aggregate({'value':'mean'})"
   ]
  },
  {
   "cell_type": "markdown",
   "metadata": {},
   "source": [
    "Without dealing with the missing values in certain dates and the Metro information, I will melt the data into a timeseries of the averages for each date.  Null values would not be included in the average."
   ]
  },
  {
   "cell_type": "code",
   "execution_count": 6,
   "metadata": {},
   "outputs": [
    {
     "data": {
      "text/html": [
       "<div>\n",
       "<style scoped>\n",
       "    .dataframe tbody tr th:only-of-type {\n",
       "        vertical-align: middle;\n",
       "    }\n",
       "\n",
       "    .dataframe tbody tr th {\n",
       "        vertical-align: top;\n",
       "    }\n",
       "\n",
       "    .dataframe thead th {\n",
       "        text-align: right;\n",
       "    }\n",
       "</style>\n",
       "<table border=\"1\" class=\"dataframe\">\n",
       "  <thead>\n",
       "    <tr style=\"text-align: right;\">\n",
       "      <th></th>\n",
       "      <th>value</th>\n",
       "    </tr>\n",
       "    <tr>\n",
       "      <th>time</th>\n",
       "      <th></th>\n",
       "    </tr>\n",
       "  </thead>\n",
       "  <tbody>\n",
       "    <tr>\n",
       "      <th>1996-04-01</th>\n",
       "      <td>118299.123063</td>\n",
       "    </tr>\n",
       "    <tr>\n",
       "      <th>1996-05-01</th>\n",
       "      <td>118419.044139</td>\n",
       "    </tr>\n",
       "    <tr>\n",
       "      <th>1996-06-01</th>\n",
       "      <td>118537.423268</td>\n",
       "    </tr>\n",
       "    <tr>\n",
       "      <th>1996-07-01</th>\n",
       "      <td>118653.069278</td>\n",
       "    </tr>\n",
       "    <tr>\n",
       "      <th>1996-08-01</th>\n",
       "      <td>118780.254312</td>\n",
       "    </tr>\n",
       "  </tbody>\n",
       "</table>\n",
       "</div>"
      ],
      "text/plain": [
       "                    value\n",
       "time                     \n",
       "1996-04-01  118299.123063\n",
       "1996-05-01  118419.044139\n",
       "1996-06-01  118537.423268\n",
       "1996-07-01  118653.069278\n",
       "1996-08-01  118780.254312"
      ]
     },
     "execution_count": 6,
     "metadata": {},
     "output_type": "execute_result"
    }
   ],
   "source": [
    "avgtseries = melt_data(data)\n",
    "avgtseries.head()"
   ]
  },
  {
   "cell_type": "markdown",
   "metadata": {},
   "source": [
    "# Step 3: EDA and Visualization"
   ]
  },
  {
   "cell_type": "code",
   "execution_count": 82,
   "metadata": {},
   "outputs": [],
   "source": [
    "#split into train-test sets 70/30 split\n",
    "trainsize = int(len(avgtseries)*.7)\n",
    "atrain = avgtseries[0:trainsize]\n",
    "atest = avgtseries[trainsize:]"
   ]
  },
  {
   "cell_type": "code",
   "execution_count": 83,
   "metadata": {},
   "outputs": [
    {
     "data": {
      "text/html": [
       "<div>\n",
       "<style scoped>\n",
       "    .dataframe tbody tr th:only-of-type {\n",
       "        vertical-align: middle;\n",
       "    }\n",
       "\n",
       "    .dataframe tbody tr th {\n",
       "        vertical-align: top;\n",
       "    }\n",
       "\n",
       "    .dataframe thead th {\n",
       "        text-align: right;\n",
       "    }\n",
       "</style>\n",
       "<table border=\"1\" class=\"dataframe\">\n",
       "  <thead>\n",
       "    <tr style=\"text-align: right;\">\n",
       "      <th></th>\n",
       "      <th>value</th>\n",
       "    </tr>\n",
       "    <tr>\n",
       "      <th>time</th>\n",
       "      <th></th>\n",
       "    </tr>\n",
       "  </thead>\n",
       "  <tbody>\n",
       "    <tr>\n",
       "      <th>2011-04-01</th>\n",
       "      <td>204642.594131</td>\n",
       "    </tr>\n",
       "    <tr>\n",
       "      <th>2011-05-01</th>\n",
       "      <td>204012.631506</td>\n",
       "    </tr>\n",
       "    <tr>\n",
       "      <th>2011-06-01</th>\n",
       "      <td>203430.571705</td>\n",
       "    </tr>\n",
       "    <tr>\n",
       "      <th>2011-07-01</th>\n",
       "      <td>202726.976230</td>\n",
       "    </tr>\n",
       "    <tr>\n",
       "      <th>2011-08-01</th>\n",
       "      <td>202212.493090</td>\n",
       "    </tr>\n",
       "  </tbody>\n",
       "</table>\n",
       "</div>"
      ],
      "text/plain": [
       "                    value\n",
       "time                     \n",
       "2011-04-01  204642.594131\n",
       "2011-05-01  204012.631506\n",
       "2011-06-01  203430.571705\n",
       "2011-07-01  202726.976230\n",
       "2011-08-01  202212.493090"
      ]
     },
     "execution_count": 83,
     "metadata": {},
     "output_type": "execute_result"
    }
   ],
   "source": [
    "atrain.tail()"
   ]
  },
  {
   "cell_type": "markdown",
   "metadata": {},
   "source": [
    "I'll look at the ACF and PACF plots for the timeseries averages."
   ]
  },
  {
   "cell_type": "code",
   "execution_count": 85,
   "metadata": {
    "scrolled": true
   },
   "outputs": [
    {
     "data": {
      "image/png": "[encoded data removed]",
      "text/plain": [
       "<Figure size 576x396 with 1 Axes>"
      ]
     },
     "metadata": {},
     "output_type": "display_data"
    }
   ],
   "source": [
    "fig1 = plot_acf(avgtseries)"
   ]
  },
  {
   "cell_type": "code",
   "execution_count": 86,
   "metadata": {},
   "outputs": [
    {
     "data": {
      "image/png": "[encoded data removed]",
      "text/plain": [
       "<Figure size 576x396 with 1 Axes>"
      ]
     },
     "metadata": {},
     "output_type": "display_data"
    }
   ],
   "source": [
    "fig2 = plot_pacf(avgtseries,lags=12,method='ywm')"
   ]
  },
  {
   "cell_type": "markdown",
   "metadata": {},
   "source": [
    "The PACF plot shows a spike at 1, so the order is 1."
   ]
  },
  {
   "cell_type": "markdown",
   "metadata": {},
   "source": [
    "# Step 4: ARIMA Modeling"
   ]
  },
  {
   "cell_type": "code",
   "execution_count": 87,
   "metadata": {},
   "outputs": [],
   "source": [
    "p=range(0,2)\n",
    "d=range(0,3)\n",
    "q=range(0,3)\n",
    "\n",
    "#generating combinations of p, q and q triplets\n",
    "tempdq = list(itertools.product(p, d, q))"
   ]
  },
  {
   "cell_type": "code",
   "execution_count": 75,
   "metadata": {},
   "outputs": [],
   "source": [
    "pdq=[]\n",
    "#only want where p = 1 since the PACF and ACF plots had order 1\n",
    "for each in tempdq:\n",
    "    if each[0]==1:\n",
    "        pdq.append(each)"
   ]
  },
  {
   "cell_type": "markdown",
   "metadata": {},
   "source": [
    "In earlier iterations of this notebook, I tested with varying values for periodicity: 3 and 9, but neither had lower AIC's than the results that using 12 gave."
   ]
  },
  {
   "cell_type": "code",
   "execution_count": 76,
   "metadata": {},
   "outputs": [],
   "source": [
    "#generating seasonal p, q and q triplets (12 for a 12-month cycle)\n",
    "pdqs = [(x[0], x[1], x[2], 12) for x in pdq]"
   ]
  },
  {
   "cell_type": "code",
   "execution_count": 89,
   "metadata": {
    "scrolled": true
   },
   "outputs": [
    {
     "name": "stdout",
     "output_type": "stream",
     "text": [
      "ARIMA (1, 0, 0) x (1, 0, 0, 12) : AIC Calculated =2809.954854184663\n",
      "ARIMA (1, 0, 0) x (1, 0, 1, 12) : AIC Calculated =2837.686821287981\n"
     ]
    },
    {
     "name": "stderr",
     "output_type": "stream",
     "text": [
      "C:\\Users\\Bronwen\\Anaconda3\\envs\\learn-env\\lib\\site-packages\\statsmodels\\base\\model.py:508: ConvergenceWarning: Maximum Likelihood optimization failed to converge. Check mle_retvals\n",
      "  \"Check mle_retvals\", ConvergenceWarning)\n"
     ]
    },
    {
     "name": "stdout",
     "output_type": "stream",
     "text": [
      "ARIMA (1, 0, 0) x (1, 0, 2, 12) : AIC Calculated =2667.004656072996\n",
      "ARIMA (1, 0, 0) x (1, 1, 0, 12) : AIC Calculated =2625.351488885406\n",
      "ARIMA (1, 0, 0) x (1, 1, 1, 12) : AIC Calculated =2624.2767478247806\n",
      "ARIMA (1, 0, 0) x (1, 1, 2, 12) : AIC Calculated =2439.1771813723735\n",
      "ARIMA (1, 0, 0) x (1, 2, 0, 12) : AIC Calculated =2497.2784119273747\n",
      "ARIMA (1, 0, 0) x (1, 2, 1, 12) : AIC Calculated =2499.22182200503\n",
      "ARIMA (1, 0, 0) x (1, 2, 2, 12) : AIC Calculated =2277.9479901602\n",
      "ARIMA (1, 0, 1) x (1, 0, 0, 12) : AIC Calculated =2859.9658533107768\n",
      "ARIMA (1, 0, 1) x (1, 0, 1, 12) : AIC Calculated =2820.1715563956705\n"
     ]
    },
    {
     "name": "stderr",
     "output_type": "stream",
     "text": [
      "C:\\Users\\Bronwen\\Anaconda3\\envs\\learn-env\\lib\\site-packages\\statsmodels\\base\\model.py:508: ConvergenceWarning: Maximum Likelihood optimization failed to converge. Check mle_retvals\n",
      "  \"Check mle_retvals\", ConvergenceWarning)\n"
     ]
    },
    {
     "name": "stdout",
     "output_type": "stream",
     "text": [
      "ARIMA (1, 0, 1) x (1, 0, 2, 12) : AIC Calculated =2622.2195451318767\n",
      "ARIMA (1, 0, 1) x (1, 1, 0, 12) : AIC Calculated =2556.360635715646\n",
      "ARIMA (1, 0, 1) x (1, 1, 1, 12) : AIC Calculated =2542.1740226634747\n"
     ]
    },
    {
     "name": "stderr",
     "output_type": "stream",
     "text": [
      "C:\\Users\\Bronwen\\Anaconda3\\envs\\learn-env\\lib\\site-packages\\statsmodels\\base\\model.py:508: ConvergenceWarning: Maximum Likelihood optimization failed to converge. Check mle_retvals\n",
      "  \"Check mle_retvals\", ConvergenceWarning)\n"
     ]
    },
    {
     "name": "stdout",
     "output_type": "stream",
     "text": [
      "ARIMA (1, 0, 1) x (1, 1, 2, 12) : AIC Calculated =2358.4888644212488\n"
     ]
    },
    {
     "name": "stderr",
     "output_type": "stream",
     "text": [
      "C:\\Users\\Bronwen\\Anaconda3\\envs\\learn-env\\lib\\site-packages\\statsmodels\\base\\model.py:508: ConvergenceWarning: Maximum Likelihood optimization failed to converge. Check mle_retvals\n",
      "  \"Check mle_retvals\", ConvergenceWarning)\n"
     ]
    },
    {
     "name": "stdout",
     "output_type": "stream",
     "text": [
      "ARIMA (1, 0, 1) x (1, 2, 0, 12) : AIC Calculated =2436.7428120747513\n",
      "ARIMA (1, 0, 1) x (1, 2, 1, 12) : AIC Calculated =2525.5819077119904\n",
      "ARIMA (1, 0, 1) x (1, 2, 2, 12) : AIC Calculated =2298.491509394667\n",
      "ARIMA (1, 0, 2) x (1, 0, 0, 12) : AIC Calculated =2860.628628929425\n"
     ]
    },
    {
     "name": "stderr",
     "output_type": "stream",
     "text": [
      "C:\\Users\\Bronwen\\Anaconda3\\envs\\learn-env\\lib\\site-packages\\statsmodels\\base\\model.py:508: ConvergenceWarning: Maximum Likelihood optimization failed to converge. Check mle_retvals\n",
      "  \"Check mle_retvals\", ConvergenceWarning)\n"
     ]
    },
    {
     "name": "stdout",
     "output_type": "stream",
     "text": [
      "ARIMA (1, 0, 2) x (1, 0, 1, 12) : AIC Calculated =2789.0512902819855\n"
     ]
    },
    {
     "name": "stderr",
     "output_type": "stream",
     "text": [
      "C:\\Users\\Bronwen\\Anaconda3\\envs\\learn-env\\lib\\site-packages\\statsmodels\\base\\model.py:508: ConvergenceWarning: Maximum Likelihood optimization failed to converge. Check mle_retvals\n",
      "  \"Check mle_retvals\", ConvergenceWarning)\n"
     ]
    },
    {
     "name": "stdout",
     "output_type": "stream",
     "text": [
      "ARIMA (1, 0, 2) x (1, 0, 2, 12) : AIC Calculated =2653.644033981497\n",
      "ARIMA (1, 0, 2) x (1, 1, 0, 12) : AIC Calculated =2485.0102772874725\n"
     ]
    },
    {
     "name": "stderr",
     "output_type": "stream",
     "text": [
      "C:\\Users\\Bronwen\\Anaconda3\\envs\\learn-env\\lib\\site-packages\\statsmodels\\base\\model.py:508: ConvergenceWarning: Maximum Likelihood optimization failed to converge. Check mle_retvals\n",
      "  \"Check mle_retvals\", ConvergenceWarning)\n"
     ]
    },
    {
     "name": "stdout",
     "output_type": "stream",
     "text": [
      "ARIMA (1, 0, 2) x (1, 1, 1, 12) : AIC Calculated =2495.2542982134796\n"
     ]
    },
    {
     "name": "stderr",
     "output_type": "stream",
     "text": [
      "C:\\Users\\Bronwen\\Anaconda3\\envs\\learn-env\\lib\\site-packages\\statsmodels\\base\\model.py:508: ConvergenceWarning: Maximum Likelihood optimization failed to converge. Check mle_retvals\n",
      "  \"Check mle_retvals\", ConvergenceWarning)\n"
     ]
    },
    {
     "name": "stdout",
     "output_type": "stream",
     "text": [
      "ARIMA (1, 0, 2) x (1, 1, 2, 12) : AIC Calculated =2312.7144224170243\n",
      "ARIMA (1, 0, 2) x (1, 2, 0, 12) : AIC Calculated =2404.8034011352856\n",
      "ARIMA (1, 0, 2) x (1, 2, 1, 12) : AIC Calculated =2508.1746771374055\n",
      "ARIMA (1, 0, 2) x (1, 2, 2, 12) : AIC Calculated =2284.071254083679\n",
      "ARIMA (1, 1, 0) x (1, 0, 0, 12) : AIC Calculated =2478.0686065005043\n",
      "ARIMA (1, 1, 0) x (1, 0, 1, 12) : AIC Calculated =2480.046036711026\n",
      "ARIMA (1, 1, 0) x (1, 0, 2, 12) : AIC Calculated =2318.186676133754\n",
      "ARIMA (1, 1, 0) x (1, 1, 0, 12) : AIC Calculated =2365.918897137266\n",
      "ARIMA (1, 1, 0) x (1, 1, 1, 12) : AIC Calculated =2367.441007798078\n",
      "ARIMA (1, 1, 0) x (1, 1, 2, 12) : AIC Calculated =2171.1592022109417\n",
      "ARIMA (1, 1, 0) x (1, 2, 0, 12) : AIC Calculated =2301.965051514725\n",
      "ARIMA (1, 1, 0) x (1, 2, 1, 12) : AIC Calculated =2302.4555487102252\n",
      "ARIMA (1, 1, 0) x (1, 2, 2, 12) : AIC Calculated =2112.0751243892682\n",
      "ARIMA (1, 1, 1) x (1, 0, 0, 12) : AIC Calculated =2465.1895030922365\n",
      "ARIMA (1, 1, 1) x (1, 0, 1, 12) : AIC Calculated =2452.952209652255\n",
      "ARIMA (1, 1, 1) x (1, 0, 2, 12) : AIC Calculated =2290.968874000271\n",
      "ARIMA (1, 1, 1) x (1, 1, 0, 12) : AIC Calculated =2366.1830740019295\n",
      "ARIMA (1, 1, 1) x (1, 1, 1, 12) : AIC Calculated =2347.8451254799843\n",
      "ARIMA (1, 1, 1) x (1, 1, 2, 12) : AIC Calculated =2148.1460012835632\n",
      "ARIMA (1, 1, 1) x (1, 2, 0, 12) : AIC Calculated =2302.285944194276\n",
      "ARIMA (1, 1, 1) x (1, 2, 1, 12) : AIC Calculated =2281.3950107332093\n",
      "ARIMA (1, 1, 1) x (1, 2, 2, 12) : AIC Calculated =2031.6332620828712\n",
      "ARIMA (1, 1, 2) x (1, 0, 0, 12) : AIC Calculated =2466.8696581189765\n",
      "ARIMA (1, 1, 2) x (1, 0, 1, 12) : AIC Calculated =2441.5497477314184\n",
      "ARIMA (1, 1, 2) x (1, 0, 2, 12) : AIC Calculated =2279.3936448468185\n",
      "ARIMA (1, 1, 2) x (1, 1, 0, 12) : AIC Calculated =2368.090291055626\n",
      "ARIMA (1, 1, 2) x (1, 1, 1, 12) : AIC Calculated =2333.960436246958\n",
      "ARIMA (1, 1, 2) x (1, 1, 2, 12) : AIC Calculated =2134.0616922448585\n",
      "ARIMA (1, 1, 2) x (1, 2, 0, 12) : AIC Calculated =2304.11200071981\n",
      "ARIMA (1, 1, 2) x (1, 2, 1, 12) : AIC Calculated =2266.326691299752\n",
      "ARIMA (1, 1, 2) x (1, 2, 2, 12) : AIC Calculated =2018.3611549684383\n",
      "ARIMA (1, 2, 0) x (1, 0, 0, 12) : AIC Calculated =2450.670013908506\n",
      "ARIMA (1, 2, 0) x (1, 0, 1, 12) : AIC Calculated =2452.6610749643423\n",
      "ARIMA (1, 2, 0) x (1, 0, 2, 12) : AIC Calculated =2290.7564960084696\n",
      "ARIMA (1, 2, 0) x (1, 1, 0, 12) : AIC Calculated =2344.82986060606\n",
      "ARIMA (1, 2, 0) x (1, 1, 1, 12) : AIC Calculated =2346.4686370404434\n",
      "ARIMA (1, 2, 0) x (1, 1, 2, 12) : AIC Calculated =2145.3113797556643\n",
      "ARIMA (1, 2, 0) x (1, 2, 0, 12) : AIC Calculated =2280.8634207414552\n",
      "ARIMA (1, 2, 0) x (1, 2, 1, 12) : AIC Calculated =2281.3275611991376\n"
     ]
    },
    {
     "name": "stderr",
     "output_type": "stream",
     "text": [
      "C:\\Users\\Bronwen\\Anaconda3\\envs\\learn-env\\lib\\site-packages\\statsmodels\\base\\model.py:508: ConvergenceWarning: Maximum Likelihood optimization failed to converge. Check mle_retvals\n",
      "  \"Check mle_retvals\", ConvergenceWarning)\n"
     ]
    },
    {
     "name": "stdout",
     "output_type": "stream",
     "text": [
      "ARIMA (1, 2, 0) x (1, 2, 2, 12) : AIC Calculated =2104.2961222718004\n",
      "ARIMA (1, 2, 1) x (1, 0, 0, 12) : AIC Calculated =2452.272048089181\n",
      "ARIMA (1, 2, 1) x (1, 0, 1, 12) : AIC Calculated =2440.6227832020777\n",
      "ARIMA (1, 2, 1) x (1, 0, 2, 12) : AIC Calculated =2278.2733363772177\n",
      "ARIMA (1, 2, 1) x (1, 1, 0, 12) : AIC Calculated =2346.8118931681365\n",
      "ARIMA (1, 2, 1) x (1, 1, 1, 12) : AIC Calculated =2297.9006473094123\n",
      "ARIMA (1, 2, 1) x (1, 1, 2, 12) : AIC Calculated =2132.7198665275964\n",
      "ARIMA (1, 2, 1) x (1, 2, 0, 12) : AIC Calculated =2282.7406460650227\n",
      "ARIMA (1, 2, 1) x (1, 2, 1, 12) : AIC Calculated =2268.2790217594656\n"
     ]
    },
    {
     "name": "stderr",
     "output_type": "stream",
     "text": [
      "C:\\Users\\Bronwen\\Anaconda3\\envs\\learn-env\\lib\\site-packages\\statsmodels\\base\\model.py:508: ConvergenceWarning: Maximum Likelihood optimization failed to converge. Check mle_retvals\n",
      "  \"Check mle_retvals\", ConvergenceWarning)\n"
     ]
    },
    {
     "name": "stdout",
     "output_type": "stream",
     "text": [
      "ARIMA (1, 2, 1) x (1, 2, 2, 12) : AIC Calculated =2021.0149690024718\n",
      "ARIMA (1, 2, 2) x (1, 0, 0, 12) : AIC Calculated =2453.483281740514\n",
      "ARIMA (1, 2, 2) x (1, 0, 1, 12) : AIC Calculated =2428.270169551583\n",
      "ARIMA (1, 2, 2) x (1, 0, 2, 12) : AIC Calculated =2266.227468074647\n",
      "ARIMA (1, 2, 2) x (1, 1, 0, 12) : AIC Calculated =2348.616283194857\n",
      "ARIMA (1, 2, 2) x (1, 1, 1, 12) : AIC Calculated =2283.1866716454533\n",
      "ARIMA (1, 2, 2) x (1, 1, 2, 12) : AIC Calculated =2121.0881009256973\n",
      "ARIMA (1, 2, 2) x (1, 2, 0, 12) : AIC Calculated =2284.502510832387\n"
     ]
    },
    {
     "name": "stderr",
     "output_type": "stream",
     "text": [
      "C:\\Users\\Bronwen\\Anaconda3\\envs\\learn-env\\lib\\site-packages\\statsmodels\\base\\model.py:508: ConvergenceWarning: Maximum Likelihood optimization failed to converge. Check mle_retvals\n",
      "  \"Check mle_retvals\", ConvergenceWarning)\n"
     ]
    },
    {
     "name": "stdout",
     "output_type": "stream",
     "text": [
      "ARIMA (1, 2, 2) x (1, 2, 1, 12) : AIC Calculated =2255.0822350509225\n"
     ]
    },
    {
     "name": "stderr",
     "output_type": "stream",
     "text": [
      "C:\\Users\\Bronwen\\Anaconda3\\envs\\learn-env\\lib\\site-packages\\statsmodels\\base\\model.py:508: ConvergenceWarning: Maximum Likelihood optimization failed to converge. Check mle_retvals\n",
      "  \"Check mle_retvals\", ConvergenceWarning)\n"
     ]
    },
    {
     "name": "stdout",
     "output_type": "stream",
     "text": [
      "ARIMA (1, 2, 2) x (1, 2, 2, 12) : AIC Calculated =1999.8189387395562\n"
     ]
    }
   ],
   "source": [
    "#looping through each possible combination of the p,d,q values\n",
    "comb12results = []\n",
    "for comb in pdq:\n",
    "    for combs in pdqs:\n",
    "        try:\n",
    "            model = sm.tsa.statespace.SARIMAX(atrain, order=comb, seasonal_order=combs, enforce_stationarity=False, enforce_invertibility=False, freq='MS')\n",
    "            output = model.fit()\n",
    "            comb12results.append([comb, combs, output.aic])\n",
    "            print('ARIMA {} x {} : AIC Calculated ={}'.format(comb, combs, output.aic))\n",
    "        except:\n",
    "            continue"
   ]
  },
  {
   "cell_type": "code",
   "execution_count": 90,
   "metadata": {},
   "outputs": [],
   "source": [
    "combresdf12 = pd.DataFrame(comb12results, columns=['pdq', 'pdqs', 'aic'])"
   ]
  },
  {
   "cell_type": "code",
   "execution_count": 91,
   "metadata": {},
   "outputs": [
    {
     "data": {
      "text/plain": [
       "pdq         (1, 2, 2)\n",
       "pdqs    (1, 2, 2, 12)\n",
       "aic           1999.82\n",
       "Name: 80, dtype: object"
      ]
     },
     "execution_count": 91,
     "metadata": {},
     "output_type": "execute_result"
    }
   ],
   "source": [
    "combresdf12.loc[combresdf12['aic'].idxmin()]"
   ]
  },
  {
   "cell_type": "code",
   "execution_count": 92,
   "metadata": {},
   "outputs": [],
   "source": [
    "best12pdq=combresdf12.loc[combresdf12['aic'].idxmin()].pdq\n",
    "best12pdqs=combresdf12.loc[combresdf12['aic'].idxmin()].pdqs"
   ]
  },
  {
   "cell_type": "code",
   "execution_count": 93,
   "metadata": {},
   "outputs": [
    {
     "name": "stderr",
     "output_type": "stream",
     "text": [
      "C:\\Users\\Bronwen\\Anaconda3\\envs\\learn-env\\lib\\site-packages\\statsmodels\\tsa\\base\\tsa_model.py:171: ValueWarning: No frequency information was provided, so inferred frequency MS will be used.\n",
      "  % freq, ValueWarning)\n",
      "C:\\Users\\Bronwen\\Anaconda3\\envs\\learn-env\\lib\\site-packages\\statsmodels\\base\\model.py:508: ConvergenceWarning: Maximum Likelihood optimization failed to converge. Check mle_retvals\n",
      "  \"Check mle_retvals\", ConvergenceWarning)\n"
     ]
    },
    {
     "name": "stdout",
     "output_type": "stream",
     "text": [
      "==============================================================================\n",
      "                 coef    std err          z      P>|z|      [0.025      0.975]\n",
      "------------------------------------------------------------------------------\n",
      "ar.L1         -0.4536      0.114     -3.965      0.000      -0.678      -0.229\n",
      "ma.L1          0.1702      0.108      1.582      0.114      -0.041       0.381\n",
      "ma.L2         -0.0384      0.067     -0.570      0.569      -0.170       0.094\n",
      "ar.S.L12       0.1825      0.027      6.732      0.000       0.129       0.236\n",
      "ma.S.L12      -1.8001      0.184     -9.807      0.000      -2.160      -1.440\n",
      "ma.S.L24       0.8541      0.115      7.411      0.000       0.628       1.080\n",
      "sigma2      1.375e+05   2.85e+04      4.819      0.000    8.16e+04    1.93e+05\n",
      "==============================================================================\n"
     ]
    }
   ],
   "source": [
    "#save model with these values:\n",
    "best12model = sm.tsa.statespace.SARIMAX(atrain,order=best12pdq,seasonal_order=best12pdqs,enforce_stationarity=False,enforce_invertibility=False)\n",
    "\n",
    "#fit model\n",
    "best12output = best12model.fit()\n",
    "\n",
    "#print summary table of coefficients\n",
    "print(best12output.summary().tables[1])"
   ]
  },
  {
   "cell_type": "markdown",
   "metadata": {},
   "source": [
    "For the time-series, five weights ($P>|z|$) have a p-value less than 0.05, (ar.L1, ar.S.L12, ma.S.L12, ma.S.L24, and sigma2) so I retain these in the model.  To remove ma.L1 and ma.L2, I set q to 0 in the non-seasonal order, meaning I use (1,2,0) for `order` and (1,2,2,12) for `seasonal_order` which previously was found to have the slightly higher AIC of ~2104."
   ]
  },
  {
   "cell_type": "code",
   "execution_count": 62,
   "metadata": {},
   "outputs": [
    {
     "name": "stderr",
     "output_type": "stream",
     "text": [
      "C:\\Users\\Bronwen\\Anaconda3\\envs\\learn-env\\lib\\site-packages\\statsmodels\\tsa\\base\\tsa_model.py:171: ValueWarning: No frequency information was provided, so inferred frequency MS will be used.\n",
      "  % freq, ValueWarning)\n",
      "C:\\Users\\Bronwen\\Anaconda3\\envs\\learn-env\\lib\\site-packages\\statsmodels\\base\\model.py:508: ConvergenceWarning: Maximum Likelihood optimization failed to converge. Check mle_retvals\n",
      "  \"Check mle_retvals\", ConvergenceWarning)\n"
     ]
    },
    {
     "name": "stdout",
     "output_type": "stream",
     "text": [
      "==============================================================================\n",
      "                 coef    std err          z      P>|z|      [0.025      0.975]\n",
      "------------------------------------------------------------------------------\n",
      "ar.L1         -0.1742      0.043     -4.031      0.000      -0.259      -0.090\n",
      "ar.S.L12       0.6059      0.017     35.644      0.000       0.573       0.639\n",
      "ma.S.L12      -2.3114      0.095    -24.227      0.000      -2.498      -2.124\n",
      "ma.S.L24       1.3633      0.140      9.766      0.000       1.090       1.637\n",
      "sigma2      1.121e+05    1.3e+04      8.591      0.000    8.65e+04    1.38e+05\n",
      "==============================================================================\n"
     ]
    }
   ],
   "source": [
    "#removing the following from the model: [\"ma.L1\", \"ma.L2\"]\n",
    "bestpdq=(1,2,0) #using 1,2,2 from earlier, with q as 0 since q contains ma.L1 and ma.L2\n",
    "bestpdqs=(1,2,2,12) #using 1,2,2,12 from before\n",
    "\n",
    "bestmodel = sm.tsa.statespace.SARIMAX(atrain,order=bestpdq,\n",
    "                                      seasonal_order=bestpdqs,\n",
    "                                      enforce_stationarity=False,enforce_invertibility=False, freq='MS')\n",
    "\n",
    "#fit model\n",
    "bestoutput = bestmodel.fit()\n",
    "\n",
    "#print summary table of coefficients\n",
    "print(bestoutput.summary().tables[1])"
   ]
  },
  {
   "cell_type": "markdown",
   "metadata": {},
   "source": [
    "This model does not have any $P>|z|$ values that are greater than 0.05."
   ]
  },
  {
   "cell_type": "code",
   "execution_count": 63,
   "metadata": {},
   "outputs": [
    {
     "data": {
      "image/png": "[encoded data removed]",
      "text/plain": [
       "<Figure size 1080x1296 with 4 Axes>"
      ]
     },
     "metadata": {
      "needs_background": "light"
     },
     "output_type": "display_data"
    }
   ],
   "source": [
    "bestoutput.plot_diagnostics(figsize=(15, 18))\n",
    "plt.show()"
   ]
  },
  {
   "cell_type": "markdown",
   "metadata": {},
   "source": [
    "From top left, clockwise:\n",
    "1. The residuals over time have a slight cyclical behavior, such that they do not appear to be purely white noise.\n",
    "2. The KDE and N(0,1) lines match fairly closely though the KDE has a sharper peak.\n",
    "3. The Correlogram shows residuals have little correlation with lagged versions of the time series so it shows some seasonality in cycles of 3.\n",
    "4. The Q-Q plot shows the residuals are a little different from a normal distribution; forming more of a wave than a line."
   ]
  },
  {
   "cell_type": "markdown",
   "metadata": {},
   "source": [
    "### Creating Visuals of `avgtseries`\n",
    "I will take an aside to create a graph of the `avgtseries` and its predicted values until April 2020 for the accompanying PowerPoint presentation."
   ]
  },
  {
   "cell_type": "code",
   "execution_count": 98,
   "metadata": {},
   "outputs": [],
   "source": [
    "#creating a model to get forecasts for 24 steps ahead of 2018-04 by month\n",
    "bestmodel = sm.tsa.statespace.SARIMAX(avgtseries,order=bestpdq,\n",
    "                                      seasonal_order=bestpdqs,\n",
    "                                      enforce_stationarity=False,enforce_invertibility=False, freq='MS')\n",
    "#fit model\n",
    "bestoutput = bestmodel.fit()\n",
    "\n",
    "bestcast = bestoutput.forecast(24)"
   ]
  },
  {
   "cell_type": "code",
   "execution_count": 102,
   "metadata": {},
   "outputs": [],
   "source": [
    "#getting the confidence intervals for the predictions\n",
    "predictions = bestoutput.get_prediction(start=pd.to_datetime(\"2018-05-01\"), end=pd.to_datetime(\"2020-04-01\"))\n",
    "confid_int = predictions.conf_int()\n",
    "confintdf = pd.DataFrame(confid_int, index=pd.date_range(start = '2018-05-01', end = '2020-04-01', freq = 'MS'))"
   ]
  },
  {
   "cell_type": "code",
   "execution_count": 103,
   "metadata": {},
   "outputs": [
    {
     "data": {
      "text/html": [
       "<div>\n",
       "<style scoped>\n",
       "    .dataframe tbody tr th:only-of-type {\n",
       "        vertical-align: middle;\n",
       "    }\n",
       "\n",
       "    .dataframe tbody tr th {\n",
       "        vertical-align: top;\n",
       "    }\n",
       "\n",
       "    .dataframe thead th {\n",
       "        text-align: right;\n",
       "    }\n",
       "</style>\n",
       "<table border=\"1\" class=\"dataframe\">\n",
       "  <thead>\n",
       "    <tr style=\"text-align: right;\">\n",
       "      <th></th>\n",
       "      <th>lower value</th>\n",
       "      <th>upper value</th>\n",
       "    </tr>\n",
       "  </thead>\n",
       "  <tbody>\n",
       "    <tr>\n",
       "      <th>2018-05-01</th>\n",
       "      <td>289211.731147</td>\n",
       "      <td>290559.470890</td>\n",
       "    </tr>\n",
       "    <tr>\n",
       "      <th>2018-06-01</th>\n",
       "      <td>290261.195417</td>\n",
       "      <td>293141.943222</td>\n",
       "    </tr>\n",
       "    <tr>\n",
       "      <th>2018-07-01</th>\n",
       "      <td>291080.722976</td>\n",
       "      <td>295818.145065</td>\n",
       "    </tr>\n",
       "    <tr>\n",
       "      <th>2018-08-01</th>\n",
       "      <td>291770.696001</td>\n",
       "      <td>298639.707892</td>\n",
       "    </tr>\n",
       "    <tr>\n",
       "      <th>2018-09-01</th>\n",
       "      <td>292351.803505</td>\n",
       "      <td>301596.510759</td>\n",
       "    </tr>\n",
       "  </tbody>\n",
       "</table>\n",
       "</div>"
      ],
      "text/plain": [
       "              lower value    upper value\n",
       "2018-05-01  289211.731147  290559.470890\n",
       "2018-06-01  290261.195417  293141.943222\n",
       "2018-07-01  291080.722976  295818.145065\n",
       "2018-08-01  291770.696001  298639.707892\n",
       "2018-09-01  292351.803505  301596.510759"
      ]
     },
     "execution_count": 103,
     "metadata": {},
     "output_type": "execute_result"
    }
   ],
   "source": [
    "confintdf.head()"
   ]
  },
  {
   "cell_type": "code",
   "execution_count": 101,
   "metadata": {},
   "outputs": [
    {
     "data": {
      "image/png": "[encoded data removed]",
      "text/plain": [
       "<Figure size 576x396 with 1 Axes>"
      ]
     },
     "metadata": {},
     "output_type": "display_data"
    }
   ],
   "source": [
    "#graphing forecasted values and the original overall average\n",
    "plt.plot(avgtseries, label=\"actual\")\n",
    "plt.plot(bestcast, label=\"forecast\")\n",
    "plt.title(\"Average of Zillow House Prices\")\n",
    "plt.ylabel(\"Price\")\n",
    "plt.xlabel(\"Year\")\n",
    "plt.show()"
   ]
  },
  {
   "cell_type": "code",
   "execution_count": 104,
   "metadata": {},
   "outputs": [
    {
     "data": {
      "image/png": "[encoded data removed]",
      "text/plain": [
       "<Figure size 864x576 with 1 Axes>"
      ]
     },
     "metadata": {},
     "output_type": "display_data"
    }
   ],
   "source": [
    "#graphing only the forecasted values on the same scale as the selected 20 RegionID's\n",
    "fig = plt.figure(figsize = (12, 8))\n",
    "\n",
    "plt.plot(bestcast)\n",
    "plt.fill_between(confintdf.index, confintdf[\"lower value\"], confintdf[\"upper value\"], alpha=.15)\n",
    "\n",
    "plt.ylim(bottom=-200000)\n",
    "plt.ylim(top=400000)\n",
    "plt.xlim(left=736809.95)#if 736779.95 is a little before 2018-05, then adding 30 would almost put the beginning on the y-axis\n",
    "plt.xlim(right=737520.05)#similar to above for 2020-04\n",
    "plt.title(\"Forecasts for Overall Average May 2018 - April 2020\")\n",
    "plt.ylabel(\"Forecasted House Prices\")\n",
    "plt.xlabel(\"Future Dates Beginning May 2018\")\n",
    "plt.savefig(\"files/Average Forecast.png\")\n",
    "plt.show()"
   ]
  },
  {
   "cell_type": "markdown",
   "metadata": {},
   "source": [
    "## Choosing Data to Model from `pricedf`\n",
    "I will now consider the data in the `pricedf`, by modeling each column with the `pdq` values used in `bestmodel` in a SARIMAX model, separated by train and test splits of the `trainsize` 80%-20%.  Once using the train set to make predictions, they will be compared to the test set and the mean-squared error from that can be stored along with the zip code (column name) in a dictionary."
   ]
  },
  {
   "cell_type": "markdown",
   "metadata": {},
   "source": [
    "As it seems the amount of time that would be needed to find the mean-squared error for any small amount of forecasting (5 or fewer steps) for each RegionID is still at about 29 or 28 hours, I will cut down pricedf by two-thirds using a different criteria."
   ]
  },
  {
   "cell_type": "code",
   "execution_count": 135,
   "metadata": {},
   "outputs": [],
   "source": [
    "#a method to use SARIMAX, fit the model, and calculate a mean-squared error comparing predictions and test set\n",
    "def eval_model(tseries,combo,combos,size,castnum=5):\n",
    "    '''\n",
    "    Takes in a time Series and calculates the mean-squared error for the training size's 5-step (or given number) ahead predictions made with statsmodels' SARIMAX compared with those same first (5) steps of the test set.\n",
    "    \n",
    "    Args\n",
    "        tseries (pandas Series): a Series with an index of DateTime in date order\n",
    "        combo (list or array-like of integers): the p, d, q values for the SARIMAX \"order\" parameter\n",
    "        combos (list or array-like of integers): the P, D, Q and periodicity values for the SARIMAX seasonal_order parameter\n",
    "        size (integer): value at which to split tseries into train (up until that index) and test (from that index until the end) sets\n",
    "        castnum (integer): number of steps ahead to predict using the train set and then compare with the test set, default is 5\n",
    "        \n",
    "    Returns\n",
    "        msqerr (float): the mean-squared error of the castnum steps predicted compared to those actual values for those dates in the test set, this value is also printed \n",
    "    '''\n",
    "    train = tseries[:size]\n",
    "    test = tseries[size:]\n",
    "    \n",
    "    model = sm.tsa.statespace.SARIMAX(train, order=combo, seasonal_order=combos, enforce_stationarity=False,enforce_invertibility=False, freq='MS')\n",
    "    # fit model\n",
    "    output = model.fit(disp=0,cov_type=\"approx\",low_memory=True)#hopefully reducing the amount of memory will reduce the amount of time\n",
    "    cast = output.forecast(castnum)\n",
    "\n",
    "    preds = []\n",
    "    for i in range(castnum):\n",
    "        yhat = cast[i]\n",
    "        #add predicted value to preds\n",
    "        preds.append(yhat)\n",
    "    \n",
    "    test=[t for t in test[:castnum]]\n",
    "    sqerror = [(t-p)**2 for t,p in zip(test,preds)]\n",
    "    msqerr = np.mean(sqerror)\n",
    "    print(msqerr)\n",
    "    return msqerr"
   ]
  },
  {
   "cell_type": "code",
   "execution_count": 3,
   "metadata": {
    "scrolled": true
   },
   "outputs": [
    {
     "name": "stdout",
     "output_type": "stream",
     "text": [
      "<class 'pandas.core.frame.DataFrame'>\n",
      "RangeIndex: 265 entries, 0 to 264\n",
      "Columns: 13685 entries, Unnamed: 0 to 95851\n",
      "dtypes: float64(13684), object(1)\n",
      "memory usage: 27.7+ MB\n"
     ]
    }
   ],
   "source": [
    "pricedf = pd.read_csv(\"files/transposedPrices.csv\")\n",
    "pricedf.info()"
   ]
  },
  {
   "cell_type": "code",
   "execution_count": 9,
   "metadata": {},
   "outputs": [
    {
     "data": {
      "text/html": [
       "<div>\n",
       "<style scoped>\n",
       "    .dataframe tbody tr th:only-of-type {\n",
       "        vertical-align: middle;\n",
       "    }\n",
       "\n",
       "    .dataframe tbody tr th {\n",
       "        vertical-align: top;\n",
       "    }\n",
       "\n",
       "    .dataframe thead th {\n",
       "        text-align: right;\n",
       "    }\n",
       "</style>\n",
       "<table border=\"1\" class=\"dataframe\">\n",
       "  <thead>\n",
       "    <tr style=\"text-align: right;\">\n",
       "      <th></th>\n",
       "      <th>84654</th>\n",
       "      <th>90668</th>\n",
       "      <th>91982</th>\n",
       "      <th>84616</th>\n",
       "      <th>93144</th>\n",
       "      <th>91733</th>\n",
       "      <th>61807</th>\n",
       "      <th>84640</th>\n",
       "      <th>91940</th>\n",
       "      <th>97564</th>\n",
       "      <th>...</th>\n",
       "      <th>59187</th>\n",
       "      <th>94711</th>\n",
       "      <th>62556</th>\n",
       "      <th>99032</th>\n",
       "      <th>62697</th>\n",
       "      <th>58333</th>\n",
       "      <th>59107</th>\n",
       "      <th>75672</th>\n",
       "      <th>93733</th>\n",
       "      <th>95851</th>\n",
       "    </tr>\n",
       "    <tr>\n",
       "      <th>time</th>\n",
       "      <th></th>\n",
       "      <th></th>\n",
       "      <th></th>\n",
       "      <th></th>\n",
       "      <th></th>\n",
       "      <th></th>\n",
       "      <th></th>\n",
       "      <th></th>\n",
       "      <th></th>\n",
       "      <th></th>\n",
       "      <th></th>\n",
       "      <th></th>\n",
       "      <th></th>\n",
       "      <th></th>\n",
       "      <th></th>\n",
       "      <th></th>\n",
       "      <th></th>\n",
       "      <th></th>\n",
       "      <th></th>\n",
       "      <th></th>\n",
       "      <th></th>\n",
       "    </tr>\n",
       "  </thead>\n",
       "  <tbody>\n",
       "    <tr>\n",
       "      <th>1996-04-01</th>\n",
       "      <td>334200.0</td>\n",
       "      <td>235700.0</td>\n",
       "      <td>210400.0</td>\n",
       "      <td>498100.0</td>\n",
       "      <td>77300.0</td>\n",
       "      <td>95000.0</td>\n",
       "      <td>152900.0</td>\n",
       "      <td>216500.0</td>\n",
       "      <td>95400.0</td>\n",
       "      <td>766000.0</td>\n",
       "      <td>...</td>\n",
       "      <td>80800.0</td>\n",
       "      <td>135900.0</td>\n",
       "      <td>78300.0</td>\n",
       "      <td>136200.0</td>\n",
       "      <td>62500.0</td>\n",
       "      <td>94600.0</td>\n",
       "      <td>92700.0</td>\n",
       "      <td>57100.0</td>\n",
       "      <td>191100.0</td>\n",
       "      <td>176400.0</td>\n",
       "    </tr>\n",
       "    <tr>\n",
       "      <th>1996-05-01</th>\n",
       "      <td>335400.0</td>\n",
       "      <td>236900.0</td>\n",
       "      <td>212200.0</td>\n",
       "      <td>500900.0</td>\n",
       "      <td>77300.0</td>\n",
       "      <td>95200.0</td>\n",
       "      <td>152700.0</td>\n",
       "      <td>216700.0</td>\n",
       "      <td>95600.0</td>\n",
       "      <td>771100.0</td>\n",
       "      <td>...</td>\n",
       "      <td>80100.0</td>\n",
       "      <td>136300.0</td>\n",
       "      <td>78300.0</td>\n",
       "      <td>136600.0</td>\n",
       "      <td>62600.0</td>\n",
       "      <td>94300.0</td>\n",
       "      <td>92500.0</td>\n",
       "      <td>57300.0</td>\n",
       "      <td>192400.0</td>\n",
       "      <td>176300.0</td>\n",
       "    </tr>\n",
       "    <tr>\n",
       "      <th>1996-06-01</th>\n",
       "      <td>336500.0</td>\n",
       "      <td>236700.0</td>\n",
       "      <td>212200.0</td>\n",
       "      <td>503100.0</td>\n",
       "      <td>77300.0</td>\n",
       "      <td>95400.0</td>\n",
       "      <td>152600.0</td>\n",
       "      <td>216900.0</td>\n",
       "      <td>95800.0</td>\n",
       "      <td>776500.0</td>\n",
       "      <td>...</td>\n",
       "      <td>79400.0</td>\n",
       "      <td>136600.0</td>\n",
       "      <td>78200.0</td>\n",
       "      <td>136800.0</td>\n",
       "      <td>62700.0</td>\n",
       "      <td>94000.0</td>\n",
       "      <td>92400.0</td>\n",
       "      <td>57500.0</td>\n",
       "      <td>193700.0</td>\n",
       "      <td>176100.0</td>\n",
       "    </tr>\n",
       "    <tr>\n",
       "      <th>1996-07-01</th>\n",
       "      <td>337600.0</td>\n",
       "      <td>235400.0</td>\n",
       "      <td>210700.0</td>\n",
       "      <td>504600.0</td>\n",
       "      <td>77300.0</td>\n",
       "      <td>95700.0</td>\n",
       "      <td>152400.0</td>\n",
       "      <td>217000.0</td>\n",
       "      <td>96100.0</td>\n",
       "      <td>781900.0</td>\n",
       "      <td>...</td>\n",
       "      <td>78600.0</td>\n",
       "      <td>136900.0</td>\n",
       "      <td>78200.0</td>\n",
       "      <td>136800.0</td>\n",
       "      <td>62700.0</td>\n",
       "      <td>93700.0</td>\n",
       "      <td>92200.0</td>\n",
       "      <td>57700.0</td>\n",
       "      <td>195000.0</td>\n",
       "      <td>176000.0</td>\n",
       "    </tr>\n",
       "    <tr>\n",
       "      <th>1996-08-01</th>\n",
       "      <td>338500.0</td>\n",
       "      <td>233300.0</td>\n",
       "      <td>208300.0</td>\n",
       "      <td>505500.0</td>\n",
       "      <td>77400.0</td>\n",
       "      <td>95900.0</td>\n",
       "      <td>152300.0</td>\n",
       "      <td>217100.0</td>\n",
       "      <td>96400.0</td>\n",
       "      <td>787300.0</td>\n",
       "      <td>...</td>\n",
       "      <td>77900.0</td>\n",
       "      <td>137100.0</td>\n",
       "      <td>78100.0</td>\n",
       "      <td>136700.0</td>\n",
       "      <td>62700.0</td>\n",
       "      <td>93400.0</td>\n",
       "      <td>92100.0</td>\n",
       "      <td>58000.0</td>\n",
       "      <td>196300.0</td>\n",
       "      <td>175900.0</td>\n",
       "    </tr>\n",
       "  </tbody>\n",
       "</table>\n",
       "<p>5 rows × 13684 columns</p>\n",
       "</div>"
      ],
      "text/plain": [
       "               84654     90668     91982     84616    93144    91733  \\\n",
       "time                                                                   \n",
       "1996-04-01  334200.0  235700.0  210400.0  498100.0  77300.0  95000.0   \n",
       "1996-05-01  335400.0  236900.0  212200.0  500900.0  77300.0  95200.0   \n",
       "1996-06-01  336500.0  236700.0  212200.0  503100.0  77300.0  95400.0   \n",
       "1996-07-01  337600.0  235400.0  210700.0  504600.0  77300.0  95700.0   \n",
       "1996-08-01  338500.0  233300.0  208300.0  505500.0  77400.0  95900.0   \n",
       "\n",
       "               61807     84640    91940     97564    ...       59187  \\\n",
       "time                                                 ...               \n",
       "1996-04-01  152900.0  216500.0  95400.0  766000.0    ...     80800.0   \n",
       "1996-05-01  152700.0  216700.0  95600.0  771100.0    ...     80100.0   \n",
       "1996-06-01  152600.0  216900.0  95800.0  776500.0    ...     79400.0   \n",
       "1996-07-01  152400.0  217000.0  96100.0  781900.0    ...     78600.0   \n",
       "1996-08-01  152300.0  217100.0  96400.0  787300.0    ...     77900.0   \n",
       "\n",
       "               94711    62556     99032    62697    58333    59107    75672  \\\n",
       "time                                                                          \n",
       "1996-04-01  135900.0  78300.0  136200.0  62500.0  94600.0  92700.0  57100.0   \n",
       "1996-05-01  136300.0  78300.0  136600.0  62600.0  94300.0  92500.0  57300.0   \n",
       "1996-06-01  136600.0  78200.0  136800.0  62700.0  94000.0  92400.0  57500.0   \n",
       "1996-07-01  136900.0  78200.0  136800.0  62700.0  93700.0  92200.0  57700.0   \n",
       "1996-08-01  137100.0  78100.0  136700.0  62700.0  93400.0  92100.0  58000.0   \n",
       "\n",
       "               93733     95851  \n",
       "time                            \n",
       "1996-04-01  191100.0  176400.0  \n",
       "1996-05-01  192400.0  176300.0  \n",
       "1996-06-01  193700.0  176100.0  \n",
       "1996-07-01  195000.0  176000.0  \n",
       "1996-08-01  196300.0  175900.0  \n",
       "\n",
       "[5 rows x 13684 columns]"
      ]
     },
     "execution_count": 9,
     "metadata": {},
     "output_type": "execute_result"
    }
   ],
   "source": [
    "#making sure the DataFrame has an appropriate DateTimeIndex\n",
    "pricedf[\"time\"]=pd.to_datetime(pricedf[\"Unnamed: 0\"])\n",
    "pricedf.set_index(pricedf[\"time\"], inplace=True)\n",
    "pricedf.drop(columns=[\"time\",\"Unnamed: 0\"], inplace=True)\n",
    "pricedf.head()"
   ]
  },
  {
   "cell_type": "code",
   "execution_count": 10,
   "metadata": {},
   "outputs": [
    {
     "name": "stdout",
     "output_type": "stream",
     "text": [
      "<class 'pandas.core.frame.DataFrame'>\n",
      "DatetimeIndex: 265 entries, 1996-04-01 to 2018-04-01\n",
      "Columns: 13684 entries, 84654 to 95851\n",
      "dtypes: float64(13684)\n",
      "memory usage: 27.7 MB\n"
     ]
    }
   ],
   "source": [
    "pricedf.info() #checking the dataframe is in the appropriate format"
   ]
  },
  {
   "cell_type": "code",
   "execution_count": 8,
   "metadata": {},
   "outputs": [],
   "source": [
    "#values from earlier that resulted in the lowest AIC and p-values below 0.05\n",
    "bestpdq=(1,2,0)\n",
    "bestpdqs=(1,2,2,12)"
   ]
  },
  {
   "cell_type": "code",
   "execution_count": 149,
   "metadata": {},
   "outputs": [
    {
     "data": {
      "text/plain": [
       "count    1.472300e+04\n",
       "mean     2.880399e+05\n",
       "std      3.720544e+05\n",
       "min      1.380000e+04\n",
       "25%      1.324000e+05\n",
       "50%      1.981000e+05\n",
       "75%      3.211000e+05\n",
       "max      1.789490e+07\n",
       "Name: 2018-04, dtype: float64"
      ]
     },
     "execution_count": 149,
     "metadata": {},
     "output_type": "execute_result"
    }
   ],
   "source": [
    "#the most recent date/latest record is 2018-04\n",
    "data[\"2018-04\"].describe()"
   ]
  },
  {
   "cell_type": "code",
   "execution_count": 158,
   "metadata": {},
   "outputs": [],
   "source": [
    "#finding the appropriate percentiles by turning the last record into a sorted list\n",
    "lastrec = data[\"2018-04\"]\n",
    "lastrecls = list(sorted(lastrec)) #now in order from smallest to largest"
   ]
  },
  {
   "cell_type": "code",
   "execution_count": 15,
   "metadata": {},
   "outputs": [],
   "source": [
    "#function to find jth percentile, where 10 = j would be the 10th percentile\n",
    "def percentile(j,sortedlist): #the list is already sorted from smallest to largest\n",
    "    '''\n",
    "    Finds the value at a given percentile.\n",
    "    \n",
    "    Args\n",
    "        j (integer): the desired percentile for which to provide a value (e.g., j=10 would be the 10th percentile)\n",
    "        sortedlist (list): a list of floats or integers sorted from lowest to highest\n",
    "        \n",
    "    Returns\n",
    "        (float or int): the value in sortedlist at the calculated index or the average of the two values nearby\n",
    "    '''\n",
    "    totalnum = len(sortedlist)\n",
    "    inde = j/100*totalnum\n",
    "    if(inde.is_integer()):#if it's a whole number\n",
    "        lower = sortedlist[inde-1]\n",
    "        upper = sortedlist[inde]\n",
    "        return (lower+upper)/2\n",
    "    else:#if the index is between whole numbers\n",
    "        return sortedlist[math.trunc(inde)]"
   ]
  },
  {
   "cell_type": "code",
   "execution_count": 201,
   "metadata": {},
   "outputs": [],
   "source": [
    "#creating the training size \n",
    "splitsize = int(len(pricedf.index)*.8)#an 80-20 split"
   ]
  },
  {
   "cell_type": "markdown",
   "metadata": {},
   "source": [
    "### Timing Model Evaluation\n",
    "I had timed 37.8 seconds for two columns, which is significantly longer than expected.  I'll see how long one column takes:"
   ]
  },
  {
   "cell_type": "code",
   "execution_count": 217,
   "metadata": {
    "collapsed": true
   },
   "outputs": [
    {
     "name": "stdout",
     "output_type": "stream",
     "text": [
      "91982\n"
     ]
    },
    {
     "ename": "KeyError",
     "evalue": "91982",
     "output_type": "error",
     "traceback": [
      "\u001b[1;31m---------------------------------------------------------------------------\u001b[0m",
      "\u001b[1;31mKeyError\u001b[0m                                  Traceback (most recent call last)",
      "\u001b[1;32m~\\Anaconda3\\envs\\learn-env\\lib\\site-packages\\pandas\\core\\indexes\\base.py\u001b[0m in \u001b[0;36mget_loc\u001b[1;34m(self, key, method, tolerance)\u001b[0m\n\u001b[0;32m   3077\u001b[0m             \u001b[1;32mtry\u001b[0m\u001b[1;33m:\u001b[0m\u001b[1;33m\u001b[0m\u001b[0m\n\u001b[1;32m-> 3078\u001b[1;33m                 \u001b[1;32mreturn\u001b[0m \u001b[0mself\u001b[0m\u001b[1;33m.\u001b[0m\u001b[0m_engine\u001b[0m\u001b[1;33m.\u001b[0m\u001b[0mget_loc\u001b[0m\u001b[1;33m(\u001b[0m\u001b[0mkey\u001b[0m\u001b[1;33m)\u001b[0m\u001b[1;33m\u001b[0m\u001b[0m\n\u001b[0m\u001b[0;32m   3079\u001b[0m             \u001b[1;32mexcept\u001b[0m \u001b[0mKeyError\u001b[0m\u001b[1;33m:\u001b[0m\u001b[1;33m\u001b[0m\u001b[0m\n",
      "\u001b[1;32mpandas\\_libs\\index.pyx\u001b[0m in \u001b[0;36mpandas._libs.index.IndexEngine.get_loc\u001b[1;34m()\u001b[0m\n",
      "\u001b[1;32mpandas\\_libs\\index.pyx\u001b[0m in \u001b[0;36mpandas._libs.index.IndexEngine.get_loc\u001b[1;34m()\u001b[0m\n",
      "\u001b[1;32mpandas\\_libs\\hashtable_class_helper.pxi\u001b[0m in \u001b[0;36mpandas._libs.hashtable.Int64HashTable.get_item\u001b[1;34m()\u001b[0m\n",
      "\u001b[1;32mpandas\\_libs\\hashtable_class_helper.pxi\u001b[0m in \u001b[0;36mpandas._libs.hashtable.Int64HashTable.get_item\u001b[1;34m()\u001b[0m\n",
      "\u001b[1;31mKeyError\u001b[0m: 91982",
      "\nDuring handling of the above exception, another exception occurred:\n",
      "\u001b[1;31mKeyError\u001b[0m                                  Traceback (most recent call last)",
      "\u001b[1;32m<ipython-input-217-b64327eb7064>\u001b[0m in \u001b[0;36m<module>\u001b[1;34m()\u001b[0m\n\u001b[0;32m      1\u001b[0m \u001b[0mearly\u001b[0m \u001b[1;33m=\u001b[0m \u001b[0mtime\u001b[0m\u001b[1;33m.\u001b[0m\u001b[0mtime\u001b[0m\u001b[1;33m(\u001b[0m\u001b[1;33m)\u001b[0m\u001b[1;33m\u001b[0m\u001b[0m\n\u001b[0;32m      2\u001b[0m \u001b[0mprint\u001b[0m\u001b[1;33m(\u001b[0m\u001b[1;36m91982\u001b[0m\u001b[1;33m)\u001b[0m\u001b[1;33m\u001b[0m\u001b[0m\n\u001b[1;32m----> 3\u001b[1;33m \u001b[0merror\u001b[0m \u001b[1;33m=\u001b[0m \u001b[0meval_model\u001b[0m\u001b[1;33m(\u001b[0m\u001b[0mthirdf\u001b[0m\u001b[1;33m[\u001b[0m\u001b[1;36m91982\u001b[0m\u001b[1;33m]\u001b[0m\u001b[1;33m,\u001b[0m\u001b[0mbestpdq\u001b[0m\u001b[1;33m,\u001b[0m\u001b[0mbestpdqs\u001b[0m\u001b[1;33m,\u001b[0m\u001b[0msplitsize\u001b[0m\u001b[1;33m,\u001b[0m\u001b[1;36m5\u001b[0m\u001b[1;33m)\u001b[0m\u001b[1;33m\u001b[0m\u001b[0m\n\u001b[0m\u001b[0;32m      4\u001b[0m \u001b[0mlate\u001b[0m\u001b[1;33m=\u001b[0m\u001b[0mtime\u001b[0m\u001b[1;33m.\u001b[0m\u001b[0mtime\u001b[0m\u001b[1;33m(\u001b[0m\u001b[1;33m)\u001b[0m\u001b[1;33m\u001b[0m\u001b[0m\n\u001b[0;32m      5\u001b[0m \u001b[0mmsedict\u001b[0m\u001b[1;33m[\u001b[0m\u001b[1;36m91982\u001b[0m\u001b[1;33m]\u001b[0m \u001b[1;33m=\u001b[0m \u001b[0merror\u001b[0m\u001b[1;33m\u001b[0m\u001b[0m\n",
      "\u001b[1;32m~\\Anaconda3\\envs\\learn-env\\lib\\site-packages\\pandas\\core\\frame.py\u001b[0m in \u001b[0;36m__getitem__\u001b[1;34m(self, key)\u001b[0m\n\u001b[0;32m   2686\u001b[0m             \u001b[1;32mreturn\u001b[0m \u001b[0mself\u001b[0m\u001b[1;33m.\u001b[0m\u001b[0m_getitem_multilevel\u001b[0m\u001b[1;33m(\u001b[0m\u001b[0mkey\u001b[0m\u001b[1;33m)\u001b[0m\u001b[1;33m\u001b[0m\u001b[0m\n\u001b[0;32m   2687\u001b[0m         \u001b[1;32melse\u001b[0m\u001b[1;33m:\u001b[0m\u001b[1;33m\u001b[0m\u001b[0m\n\u001b[1;32m-> 2688\u001b[1;33m             \u001b[1;32mreturn\u001b[0m \u001b[0mself\u001b[0m\u001b[1;33m.\u001b[0m\u001b[0m_getitem_column\u001b[0m\u001b[1;33m(\u001b[0m\u001b[0mkey\u001b[0m\u001b[1;33m)\u001b[0m\u001b[1;33m\u001b[0m\u001b[0m\n\u001b[0m\u001b[0;32m   2689\u001b[0m \u001b[1;33m\u001b[0m\u001b[0m\n\u001b[0;32m   2690\u001b[0m     \u001b[1;32mdef\u001b[0m \u001b[0m_getitem_column\u001b[0m\u001b[1;33m(\u001b[0m\u001b[0mself\u001b[0m\u001b[1;33m,\u001b[0m \u001b[0mkey\u001b[0m\u001b[1;33m)\u001b[0m\u001b[1;33m:\u001b[0m\u001b[1;33m\u001b[0m\u001b[0m\n",
      "\u001b[1;32m~\\Anaconda3\\envs\\learn-env\\lib\\site-packages\\pandas\\core\\frame.py\u001b[0m in \u001b[0;36m_getitem_column\u001b[1;34m(self, key)\u001b[0m\n\u001b[0;32m   2693\u001b[0m         \u001b[1;31m# get column\u001b[0m\u001b[1;33m\u001b[0m\u001b[1;33m\u001b[0m\u001b[0m\n\u001b[0;32m   2694\u001b[0m         \u001b[1;32mif\u001b[0m \u001b[0mself\u001b[0m\u001b[1;33m.\u001b[0m\u001b[0mcolumns\u001b[0m\u001b[1;33m.\u001b[0m\u001b[0mis_unique\u001b[0m\u001b[1;33m:\u001b[0m\u001b[1;33m\u001b[0m\u001b[0m\n\u001b[1;32m-> 2695\u001b[1;33m             \u001b[1;32mreturn\u001b[0m \u001b[0mself\u001b[0m\u001b[1;33m.\u001b[0m\u001b[0m_get_item_cache\u001b[0m\u001b[1;33m(\u001b[0m\u001b[0mkey\u001b[0m\u001b[1;33m)\u001b[0m\u001b[1;33m\u001b[0m\u001b[0m\n\u001b[0m\u001b[0;32m   2696\u001b[0m \u001b[1;33m\u001b[0m\u001b[0m\n\u001b[0;32m   2697\u001b[0m         \u001b[1;31m# duplicate columns & possible reduce dimensionality\u001b[0m\u001b[1;33m\u001b[0m\u001b[1;33m\u001b[0m\u001b[0m\n",
      "\u001b[1;32m~\\Anaconda3\\envs\\learn-env\\lib\\site-packages\\pandas\\core\\generic.py\u001b[0m in \u001b[0;36m_get_item_cache\u001b[1;34m(self, item)\u001b[0m\n\u001b[0;32m   2487\u001b[0m         \u001b[0mres\u001b[0m \u001b[1;33m=\u001b[0m \u001b[0mcache\u001b[0m\u001b[1;33m.\u001b[0m\u001b[0mget\u001b[0m\u001b[1;33m(\u001b[0m\u001b[0mitem\u001b[0m\u001b[1;33m)\u001b[0m\u001b[1;33m\u001b[0m\u001b[0m\n\u001b[0;32m   2488\u001b[0m         \u001b[1;32mif\u001b[0m \u001b[0mres\u001b[0m \u001b[1;32mis\u001b[0m \u001b[1;32mNone\u001b[0m\u001b[1;33m:\u001b[0m\u001b[1;33m\u001b[0m\u001b[0m\n\u001b[1;32m-> 2489\u001b[1;33m             \u001b[0mvalues\u001b[0m \u001b[1;33m=\u001b[0m \u001b[0mself\u001b[0m\u001b[1;33m.\u001b[0m\u001b[0m_data\u001b[0m\u001b[1;33m.\u001b[0m\u001b[0mget\u001b[0m\u001b[1;33m(\u001b[0m\u001b[0mitem\u001b[0m\u001b[1;33m)\u001b[0m\u001b[1;33m\u001b[0m\u001b[0m\n\u001b[0m\u001b[0;32m   2490\u001b[0m             \u001b[0mres\u001b[0m \u001b[1;33m=\u001b[0m \u001b[0mself\u001b[0m\u001b[1;33m.\u001b[0m\u001b[0m_box_item_values\u001b[0m\u001b[1;33m(\u001b[0m\u001b[0mitem\u001b[0m\u001b[1;33m,\u001b[0m \u001b[0mvalues\u001b[0m\u001b[1;33m)\u001b[0m\u001b[1;33m\u001b[0m\u001b[0m\n\u001b[0;32m   2491\u001b[0m             \u001b[0mcache\u001b[0m\u001b[1;33m[\u001b[0m\u001b[0mitem\u001b[0m\u001b[1;33m]\u001b[0m \u001b[1;33m=\u001b[0m \u001b[0mres\u001b[0m\u001b[1;33m\u001b[0m\u001b[0m\n",
      "\u001b[1;32m~\\Anaconda3\\envs\\learn-env\\lib\\site-packages\\pandas\\core\\internals.py\u001b[0m in \u001b[0;36mget\u001b[1;34m(self, item, fastpath)\u001b[0m\n\u001b[0;32m   4113\u001b[0m \u001b[1;33m\u001b[0m\u001b[0m\n\u001b[0;32m   4114\u001b[0m             \u001b[1;32mif\u001b[0m \u001b[1;32mnot\u001b[0m \u001b[0misna\u001b[0m\u001b[1;33m(\u001b[0m\u001b[0mitem\u001b[0m\u001b[1;33m)\u001b[0m\u001b[1;33m:\u001b[0m\u001b[1;33m\u001b[0m\u001b[0m\n\u001b[1;32m-> 4115\u001b[1;33m                 \u001b[0mloc\u001b[0m \u001b[1;33m=\u001b[0m \u001b[0mself\u001b[0m\u001b[1;33m.\u001b[0m\u001b[0mitems\u001b[0m\u001b[1;33m.\u001b[0m\u001b[0mget_loc\u001b[0m\u001b[1;33m(\u001b[0m\u001b[0mitem\u001b[0m\u001b[1;33m)\u001b[0m\u001b[1;33m\u001b[0m\u001b[0m\n\u001b[0m\u001b[0;32m   4116\u001b[0m             \u001b[1;32melse\u001b[0m\u001b[1;33m:\u001b[0m\u001b[1;33m\u001b[0m\u001b[0m\n\u001b[0;32m   4117\u001b[0m                 \u001b[0mindexer\u001b[0m \u001b[1;33m=\u001b[0m \u001b[0mnp\u001b[0m\u001b[1;33m.\u001b[0m\u001b[0marange\u001b[0m\u001b[1;33m(\u001b[0m\u001b[0mlen\u001b[0m\u001b[1;33m(\u001b[0m\u001b[0mself\u001b[0m\u001b[1;33m.\u001b[0m\u001b[0mitems\u001b[0m\u001b[1;33m)\u001b[0m\u001b[1;33m)\u001b[0m\u001b[1;33m[\u001b[0m\u001b[0misna\u001b[0m\u001b[1;33m(\u001b[0m\u001b[0mself\u001b[0m\u001b[1;33m.\u001b[0m\u001b[0mitems\u001b[0m\u001b[1;33m)\u001b[0m\u001b[1;33m]\u001b[0m\u001b[1;33m\u001b[0m\u001b[0m\n",
      "\u001b[1;32m~\\Anaconda3\\envs\\learn-env\\lib\\site-packages\\pandas\\core\\indexes\\base.py\u001b[0m in \u001b[0;36mget_loc\u001b[1;34m(self, key, method, tolerance)\u001b[0m\n\u001b[0;32m   3078\u001b[0m                 \u001b[1;32mreturn\u001b[0m \u001b[0mself\u001b[0m\u001b[1;33m.\u001b[0m\u001b[0m_engine\u001b[0m\u001b[1;33m.\u001b[0m\u001b[0mget_loc\u001b[0m\u001b[1;33m(\u001b[0m\u001b[0mkey\u001b[0m\u001b[1;33m)\u001b[0m\u001b[1;33m\u001b[0m\u001b[0m\n\u001b[0;32m   3079\u001b[0m             \u001b[1;32mexcept\u001b[0m \u001b[0mKeyError\u001b[0m\u001b[1;33m:\u001b[0m\u001b[1;33m\u001b[0m\u001b[0m\n\u001b[1;32m-> 3080\u001b[1;33m                 \u001b[1;32mreturn\u001b[0m \u001b[0mself\u001b[0m\u001b[1;33m.\u001b[0m\u001b[0m_engine\u001b[0m\u001b[1;33m.\u001b[0m\u001b[0mget_loc\u001b[0m\u001b[1;33m(\u001b[0m\u001b[0mself\u001b[0m\u001b[1;33m.\u001b[0m\u001b[0m_maybe_cast_indexer\u001b[0m\u001b[1;33m(\u001b[0m\u001b[0mkey\u001b[0m\u001b[1;33m)\u001b[0m\u001b[1;33m)\u001b[0m\u001b[1;33m\u001b[0m\u001b[0m\n\u001b[0m\u001b[0;32m   3081\u001b[0m \u001b[1;33m\u001b[0m\u001b[0m\n\u001b[0;32m   3082\u001b[0m         \u001b[0mindexer\u001b[0m \u001b[1;33m=\u001b[0m \u001b[0mself\u001b[0m\u001b[1;33m.\u001b[0m\u001b[0mget_indexer\u001b[0m\u001b[1;33m(\u001b[0m\u001b[1;33m[\u001b[0m\u001b[0mkey\u001b[0m\u001b[1;33m]\u001b[0m\u001b[1;33m,\u001b[0m \u001b[0mmethod\u001b[0m\u001b[1;33m=\u001b[0m\u001b[0mmethod\u001b[0m\u001b[1;33m,\u001b[0m \u001b[0mtolerance\u001b[0m\u001b[1;33m=\u001b[0m\u001b[0mtolerance\u001b[0m\u001b[1;33m)\u001b[0m\u001b[1;33m\u001b[0m\u001b[0m\n",
      "\u001b[1;32mpandas\\_libs\\index.pyx\u001b[0m in \u001b[0;36mpandas._libs.index.IndexEngine.get_loc\u001b[1;34m()\u001b[0m\n",
      "\u001b[1;32mpandas\\_libs\\index.pyx\u001b[0m in \u001b[0;36mpandas._libs.index.IndexEngine.get_loc\u001b[1;34m()\u001b[0m\n",
      "\u001b[1;32mpandas\\_libs\\hashtable_class_helper.pxi\u001b[0m in \u001b[0;36mpandas._libs.hashtable.Int64HashTable.get_item\u001b[1;34m()\u001b[0m\n",
      "\u001b[1;32mpandas\\_libs\\hashtable_class_helper.pxi\u001b[0m in \u001b[0;36mpandas._libs.hashtable.Int64HashTable.get_item\u001b[1;34m()\u001b[0m\n",
      "\u001b[1;31mKeyError\u001b[0m: 91982"
     ]
    }
   ],
   "source": [
    "#timing one column of data (equivalent to a timeseries)\n",
    "early = time.time()\n",
    "print(91940)\n",
    "error = eval_model(pricedf[91940],bestpdq,bestpdqs,splitsize,5)\n",
    "late=time.time()\n",
    "msedict[91940] = error"
   ]
  },
  {
   "cell_type": "code",
   "execution_count": 216,
   "metadata": {},
   "outputs": [
    {
     "data": {
      "text/plain": [
       "19.700572729110718"
      ]
     },
     "execution_count": 216,
     "metadata": {},
     "output_type": "execute_result"
    }
   ],
   "source": [
    "#calculating the time taken in seconds\n",
    "late-early"
   ]
  },
  {
   "cell_type": "markdown",
   "metadata": {},
   "source": [
    "One column takes 19 seconds."
   ]
  },
  {
   "cell_type": "code",
   "execution_count": 229,
   "metadata": {},
   "outputs": [
    {
     "name": "stdout",
     "output_type": "stream",
     "text": [
      "91940\n",
      "3485751.616009316\n"
     ]
    }
   ],
   "source": [
    "#checking if it would be quicker if creating a timeseries from the list of rows\n",
    "colname=91940\n",
    "early = time.time()\n",
    "print(colname)\n",
    "tise = pd.Series(ninthlist[1],index=times)#ninthlist is a list of lists converted from row-by-row of ninthData\n",
    "#this is just for demonstration purposes since that variable has been absorbed into the transposeDF function\n",
    "error = eval_model(tise,bestpdq,bestpdqs,splitsize,5)\n",
    "late=time.time()\n",
    "msedict[colname] = error"
   ]
  },
  {
   "cell_type": "markdown",
   "metadata": {},
   "source": [
    "91940 is the column name\n",
    "\n",
    "3485751.616009316 is the Mean-Squared Error printed from eval_model"
   ]
  },
  {
   "cell_type": "code",
   "execution_count": 232,
   "metadata": {},
   "outputs": [
    {
     "data": {
      "text/plain": [
       "19.281272888183594"
      ]
     },
     "execution_count": 232,
     "metadata": {},
     "output_type": "execute_result"
    }
   ],
   "source": [
    "late-early"
   ]
  },
  {
   "cell_type": "markdown",
   "metadata": {},
   "source": [
    "The amount of time is about the same: 19 seconds.\n",
    "\n",
    "Since a method involving a different datatype does not significantly change the amount of time taken to evaluate the model, I will need to cut the amount of `RegionID`s to be modeled."
   ]
  },
  {
   "cell_type": "code",
   "execution_count": 168,
   "metadata": {},
   "outputs": [
    {
     "data": {
      "text/plain": [
       "44.44444444444444"
      ]
     },
     "execution_count": 168,
     "metadata": {},
     "output_type": "execute_result"
    }
   ],
   "source": [
    "#I'll use less data; the middle ninth is around the median of the data\n",
    "400/9 #checking which percentiles correspond to 4/9 and 5/9 "
   ]
  },
  {
   "cell_type": "code",
   "execution_count": 236,
   "metadata": {},
   "outputs": [
    {
     "data": {
      "text/plain": [
       "55.55555555555556"
      ]
     },
     "execution_count": 236,
     "metadata": {},
     "output_type": "execute_result"
    }
   ],
   "source": [
    "500/9"
   ]
  },
  {
   "cell_type": "markdown",
   "metadata": {},
   "source": [
    "The middle ninth would be between the 44th and 55th percentiles.  Using the estimate of 19 seconds for each, and using only a ninth of the total columns would result in how many hours needed?"
   ]
  },
  {
   "cell_type": "code",
   "execution_count": 240,
   "metadata": {},
   "outputs": [
    {
     "data": {
      "text/plain": [
       "8.143362290182232"
      ]
     },
     "execution_count": 240,
     "metadata": {},
     "output_type": "execute_result"
    }
   ],
   "source": [
    "19.281272888183594*len(pricedf.columns)/9/60/60 #19 secs each, divided to minutes, then hours"
   ]
  },
  {
   "cell_type": "markdown",
   "metadata": {},
   "source": [
    "An eight-hour runtime is manageable at this moment.  I will pick out a ninth of the dataset, using the median ninth of the values from the last record (`2018-04`)."
   ]
  },
  {
   "cell_type": "markdown",
   "metadata": {},
   "source": [
    "### Selecting a Ninth of the Data\n",
    "After determining the bounds for the 44th and 55th percentiles, I will transpose the dataframe and drop RegionID's with missing date values, to match the format of `pricedf`, with columns as RegionID's and the index as a DateTimeIndex of the months."
   ]
  },
  {
   "cell_type": "code",
   "execution_count": 241,
   "metadata": {},
   "outputs": [],
   "source": [
    "#lastrecls is the sorted list of prices from the latest date\n",
    "upperbound = percentile((500/9),lastrecls)#the 55th percentile\n",
    "lowerbound = percentile((400/9),lastrecls)#the 44th percentile"
   ]
  },
  {
   "cell_type": "code",
   "execution_count": 242,
   "metadata": {},
   "outputs": [
    {
     "data": {
      "text/html": [
       "<div>\n",
       "<style scoped>\n",
       "    .dataframe tbody tr th:only-of-type {\n",
       "        vertical-align: middle;\n",
       "    }\n",
       "\n",
       "    .dataframe tbody tr th {\n",
       "        vertical-align: top;\n",
       "    }\n",
       "\n",
       "    .dataframe thead th {\n",
       "        text-align: right;\n",
       "    }\n",
       "</style>\n",
       "<table border=\"1\" class=\"dataframe\">\n",
       "  <thead>\n",
       "    <tr style=\"text-align: right;\">\n",
       "      <th></th>\n",
       "      <th>RegionID</th>\n",
       "      <th>RegionName</th>\n",
       "      <th>SizeRank</th>\n",
       "      <th>1996-04</th>\n",
       "      <th>1996-05</th>\n",
       "      <th>1996-06</th>\n",
       "      <th>1996-07</th>\n",
       "      <th>1996-08</th>\n",
       "      <th>1996-09</th>\n",
       "      <th>1996-10</th>\n",
       "      <th>...</th>\n",
       "      <th>2017-07</th>\n",
       "      <th>2017-08</th>\n",
       "      <th>2017-09</th>\n",
       "      <th>2017-10</th>\n",
       "      <th>2017-11</th>\n",
       "      <th>2017-12</th>\n",
       "      <th>2018-01</th>\n",
       "      <th>2018-02</th>\n",
       "      <th>2018-03</th>\n",
       "      <th>2018-04</th>\n",
       "    </tr>\n",
       "  </thead>\n",
       "  <tbody>\n",
       "    <tr>\n",
       "      <th>count</th>\n",
       "      <td>8178.000000</td>\n",
       "      <td>8178.000000</td>\n",
       "      <td>8178.000000</td>\n",
       "      <td>7320.000000</td>\n",
       "      <td>7320.000000</td>\n",
       "      <td>7320.000000</td>\n",
       "      <td>7320.000000</td>\n",
       "      <td>7320.000000</td>\n",
       "      <td>7320.000000</td>\n",
       "      <td>7320.000000</td>\n",
       "      <td>...</td>\n",
       "      <td>8178.000000</td>\n",
       "      <td>8178.000000</td>\n",
       "      <td>8178.000000</td>\n",
       "      <td>8178.000000</td>\n",
       "      <td>8178.000000</td>\n",
       "      <td>8178.000000</td>\n",
       "      <td>8178.000000</td>\n",
       "      <td>8178.000000</td>\n",
       "      <td>8178.000000</td>\n",
       "      <td>8178.000000</td>\n",
       "    </tr>\n",
       "    <tr>\n",
       "      <th>mean</th>\n",
       "      <td>78981.767792</td>\n",
       "      <td>45791.745048</td>\n",
       "      <td>8239.854488</td>\n",
       "      <td>73469.986339</td>\n",
       "      <td>73569.385246</td>\n",
       "      <td>73666.010929</td>\n",
       "      <td>73760.081967</td>\n",
       "      <td>73855.751366</td>\n",
       "      <td>73958.797814</td>\n",
       "      <td>74081.489071</td>\n",
       "      <td>...</td>\n",
       "      <td>131479.444852</td>\n",
       "      <td>132180.655417</td>\n",
       "      <td>132874.651504</td>\n",
       "      <td>133498.777207</td>\n",
       "      <td>134108.168256</td>\n",
       "      <td>134720.677427</td>\n",
       "      <td>135226.216679</td>\n",
       "      <td>135881.988261</td>\n",
       "      <td>136900.513573</td>\n",
       "      <td>137714.245537</td>\n",
       "    </tr>\n",
       "    <tr>\n",
       "      <th>std</th>\n",
       "      <td>22996.437906</td>\n",
       "      <td>23235.891428</td>\n",
       "      <td>4153.083721</td>\n",
       "      <td>25690.581193</td>\n",
       "      <td>25637.429378</td>\n",
       "      <td>25581.874923</td>\n",
       "      <td>25525.486905</td>\n",
       "      <td>25472.787850</td>\n",
       "      <td>25421.536704</td>\n",
       "      <td>25374.490887</td>\n",
       "      <td>...</td>\n",
       "      <td>42440.863554</td>\n",
       "      <td>42661.087015</td>\n",
       "      <td>42899.492213</td>\n",
       "      <td>43123.319626</td>\n",
       "      <td>43337.256777</td>\n",
       "      <td>43550.983329</td>\n",
       "      <td>43765.580191</td>\n",
       "      <td>43966.364339</td>\n",
       "      <td>44198.343986</td>\n",
       "      <td>44403.102268</td>\n",
       "    </tr>\n",
       "    <tr>\n",
       "      <th>min</th>\n",
       "      <td>58202.000000</td>\n",
       "      <td>1008.000000</td>\n",
       "      <td>5.000000</td>\n",
       "      <td>11300.000000</td>\n",
       "      <td>11500.000000</td>\n",
       "      <td>11600.000000</td>\n",
       "      <td>11800.000000</td>\n",
       "      <td>11800.000000</td>\n",
       "      <td>12000.000000</td>\n",
       "      <td>12100.000000</td>\n",
       "      <td>...</td>\n",
       "      <td>14400.000000</td>\n",
       "      <td>14500.000000</td>\n",
       "      <td>14700.000000</td>\n",
       "      <td>14800.000000</td>\n",
       "      <td>14500.000000</td>\n",
       "      <td>14300.000000</td>\n",
       "      <td>14100.000000</td>\n",
       "      <td>13900.000000</td>\n",
       "      <td>13800.000000</td>\n",
       "      <td>13800.000000</td>\n",
       "    </tr>\n",
       "    <tr>\n",
       "      <th>25%</th>\n",
       "      <td>69898.250000</td>\n",
       "      <td>28358.500000</td>\n",
       "      <td>4854.250000</td>\n",
       "      <td>54700.000000</td>\n",
       "      <td>54875.000000</td>\n",
       "      <td>55000.000000</td>\n",
       "      <td>55200.000000</td>\n",
       "      <td>55200.000000</td>\n",
       "      <td>55400.000000</td>\n",
       "      <td>55600.000000</td>\n",
       "      <td>...</td>\n",
       "      <td>97200.000000</td>\n",
       "      <td>97725.000000</td>\n",
       "      <td>98100.000000</td>\n",
       "      <td>98600.000000</td>\n",
       "      <td>99025.000000</td>\n",
       "      <td>99500.000000</td>\n",
       "      <td>100000.000000</td>\n",
       "      <td>100525.000000</td>\n",
       "      <td>101600.000000</td>\n",
       "      <td>102400.000000</td>\n",
       "    </tr>\n",
       "    <tr>\n",
       "      <th>50%</th>\n",
       "      <td>77568.500000</td>\n",
       "      <td>45237.500000</td>\n",
       "      <td>8656.500000</td>\n",
       "      <td>71700.000000</td>\n",
       "      <td>71800.000000</td>\n",
       "      <td>72000.000000</td>\n",
       "      <td>72150.000000</td>\n",
       "      <td>72200.000000</td>\n",
       "      <td>72350.000000</td>\n",
       "      <td>72400.000000</td>\n",
       "      <td>...</td>\n",
       "      <td>133200.000000</td>\n",
       "      <td>133700.000000</td>\n",
       "      <td>134400.000000</td>\n",
       "      <td>135000.000000</td>\n",
       "      <td>135500.000000</td>\n",
       "      <td>136100.000000</td>\n",
       "      <td>136550.000000</td>\n",
       "      <td>137300.000000</td>\n",
       "      <td>138250.000000</td>\n",
       "      <td>138800.000000</td>\n",
       "    </tr>\n",
       "    <tr>\n",
       "      <th>75%</th>\n",
       "      <td>86498.750000</td>\n",
       "      <td>64132.500000</td>\n",
       "      <td>11867.750000</td>\n",
       "      <td>89825.000000</td>\n",
       "      <td>90000.000000</td>\n",
       "      <td>89900.000000</td>\n",
       "      <td>90000.000000</td>\n",
       "      <td>90100.000000</td>\n",
       "      <td>90100.000000</td>\n",
       "      <td>90300.000000</td>\n",
       "      <td>...</td>\n",
       "      <td>165575.000000</td>\n",
       "      <td>166500.000000</td>\n",
       "      <td>167475.000000</td>\n",
       "      <td>168400.000000</td>\n",
       "      <td>169100.000000</td>\n",
       "      <td>169800.000000</td>\n",
       "      <td>170400.000000</td>\n",
       "      <td>171300.000000</td>\n",
       "      <td>172500.000000</td>\n",
       "      <td>173475.000000</td>\n",
       "    </tr>\n",
       "    <tr>\n",
       "      <th>max</th>\n",
       "      <td>753844.000000</td>\n",
       "      <td>99701.000000</td>\n",
       "      <td>14721.000000</td>\n",
       "      <td>201600.000000</td>\n",
       "      <td>200400.000000</td>\n",
       "      <td>199000.000000</td>\n",
       "      <td>197400.000000</td>\n",
       "      <td>195500.000000</td>\n",
       "      <td>193500.000000</td>\n",
       "      <td>191200.000000</td>\n",
       "      <td>...</td>\n",
       "      <td>238600.000000</td>\n",
       "      <td>233300.000000</td>\n",
       "      <td>229100.000000</td>\n",
       "      <td>226000.000000</td>\n",
       "      <td>225800.000000</td>\n",
       "      <td>224400.000000</td>\n",
       "      <td>223800.000000</td>\n",
       "      <td>223500.000000</td>\n",
       "      <td>218900.000000</td>\n",
       "      <td>218800.000000</td>\n",
       "    </tr>\n",
       "  </tbody>\n",
       "</table>\n",
       "<p>8 rows × 268 columns</p>\n",
       "</div>"
      ],
      "text/plain": [
       "            RegionID    RegionName      SizeRank        1996-04  \\\n",
       "count    8178.000000   8178.000000   8178.000000    7320.000000   \n",
       "mean    78981.767792  45791.745048   8239.854488   73469.986339   \n",
       "std     22996.437906  23235.891428   4153.083721   25690.581193   \n",
       "min     58202.000000   1008.000000      5.000000   11300.000000   \n",
       "25%     69898.250000  28358.500000   4854.250000   54700.000000   \n",
       "50%     77568.500000  45237.500000   8656.500000   71700.000000   \n",
       "75%     86498.750000  64132.500000  11867.750000   89825.000000   \n",
       "max    753844.000000  99701.000000  14721.000000  201600.000000   \n",
       "\n",
       "             1996-05        1996-06        1996-07        1996-08  \\\n",
       "count    7320.000000    7320.000000    7320.000000    7320.000000   \n",
       "mean    73569.385246   73666.010929   73760.081967   73855.751366   \n",
       "std     25637.429378   25581.874923   25525.486905   25472.787850   \n",
       "min     11500.000000   11600.000000   11800.000000   11800.000000   \n",
       "25%     54875.000000   55000.000000   55200.000000   55200.000000   \n",
       "50%     71800.000000   72000.000000   72150.000000   72200.000000   \n",
       "75%     90000.000000   89900.000000   90000.000000   90100.000000   \n",
       "max    200400.000000  199000.000000  197400.000000  195500.000000   \n",
       "\n",
       "             1996-09        1996-10      ...              2017-07  \\\n",
       "count    7320.000000    7320.000000      ...          8178.000000   \n",
       "mean    73958.797814   74081.489071      ...        131479.444852   \n",
       "std     25421.536704   25374.490887      ...         42440.863554   \n",
       "min     12000.000000   12100.000000      ...         14400.000000   \n",
       "25%     55400.000000   55600.000000      ...         97200.000000   \n",
       "50%     72350.000000   72400.000000      ...        133200.000000   \n",
       "75%     90100.000000   90300.000000      ...        165575.000000   \n",
       "max    193500.000000  191200.000000      ...        238600.000000   \n",
       "\n",
       "             2017-08        2017-09        2017-10        2017-11  \\\n",
       "count    8178.000000    8178.000000    8178.000000    8178.000000   \n",
       "mean   132180.655417  132874.651504  133498.777207  134108.168256   \n",
       "std     42661.087015   42899.492213   43123.319626   43337.256777   \n",
       "min     14500.000000   14700.000000   14800.000000   14500.000000   \n",
       "25%     97725.000000   98100.000000   98600.000000   99025.000000   \n",
       "50%    133700.000000  134400.000000  135000.000000  135500.000000   \n",
       "75%    166500.000000  167475.000000  168400.000000  169100.000000   \n",
       "max    233300.000000  229100.000000  226000.000000  225800.000000   \n",
       "\n",
       "             2017-12        2018-01        2018-02        2018-03  \\\n",
       "count    8178.000000    8178.000000    8178.000000    8178.000000   \n",
       "mean   134720.677427  135226.216679  135881.988261  136900.513573   \n",
       "std     43550.983329   43765.580191   43966.364339   44198.343986   \n",
       "min     14300.000000   14100.000000   13900.000000   13800.000000   \n",
       "25%     99500.000000  100000.000000  100525.000000  101600.000000   \n",
       "50%    136100.000000  136550.000000  137300.000000  138250.000000   \n",
       "75%    169800.000000  170400.000000  171300.000000  172500.000000   \n",
       "max    224400.000000  223800.000000  223500.000000  218900.000000   \n",
       "\n",
       "             2018-04  \n",
       "count    8178.000000  \n",
       "mean   137714.245537  \n",
       "std     44403.102268  \n",
       "min     13800.000000  \n",
       "25%    102400.000000  \n",
       "50%    138800.000000  \n",
       "75%    173475.000000  \n",
       "max    218800.000000  \n",
       "\n",
       "[8 rows x 268 columns]"
      ]
     },
     "execution_count": 242,
     "metadata": {},
     "output_type": "execute_result"
    }
   ],
   "source": [
    "lowerdata = data.loc[data[\"2018-04\"]<upperbound]#selecting all data with values in 2018-04 less than the 55th percentile\n",
    "lowerdata.describe()"
   ]
  },
  {
   "cell_type": "code",
   "execution_count": 243,
   "metadata": {},
   "outputs": [
    {
     "data": {
      "text/html": [
       "<div>\n",
       "<style scoped>\n",
       "    .dataframe tbody tr th:only-of-type {\n",
       "        vertical-align: middle;\n",
       "    }\n",
       "\n",
       "    .dataframe tbody tr th {\n",
       "        vertical-align: top;\n",
       "    }\n",
       "\n",
       "    .dataframe thead th {\n",
       "        text-align: right;\n",
       "    }\n",
       "</style>\n",
       "<table border=\"1\" class=\"dataframe\">\n",
       "  <thead>\n",
       "    <tr style=\"text-align: right;\">\n",
       "      <th></th>\n",
       "      <th>RegionID</th>\n",
       "      <th>RegionName</th>\n",
       "      <th>SizeRank</th>\n",
       "      <th>1996-04</th>\n",
       "      <th>1996-05</th>\n",
       "      <th>1996-06</th>\n",
       "      <th>1996-07</th>\n",
       "      <th>1996-08</th>\n",
       "      <th>1996-09</th>\n",
       "      <th>1996-10</th>\n",
       "      <th>...</th>\n",
       "      <th>2017-07</th>\n",
       "      <th>2017-08</th>\n",
       "      <th>2017-09</th>\n",
       "      <th>2017-10</th>\n",
       "      <th>2017-11</th>\n",
       "      <th>2017-12</th>\n",
       "      <th>2018-01</th>\n",
       "      <th>2018-02</th>\n",
       "      <th>2018-03</th>\n",
       "      <th>2018-04</th>\n",
       "    </tr>\n",
       "  </thead>\n",
       "  <tbody>\n",
       "    <tr>\n",
       "      <th>count</th>\n",
       "      <td>1631.000000</td>\n",
       "      <td>1631.000000</td>\n",
       "      <td>1631.000000</td>\n",
       "      <td>1548.000000</td>\n",
       "      <td>1548.000000</td>\n",
       "      <td>1548.000000</td>\n",
       "      <td>1548.000000</td>\n",
       "      <td>1548.000000</td>\n",
       "      <td>1548.000000</td>\n",
       "      <td>1548.000000</td>\n",
       "      <td>...</td>\n",
       "      <td>1631.000000</td>\n",
       "      <td>1631.000000</td>\n",
       "      <td>1631.000000</td>\n",
       "      <td>1631.000000</td>\n",
       "      <td>1631.000000</td>\n",
       "      <td>1631.000000</td>\n",
       "      <td>1631.000000</td>\n",
       "      <td>1631.000000</td>\n",
       "      <td>1631.000000</td>\n",
       "      <td>1631.000000</td>\n",
       "    </tr>\n",
       "    <tr>\n",
       "      <th>mean</th>\n",
       "      <td>80540.491110</td>\n",
       "      <td>46283.134273</td>\n",
       "      <td>7249.104844</td>\n",
       "      <td>97312.080103</td>\n",
       "      <td>97414.599483</td>\n",
       "      <td>97511.175711</td>\n",
       "      <td>97601.162791</td>\n",
       "      <td>97696.124031</td>\n",
       "      <td>97802.906977</td>\n",
       "      <td>97940.439276</td>\n",
       "      <td>...</td>\n",
       "      <td>188693.746168</td>\n",
       "      <td>189830.472103</td>\n",
       "      <td>190938.320049</td>\n",
       "      <td>191956.407112</td>\n",
       "      <td>192976.026977</td>\n",
       "      <td>193978.050276</td>\n",
       "      <td>194821.827100</td>\n",
       "      <td>195895.524218</td>\n",
       "      <td>197476.885346</td>\n",
       "      <td>198699.386879</td>\n",
       "    </tr>\n",
       "    <tr>\n",
       "      <th>std</th>\n",
       "      <td>33818.063197</td>\n",
       "      <td>26695.191169</td>\n",
       "      <td>4289.056726</td>\n",
       "      <td>22197.904653</td>\n",
       "      <td>22149.499828</td>\n",
       "      <td>22099.513089</td>\n",
       "      <td>22057.977286</td>\n",
       "      <td>22015.108474</td>\n",
       "      <td>21973.803186</td>\n",
       "      <td>21929.185679</td>\n",
       "      <td>...</td>\n",
       "      <td>12588.838084</td>\n",
       "      <td>12341.813201</td>\n",
       "      <td>12204.382070</td>\n",
       "      <td>12039.505792</td>\n",
       "      <td>11783.052524</td>\n",
       "      <td>11542.859961</td>\n",
       "      <td>11425.024814</td>\n",
       "      <td>11233.976655</td>\n",
       "      <td>11008.804579</td>\n",
       "      <td>11038.579291</td>\n",
       "    </tr>\n",
       "    <tr>\n",
       "      <th>min</th>\n",
       "      <td>58202.000000</td>\n",
       "      <td>1008.000000</td>\n",
       "      <td>15.000000</td>\n",
       "      <td>32400.000000</td>\n",
       "      <td>33100.000000</td>\n",
       "      <td>33800.000000</td>\n",
       "      <td>34400.000000</td>\n",
       "      <td>34800.000000</td>\n",
       "      <td>34800.000000</td>\n",
       "      <td>34700.000000</td>\n",
       "      <td>...</td>\n",
       "      <td>139300.000000</td>\n",
       "      <td>145300.000000</td>\n",
       "      <td>152000.000000</td>\n",
       "      <td>154400.000000</td>\n",
       "      <td>157300.000000</td>\n",
       "      <td>160000.000000</td>\n",
       "      <td>164900.000000</td>\n",
       "      <td>170200.000000</td>\n",
       "      <td>176800.000000</td>\n",
       "      <td>180800.000000</td>\n",
       "    </tr>\n",
       "    <tr>\n",
       "      <th>25%</th>\n",
       "      <td>67765.500000</td>\n",
       "      <td>23560.000000</td>\n",
       "      <td>3403.000000</td>\n",
       "      <td>82775.000000</td>\n",
       "      <td>82775.000000</td>\n",
       "      <td>82975.000000</td>\n",
       "      <td>82975.000000</td>\n",
       "      <td>83000.000000</td>\n",
       "      <td>83200.000000</td>\n",
       "      <td>83475.000000</td>\n",
       "      <td>...</td>\n",
       "      <td>179200.000000</td>\n",
       "      <td>180300.000000</td>\n",
       "      <td>181300.000000</td>\n",
       "      <td>182300.000000</td>\n",
       "      <td>183700.000000</td>\n",
       "      <td>184600.000000</td>\n",
       "      <td>185500.000000</td>\n",
       "      <td>186600.000000</td>\n",
       "      <td>187900.000000</td>\n",
       "      <td>188900.000000</td>\n",
       "    </tr>\n",
       "    <tr>\n",
       "      <th>50%</th>\n",
       "      <td>77965.000000</td>\n",
       "      <td>46038.000000</td>\n",
       "      <td>7352.000000</td>\n",
       "      <td>95050.000000</td>\n",
       "      <td>95000.000000</td>\n",
       "      <td>95200.000000</td>\n",
       "      <td>95350.000000</td>\n",
       "      <td>95400.000000</td>\n",
       "      <td>95600.000000</td>\n",
       "      <td>95800.000000</td>\n",
       "      <td>...</td>\n",
       "      <td>188500.000000</td>\n",
       "      <td>189600.000000</td>\n",
       "      <td>190500.000000</td>\n",
       "      <td>191500.000000</td>\n",
       "      <td>192500.000000</td>\n",
       "      <td>193400.000000</td>\n",
       "      <td>194100.000000</td>\n",
       "      <td>195000.000000</td>\n",
       "      <td>196800.000000</td>\n",
       "      <td>198200.000000</td>\n",
       "    </tr>\n",
       "    <tr>\n",
       "      <th>75%</th>\n",
       "      <td>87486.000000</td>\n",
       "      <td>66207.500000</td>\n",
       "      <td>10898.000000</td>\n",
       "      <td>113300.000000</td>\n",
       "      <td>113625.000000</td>\n",
       "      <td>113725.000000</td>\n",
       "      <td>113600.000000</td>\n",
       "      <td>113700.000000</td>\n",
       "      <td>113700.000000</td>\n",
       "      <td>113725.000000</td>\n",
       "      <td>...</td>\n",
       "      <td>197550.000000</td>\n",
       "      <td>198600.000000</td>\n",
       "      <td>199700.000000</td>\n",
       "      <td>200600.000000</td>\n",
       "      <td>201800.000000</td>\n",
       "      <td>203200.000000</td>\n",
       "      <td>204300.000000</td>\n",
       "      <td>205350.000000</td>\n",
       "      <td>206900.000000</td>\n",
       "      <td>208300.000000</td>\n",
       "    </tr>\n",
       "    <tr>\n",
       "      <th>max</th>\n",
       "      <td>753844.000000</td>\n",
       "      <td>99701.000000</td>\n",
       "      <td>14719.000000</td>\n",
       "      <td>183500.000000</td>\n",
       "      <td>183000.000000</td>\n",
       "      <td>182500.000000</td>\n",
       "      <td>181900.000000</td>\n",
       "      <td>181300.000000</td>\n",
       "      <td>180600.000000</td>\n",
       "      <td>180000.000000</td>\n",
       "      <td>...</td>\n",
       "      <td>238600.000000</td>\n",
       "      <td>233300.000000</td>\n",
       "      <td>229100.000000</td>\n",
       "      <td>226000.000000</td>\n",
       "      <td>225800.000000</td>\n",
       "      <td>224400.000000</td>\n",
       "      <td>223800.000000</td>\n",
       "      <td>223500.000000</td>\n",
       "      <td>218900.000000</td>\n",
       "      <td>218800.000000</td>\n",
       "    </tr>\n",
       "  </tbody>\n",
       "</table>\n",
       "<p>8 rows × 268 columns</p>\n",
       "</div>"
      ],
      "text/plain": [
       "            RegionID    RegionName      SizeRank        1996-04  \\\n",
       "count    1631.000000   1631.000000   1631.000000    1548.000000   \n",
       "mean    80540.491110  46283.134273   7249.104844   97312.080103   \n",
       "std     33818.063197  26695.191169   4289.056726   22197.904653   \n",
       "min     58202.000000   1008.000000     15.000000   32400.000000   \n",
       "25%     67765.500000  23560.000000   3403.000000   82775.000000   \n",
       "50%     77965.000000  46038.000000   7352.000000   95050.000000   \n",
       "75%     87486.000000  66207.500000  10898.000000  113300.000000   \n",
       "max    753844.000000  99701.000000  14719.000000  183500.000000   \n",
       "\n",
       "             1996-05        1996-06        1996-07        1996-08  \\\n",
       "count    1548.000000    1548.000000    1548.000000    1548.000000   \n",
       "mean    97414.599483   97511.175711   97601.162791   97696.124031   \n",
       "std     22149.499828   22099.513089   22057.977286   22015.108474   \n",
       "min     33100.000000   33800.000000   34400.000000   34800.000000   \n",
       "25%     82775.000000   82975.000000   82975.000000   83000.000000   \n",
       "50%     95000.000000   95200.000000   95350.000000   95400.000000   \n",
       "75%    113625.000000  113725.000000  113600.000000  113700.000000   \n",
       "max    183000.000000  182500.000000  181900.000000  181300.000000   \n",
       "\n",
       "             1996-09        1996-10      ...              2017-07  \\\n",
       "count    1548.000000    1548.000000      ...          1631.000000   \n",
       "mean    97802.906977   97940.439276      ...        188693.746168   \n",
       "std     21973.803186   21929.185679      ...         12588.838084   \n",
       "min     34800.000000   34700.000000      ...        139300.000000   \n",
       "25%     83200.000000   83475.000000      ...        179200.000000   \n",
       "50%     95600.000000   95800.000000      ...        188500.000000   \n",
       "75%    113700.000000  113725.000000      ...        197550.000000   \n",
       "max    180600.000000  180000.000000      ...        238600.000000   \n",
       "\n",
       "             2017-08        2017-09        2017-10        2017-11  \\\n",
       "count    1631.000000    1631.000000    1631.000000    1631.000000   \n",
       "mean   189830.472103  190938.320049  191956.407112  192976.026977   \n",
       "std     12341.813201   12204.382070   12039.505792   11783.052524   \n",
       "min    145300.000000  152000.000000  154400.000000  157300.000000   \n",
       "25%    180300.000000  181300.000000  182300.000000  183700.000000   \n",
       "50%    189600.000000  190500.000000  191500.000000  192500.000000   \n",
       "75%    198600.000000  199700.000000  200600.000000  201800.000000   \n",
       "max    233300.000000  229100.000000  226000.000000  225800.000000   \n",
       "\n",
       "             2017-12        2018-01        2018-02        2018-03  \\\n",
       "count    1631.000000    1631.000000    1631.000000    1631.000000   \n",
       "mean   193978.050276  194821.827100  195895.524218  197476.885346   \n",
       "std     11542.859961   11425.024814   11233.976655   11008.804579   \n",
       "min    160000.000000  164900.000000  170200.000000  176800.000000   \n",
       "25%    184600.000000  185500.000000  186600.000000  187900.000000   \n",
       "50%    193400.000000  194100.000000  195000.000000  196800.000000   \n",
       "75%    203200.000000  204300.000000  205350.000000  206900.000000   \n",
       "max    224400.000000  223800.000000  223500.000000  218900.000000   \n",
       "\n",
       "             2018-04  \n",
       "count    1631.000000  \n",
       "mean   198699.386879  \n",
       "std     11038.579291  \n",
       "min    180800.000000  \n",
       "25%    188900.000000  \n",
       "50%    198200.000000  \n",
       "75%    208300.000000  \n",
       "max    218800.000000  \n",
       "\n",
       "[8 rows x 268 columns]"
      ]
     },
     "execution_count": 243,
     "metadata": {},
     "output_type": "execute_result"
    }
   ],
   "source": [
    "ninthData = lowerdata.loc[lowerdata[\"2018-04\"]>lowerbound]#further filtering by data with value in 2018-04 more than the 44th percentile\n",
    "ninthData.describe()"
   ]
  },
  {
   "cell_type": "code",
   "execution_count": 252,
   "metadata": {},
   "outputs": [
    {
     "data": {
      "text/html": [
       "<div>\n",
       "<style scoped>\n",
       "    .dataframe tbody tr th:only-of-type {\n",
       "        vertical-align: middle;\n",
       "    }\n",
       "\n",
       "    .dataframe tbody tr th {\n",
       "        vertical-align: top;\n",
       "    }\n",
       "\n",
       "    .dataframe thead th {\n",
       "        text-align: right;\n",
       "    }\n",
       "</style>\n",
       "<table border=\"1\" class=\"dataframe\">\n",
       "  <thead>\n",
       "    <tr style=\"text-align: right;\">\n",
       "      <th></th>\n",
       "      <th>74101</th>\n",
       "      <th>69816</th>\n",
       "      <th>93123</th>\n",
       "      <th>90654</th>\n",
       "      <th>86026</th>\n",
       "      <th>70829</th>\n",
       "      <th>91685</th>\n",
       "      <th>66843</th>\n",
       "      <th>92598</th>\n",
       "      <th>79054</th>\n",
       "      <th>...</th>\n",
       "      <th>68778</th>\n",
       "      <th>62430</th>\n",
       "      <th>70215</th>\n",
       "      <th>62433</th>\n",
       "      <th>66516</th>\n",
       "      <th>66509</th>\n",
       "      <th>58327</th>\n",
       "      <th>96805</th>\n",
       "      <th>96822</th>\n",
       "      <th>58333</th>\n",
       "    </tr>\n",
       "  </thead>\n",
       "  <tbody>\n",
       "    <tr>\n",
       "      <th>1996-04-01</th>\n",
       "      <td>112400.0</td>\n",
       "      <td>126100.0</td>\n",
       "      <td>119700.0</td>\n",
       "      <td>100800.0</td>\n",
       "      <td>98200.0</td>\n",
       "      <td>111400.0</td>\n",
       "      <td>120400.0</td>\n",
       "      <td>99000.0</td>\n",
       "      <td>103100.0</td>\n",
       "      <td>129200.0</td>\n",
       "      <td>...</td>\n",
       "      <td>91500.0</td>\n",
       "      <td>95700.0</td>\n",
       "      <td>71800.0</td>\n",
       "      <td>94400.0</td>\n",
       "      <td>115100.0</td>\n",
       "      <td>95100.0</td>\n",
       "      <td>108600.0</td>\n",
       "      <td>78700.0</td>\n",
       "      <td>84200.0</td>\n",
       "      <td>94600.0</td>\n",
       "    </tr>\n",
       "    <tr>\n",
       "      <th>1996-05-01</th>\n",
       "      <td>112700.0</td>\n",
       "      <td>126600.0</td>\n",
       "      <td>119700.0</td>\n",
       "      <td>100900.0</td>\n",
       "      <td>98700.0</td>\n",
       "      <td>111800.0</td>\n",
       "      <td>118700.0</td>\n",
       "      <td>99000.0</td>\n",
       "      <td>103000.0</td>\n",
       "      <td>129800.0</td>\n",
       "      <td>...</td>\n",
       "      <td>91800.0</td>\n",
       "      <td>95000.0</td>\n",
       "      <td>71900.0</td>\n",
       "      <td>94600.0</td>\n",
       "      <td>114200.0</td>\n",
       "      <td>96000.0</td>\n",
       "      <td>107400.0</td>\n",
       "      <td>78500.0</td>\n",
       "      <td>84200.0</td>\n",
       "      <td>94300.0</td>\n",
       "    </tr>\n",
       "    <tr>\n",
       "      <th>1996-06-01</th>\n",
       "      <td>113000.0</td>\n",
       "      <td>127100.0</td>\n",
       "      <td>119800.0</td>\n",
       "      <td>101000.0</td>\n",
       "      <td>99300.0</td>\n",
       "      <td>112200.0</td>\n",
       "      <td>117300.0</td>\n",
       "      <td>99100.0</td>\n",
       "      <td>103000.0</td>\n",
       "      <td>130400.0</td>\n",
       "      <td>...</td>\n",
       "      <td>92200.0</td>\n",
       "      <td>94300.0</td>\n",
       "      <td>72000.0</td>\n",
       "      <td>94800.0</td>\n",
       "      <td>113300.0</td>\n",
       "      <td>96900.0</td>\n",
       "      <td>106200.0</td>\n",
       "      <td>78300.0</td>\n",
       "      <td>84300.0</td>\n",
       "      <td>94000.0</td>\n",
       "    </tr>\n",
       "    <tr>\n",
       "      <th>1996-07-01</th>\n",
       "      <td>113400.0</td>\n",
       "      <td>127600.0</td>\n",
       "      <td>119900.0</td>\n",
       "      <td>101000.0</td>\n",
       "      <td>100000.0</td>\n",
       "      <td>112500.0</td>\n",
       "      <td>116100.0</td>\n",
       "      <td>99100.0</td>\n",
       "      <td>103000.0</td>\n",
       "      <td>131100.0</td>\n",
       "      <td>...</td>\n",
       "      <td>92500.0</td>\n",
       "      <td>93600.0</td>\n",
       "      <td>72200.0</td>\n",
       "      <td>94900.0</td>\n",
       "      <td>112100.0</td>\n",
       "      <td>97700.0</td>\n",
       "      <td>105000.0</td>\n",
       "      <td>78000.0</td>\n",
       "      <td>84300.0</td>\n",
       "      <td>93700.0</td>\n",
       "    </tr>\n",
       "    <tr>\n",
       "      <th>1996-08-01</th>\n",
       "      <td>113900.0</td>\n",
       "      <td>128000.0</td>\n",
       "      <td>120000.0</td>\n",
       "      <td>101200.0</td>\n",
       "      <td>100700.0</td>\n",
       "      <td>112900.0</td>\n",
       "      <td>115300.0</td>\n",
       "      <td>99000.0</td>\n",
       "      <td>103000.0</td>\n",
       "      <td>131700.0</td>\n",
       "      <td>...</td>\n",
       "      <td>92800.0</td>\n",
       "      <td>93100.0</td>\n",
       "      <td>72400.0</td>\n",
       "      <td>95000.0</td>\n",
       "      <td>110900.0</td>\n",
       "      <td>98600.0</td>\n",
       "      <td>103700.0</td>\n",
       "      <td>77700.0</td>\n",
       "      <td>84300.0</td>\n",
       "      <td>93400.0</td>\n",
       "    </tr>\n",
       "  </tbody>\n",
       "</table>\n",
       "<p>5 rows × 1631 columns</p>\n",
       "</div>"
      ],
      "text/plain": [
       "               74101     69816     93123     90654     86026     70829  \\\n",
       "1996-04-01  112400.0  126100.0  119700.0  100800.0   98200.0  111400.0   \n",
       "1996-05-01  112700.0  126600.0  119700.0  100900.0   98700.0  111800.0   \n",
       "1996-06-01  113000.0  127100.0  119800.0  101000.0   99300.0  112200.0   \n",
       "1996-07-01  113400.0  127600.0  119900.0  101000.0  100000.0  112500.0   \n",
       "1996-08-01  113900.0  128000.0  120000.0  101200.0  100700.0  112900.0   \n",
       "\n",
       "               91685    66843     92598     79054   ...       68778    62430  \\\n",
       "1996-04-01  120400.0  99000.0  103100.0  129200.0   ...     91500.0  95700.0   \n",
       "1996-05-01  118700.0  99000.0  103000.0  129800.0   ...     91800.0  95000.0   \n",
       "1996-06-01  117300.0  99100.0  103000.0  130400.0   ...     92200.0  94300.0   \n",
       "1996-07-01  116100.0  99100.0  103000.0  131100.0   ...     92500.0  93600.0   \n",
       "1996-08-01  115300.0  99000.0  103000.0  131700.0   ...     92800.0  93100.0   \n",
       "\n",
       "              70215    62433     66516    66509     58327    96805    96822  \\\n",
       "1996-04-01  71800.0  94400.0  115100.0  95100.0  108600.0  78700.0  84200.0   \n",
       "1996-05-01  71900.0  94600.0  114200.0  96000.0  107400.0  78500.0  84200.0   \n",
       "1996-06-01  72000.0  94800.0  113300.0  96900.0  106200.0  78300.0  84300.0   \n",
       "1996-07-01  72200.0  94900.0  112100.0  97700.0  105000.0  78000.0  84300.0   \n",
       "1996-08-01  72400.0  95000.0  110900.0  98600.0  103700.0  77700.0  84300.0   \n",
       "\n",
       "              58333  \n",
       "1996-04-01  94600.0  \n",
       "1996-05-01  94300.0  \n",
       "1996-06-01  94000.0  \n",
       "1996-07-01  93700.0  \n",
       "1996-08-01  93400.0  \n",
       "\n",
       "[5 rows x 1631 columns]"
      ]
     },
     "execution_count": 252,
     "metadata": {},
     "output_type": "execute_result"
    }
   ],
   "source": [
    "#transposing to a new dataframe where each RegionID becomes a column title and the index is the months\n",
    "ninthdf = transposeDF(ninthData)\n",
    "ninthdf.head()"
   ]
  },
  {
   "cell_type": "code",
   "execution_count": null,
   "metadata": {},
   "outputs": [],
   "source": [
    "#drop any null values by removing columns (RegionID's) that contain them\n",
    "ninthdf.dropna(axis=1, inplace=True)\n",
    "ninthdf.info()"
   ]
  },
  {
   "cell_type": "code",
   "execution_count": 258,
   "metadata": {
    "scrolled": true
   },
   "outputs": [
    {
     "name": "stdout",
     "output_type": "stream",
     "text": [
      "74101\n",
      "1850394.9926752304\n",
      "69816\n",
      "8551654.985079642\n",
      "93123\n",
      "626281.0836959844\n",
      "90654\n",
      "889659.6690406417\n",
      "86026\n",
      "2525542.433031317\n",
      "70829\n"
     ]
    },
    {
     "name": "stderr",
     "output_type": "stream",
     "text": [
      "C:\\Users\\Bronwen\\Anaconda3\\envs\\learn-env\\lib\\site-packages\\statsmodels\\base\\model.py:508: ConvergenceWarning: Maximum Likelihood optimization failed to converge. Check mle_retvals\n",
      "  \"Check mle_retvals\", ConvergenceWarning)\n"
     ]
    },
    {
     "name": "stdout",
     "output_type": "stream",
     "text": [
      "77964899.62550604\n",
      "91685\n"
     ]
    },
    {
     "name": "stderr",
     "output_type": "stream",
     "text": [
      "C:\\Users\\Bronwen\\Anaconda3\\envs\\learn-env\\lib\\site-packages\\statsmodels\\base\\model.py:508: ConvergenceWarning: Maximum Likelihood optimization failed to converge. Check mle_retvals\n",
      "  \"Check mle_retvals\", ConvergenceWarning)\n"
     ]
    },
    {
     "name": "stdout",
     "output_type": "stream",
     "text": [
      "4087185.2789033176\n",
      "66843\n"
     ]
    },
    {
     "name": "stderr",
     "output_type": "stream",
     "text": [
      "C:\\Users\\Bronwen\\Anaconda3\\envs\\learn-env\\lib\\site-packages\\statsmodels\\base\\model.py:508: ConvergenceWarning: Maximum Likelihood optimization failed to converge. Check mle_retvals\n",
      "  \"Check mle_retvals\", ConvergenceWarning)\n"
     ]
    },
    {
     "name": "stdout",
     "output_type": "stream",
     "text": [
      "12356996.493174175\n",
      "92598\n",
      "249077.7195544184\n",
      "79054\n"
     ]
    },
    {
     "name": "stderr",
     "output_type": "stream",
     "text": [
      "C:\\Users\\Bronwen\\Anaconda3\\envs\\learn-env\\lib\\site-packages\\statsmodels\\base\\model.py:508: ConvergenceWarning: Maximum Likelihood optimization failed to converge. Check mle_retvals\n",
      "  \"Check mle_retvals\", ConvergenceWarning)\n"
     ]
    },
    {
     "name": "stdout",
     "output_type": "stream",
     "text": [
      "763337.7405251104\n",
      "67730\n",
      "54838086.40209012\n",
      "69672\n"
     ]
    },
    {
     "name": "stderr",
     "output_type": "stream",
     "text": [
      "C:\\Users\\Bronwen\\Anaconda3\\envs\\learn-env\\lib\\site-packages\\statsmodels\\base\\model.py:508: ConvergenceWarning: Maximum Likelihood optimization failed to converge. Check mle_retvals\n",
      "  \"Check mle_retvals\", ConvergenceWarning)\n"
     ]
    },
    {
     "name": "stdout",
     "output_type": "stream",
     "text": [
      "1011654.0222004488\n",
      "60081\n"
     ]
    },
    {
     "name": "stderr",
     "output_type": "stream",
     "text": [
      "C:\\Users\\Bronwen\\Anaconda3\\envs\\learn-env\\lib\\site-packages\\statsmodels\\base\\model.py:508: ConvergenceWarning: Maximum Likelihood optimization failed to converge. Check mle_retvals\n",
      "  \"Check mle_retvals\", ConvergenceWarning)\n"
     ]
    },
    {
     "name": "stdout",
     "output_type": "stream",
     "text": [
      "21362360.17730807\n",
      "92336\n",
      "122468.7353531906\n",
      "95309\n"
     ]
    },
    {
     "name": "stderr",
     "output_type": "stream",
     "text": [
      "C:\\Users\\Bronwen\\Anaconda3\\envs\\learn-env\\lib\\site-packages\\statsmodels\\base\\model.py:508: ConvergenceWarning: Maximum Likelihood optimization failed to converge. Check mle_retvals\n",
      "  \"Check mle_retvals\", ConvergenceWarning)\n"
     ]
    },
    {
     "name": "stdout",
     "output_type": "stream",
     "text": [
      "2190439.80500246\n",
      "95804\n",
      "363391.92211113113\n",
      "91198\n",
      "2953183.952986325\n",
      "77094\n",
      "2964376.717482987\n",
      "77400\n",
      "43078526.91071888\n",
      "78823\n",
      "10136472.058784038\n",
      "78085\n",
      "38701426.80396813\n",
      "95817\n",
      "2325174.6299538687\n",
      "70698\n",
      "5766233.1576405065\n",
      "100179\n",
      "266959.24795209925\n",
      "95314\n"
     ]
    },
    {
     "name": "stderr",
     "output_type": "stream",
     "text": [
      "C:\\Users\\Bronwen\\Anaconda3\\envs\\learn-env\\lib\\site-packages\\statsmodels\\base\\model.py:508: ConvergenceWarning: Maximum Likelihood optimization failed to converge. Check mle_retvals\n",
      "  \"Check mle_retvals\", ConvergenceWarning)\n"
     ]
    },
    {
     "name": "stdout",
     "output_type": "stream",
     "text": [
      "984953.9149024712\n",
      "76597\n",
      "8907809.156212376\n",
      "72247\n",
      "16941688.594237156\n",
      "70835\n",
      "2031901.7283107073\n",
      "74187\n",
      "1601760.897252417\n",
      "70294\n",
      "6719143.746465939\n",
      "73233\n",
      "1580201.1648387494\n",
      "82474\n"
     ]
    },
    {
     "name": "stderr",
     "output_type": "stream",
     "text": [
      "C:\\Users\\Bronwen\\Anaconda3\\envs\\learn-env\\lib\\site-packages\\statsmodels\\base\\model.py:508: ConvergenceWarning: Maximum Likelihood optimization failed to converge. Check mle_retvals\n",
      "  \"Check mle_retvals\", ConvergenceWarning)\n"
     ]
    },
    {
     "name": "stdout",
     "output_type": "stream",
     "text": [
      "169612.29290557402\n",
      "70904\n",
      "3074726.6711741\n",
      "92120\n",
      "14486510.400584444\n",
      "79398\n",
      "151680475.80011797\n",
      "91261\n",
      "611562.2417204925\n",
      "84504\n"
     ]
    },
    {
     "name": "stderr",
     "output_type": "stream",
     "text": [
      "C:\\Users\\Bronwen\\Anaconda3\\envs\\learn-env\\lib\\site-packages\\statsmodels\\base\\model.py:508: ConvergenceWarning: Maximum Likelihood optimization failed to converge. Check mle_retvals\n",
      "  \"Check mle_retvals\", ConvergenceWarning)\n"
     ]
    },
    {
     "name": "stdout",
     "output_type": "stream",
     "text": [
      "71452.41987613386\n",
      "92345\n",
      "6552408.752302185\n",
      "97222\n",
      "28478861.03420633\n",
      "63615\n",
      "18606101.45633208\n",
      "97189\n",
      "8278911.907408769\n",
      "97225\n"
     ]
    },
    {
     "name": "stderr",
     "output_type": "stream",
     "text": [
      "C:\\Users\\Bronwen\\Anaconda3\\envs\\learn-env\\lib\\site-packages\\statsmodels\\base\\model.py:508: ConvergenceWarning: Maximum Likelihood optimization failed to converge. Check mle_retvals\n",
      "  \"Check mle_retvals\", ConvergenceWarning)\n"
     ]
    },
    {
     "name": "stdout",
     "output_type": "stream",
     "text": [
      "1023346.5383034212\n",
      "69487\n",
      "12114241.523886856\n",
      "97167\n",
      "171860724.32894444\n",
      "90645\n",
      "113707.28013929872\n",
      "97202\n",
      "16461264.203811968\n",
      "74214\n",
      "5219674.703366837\n",
      "71897\n",
      "241608498.75766325\n",
      "70513\n",
      "11652463.208621595\n",
      "72653\n",
      "11388368.749210935\n",
      "94799\n",
      "3462994.7819426386\n",
      "92347\n",
      "138190.4204313296\n",
      "95806\n"
     ]
    },
    {
     "name": "stderr",
     "output_type": "stream",
     "text": [
      "C:\\Users\\Bronwen\\Anaconda3\\envs\\learn-env\\lib\\site-packages\\statsmodels\\base\\model.py:508: ConvergenceWarning: Maximum Likelihood optimization failed to converge. Check mle_retvals\n",
      "  \"Check mle_retvals\", ConvergenceWarning)\n"
     ]
    },
    {
     "name": "stdout",
     "output_type": "stream",
     "text": [
      "1453094.694888393\n",
      "90316\n",
      "2203654.578420422\n",
      "94921\n",
      "9004502.27467755\n",
      "74379\n"
     ]
    },
    {
     "name": "stderr",
     "output_type": "stream",
     "text": [
      "C:\\Users\\Bronwen\\Anaconda3\\envs\\learn-env\\lib\\site-packages\\statsmodels\\base\\model.py:508: ConvergenceWarning: Maximum Likelihood optimization failed to converge. Check mle_retvals\n",
      "  \"Check mle_retvals\", ConvergenceWarning)\n"
     ]
    },
    {
     "name": "stdout",
     "output_type": "stream",
     "text": [
      "51788.208306790664\n",
      "69789\n",
      "1007565.8338532618\n",
      "91860\n",
      "15573885.210805073\n",
      "70832\n"
     ]
    },
    {
     "name": "stderr",
     "output_type": "stream",
     "text": [
      "C:\\Users\\Bronwen\\Anaconda3\\envs\\learn-env\\lib\\site-packages\\statsmodels\\base\\model.py:508: ConvergenceWarning: Maximum Likelihood optimization failed to converge. Check mle_retvals\n",
      "  \"Check mle_retvals\", ConvergenceWarning)\n"
     ]
    },
    {
     "name": "stdout",
     "output_type": "stream",
     "text": [
      "38368055.263476774\n",
      "92350\n"
     ]
    },
    {
     "name": "stderr",
     "output_type": "stream",
     "text": [
      "C:\\Users\\Bronwen\\Anaconda3\\envs\\learn-env\\lib\\site-packages\\statsmodels\\base\\model.py:508: ConvergenceWarning: Maximum Likelihood optimization failed to converge. Check mle_retvals\n",
      "  \"Check mle_retvals\", ConvergenceWarning)\n"
     ]
    },
    {
     "name": "stdout",
     "output_type": "stream",
     "text": [
      "683931.6581366425\n",
      "92597\n",
      "2971527.3790330896\n",
      "65815\n",
      "11630307.752792176\n",
      "83942\n",
      "37591482.85909399\n",
      "91719\n",
      "1751327.4172809175\n",
      "75422\n",
      "9443946.061172672\n",
      "70568\n"
     ]
    },
    {
     "name": "stderr",
     "output_type": "stream",
     "text": [
      "C:\\Users\\Bronwen\\Anaconda3\\envs\\learn-env\\lib\\site-packages\\statsmodels\\base\\model.py:508: ConvergenceWarning: Maximum Likelihood optimization failed to converge. Check mle_retvals\n",
      "  \"Check mle_retvals\", ConvergenceWarning)\n"
     ]
    },
    {
     "name": "stdout",
     "output_type": "stream",
     "text": [
      "8304370.071006281\n",
      "60363\n",
      "12903374.018158214\n",
      "91291\n",
      "247090.84426239916\n",
      "91885\n",
      "138328.9248975943\n",
      "91280\n",
      "292719.56538918155\n",
      "72203\n",
      "62613330.83711003\n",
      "94796\n",
      "15265224.545768458\n",
      "70511\n",
      "3536615.866630385\n",
      "66028\n"
     ]
    },
    {
     "name": "stderr",
     "output_type": "stream",
     "text": [
      "C:\\Users\\Bronwen\\Anaconda3\\envs\\learn-env\\lib\\site-packages\\statsmodels\\base\\model.py:508: ConvergenceWarning: Maximum Likelihood optimization failed to converge. Check mle_retvals\n",
      "  \"Check mle_retvals\", ConvergenceWarning)\n"
     ]
    },
    {
     "name": "stdout",
     "output_type": "stream",
     "text": [
      "23980490.06526687\n",
      "70917\n",
      "11291655.996520113\n",
      "92961\n",
      "15158132.84526008\n",
      "97224\n",
      "2985494.7279942525\n",
      "89850\n",
      "85212327.97722189\n",
      "74939\n",
      "1742219.2199393553\n",
      "84460\n"
     ]
    },
    {
     "name": "stderr",
     "output_type": "stream",
     "text": [
      "C:\\Users\\Bronwen\\Anaconda3\\envs\\learn-env\\lib\\site-packages\\statsmodels\\base\\model.py:508: ConvergenceWarning: Maximum Likelihood optimization failed to converge. Check mle_retvals\n",
      "  \"Check mle_retvals\", ConvergenceWarning)\n"
     ]
    },
    {
     "name": "stdout",
     "output_type": "stream",
     "text": [
      "255450.43435661186\n",
      "90701\n",
      "5346765.9322557775\n",
      "84638\n"
     ]
    },
    {
     "name": "stderr",
     "output_type": "stream",
     "text": [
      "C:\\Users\\Bronwen\\Anaconda3\\envs\\learn-env\\lib\\site-packages\\statsmodels\\base\\model.py:508: ConvergenceWarning: Maximum Likelihood optimization failed to converge. Check mle_retvals\n",
      "  \"Check mle_retvals\", ConvergenceWarning)\n"
     ]
    },
    {
     "name": "stdout",
     "output_type": "stream",
     "text": [
      "35317932.92876818\n",
      "100194\n",
      "89820.79899891843\n",
      "74590\n",
      "17739590.77639507\n",
      "86020\n",
      "965701.9951151336\n",
      "65812\n",
      "8426415.657929365\n",
      "92224\n",
      "4317145.894327247\n",
      "82547\n",
      "3554485.5451475703\n",
      "67600\n",
      "5967487.634724784\n",
      "73232\n",
      "304376.0153396046\n",
      "69388\n",
      "559205.9838495337\n",
      "71768\n",
      "5418380.782356812\n",
      "74127\n",
      "2375369.8192820824\n",
      "69456\n",
      "5940030.841923676\n",
      "62658\n"
     ]
    },
    {
     "name": "stderr",
     "output_type": "stream",
     "text": [
      "C:\\Users\\Bronwen\\Anaconda3\\envs\\learn-env\\lib\\site-packages\\statsmodels\\base\\model.py:508: ConvergenceWarning: Maximum Likelihood optimization failed to converge. Check mle_retvals\n",
      "  \"Check mle_retvals\", ConvergenceWarning)\n"
     ]
    },
    {
     "name": "stdout",
     "output_type": "stream",
     "text": [
      "86854872.41151257\n",
      "71230\n",
      "2021005.8118283749\n",
      "65859\n",
      "11444250.777934136\n",
      "72834\n",
      "21829447.31060191\n",
      "399576\n",
      "17995075.487060707\n",
      "91046\n",
      "14859268.188296113\n",
      "72717\n",
      "723187.2440231151\n",
      "99178\n",
      "1125384.5522063645\n",
      "95818\n",
      "288711.3968960461\n",
      "92312\n",
      "3612098.4548450895\n",
      "89903\n",
      "101848.9892333863\n",
      "88414\n",
      "41624432.09436699\n",
      "92575\n",
      "578587.6116981158\n",
      "89707\n",
      "107300920.70300762\n",
      "73043\n"
     ]
    },
    {
     "name": "stderr",
     "output_type": "stream",
     "text": [
      "C:\\Users\\Bronwen\\Anaconda3\\envs\\learn-env\\lib\\site-packages\\statsmodels\\base\\model.py:508: ConvergenceWarning: Maximum Likelihood optimization failed to converge. Check mle_retvals\n",
      "  \"Check mle_retvals\", ConvergenceWarning)\n"
     ]
    },
    {
     "name": "stdout",
     "output_type": "stream",
     "text": [
      "33235956.872230433\n",
      "70592\n",
      "113345.47979129443\n",
      "94903\n"
     ]
    },
    {
     "name": "stderr",
     "output_type": "stream",
     "text": [
      "C:\\Users\\Bronwen\\Anaconda3\\envs\\learn-env\\lib\\site-packages\\statsmodels\\base\\model.py:508: ConvergenceWarning: Maximum Likelihood optimization failed to converge. Check mle_retvals\n",
      "  \"Check mle_retvals\", ConvergenceWarning)\n"
     ]
    },
    {
     "name": "stdout",
     "output_type": "stream",
     "text": [
      "25216890.40004117\n",
      "67708\n",
      "5448427.136448038\n",
      "82001\n",
      "7760914.558435318\n",
      "72718\n",
      "5536650.808232615\n",
      "82107\n",
      "8814425.135879342\n",
      "92343\n",
      "545844.0882030202\n",
      "81563\n"
     ]
    },
    {
     "name": "stderr",
     "output_type": "stream",
     "text": [
      "C:\\Users\\Bronwen\\Anaconda3\\envs\\learn-env\\lib\\site-packages\\statsmodels\\base\\model.py:508: ConvergenceWarning: Maximum Likelihood optimization failed to converge. Check mle_retvals\n",
      "  \"Check mle_retvals\", ConvergenceWarning)\n"
     ]
    },
    {
     "name": "stdout",
     "output_type": "stream",
     "text": [
      "4634756.307974867\n",
      "69444\n",
      "5316900.738983566\n",
      "75630\n",
      "9082201.238011815\n",
      "67776\n",
      "3408852.52781756\n",
      "69813\n",
      "1486930.464473229\n",
      "71832\n",
      "11299400.467281243\n",
      "90265\n",
      "5511450.998596282\n",
      "69723\n",
      "1690543.5025356684\n",
      "69040\n",
      "11520481.52589213\n",
      "72582\n",
      "3236434.2879063264\n",
      "95317\n",
      "50166185.22905316\n",
      "63904\n",
      "2904142.588123105\n",
      "95305\n"
     ]
    },
    {
     "name": "stderr",
     "output_type": "stream",
     "text": [
      "C:\\Users\\Bronwen\\Anaconda3\\envs\\learn-env\\lib\\site-packages\\statsmodels\\base\\model.py:508: ConvergenceWarning: Maximum Likelihood optimization failed to converge. Check mle_retvals\n",
      "  \"Check mle_retvals\", ConvergenceWarning)\n"
     ]
    },
    {
     "name": "stdout",
     "output_type": "stream",
     "text": [
      "802823.324027309\n",
      "78983\n",
      "43424373.04872617\n",
      "73198\n",
      "5271879.092581924\n",
      "69934\n",
      "2014334.6905928464\n",
      "79741\n",
      "24404573.225927982\n",
      "75282\n",
      "8214235.534296349\n",
      "92289\n"
     ]
    },
    {
     "name": "stderr",
     "output_type": "stream",
     "text": [
      "C:\\Users\\Bronwen\\Anaconda3\\envs\\learn-env\\lib\\site-packages\\statsmodels\\base\\model.py:508: ConvergenceWarning: Maximum Likelihood optimization failed to converge. Check mle_retvals\n",
      "  \"Check mle_retvals\", ConvergenceWarning)\n"
     ]
    },
    {
     "name": "stdout",
     "output_type": "stream",
     "text": [
      "557721.8474299635\n",
      "58973\n",
      "14121800.638690954\n",
      "66831\n",
      "5385866.794179884\n",
      "63531\n"
     ]
    },
    {
     "name": "stderr",
     "output_type": "stream",
     "text": [
      "C:\\Users\\Bronwen\\Anaconda3\\envs\\learn-env\\lib\\site-packages\\statsmodels\\base\\model.py:508: ConvergenceWarning: Maximum Likelihood optimization failed to converge. Check mle_retvals\n",
      "  \"Check mle_retvals\", ConvergenceWarning)\n"
     ]
    },
    {
     "name": "stdout",
     "output_type": "stream",
     "text": [
      "1429476.3953681742\n",
      "91994\n",
      "1211251.8088847403\n",
      "72154\n",
      "38841732.79763798\n",
      "60971\n"
     ]
    },
    {
     "name": "stderr",
     "output_type": "stream",
     "text": [
      "C:\\Users\\Bronwen\\Anaconda3\\envs\\learn-env\\lib\\site-packages\\statsmodels\\base\\model.py:508: ConvergenceWarning: Maximum Likelihood optimization failed to converge. Check mle_retvals\n",
      "  \"Check mle_retvals\", ConvergenceWarning)\n"
     ]
    },
    {
     "name": "stdout",
     "output_type": "stream",
     "text": [
      "411090.4953621703\n",
      "94745\n",
      "111462638.93102328\n",
      "67770\n",
      "1648051.3346398673\n",
      "90662\n",
      "2697913.508654561\n",
      "67921\n",
      "64188280.46965511\n",
      "65369\n"
     ]
    },
    {
     "name": "stderr",
     "output_type": "stream",
     "text": [
      "C:\\Users\\Bronwen\\Anaconda3\\envs\\learn-env\\lib\\site-packages\\statsmodels\\base\\model.py:508: ConvergenceWarning: Maximum Likelihood optimization failed to converge. Check mle_retvals\n",
      "  \"Check mle_retvals\", ConvergenceWarning)\n"
     ]
    },
    {
     "name": "stdout",
     "output_type": "stream",
     "text": [
      "8875214.923745919\n",
      "92216\n",
      "1815736.93129672\n",
      "81282\n",
      "35418221.54073962\n",
      "91853\n"
     ]
    },
    {
     "name": "stderr",
     "output_type": "stream",
     "text": [
      "C:\\Users\\Bronwen\\Anaconda3\\envs\\learn-env\\lib\\site-packages\\statsmodels\\base\\model.py:508: ConvergenceWarning: Maximum Likelihood optimization failed to converge. Check mle_retvals\n",
      "  \"Check mle_retvals\", ConvergenceWarning)\n"
     ]
    },
    {
     "name": "stdout",
     "output_type": "stream",
     "text": [
      "280629.12701495027\n",
      "94272\n",
      "11448619.504720498\n",
      "94757\n",
      "16878203.605166912\n",
      "91191\n",
      "15232.356185012695\n",
      "82933\n",
      "5054588.416425568\n",
      "76745\n"
     ]
    },
    {
     "name": "stderr",
     "output_type": "stream",
     "text": [
      "C:\\Users\\Bronwen\\Anaconda3\\envs\\learn-env\\lib\\site-packages\\statsmodels\\base\\model.py:508: ConvergenceWarning: Maximum Likelihood optimization failed to converge. Check mle_retvals\n",
      "  \"Check mle_retvals\", ConvergenceWarning)\n"
     ]
    },
    {
     "name": "stdout",
     "output_type": "stream",
     "text": [
      "8902018.14020573\n",
      "84491\n",
      "4657876.807238162\n",
      "78035\n"
     ]
    },
    {
     "name": "stderr",
     "output_type": "stream",
     "text": [
      "C:\\Users\\Bronwen\\Anaconda3\\envs\\learn-env\\lib\\site-packages\\statsmodels\\base\\model.py:508: ConvergenceWarning: Maximum Likelihood optimization failed to converge. Check mle_retvals\n",
      "  \"Check mle_retvals\", ConvergenceWarning)\n"
     ]
    },
    {
     "name": "stdout",
     "output_type": "stream",
     "text": [
      "34440227.29614286\n",
      "74178\n",
      "43354354.855951294\n",
      "99992\n",
      "1276194.5134270121\n",
      "83941\n",
      "7332548.937306817\n",
      "76996\n"
     ]
    },
    {
     "name": "stderr",
     "output_type": "stream",
     "text": [
      "C:\\Users\\Bronwen\\Anaconda3\\envs\\learn-env\\lib\\site-packages\\statsmodels\\base\\model.py:508: ConvergenceWarning: Maximum Likelihood optimization failed to converge. Check mle_retvals\n",
      "  \"Check mle_retvals\", ConvergenceWarning)\n"
     ]
    },
    {
     "name": "stdout",
     "output_type": "stream",
     "text": [
      "24871204.51736959\n",
      "72601\n",
      "43649162.04833549\n",
      "71829\n",
      "4945274.892706631\n",
      "71903\n",
      "1017438.0863292139\n",
      "90695\n",
      "622859.5669303484\n",
      "91959\n"
     ]
    },
    {
     "name": "stderr",
     "output_type": "stream",
     "text": [
      "C:\\Users\\Bronwen\\Anaconda3\\envs\\learn-env\\lib\\site-packages\\statsmodels\\base\\model.py:508: ConvergenceWarning: Maximum Likelihood optimization failed to converge. Check mle_retvals\n",
      "  \"Check mle_retvals\", ConvergenceWarning)\n"
     ]
    },
    {
     "name": "stdout",
     "output_type": "stream",
     "text": [
      "5056026.904348978\n",
      "92013\n",
      "1043700.8365370013\n",
      "77076\n"
     ]
    },
    {
     "name": "stderr",
     "output_type": "stream",
     "text": [
      "C:\\Users\\Bronwen\\Anaconda3\\envs\\learn-env\\lib\\site-packages\\statsmodels\\base\\model.py:508: ConvergenceWarning: Maximum Likelihood optimization failed to converge. Check mle_retvals\n",
      "  \"Check mle_retvals\", ConvergenceWarning)\n"
     ]
    },
    {
     "name": "stdout",
     "output_type": "stream",
     "text": [
      "1652456.0361608071\n",
      "60390\n"
     ]
    },
    {
     "name": "stderr",
     "output_type": "stream",
     "text": [
      "C:\\Users\\Bronwen\\Anaconda3\\envs\\learn-env\\lib\\site-packages\\statsmodels\\base\\model.py:508: ConvergenceWarning: Maximum Likelihood optimization failed to converge. Check mle_retvals\n",
      "  \"Check mle_retvals\", ConvergenceWarning)\n"
     ]
    },
    {
     "name": "stdout",
     "output_type": "stream",
     "text": [
      "2994449.6425466156\n",
      "84376\n"
     ]
    },
    {
     "name": "stderr",
     "output_type": "stream",
     "text": [
      "C:\\Users\\Bronwen\\Anaconda3\\envs\\learn-env\\lib\\site-packages\\statsmodels\\base\\model.py:508: ConvergenceWarning: Maximum Likelihood optimization failed to converge. Check mle_retvals\n",
      "  \"Check mle_retvals\", ConvergenceWarning)\n"
     ]
    },
    {
     "name": "stdout",
     "output_type": "stream",
     "text": [
      "7688711.698574817\n",
      "94277\n"
     ]
    },
    {
     "name": "stderr",
     "output_type": "stream",
     "text": [
      "C:\\Users\\Bronwen\\Anaconda3\\envs\\learn-env\\lib\\site-packages\\statsmodels\\base\\model.py:508: ConvergenceWarning: Maximum Likelihood optimization failed to converge. Check mle_retvals\n",
      "  \"Check mle_retvals\", ConvergenceWarning)\n"
     ]
    },
    {
     "name": "stdout",
     "output_type": "stream",
     "text": [
      "1535778.6413693908\n",
      "88766\n",
      "477135.19800121785\n",
      "64886\n"
     ]
    },
    {
     "name": "stderr",
     "output_type": "stream",
     "text": [
      "C:\\Users\\Bronwen\\Anaconda3\\envs\\learn-env\\lib\\site-packages\\statsmodels\\base\\model.py:508: ConvergenceWarning: Maximum Likelihood optimization failed to converge. Check mle_retvals\n",
      "  \"Check mle_retvals\", ConvergenceWarning)\n"
     ]
    },
    {
     "name": "stdout",
     "output_type": "stream",
     "text": [
      "1302815.5264206803\n",
      "77924\n"
     ]
    },
    {
     "name": "stderr",
     "output_type": "stream",
     "text": [
      "C:\\Users\\Bronwen\\Anaconda3\\envs\\learn-env\\lib\\site-packages\\statsmodels\\base\\model.py:508: ConvergenceWarning: Maximum Likelihood optimization failed to converge. Check mle_retvals\n",
      "  \"Check mle_retvals\", ConvergenceWarning)\n"
     ]
    },
    {
     "name": "stdout",
     "output_type": "stream",
     "text": [
      "164322.26280885516\n",
      "91898\n",
      "5639473.985816854\n",
      "81080\n",
      "1121954.410246177\n",
      "77940\n",
      "282621.43418130616\n",
      "71771\n",
      "13343235.784217885\n",
      "75620\n",
      "3107321.4868888636\n",
      "66830\n"
     ]
    },
    {
     "name": "stderr",
     "output_type": "stream",
     "text": [
      "C:\\Users\\Bronwen\\Anaconda3\\envs\\learn-env\\lib\\site-packages\\statsmodels\\base\\model.py:508: ConvergenceWarning: Maximum Likelihood optimization failed to converge. Check mle_retvals\n",
      "  \"Check mle_retvals\", ConvergenceWarning)\n"
     ]
    },
    {
     "name": "stdout",
     "output_type": "stream",
     "text": [
      "6460671.278957006\n",
      "94803\n",
      "24206077.801853847\n",
      "75872\n",
      "15408265.000977907\n",
      "73200\n",
      "14325827.569651162\n",
      "78126\n",
      "12665964.168652505\n",
      "67603\n",
      "1846758.9070490636\n",
      "82118\n",
      "24326307.411130052\n",
      "72620\n",
      "878665.7698544838\n",
      "58880\n"
     ]
    },
    {
     "name": "stderr",
     "output_type": "stream",
     "text": [
      "C:\\Users\\Bronwen\\Anaconda3\\envs\\learn-env\\lib\\site-packages\\statsmodels\\base\\model.py:508: ConvergenceWarning: Maximum Likelihood optimization failed to converge. Check mle_retvals\n",
      "  \"Check mle_retvals\", ConvergenceWarning)\n"
     ]
    },
    {
     "name": "stdout",
     "output_type": "stream",
     "text": [
      "86644854.98498735\n",
      "61021\n"
     ]
    },
    {
     "name": "stderr",
     "output_type": "stream",
     "text": [
      "C:\\Users\\Bronwen\\Anaconda3\\envs\\learn-env\\lib\\site-packages\\statsmodels\\base\\model.py:508: ConvergenceWarning: Maximum Likelihood optimization failed to converge. Check mle_retvals\n",
      "  \"Check mle_retvals\", ConvergenceWarning)\n"
     ]
    },
    {
     "name": "stdout",
     "output_type": "stream",
     "text": [
      "62976202.228384115\n",
      "72910\n"
     ]
    },
    {
     "name": "stderr",
     "output_type": "stream",
     "text": [
      "C:\\Users\\Bronwen\\Anaconda3\\envs\\learn-env\\lib\\site-packages\\statsmodels\\base\\model.py:508: ConvergenceWarning: Maximum Likelihood optimization failed to converge. Check mle_retvals\n",
      "  \"Check mle_retvals\", ConvergenceWarning)\n"
     ]
    },
    {
     "name": "stdout",
     "output_type": "stream",
     "text": [
      "1053416.330435569\n",
      "75612\n",
      "3001985.1337241423\n",
      "72584\n",
      "20398052.337039594\n",
      "58359\n",
      "23665542.58810051\n",
      "84528\n",
      "2673780.785290349\n",
      "70903\n"
     ]
    },
    {
     "name": "stderr",
     "output_type": "stream",
     "text": [
      "C:\\Users\\Bronwen\\Anaconda3\\envs\\learn-env\\lib\\site-packages\\statsmodels\\base\\model.py:508: ConvergenceWarning: Maximum Likelihood optimization failed to converge. Check mle_retvals\n",
      "  \"Check mle_retvals\", ConvergenceWarning)\n"
     ]
    },
    {
     "name": "stdout",
     "output_type": "stream",
     "text": [
      "114460216.28100038\n",
      "93851\n",
      "5177859.896229655\n",
      "90741\n",
      "570431.5442436503\n",
      "94765\n",
      "884668.9281342955\n",
      "399725\n"
     ]
    },
    {
     "name": "stderr",
     "output_type": "stream",
     "text": [
      "C:\\Users\\Bronwen\\Anaconda3\\envs\\learn-env\\lib\\site-packages\\statsmodels\\base\\model.py:508: ConvergenceWarning: Maximum Likelihood optimization failed to converge. Check mle_retvals\n",
      "  \"Check mle_retvals\", ConvergenceWarning)\n"
     ]
    },
    {
     "name": "stdout",
     "output_type": "stream",
     "text": [
      "4298240.891251\n",
      "75113\n"
     ]
    },
    {
     "name": "stderr",
     "output_type": "stream",
     "text": [
      "C:\\Users\\Bronwen\\Anaconda3\\envs\\learn-env\\lib\\site-packages\\statsmodels\\base\\model.py:508: ConvergenceWarning: Maximum Likelihood optimization failed to converge. Check mle_retvals\n",
      "  \"Check mle_retvals\", ConvergenceWarning)\n"
     ]
    },
    {
     "name": "stdout",
     "output_type": "stream",
     "text": [
      "2097952.1576119373\n",
      "72243\n",
      "26783714.66416769\n",
      "94189\n",
      "1689905.0977822065\n",
      "82120\n",
      "1088955.7964092463\n",
      "72811\n",
      "59516599.65220144\n",
      "92653\n",
      "1572222.7412822316\n",
      "69727\n"
     ]
    },
    {
     "name": "stderr",
     "output_type": "stream",
     "text": [
      "C:\\Users\\Bronwen\\Anaconda3\\envs\\learn-env\\lib\\site-packages\\statsmodels\\base\\model.py:508: ConvergenceWarning: Maximum Likelihood optimization failed to converge. Check mle_retvals\n",
      "  \"Check mle_retvals\", ConvergenceWarning)\n"
     ]
    },
    {
     "name": "stdout",
     "output_type": "stream",
     "text": [
      "2026057.8597473733\n",
      "89745\n",
      "5938413.589874936\n",
      "62691\n"
     ]
    },
    {
     "name": "stderr",
     "output_type": "stream",
     "text": [
      "C:\\Users\\Bronwen\\Anaconda3\\envs\\learn-env\\lib\\site-packages\\statsmodels\\base\\model.py:508: ConvergenceWarning: Maximum Likelihood optimization failed to converge. Check mle_retvals\n",
      "  \"Check mle_retvals\", ConvergenceWarning)\n"
     ]
    },
    {
     "name": "stdout",
     "output_type": "stream",
     "text": [
      "8973991.90886035\n",
      "91626\n",
      "5143701.527491862\n",
      "85103\n",
      "5022450.165684223\n",
      "88701\n",
      "685032.5468898683\n",
      "75574\n",
      "1813824.5999398523\n",
      "89989\n",
      "46727927.74757969\n",
      "92447\n",
      "1498576.0155036806\n",
      "60909\n"
     ]
    },
    {
     "name": "stderr",
     "output_type": "stream",
     "text": [
      "C:\\Users\\Bronwen\\Anaconda3\\envs\\learn-env\\lib\\site-packages\\statsmodels\\base\\model.py:508: ConvergenceWarning: Maximum Likelihood optimization failed to converge. Check mle_retvals\n",
      "  \"Check mle_retvals\", ConvergenceWarning)\n"
     ]
    },
    {
     "name": "stdout",
     "output_type": "stream",
     "text": [
      "39087240.981795214\n",
      "79121\n",
      "7601096.836081791\n",
      "72172\n",
      "5927587.948179944\n",
      "91693\n",
      "4767405.222817501\n",
      "58226\n"
     ]
    },
    {
     "name": "stderr",
     "output_type": "stream",
     "text": [
      "C:\\Users\\Bronwen\\Anaconda3\\envs\\learn-env\\lib\\site-packages\\statsmodels\\base\\model.py:508: ConvergenceWarning: Maximum Likelihood optimization failed to converge. Check mle_retvals\n",
      "  \"Check mle_retvals\", ConvergenceWarning)\n"
     ]
    },
    {
     "name": "stdout",
     "output_type": "stream",
     "text": [
      "8386501.5724209575\n",
      "417436\n",
      "3133540.5123221297\n",
      "94538\n"
     ]
    },
    {
     "name": "stderr",
     "output_type": "stream",
     "text": [
      "C:\\Users\\Bronwen\\Anaconda3\\envs\\learn-env\\lib\\site-packages\\statsmodels\\base\\model.py:508: ConvergenceWarning: Maximum Likelihood optimization failed to converge. Check mle_retvals\n",
      "  \"Check mle_retvals\", ConvergenceWarning)\n"
     ]
    },
    {
     "name": "stdout",
     "output_type": "stream",
     "text": [
      "21114194.572043616\n",
      "69820\n",
      "328333.39069721446\n",
      "76526\n"
     ]
    },
    {
     "name": "stderr",
     "output_type": "stream",
     "text": [
      "C:\\Users\\Bronwen\\Anaconda3\\envs\\learn-env\\lib\\site-packages\\statsmodels\\base\\model.py:508: ConvergenceWarning: Maximum Likelihood optimization failed to converge. Check mle_retvals\n",
      "  \"Check mle_retvals\", ConvergenceWarning)\n"
     ]
    },
    {
     "name": "stdout",
     "output_type": "stream",
     "text": [
      "7993388.592392397\n",
      "72056\n",
      "3084663.4586399505\n",
      "94884\n"
     ]
    },
    {
     "name": "stderr",
     "output_type": "stream",
     "text": [
      "C:\\Users\\Bronwen\\Anaconda3\\envs\\learn-env\\lib\\site-packages\\statsmodels\\base\\model.py:508: ConvergenceWarning: Maximum Likelihood optimization failed to converge. Check mle_retvals\n",
      "  \"Check mle_retvals\", ConvergenceWarning)\n"
     ]
    },
    {
     "name": "stdout",
     "output_type": "stream",
     "text": [
      "5547487.751081043\n",
      "74238\n",
      "4715997.653447503\n",
      "70879\n"
     ]
    },
    {
     "name": "stderr",
     "output_type": "stream",
     "text": [
      "C:\\Users\\Bronwen\\Anaconda3\\envs\\learn-env\\lib\\site-packages\\statsmodels\\base\\model.py:508: ConvergenceWarning: Maximum Likelihood optimization failed to converge. Check mle_retvals\n",
      "  \"Check mle_retvals\", ConvergenceWarning)\n"
     ]
    },
    {
     "name": "stdout",
     "output_type": "stream",
     "text": [
      "285358.7103768098\n",
      "70983\n",
      "7741180.136409992\n",
      "72157\n"
     ]
    },
    {
     "name": "stderr",
     "output_type": "stream",
     "text": [
      "C:\\Users\\Bronwen\\Anaconda3\\envs\\learn-env\\lib\\site-packages\\statsmodels\\base\\model.py:508: ConvergenceWarning: Maximum Likelihood optimization failed to converge. Check mle_retvals\n",
      "  \"Check mle_retvals\", ConvergenceWarning)\n"
     ]
    },
    {
     "name": "stdout",
     "output_type": "stream",
     "text": [
      "55059761.04893585\n",
      "73244\n",
      "549848.2180811778\n",
      "70495\n",
      "34866208.23540437\n",
      "75718\n",
      "1599943.2572241027\n",
      "91292\n"
     ]
    },
    {
     "name": "stderr",
     "output_type": "stream",
     "text": [
      "C:\\Users\\Bronwen\\Anaconda3\\envs\\learn-env\\lib\\site-packages\\statsmodels\\base\\model.py:508: ConvergenceWarning: Maximum Likelihood optimization failed to converge. Check mle_retvals\n",
      "  \"Check mle_retvals\", ConvergenceWarning)\n"
     ]
    },
    {
     "name": "stdout",
     "output_type": "stream",
     "text": [
      "4659133.949230922\n",
      "96750\n"
     ]
    },
    {
     "name": "stderr",
     "output_type": "stream",
     "text": [
      "C:\\Users\\Bronwen\\Anaconda3\\envs\\learn-env\\lib\\site-packages\\statsmodels\\base\\model.py:508: ConvergenceWarning: Maximum Likelihood optimization failed to converge. Check mle_retvals\n",
      "  \"Check mle_retvals\", ConvergenceWarning)\n"
     ]
    },
    {
     "name": "stdout",
     "output_type": "stream",
     "text": [
      "10256857.809148466\n",
      "95366\n"
     ]
    },
    {
     "name": "stderr",
     "output_type": "stream",
     "text": [
      "C:\\Users\\Bronwen\\Anaconda3\\envs\\learn-env\\lib\\site-packages\\statsmodels\\base\\model.py:508: ConvergenceWarning: Maximum Likelihood optimization failed to converge. Check mle_retvals\n",
      "  \"Check mle_retvals\", ConvergenceWarning)\n"
     ]
    },
    {
     "name": "stdout",
     "output_type": "stream",
     "text": [
      "16993685.305896144\n",
      "72765\n"
     ]
    },
    {
     "name": "stderr",
     "output_type": "stream",
     "text": [
      "C:\\Users\\Bronwen\\Anaconda3\\envs\\learn-env\\lib\\site-packages\\statsmodels\\base\\model.py:508: ConvergenceWarning: Maximum Likelihood optimization failed to converge. Check mle_retvals\n",
      "  \"Check mle_retvals\", ConvergenceWarning)\n"
     ]
    },
    {
     "name": "stdout",
     "output_type": "stream",
     "text": [
      "8111857.537650903\n",
      "81647\n"
     ]
    },
    {
     "name": "stderr",
     "output_type": "stream",
     "text": [
      "C:\\Users\\Bronwen\\Anaconda3\\envs\\learn-env\\lib\\site-packages\\statsmodels\\base\\model.py:508: ConvergenceWarning: Maximum Likelihood optimization failed to converge. Check mle_retvals\n",
      "  \"Check mle_retvals\", ConvergenceWarning)\n"
     ]
    },
    {
     "name": "stdout",
     "output_type": "stream",
     "text": [
      "9476747.1874012\n",
      "90731\n",
      "5790444.93409312\n",
      "63937\n",
      "23865508.10737484\n",
      "92288\n",
      "101314.81292872917\n",
      "91714\n",
      "895560.125163575\n",
      "95321\n",
      "463707.27876228525\n",
      "95800\n",
      "23049006.069419004\n",
      "78065\n"
     ]
    },
    {
     "name": "stderr",
     "output_type": "stream",
     "text": [
      "C:\\Users\\Bronwen\\Anaconda3\\envs\\learn-env\\lib\\site-packages\\statsmodels\\base\\model.py:508: ConvergenceWarning: Maximum Likelihood optimization failed to converge. Check mle_retvals\n",
      "  \"Check mle_retvals\", ConvergenceWarning)\n"
     ]
    },
    {
     "name": "stdout",
     "output_type": "stream",
     "text": [
      "10239033.25283654\n",
      "97434\n",
      "717209.6287350926\n",
      "87128\n"
     ]
    },
    {
     "name": "stderr",
     "output_type": "stream",
     "text": [
      "C:\\Users\\Bronwen\\Anaconda3\\envs\\learn-env\\lib\\site-packages\\statsmodels\\base\\model.py:508: ConvergenceWarning: Maximum Likelihood optimization failed to converge. Check mle_retvals\n",
      "  \"Check mle_retvals\", ConvergenceWarning)\n"
     ]
    },
    {
     "name": "stdout",
     "output_type": "stream",
     "text": [
      "231122.49318339946\n",
      "80905\n",
      "2104208.5844947705\n",
      "64938\n",
      "19511644.553397577\n",
      "77965\n",
      "1841613.109617909\n",
      "84295\n",
      "1236956.6861247206\n",
      "66850\n",
      "37617359.48472534\n",
      "84031\n",
      "24507084.2794805\n",
      "94998\n"
     ]
    },
    {
     "name": "stderr",
     "output_type": "stream",
     "text": [
      "C:\\Users\\Bronwen\\Anaconda3\\envs\\learn-env\\lib\\site-packages\\statsmodels\\base\\model.py:508: ConvergenceWarning: Maximum Likelihood optimization failed to converge. Check mle_retvals\n",
      "  \"Check mle_retvals\", ConvergenceWarning)\n"
     ]
    },
    {
     "name": "stdout",
     "output_type": "stream",
     "text": [
      "899793.7926225204\n",
      "72689\n",
      "92225.8280391867\n",
      "72773\n",
      "31875800.86590884\n",
      "70681\n",
      "16018505.934136758\n",
      "69927\n"
     ]
    },
    {
     "name": "stderr",
     "output_type": "stream",
     "text": [
      "C:\\Users\\Bronwen\\Anaconda3\\envs\\learn-env\\lib\\site-packages\\statsmodels\\base\\model.py:508: ConvergenceWarning: Maximum Likelihood optimization failed to converge. Check mle_retvals\n",
      "  \"Check mle_retvals\", ConvergenceWarning)\n"
     ]
    },
    {
     "name": "stdout",
     "output_type": "stream",
     "text": [
      "117624528.17996867\n",
      "92452\n",
      "19185436.19410787\n",
      "64844\n",
      "1768695.967467451\n",
      "93594\n",
      "4857369.120115527\n",
      "70231\n"
     ]
    },
    {
     "name": "stderr",
     "output_type": "stream",
     "text": [
      "C:\\Users\\Bronwen\\Anaconda3\\envs\\learn-env\\lib\\site-packages\\statsmodels\\base\\model.py:508: ConvergenceWarning: Maximum Likelihood optimization failed to converge. Check mle_retvals\n",
      "  \"Check mle_retvals\", ConvergenceWarning)\n"
     ]
    },
    {
     "name": "stdout",
     "output_type": "stream",
     "text": [
      "35483415.863546506\n",
      "72887\n",
      "1261781.381072333\n",
      "94758\n",
      "18826268.104912776\n",
      "78704\n",
      "19083858.454579838\n",
      "72797\n",
      "16841552.28613768\n",
      "80260\n",
      "3203540.3578212825\n",
      "65064\n",
      "16873452.904556267\n",
      "60123\n"
     ]
    },
    {
     "name": "stderr",
     "output_type": "stream",
     "text": [
      "C:\\Users\\Bronwen\\Anaconda3\\envs\\learn-env\\lib\\site-packages\\statsmodels\\base\\model.py:508: ConvergenceWarning: Maximum Likelihood optimization failed to converge. Check mle_retvals\n",
      "  \"Check mle_retvals\", ConvergenceWarning)\n"
     ]
    },
    {
     "name": "stdout",
     "output_type": "stream",
     "text": [
      "15654490.621622628\n",
      "73910\n",
      "46094490.926674664\n",
      "71776\n",
      "152170.18888782104\n",
      "76234\n",
      "147670.89703916793\n",
      "80076\n"
     ]
    },
    {
     "name": "stderr",
     "output_type": "stream",
     "text": [
      "C:\\Users\\Bronwen\\Anaconda3\\envs\\learn-env\\lib\\site-packages\\statsmodels\\base\\model.py:508: ConvergenceWarning: Maximum Likelihood optimization failed to converge. Check mle_retvals\n",
      "  \"Check mle_retvals\", ConvergenceWarning)\n"
     ]
    },
    {
     "name": "stdout",
     "output_type": "stream",
     "text": [
      "5430548.232272175\n",
      "81646\n",
      "3383114.540090633\n",
      "81272\n"
     ]
    },
    {
     "name": "stderr",
     "output_type": "stream",
     "text": [
      "C:\\Users\\Bronwen\\Anaconda3\\envs\\learn-env\\lib\\site-packages\\statsmodels\\base\\model.py:508: ConvergenceWarning: Maximum Likelihood optimization failed to converge. Check mle_retvals\n",
      "  \"Check mle_retvals\", ConvergenceWarning)\n"
     ]
    },
    {
     "name": "stdout",
     "output_type": "stream",
     "text": [
      "10934662.642014636\n",
      "84540\n",
      "1689452.7563647784\n",
      "67747\n",
      "12197709.30387735\n",
      "70866\n"
     ]
    },
    {
     "name": "stderr",
     "output_type": "stream",
     "text": [
      "C:\\Users\\Bronwen\\Anaconda3\\envs\\learn-env\\lib\\site-packages\\statsmodels\\base\\model.py:508: ConvergenceWarning: Maximum Likelihood optimization failed to converge. Check mle_retvals\n",
      "  \"Check mle_retvals\", ConvergenceWarning)\n"
     ]
    },
    {
     "name": "stdout",
     "output_type": "stream",
     "text": [
      "37980053.67501613\n",
      "96903\n",
      "72079483.78185658\n",
      "73134\n",
      "455593.01002305513\n",
      "74248\n",
      "15741.249505799604\n",
      "65782\n",
      "12580038.477863958\n",
      "88815\n",
      "86301.47929202256\n",
      "417442\n",
      "3208703.5640994706\n",
      "73032\n",
      "41602789.185166135\n",
      "79123\n",
      "5355648.780048621\n",
      "81324\n",
      "47724976.17861282\n",
      "76955\n",
      "6497300.633564083\n",
      "79124\n"
     ]
    },
    {
     "name": "stderr",
     "output_type": "stream",
     "text": [
      "C:\\Users\\Bronwen\\Anaconda3\\envs\\learn-env\\lib\\site-packages\\statsmodels\\base\\model.py:508: ConvergenceWarning: Maximum Likelihood optimization failed to converge. Check mle_retvals\n",
      "  \"Check mle_retvals\", ConvergenceWarning)\n"
     ]
    },
    {
     "name": "stdout",
     "output_type": "stream",
     "text": [
      "7338273.373837073\n",
      "77973\n",
      "1760866.2065879987\n",
      "85387\n"
     ]
    },
    {
     "name": "stderr",
     "output_type": "stream",
     "text": [
      "C:\\Users\\Bronwen\\Anaconda3\\envs\\learn-env\\lib\\site-packages\\statsmodels\\base\\model.py:508: ConvergenceWarning: Maximum Likelihood optimization failed to converge. Check mle_retvals\n",
      "  \"Check mle_retvals\", ConvergenceWarning)\n"
     ]
    },
    {
     "name": "stdout",
     "output_type": "stream",
     "text": [
      "56373720.47189555\n",
      "77412\n"
     ]
    },
    {
     "name": "stderr",
     "output_type": "stream",
     "text": [
      "C:\\Users\\Bronwen\\Anaconda3\\envs\\learn-env\\lib\\site-packages\\statsmodels\\base\\model.py:508: ConvergenceWarning: Maximum Likelihood optimization failed to converge. Check mle_retvals\n",
      "  \"Check mle_retvals\", ConvergenceWarning)\n"
     ]
    },
    {
     "name": "stdout",
     "output_type": "stream",
     "text": [
      "834802.3958991276\n",
      "82283\n",
      "2635496.836190396\n",
      "94943\n"
     ]
    },
    {
     "name": "stderr",
     "output_type": "stream",
     "text": [
      "C:\\Users\\Bronwen\\Anaconda3\\envs\\learn-env\\lib\\site-packages\\statsmodels\\base\\model.py:508: ConvergenceWarning: Maximum Likelihood optimization failed to converge. Check mle_retvals\n",
      "  \"Check mle_retvals\", ConvergenceWarning)\n"
     ]
    },
    {
     "name": "stdout",
     "output_type": "stream",
     "text": [
      "101252788.15322392\n",
      "96747\n",
      "6818091.225389823\n",
      "90296\n",
      "14588232.446476687\n",
      "72776\n",
      "4851140.84495442\n",
      "91187\n",
      "16435958.048811588\n",
      "84361\n"
     ]
    },
    {
     "name": "stderr",
     "output_type": "stream",
     "text": [
      "C:\\Users\\Bronwen\\Anaconda3\\envs\\learn-env\\lib\\site-packages\\statsmodels\\base\\model.py:508: ConvergenceWarning: Maximum Likelihood optimization failed to converge. Check mle_retvals\n",
      "  \"Check mle_retvals\", ConvergenceWarning)\n"
     ]
    },
    {
     "name": "stdout",
     "output_type": "stream",
     "text": [
      "20512596.30234594\n",
      "63411\n",
      "1203553.0269963583\n",
      "86315\n"
     ]
    },
    {
     "name": "stderr",
     "output_type": "stream",
     "text": [
      "C:\\Users\\Bronwen\\Anaconda3\\envs\\learn-env\\lib\\site-packages\\statsmodels\\base\\model.py:508: ConvergenceWarning: Maximum Likelihood optimization failed to converge. Check mle_retvals\n",
      "  \"Check mle_retvals\", ConvergenceWarning)\n"
     ]
    },
    {
     "name": "stdout",
     "output_type": "stream",
     "text": [
      "2919358.1088086097\n",
      "65819\n",
      "25988965.718945455\n",
      "95077\n",
      "1683280.138399609\n",
      "85948\n",
      "1650093.6814469777\n",
      "97333\n",
      "527357.8468977539\n",
      "71765\n",
      "7940960.018547617\n",
      "79734\n",
      "6752182.607503703\n",
      "91877\n"
     ]
    },
    {
     "name": "stderr",
     "output_type": "stream",
     "text": [
      "C:\\Users\\Bronwen\\Anaconda3\\envs\\learn-env\\lib\\site-packages\\statsmodels\\base\\model.py:508: ConvergenceWarning: Maximum Likelihood optimization failed to converge. Check mle_retvals\n",
      "  \"Check mle_retvals\", ConvergenceWarning)\n"
     ]
    },
    {
     "name": "stdout",
     "output_type": "stream",
     "text": [
      "6075645.470668273\n",
      "58983\n",
      "11282876.515358921\n",
      "67012\n",
      "21375498.37980961\n",
      "72896\n",
      "6940710.322413394\n",
      "74642\n"
     ]
    },
    {
     "name": "stderr",
     "output_type": "stream",
     "text": [
      "C:\\Users\\Bronwen\\Anaconda3\\envs\\learn-env\\lib\\site-packages\\statsmodels\\base\\model.py:508: ConvergenceWarning: Maximum Likelihood optimization failed to converge. Check mle_retvals\n",
      "  \"Check mle_retvals\", ConvergenceWarning)\n"
     ]
    },
    {
     "name": "stdout",
     "output_type": "stream",
     "text": [
      "44605651.38198989\n",
      "85270\n",
      "86241764.51903947\n",
      "71189\n"
     ]
    },
    {
     "name": "stderr",
     "output_type": "stream",
     "text": [
      "C:\\Users\\Bronwen\\Anaconda3\\envs\\learn-env\\lib\\site-packages\\statsmodels\\base\\model.py:508: ConvergenceWarning: Maximum Likelihood optimization failed to converge. Check mle_retvals\n",
      "  \"Check mle_retvals\", ConvergenceWarning)\n"
     ]
    },
    {
     "name": "stdout",
     "output_type": "stream",
     "text": [
      "124097620.97537665\n",
      "74560\n",
      "9492028.492873002\n",
      "72327\n",
      "4042917.4927819036\n",
      "80293\n",
      "76301.79919845208\n",
      "90280\n",
      "523303.36290861183\n",
      "72619\n",
      "1648233.6793974089\n",
      "399618\n",
      "8355541.298803273\n",
      "74482\n",
      "29680.1007665929\n",
      "94900\n",
      "10298310.833060829\n",
      "92032\n",
      "53163948.56632598\n",
      "66837\n"
     ]
    },
    {
     "name": "stderr",
     "output_type": "stream",
     "text": [
      "C:\\Users\\Bronwen\\Anaconda3\\envs\\learn-env\\lib\\site-packages\\statsmodels\\base\\model.py:508: ConvergenceWarning: Maximum Likelihood optimization failed to converge. Check mle_retvals\n",
      "  \"Check mle_retvals\", ConvergenceWarning)\n"
     ]
    },
    {
     "name": "stdout",
     "output_type": "stream",
     "text": [
      "74923978.87947516\n",
      "91274\n",
      "2199147.542948597\n",
      "58209\n",
      "702474.3859032504\n",
      "95302\n",
      "56675480.27682879\n",
      "63517\n",
      "192617.06737824884\n",
      "94835\n",
      "3334194.654464829\n",
      "79017\n",
      "106096768.79091242\n",
      "67335\n",
      "508053.4422610664\n",
      "62473\n"
     ]
    },
    {
     "name": "stderr",
     "output_type": "stream",
     "text": [
      "C:\\Users\\Bronwen\\Anaconda3\\envs\\learn-env\\lib\\site-packages\\statsmodels\\base\\model.py:508: ConvergenceWarning: Maximum Likelihood optimization failed to converge. Check mle_retvals\n",
      "  \"Check mle_retvals\", ConvergenceWarning)\n"
     ]
    },
    {
     "name": "stdout",
     "output_type": "stream",
     "text": [
      "115018825.93835565\n",
      "91854\n",
      "629704.7804942576\n",
      "70623\n",
      "8965078.492692474\n",
      "72810\n",
      "19024887.372238856\n",
      "88486\n",
      "27557472.219634067\n",
      "67749\n",
      "1844503.7154305514\n",
      "91966\n",
      "8397727.91592026\n",
      "76753\n",
      "2695598.2372201807\n",
      "77109\n",
      "3592712.6023529405\n",
      "82282\n"
     ]
    },
    {
     "name": "stderr",
     "output_type": "stream",
     "text": [
      "C:\\Users\\Bronwen\\Anaconda3\\envs\\learn-env\\lib\\site-packages\\statsmodels\\base\\model.py:508: ConvergenceWarning: Maximum Likelihood optimization failed to converge. Check mle_retvals\n",
      "  \"Check mle_retvals\", ConvergenceWarning)\n"
     ]
    },
    {
     "name": "stdout",
     "output_type": "stream",
     "text": [
      "1217666.9495181001\n",
      "67761\n",
      "6166796.8752969075\n",
      "84309\n",
      "696679.7738642263\n",
      "99269\n",
      "20775181.620853364\n",
      "70857\n",
      "5782031.780083211\n",
      "75706\n",
      "529840.7721691006\n",
      "63901\n",
      "3279777.589540407\n",
      "65087\n",
      "4399000.415011339\n",
      "72102\n",
      "9782598.723166618\n",
      "65821\n",
      "1404369.8930858881\n",
      "60912\n"
     ]
    },
    {
     "name": "stderr",
     "output_type": "stream",
     "text": [
      "C:\\Users\\Bronwen\\Anaconda3\\envs\\learn-env\\lib\\site-packages\\statsmodels\\base\\model.py:508: ConvergenceWarning: Maximum Likelihood optimization failed to converge. Check mle_retvals\n",
      "  \"Check mle_retvals\", ConvergenceWarning)\n"
     ]
    },
    {
     "name": "stdout",
     "output_type": "stream",
     "text": [
      "73666228.73921987\n",
      "66037\n",
      "15500363.522075418\n",
      "70594\n",
      "9636812.11730427\n",
      "88818\n",
      "11869713.208143005\n",
      "95803\n"
     ]
    },
    {
     "name": "stderr",
     "output_type": "stream",
     "text": [
      "C:\\Users\\Bronwen\\Anaconda3\\envs\\learn-env\\lib\\site-packages\\statsmodels\\base\\model.py:508: ConvergenceWarning: Maximum Likelihood optimization failed to converge. Check mle_retvals\n",
      "  \"Check mle_retvals\", ConvergenceWarning)\n"
     ]
    },
    {
     "name": "stdout",
     "output_type": "stream",
     "text": [
      "44644837.56112663\n",
      "84353\n"
     ]
    },
    {
     "name": "stderr",
     "output_type": "stream",
     "text": [
      "C:\\Users\\Bronwen\\Anaconda3\\envs\\learn-env\\lib\\site-packages\\statsmodels\\base\\model.py:508: ConvergenceWarning: Maximum Likelihood optimization failed to converge. Check mle_retvals\n",
      "  \"Check mle_retvals\", ConvergenceWarning)\n"
     ]
    },
    {
     "name": "stdout",
     "output_type": "stream",
     "text": [
      "9940854.322356205\n",
      "76482\n",
      "6769195.074118262\n",
      "86353\n",
      "4674659.2356021\n",
      "399654\n",
      "1626896.3474464137\n",
      "94278\n",
      "34722.96447290825\n",
      "97416\n",
      "3527150.942453432\n",
      "82768\n",
      "1568027694.5849597\n",
      "72700\n",
      "2847881.187950205\n",
      "84492\n"
     ]
    },
    {
     "name": "stderr",
     "output_type": "stream",
     "text": [
      "C:\\Users\\Bronwen\\Anaconda3\\envs\\learn-env\\lib\\site-packages\\statsmodels\\base\\model.py:508: ConvergenceWarning: Maximum Likelihood optimization failed to converge. Check mle_retvals\n",
      "  \"Check mle_retvals\", ConvergenceWarning)\n"
     ]
    },
    {
     "name": "stdout",
     "output_type": "stream",
     "text": [
      "2082329.2446227577\n",
      "72233\n",
      "13970037.648139846\n",
      "70657\n",
      "349387.23957262386\n",
      "98516\n",
      "43751728.564731024\n",
      "69354\n",
      "17289027.623833418\n",
      "91214\n",
      "305399.0950924204\n",
      "60364\n"
     ]
    },
    {
     "name": "stderr",
     "output_type": "stream",
     "text": [
      "C:\\Users\\Bronwen\\Anaconda3\\envs\\learn-env\\lib\\site-packages\\statsmodels\\base\\model.py:508: ConvergenceWarning: Maximum Likelihood optimization failed to converge. Check mle_retvals\n",
      "  \"Check mle_retvals\", ConvergenceWarning)\n"
     ]
    },
    {
     "name": "stdout",
     "output_type": "stream",
     "text": [
      "8598306.386208106\n",
      "93588\n",
      "3576565.638242735\n",
      "72900\n",
      "112927687.71928866\n",
      "82763\n",
      "13367399.39982749\n",
      "73197\n",
      "1516818.0621192243\n",
      "66846\n"
     ]
    },
    {
     "name": "stderr",
     "output_type": "stream",
     "text": [
      "C:\\Users\\Bronwen\\Anaconda3\\envs\\learn-env\\lib\\site-packages\\statsmodels\\base\\model.py:508: ConvergenceWarning: Maximum Likelihood optimization failed to converge. Check mle_retvals\n",
      "  \"Check mle_retvals\", ConvergenceWarning)\n"
     ]
    },
    {
     "name": "stdout",
     "output_type": "stream",
     "text": [
      "6788535.5106565235\n",
      "70960\n",
      "731250.0135446645\n",
      "92011\n",
      "420351.9942595943\n",
      "72576\n"
     ]
    },
    {
     "name": "stderr",
     "output_type": "stream",
     "text": [
      "C:\\Users\\Bronwen\\Anaconda3\\envs\\learn-env\\lib\\site-packages\\statsmodels\\base\\model.py:508: ConvergenceWarning: Maximum Likelihood optimization failed to converge. Check mle_retvals\n",
      "  \"Check mle_retvals\", ConvergenceWarning)\n"
     ]
    },
    {
     "name": "stdout",
     "output_type": "stream",
     "text": [
      "65231356.52247006\n",
      "97381\n",
      "7240633.272577095\n",
      "67322\n",
      "299096.53138004174\n",
      "82271\n",
      "7889745.575929234\n",
      "58257\n",
      "9722097.942366\n",
      "93802\n"
     ]
    },
    {
     "name": "stderr",
     "output_type": "stream",
     "text": [
      "C:\\Users\\Bronwen\\Anaconda3\\envs\\learn-env\\lib\\site-packages\\statsmodels\\base\\model.py:508: ConvergenceWarning: Maximum Likelihood optimization failed to converge. Check mle_retvals\n",
      "  \"Check mle_retvals\", ConvergenceWarning)\n"
     ]
    },
    {
     "name": "stdout",
     "output_type": "stream",
     "text": [
      "17735435.840825714\n",
      "753844\n",
      "48534483.39536007\n",
      "75175\n"
     ]
    },
    {
     "name": "stderr",
     "output_type": "stream",
     "text": [
      "C:\\Users\\Bronwen\\Anaconda3\\envs\\learn-env\\lib\\site-packages\\statsmodels\\base\\model.py:508: ConvergenceWarning: Maximum Likelihood optimization failed to converge. Check mle_retvals\n",
      "  \"Check mle_retvals\", ConvergenceWarning)\n"
     ]
    },
    {
     "name": "stdout",
     "output_type": "stream",
     "text": [
      "998219.4748756893\n",
      "82278\n",
      "61243274.38406565\n",
      "74165\n",
      "3759667.2956510223\n",
      "79128\n",
      "9719737.045621235\n",
      "72848\n",
      "2965412.1069036913\n",
      "78927\n",
      "156695306.38309187\n",
      "64854\n",
      "900552.8889689327\n",
      "87872\n",
      "1021816.7187793255\n",
      "58968\n",
      "7793335.666861726\n",
      "70360\n",
      "298930.01384363754\n",
      "91469\n",
      "11403567.194260815\n",
      "70830\n"
     ]
    },
    {
     "name": "stderr",
     "output_type": "stream",
     "text": [
      "C:\\Users\\Bronwen\\Anaconda3\\envs\\learn-env\\lib\\site-packages\\statsmodels\\base\\model.py:508: ConvergenceWarning: Maximum Likelihood optimization failed to converge. Check mle_retvals\n",
      "  \"Check mle_retvals\", ConvergenceWarning)\n"
     ]
    },
    {
     "name": "stdout",
     "output_type": "stream",
     "text": [
      "76895312.38178544\n",
      "62475\n",
      "14038707.655377066\n",
      "92156\n",
      "3802957.0375652895\n",
      "63944\n",
      "11848998.426555613\n",
      "89380\n"
     ]
    },
    {
     "name": "stderr",
     "output_type": "stream",
     "text": [
      "C:\\Users\\Bronwen\\Anaconda3\\envs\\learn-env\\lib\\site-packages\\statsmodels\\base\\model.py:508: ConvergenceWarning: Maximum Likelihood optimization failed to converge. Check mle_retvals\n",
      "  \"Check mle_retvals\", ConvergenceWarning)\n"
     ]
    },
    {
     "name": "stdout",
     "output_type": "stream",
     "text": [
      "9335720.29019241\n",
      "88626\n"
     ]
    },
    {
     "name": "stderr",
     "output_type": "stream",
     "text": [
      "C:\\Users\\Bronwen\\Anaconda3\\envs\\learn-env\\lib\\site-packages\\statsmodels\\base\\model.py:508: ConvergenceWarning: Maximum Likelihood optimization failed to converge. Check mle_retvals\n",
      "  \"Check mle_retvals\", ConvergenceWarning)\n"
     ]
    },
    {
     "name": "stdout",
     "output_type": "stream",
     "text": [
      "39333350.76657515\n",
      "86385\n",
      "127336559.82123375\n",
      "60151\n"
     ]
    },
    {
     "name": "stderr",
     "output_type": "stream",
     "text": [
      "C:\\Users\\Bronwen\\Anaconda3\\envs\\learn-env\\lib\\site-packages\\statsmodels\\base\\model.py:508: ConvergenceWarning: Maximum Likelihood optimization failed to converge. Check mle_retvals\n",
      "  \"Check mle_retvals\", ConvergenceWarning)\n"
     ]
    },
    {
     "name": "stdout",
     "output_type": "stream",
     "text": [
      "580259.6510415459\n",
      "91205\n",
      "1853789.7609529581\n",
      "91190\n",
      "5091841.842256479\n",
      "92007\n",
      "3619868.233725743\n",
      "89710\n",
      "6996596.065338412\n",
      "81328\n",
      "36708432.45926261\n",
      "91690\n"
     ]
    },
    {
     "name": "stderr",
     "output_type": "stream",
     "text": [
      "C:\\Users\\Bronwen\\Anaconda3\\envs\\learn-env\\lib\\site-packages\\statsmodels\\base\\model.py:508: ConvergenceWarning: Maximum Likelihood optimization failed to converge. Check mle_retvals\n",
      "  \"Check mle_retvals\", ConvergenceWarning)\n"
     ]
    },
    {
     "name": "stdout",
     "output_type": "stream",
     "text": [
      "1035745.726478454\n",
      "88558\n",
      "3974167.7795017683\n",
      "60561\n",
      "283560654.0243412\n",
      "84390\n"
     ]
    },
    {
     "name": "stderr",
     "output_type": "stream",
     "text": [
      "C:\\Users\\Bronwen\\Anaconda3\\envs\\learn-env\\lib\\site-packages\\statsmodels\\base\\model.py:508: ConvergenceWarning: Maximum Likelihood optimization failed to converge. Check mle_retvals\n",
      "  \"Check mle_retvals\", ConvergenceWarning)\n"
     ]
    },
    {
     "name": "stdout",
     "output_type": "stream",
     "text": [
      "3494076.608101853\n",
      "82046\n",
      "1328837.895248515\n",
      "60976\n",
      "148587005.63477284\n",
      "69402\n",
      "277861.56168743205\n",
      "60607\n",
      "53899234.06731033\n",
      "79146\n",
      "2498210.3982488937\n",
      "71797\n",
      "2995939.5499317297\n",
      "60965\n"
     ]
    },
    {
     "name": "stderr",
     "output_type": "stream",
     "text": [
      "C:\\Users\\Bronwen\\Anaconda3\\envs\\learn-env\\lib\\site-packages\\statsmodels\\base\\model.py:508: ConvergenceWarning: Maximum Likelihood optimization failed to converge. Check mle_retvals\n",
      "  \"Check mle_retvals\", ConvergenceWarning)\n"
     ]
    },
    {
     "name": "stdout",
     "output_type": "stream",
     "text": [
      "109129392.9307808\n",
      "94273\n",
      "20229877.312017076\n",
      "93946\n"
     ]
    },
    {
     "name": "stderr",
     "output_type": "stream",
     "text": [
      "C:\\Users\\Bronwen\\Anaconda3\\envs\\learn-env\\lib\\site-packages\\statsmodels\\base\\model.py:508: ConvergenceWarning: Maximum Likelihood optimization failed to converge. Check mle_retvals\n",
      "  \"Check mle_retvals\", ConvergenceWarning)\n"
     ]
    },
    {
     "name": "stdout",
     "output_type": "stream",
     "text": [
      "4841470.850825581\n",
      "91981\n",
      "143855.5273658325\n",
      "92541\n",
      "3287613.808685428\n",
      "77043\n"
     ]
    },
    {
     "name": "stderr",
     "output_type": "stream",
     "text": [
      "C:\\Users\\Bronwen\\Anaconda3\\envs\\learn-env\\lib\\site-packages\\statsmodels\\base\\model.py:508: ConvergenceWarning: Maximum Likelihood optimization failed to converge. Check mle_retvals\n",
      "  \"Check mle_retvals\", ConvergenceWarning)\n"
     ]
    },
    {
     "name": "stdout",
     "output_type": "stream",
     "text": [
      "960372.0128692336\n",
      "71181\n",
      "11701937.868541243\n",
      "95078\n"
     ]
    },
    {
     "name": "stderr",
     "output_type": "stream",
     "text": [
      "C:\\Users\\Bronwen\\Anaconda3\\envs\\learn-env\\lib\\site-packages\\statsmodels\\base\\model.py:508: ConvergenceWarning: Maximum Likelihood optimization failed to converge. Check mle_retvals\n",
      "  \"Check mle_retvals\", ConvergenceWarning)\n"
     ]
    },
    {
     "name": "stdout",
     "output_type": "stream",
     "text": [
      "23585557.481074803\n",
      "79794\n"
     ]
    },
    {
     "name": "stderr",
     "output_type": "stream",
     "text": [
      "C:\\Users\\Bronwen\\Anaconda3\\envs\\learn-env\\lib\\site-packages\\statsmodels\\base\\model.py:508: ConvergenceWarning: Maximum Likelihood optimization failed to converge. Check mle_retvals\n",
      "  \"Check mle_retvals\", ConvergenceWarning)\n"
     ]
    },
    {
     "name": "stdout",
     "output_type": "stream",
     "text": [
      "1759831.3034088886\n",
      "92114\n",
      "33023.88262931584\n",
      "58946\n",
      "54307729.61863744\n",
      "65027\n",
      "42820199.67355181\n",
      "84384\n"
     ]
    },
    {
     "name": "stderr",
     "output_type": "stream",
     "text": [
      "C:\\Users\\Bronwen\\Anaconda3\\envs\\learn-env\\lib\\site-packages\\statsmodels\\base\\model.py:508: ConvergenceWarning: Maximum Likelihood optimization failed to converge. Check mle_retvals\n",
      "  \"Check mle_retvals\", ConvergenceWarning)\n"
     ]
    },
    {
     "name": "stdout",
     "output_type": "stream",
     "text": [
      "4627773.775397885\n",
      "93025\n",
      "4508616.0061863195\n",
      "88808\n",
      "2180230.636533428\n",
      "77291\n",
      "1813151.9048324577\n",
      "97155\n",
      "1604525.5987203463\n",
      "70555\n",
      "3775594.4469697727\n",
      "71808\n",
      "60612271.57139273\n",
      "72652\n",
      "2106087.4163864413\n",
      "77036\n"
     ]
    },
    {
     "name": "stderr",
     "output_type": "stream",
     "text": [
      "C:\\Users\\Bronwen\\Anaconda3\\envs\\learn-env\\lib\\site-packages\\statsmodels\\base\\model.py:508: ConvergenceWarning: Maximum Likelihood optimization failed to converge. Check mle_retvals\n",
      "  \"Check mle_retvals\", ConvergenceWarning)\n"
     ]
    },
    {
     "name": "stdout",
     "output_type": "stream",
     "text": [
      "4304787.033615637\n",
      "86350\n",
      "66031285.564078346\n",
      "92106\n",
      "7475644.352868153\n",
      "61003\n"
     ]
    },
    {
     "name": "stderr",
     "output_type": "stream",
     "text": [
      "C:\\Users\\Bronwen\\Anaconda3\\envs\\learn-env\\lib\\site-packages\\statsmodels\\base\\model.py:508: ConvergenceWarning: Maximum Likelihood optimization failed to converge. Check mle_retvals\n",
      "  \"Check mle_retvals\", ConvergenceWarning)\n"
     ]
    },
    {
     "name": "stdout",
     "output_type": "stream",
     "text": [
      "36013327.12121408\n",
      "82469\n",
      "2554172.7572584637\n",
      "94929\n",
      "2108134.497314953\n",
      "60388\n",
      "24515781.50622236\n",
      "79572\n"
     ]
    },
    {
     "name": "stderr",
     "output_type": "stream",
     "text": [
      "C:\\Users\\Bronwen\\Anaconda3\\envs\\learn-env\\lib\\site-packages\\statsmodels\\base\\model.py:508: ConvergenceWarning: Maximum Likelihood optimization failed to converge. Check mle_retvals\n",
      "  \"Check mle_retvals\", ConvergenceWarning)\n"
     ]
    },
    {
     "name": "stdout",
     "output_type": "stream",
     "text": [
      "2473178.434808849\n",
      "71507\n"
     ]
    },
    {
     "name": "stderr",
     "output_type": "stream",
     "text": [
      "C:\\Users\\Bronwen\\Anaconda3\\envs\\learn-env\\lib\\site-packages\\statsmodels\\base\\model.py:508: ConvergenceWarning: Maximum Likelihood optimization failed to converge. Check mle_retvals\n",
      "  \"Check mle_retvals\", ConvergenceWarning)\n"
     ]
    },
    {
     "name": "stdout",
     "output_type": "stream",
     "text": [
      "3579351.2371896035\n",
      "67801\n",
      "83531132.23964357\n",
      "78952\n"
     ]
    },
    {
     "name": "stderr",
     "output_type": "stream",
     "text": [
      "C:\\Users\\Bronwen\\Anaconda3\\envs\\learn-env\\lib\\site-packages\\statsmodels\\base\\model.py:508: ConvergenceWarning: Maximum Likelihood optimization failed to converge. Check mle_retvals\n",
      "  \"Check mle_retvals\", ConvergenceWarning)\n"
     ]
    },
    {
     "name": "stdout",
     "output_type": "stream",
     "text": [
      "215274679.58429495\n",
      "72210\n",
      "275828.8439076683\n",
      "79735\n"
     ]
    },
    {
     "name": "stderr",
     "output_type": "stream",
     "text": [
      "C:\\Users\\Bronwen\\Anaconda3\\envs\\learn-env\\lib\\site-packages\\statsmodels\\base\\model.py:508: ConvergenceWarning: Maximum Likelihood optimization failed to converge. Check mle_retvals\n",
      "  \"Check mle_retvals\", ConvergenceWarning)\n"
     ]
    },
    {
     "name": "stdout",
     "output_type": "stream",
     "text": [
      "29265737.927120507\n",
      "59116\n",
      "60566261.101565816\n",
      "72668\n",
      "28122962.201693814\n",
      "88614\n",
      "15458123.569285363\n",
      "81325\n",
      "1758804.1343448856\n",
      "72796\n",
      "3274779.3930097125\n",
      "78591\n"
     ]
    },
    {
     "name": "stderr",
     "output_type": "stream",
     "text": [
      "C:\\Users\\Bronwen\\Anaconda3\\envs\\learn-env\\lib\\site-packages\\statsmodels\\base\\model.py:508: ConvergenceWarning: Maximum Likelihood optimization failed to converge. Check mle_retvals\n",
      "  \"Check mle_retvals\", ConvergenceWarning)\n"
     ]
    },
    {
     "name": "stdout",
     "output_type": "stream",
     "text": [
      "9918817.315022316\n",
      "90223\n",
      "59600946.302486\n",
      "82279\n",
      "886272.1696839724\n",
      "91562\n",
      "401038.9360533367\n",
      "95838\n"
     ]
    },
    {
     "name": "stderr",
     "output_type": "stream",
     "text": [
      "C:\\Users\\Bronwen\\Anaconda3\\envs\\learn-env\\lib\\site-packages\\statsmodels\\base\\model.py:508: ConvergenceWarning: Maximum Likelihood optimization failed to converge. Check mle_retvals\n",
      "  \"Check mle_retvals\", ConvergenceWarning)\n"
     ]
    },
    {
     "name": "stdout",
     "output_type": "stream",
     "text": [
      "729740.4510010419\n",
      "94911\n",
      "221248.24170300504\n",
      "74657\n"
     ]
    },
    {
     "name": "stderr",
     "output_type": "stream",
     "text": [
      "C:\\Users\\Bronwen\\Anaconda3\\envs\\learn-env\\lib\\site-packages\\statsmodels\\base\\model.py:508: ConvergenceWarning: Maximum Likelihood optimization failed to converge. Check mle_retvals\n",
      "  \"Check mle_retvals\", ConvergenceWarning)\n"
     ]
    },
    {
     "name": "stdout",
     "output_type": "stream",
     "text": [
      "24719960.988801323\n",
      "71180\n",
      "14736151.414942008\n",
      "78084\n"
     ]
    },
    {
     "name": "stderr",
     "output_type": "stream",
     "text": [
      "C:\\Users\\Bronwen\\Anaconda3\\envs\\learn-env\\lib\\site-packages\\statsmodels\\base\\model.py:508: ConvergenceWarning: Maximum Likelihood optimization failed to converge. Check mle_retvals\n",
      "  \"Check mle_retvals\", ConvergenceWarning)\n"
     ]
    },
    {
     "name": "stdout",
     "output_type": "stream",
     "text": [
      "2260935.5426482046\n",
      "91175\n",
      "2182101.1841625175\n",
      "70916\n",
      "320739.32934288046\n",
      "96784\n",
      "14498396.701861352\n",
      "71919\n",
      "4508843.507856196\n",
      "60694\n",
      "13670759.163996626\n",
      "99847\n",
      "31089187.87420081\n",
      "64749\n",
      "7603758.837542443\n",
      "91268\n",
      "9737052.434579656\n",
      "72686\n",
      "1038917.4511092438\n",
      "93948\n",
      "14723962.503802702\n",
      "72100\n",
      "45675505.28884834\n",
      "78049\n"
     ]
    },
    {
     "name": "stderr",
     "output_type": "stream",
     "text": [
      "C:\\Users\\Bronwen\\Anaconda3\\envs\\learn-env\\lib\\site-packages\\statsmodels\\base\\model.py:508: ConvergenceWarning: Maximum Likelihood optimization failed to converge. Check mle_retvals\n",
      "  \"Check mle_retvals\", ConvergenceWarning)\n"
     ]
    },
    {
     "name": "stdout",
     "output_type": "stream",
     "text": [
      "11889538.097664788\n",
      "84503\n"
     ]
    },
    {
     "name": "stderr",
     "output_type": "stream",
     "text": [
      "C:\\Users\\Bronwen\\Anaconda3\\envs\\learn-env\\lib\\site-packages\\statsmodels\\base\\model.py:508: ConvergenceWarning: Maximum Likelihood optimization failed to converge. Check mle_retvals\n",
      "  \"Check mle_retvals\", ConvergenceWarning)\n"
     ]
    },
    {
     "name": "stdout",
     "output_type": "stream",
     "text": [
      "966595.5086414296\n",
      "72804\n"
     ]
    },
    {
     "name": "stderr",
     "output_type": "stream",
     "text": [
      "C:\\Users\\Bronwen\\Anaconda3\\envs\\learn-env\\lib\\site-packages\\statsmodels\\base\\model.py:508: ConvergenceWarning: Maximum Likelihood optimization failed to converge. Check mle_retvals\n",
      "  \"Check mle_retvals\", ConvergenceWarning)\n"
     ]
    },
    {
     "name": "stdout",
     "output_type": "stream",
     "text": [
      "7182184.434355897\n",
      "72368\n",
      "892393.6027685624\n",
      "87887\n",
      "6459305.18925975\n",
      "94222\n",
      "1173432.211430849\n",
      "81327\n",
      "10649817.594768599\n",
      "74921\n",
      "90256955.50920258\n",
      "85893\n"
     ]
    },
    {
     "name": "stderr",
     "output_type": "stream",
     "text": [
      "C:\\Users\\Bronwen\\Anaconda3\\envs\\learn-env\\lib\\site-packages\\statsmodels\\base\\model.py:508: ConvergenceWarning: Maximum Likelihood optimization failed to converge. Check mle_retvals\n",
      "  \"Check mle_retvals\", ConvergenceWarning)\n"
     ]
    },
    {
     "name": "stdout",
     "output_type": "stream",
     "text": [
      "4129701.4009317295\n",
      "66718\n"
     ]
    },
    {
     "name": "stderr",
     "output_type": "stream",
     "text": [
      "C:\\Users\\Bronwen\\Anaconda3\\envs\\learn-env\\lib\\site-packages\\statsmodels\\base\\model.py:508: ConvergenceWarning: Maximum Likelihood optimization failed to converge. Check mle_retvals\n",
      "  \"Check mle_retvals\", ConvergenceWarning)\n"
     ]
    },
    {
     "name": "stdout",
     "output_type": "stream",
     "text": [
      "5864605.510584054\n",
      "81963\n",
      "9800377.193937303\n",
      "60610\n",
      "121219432.85835636\n",
      "88695\n"
     ]
    },
    {
     "name": "stderr",
     "output_type": "stream",
     "text": [
      "C:\\Users\\Bronwen\\Anaconda3\\envs\\learn-env\\lib\\site-packages\\statsmodels\\base\\model.py:508: ConvergenceWarning: Maximum Likelihood optimization failed to converge. Check mle_retvals\n",
      "  \"Check mle_retvals\", ConvergenceWarning)\n"
     ]
    },
    {
     "name": "stdout",
     "output_type": "stream",
     "text": [
      "7000096.731567763\n",
      "77413\n"
     ]
    },
    {
     "name": "stderr",
     "output_type": "stream",
     "text": [
      "C:\\Users\\Bronwen\\Anaconda3\\envs\\learn-env\\lib\\site-packages\\statsmodels\\base\\model.py:508: ConvergenceWarning: Maximum Likelihood optimization failed to converge. Check mle_retvals\n",
      "  \"Check mle_retvals\", ConvergenceWarning)\n"
     ]
    },
    {
     "name": "stdout",
     "output_type": "stream",
     "text": [
      "23950297.33125935\n",
      "99926\n",
      "17864876.213263012\n",
      "81822\n",
      "266759083.54431248\n",
      "95013\n",
      "2134100.3659806764\n",
      "73332\n",
      "215592.27748771413\n",
      "69661\n",
      "1074699.631890146\n",
      "96740\n",
      "16748903.385351866\n",
      "93114\n",
      "30865183.60981006\n",
      "84272\n",
      "19051337.089201983\n",
      "74520\n",
      "8186053.555271737\n",
      "71749\n",
      "15879930.146866918\n",
      "92426\n",
      "1804450.173539576\n",
      "98545\n",
      "25203769.98939067\n",
      "73046\n",
      "76456357.75094761\n",
      "62478\n",
      "14686033.04775771\n",
      "78063\n",
      "98269297.86578557\n",
      "86389\n",
      "5921726.993811913\n",
      "79775\n",
      "48759906.464807406\n",
      "93799\n"
     ]
    },
    {
     "name": "stderr",
     "output_type": "stream",
     "text": [
      "C:\\Users\\Bronwen\\Anaconda3\\envs\\learn-env\\lib\\site-packages\\statsmodels\\base\\model.py:508: ConvergenceWarning: Maximum Likelihood optimization failed to converge. Check mle_retvals\n",
      "  \"Check mle_retvals\", ConvergenceWarning)\n"
     ]
    },
    {
     "name": "stdout",
     "output_type": "stream",
     "text": [
      "18279493.583410658\n",
      "91203\n",
      "9467687.491655624\n",
      "73156\n",
      "10329919.672879867\n",
      "62354\n"
     ]
    },
    {
     "name": "stderr",
     "output_type": "stream",
     "text": [
      "C:\\Users\\Bronwen\\Anaconda3\\envs\\learn-env\\lib\\site-packages\\statsmodels\\base\\model.py:508: ConvergenceWarning: Maximum Likelihood optimization failed to converge. Check mle_retvals\n",
      "  \"Check mle_retvals\", ConvergenceWarning)\n"
     ]
    },
    {
     "name": "stdout",
     "output_type": "stream",
     "text": [
      "38666752.87814809\n",
      "93774\n"
     ]
    },
    {
     "name": "stderr",
     "output_type": "stream",
     "text": [
      "C:\\Users\\Bronwen\\Anaconda3\\envs\\learn-env\\lib\\site-packages\\statsmodels\\base\\model.py:508: ConvergenceWarning: Maximum Likelihood optimization failed to converge. Check mle_retvals\n",
      "  \"Check mle_retvals\", ConvergenceWarning)\n"
     ]
    },
    {
     "name": "stdout",
     "output_type": "stream",
     "text": [
      "2877807.7322846306\n",
      "85922\n",
      "6346132.685156519\n",
      "96788\n",
      "34436103.2239943\n",
      "92044\n"
     ]
    },
    {
     "name": "stderr",
     "output_type": "stream",
     "text": [
      "C:\\Users\\Bronwen\\Anaconda3\\envs\\learn-env\\lib\\site-packages\\statsmodels\\base\\model.py:508: ConvergenceWarning: Maximum Likelihood optimization failed to converge. Check mle_retvals\n",
      "  \"Check mle_retvals\", ConvergenceWarning)\n"
     ]
    },
    {
     "name": "stdout",
     "output_type": "stream",
     "text": [
      "628415.6990370875\n",
      "72822\n",
      "20973362.55756443\n",
      "77538\n"
     ]
    },
    {
     "name": "stderr",
     "output_type": "stream",
     "text": [
      "C:\\Users\\Bronwen\\Anaconda3\\envs\\learn-env\\lib\\site-packages\\statsmodels\\base\\model.py:508: ConvergenceWarning: Maximum Likelihood optimization failed to converge. Check mle_retvals\n",
      "  \"Check mle_retvals\", ConvergenceWarning)\n"
     ]
    },
    {
     "name": "stdout",
     "output_type": "stream",
     "text": [
      "5525668.870600456\n",
      "74390\n",
      "26644966.329925485\n",
      "71162\n"
     ]
    },
    {
     "name": "stderr",
     "output_type": "stream",
     "text": [
      "C:\\Users\\Bronwen\\Anaconda3\\envs\\learn-env\\lib\\site-packages\\statsmodels\\base\\model.py:508: ConvergenceWarning: Maximum Likelihood optimization failed to converge. Check mle_retvals\n",
      "  \"Check mle_retvals\", ConvergenceWarning)\n"
     ]
    },
    {
     "name": "stdout",
     "output_type": "stream",
     "text": [
      "97745516.42609969\n",
      "60950\n",
      "21510528.913825806\n",
      "64909\n"
     ]
    },
    {
     "name": "stderr",
     "output_type": "stream",
     "text": [
      "C:\\Users\\Bronwen\\Anaconda3\\envs\\learn-env\\lib\\site-packages\\statsmodels\\base\\model.py:508: ConvergenceWarning: Maximum Likelihood optimization failed to converge. Check mle_retvals\n",
      "  \"Check mle_retvals\", ConvergenceWarning)\n"
     ]
    },
    {
     "name": "stdout",
     "output_type": "stream",
     "text": [
      "8828868.059887229\n",
      "63628\n",
      "9498571.258988539\n",
      "77677\n",
      "3123573.7833757093\n",
      "95190\n",
      "2124189.6650085845\n",
      "63473\n"
     ]
    },
    {
     "name": "stderr",
     "output_type": "stream",
     "text": [
      "C:\\Users\\Bronwen\\Anaconda3\\envs\\learn-env\\lib\\site-packages\\statsmodels\\base\\model.py:508: ConvergenceWarning: Maximum Likelihood optimization failed to converge. Check mle_retvals\n",
      "  \"Check mle_retvals\", ConvergenceWarning)\n"
     ]
    },
    {
     "name": "stdout",
     "output_type": "stream",
     "text": [
      "23951357.81622783\n",
      "72694\n",
      "8923033.790826298\n",
      "91270\n",
      "7701126.140227492\n",
      "99313\n",
      "17801196.504130326\n",
      "63485\n",
      "144431.0778803349\n",
      "77151\n"
     ]
    },
    {
     "name": "stderr",
     "output_type": "stream",
     "text": [
      "C:\\Users\\Bronwen\\Anaconda3\\envs\\learn-env\\lib\\site-packages\\statsmodels\\base\\model.py:508: ConvergenceWarning: Maximum Likelihood optimization failed to converge. Check mle_retvals\n",
      "  \"Check mle_retvals\", ConvergenceWarning)\n"
     ]
    },
    {
     "name": "stdout",
     "output_type": "stream",
     "text": [
      "51093517.41198902\n",
      "84567\n"
     ]
    },
    {
     "name": "stderr",
     "output_type": "stream",
     "text": [
      "C:\\Users\\Bronwen\\Anaconda3\\envs\\learn-env\\lib\\site-packages\\statsmodels\\base\\model.py:508: ConvergenceWarning: Maximum Likelihood optimization failed to converge. Check mle_retvals\n",
      "  \"Check mle_retvals\", ConvergenceWarning)\n"
     ]
    },
    {
     "name": "stdout",
     "output_type": "stream",
     "text": [
      "95239647.29027219\n",
      "71196\n",
      "165022750.91092387\n",
      "94885\n",
      "10782052.019095805\n",
      "72235\n",
      "961249.4237755679\n",
      "79745\n",
      "195855.7815524626\n",
      "72307\n",
      "826183.6053240772\n",
      "97402\n",
      "31444687.333539486\n",
      "59259\n",
      "149618834.04803124\n",
      "70156\n",
      "62541.52165493053\n",
      "87107\n",
      "33353543.926778745\n",
      "95852\n",
      "2224812.3815048495\n",
      "98122\n"
     ]
    },
    {
     "name": "stderr",
     "output_type": "stream",
     "text": [
      "C:\\Users\\Bronwen\\Anaconda3\\envs\\learn-env\\lib\\site-packages\\statsmodels\\base\\model.py:508: ConvergenceWarning: Maximum Likelihood optimization failed to converge. Check mle_retvals\n",
      "  \"Check mle_retvals\", ConvergenceWarning)\n"
     ]
    },
    {
     "name": "stdout",
     "output_type": "stream",
     "text": [
      "335428364.0655533\n",
      "72004\n",
      "12125615.943727158\n",
      "87022\n",
      "13543513.747039774\n",
      "79797\n",
      "284121.32003389456\n",
      "80906\n",
      "1257429.568815051\n",
      "58980\n",
      "1230044.283400972\n",
      "84424\n",
      "225029692.0736277\n",
      "60931\n",
      "2189777.023294295\n",
      "79003\n"
     ]
    },
    {
     "name": "stderr",
     "output_type": "stream",
     "text": [
      "C:\\Users\\Bronwen\\Anaconda3\\envs\\learn-env\\lib\\site-packages\\statsmodels\\base\\model.py:508: ConvergenceWarning: Maximum Likelihood optimization failed to converge. Check mle_retvals\n",
      "  \"Check mle_retvals\", ConvergenceWarning)\n"
     ]
    },
    {
     "name": "stdout",
     "output_type": "stream",
     "text": [
      "46544414.196138695\n",
      "95083\n"
     ]
    },
    {
     "name": "stderr",
     "output_type": "stream",
     "text": [
      "C:\\Users\\Bronwen\\Anaconda3\\envs\\learn-env\\lib\\site-packages\\statsmodels\\base\\model.py:508: ConvergenceWarning: Maximum Likelihood optimization failed to converge. Check mle_retvals\n",
      "  \"Check mle_retvals\", ConvergenceWarning)\n"
     ]
    },
    {
     "name": "stdout",
     "output_type": "stream",
     "text": [
      "4795377.643214213\n",
      "71870\n",
      "14825675.37219913\n",
      "86333\n"
     ]
    },
    {
     "name": "stderr",
     "output_type": "stream",
     "text": [
      "C:\\Users\\Bronwen\\Anaconda3\\envs\\learn-env\\lib\\site-packages\\statsmodels\\base\\model.py:508: ConvergenceWarning: Maximum Likelihood optimization failed to converge. Check mle_retvals\n",
      "  \"Check mle_retvals\", ConvergenceWarning)\n"
     ]
    },
    {
     "name": "stdout",
     "output_type": "stream",
     "text": [
      "2100370.2504145987\n",
      "81965\n"
     ]
    },
    {
     "name": "stderr",
     "output_type": "stream",
     "text": [
      "C:\\Users\\Bronwen\\Anaconda3\\envs\\learn-env\\lib\\site-packages\\statsmodels\\base\\model.py:508: ConvergenceWarning: Maximum Likelihood optimization failed to converge. Check mle_retvals\n",
      "  \"Check mle_retvals\", ConvergenceWarning)\n"
     ]
    },
    {
     "name": "stdout",
     "output_type": "stream",
     "text": [
      "3051992.389522365\n",
      "63639\n"
     ]
    },
    {
     "name": "stderr",
     "output_type": "stream",
     "text": [
      "C:\\Users\\Bronwen\\Anaconda3\\envs\\learn-env\\lib\\site-packages\\statsmodels\\base\\model.py:508: ConvergenceWarning: Maximum Likelihood optimization failed to converge. Check mle_retvals\n",
      "  \"Check mle_retvals\", ConvergenceWarning)\n"
     ]
    },
    {
     "name": "stdout",
     "output_type": "stream",
     "text": [
      "419711.4197066676\n",
      "94145\n"
     ]
    },
    {
     "name": "stderr",
     "output_type": "stream",
     "text": [
      "C:\\Users\\Bronwen\\Anaconda3\\envs\\learn-env\\lib\\site-packages\\statsmodels\\base\\model.py:508: ConvergenceWarning: Maximum Likelihood optimization failed to converge. Check mle_retvals\n",
      "  \"Check mle_retvals\", ConvergenceWarning)\n"
     ]
    },
    {
     "name": "stdout",
     "output_type": "stream",
     "text": [
      "21490926.79758376\n",
      "71187\n",
      "3847314.6936061634\n",
      "77425\n"
     ]
    },
    {
     "name": "stderr",
     "output_type": "stream",
     "text": [
      "C:\\Users\\Bronwen\\Anaconda3\\envs\\learn-env\\lib\\site-packages\\statsmodels\\base\\model.py:508: ConvergenceWarning: Maximum Likelihood optimization failed to converge. Check mle_retvals\n",
      "  \"Check mle_retvals\", ConvergenceWarning)\n"
     ]
    },
    {
     "name": "stdout",
     "output_type": "stream",
     "text": [
      "61625081.34765805\n",
      "86330\n"
     ]
    },
    {
     "name": "stderr",
     "output_type": "stream",
     "text": [
      "C:\\Users\\Bronwen\\Anaconda3\\envs\\learn-env\\lib\\site-packages\\statsmodels\\base\\model.py:508: ConvergenceWarning: Maximum Likelihood optimization failed to converge. Check mle_retvals\n",
      "  \"Check mle_retvals\", ConvergenceWarning)\n"
     ]
    },
    {
     "name": "stdout",
     "output_type": "stream",
     "text": [
      "26169829.427267123\n",
      "58985\n"
     ]
    },
    {
     "name": "stderr",
     "output_type": "stream",
     "text": [
      "C:\\Users\\Bronwen\\Anaconda3\\envs\\learn-env\\lib\\site-packages\\statsmodels\\base\\model.py:508: ConvergenceWarning: Maximum Likelihood optimization failed to converge. Check mle_retvals\n",
      "  \"Check mle_retvals\", ConvergenceWarning)\n"
     ]
    },
    {
     "name": "stdout",
     "output_type": "stream",
     "text": [
      "50264607.302805685\n",
      "72835\n",
      "558725.0517174683\n",
      "77628\n"
     ]
    },
    {
     "name": "stderr",
     "output_type": "stream",
     "text": [
      "C:\\Users\\Bronwen\\Anaconda3\\envs\\learn-env\\lib\\site-packages\\statsmodels\\base\\model.py:508: ConvergenceWarning: Maximum Likelihood optimization failed to converge. Check mle_retvals\n",
      "  \"Check mle_retvals\", ConvergenceWarning)\n"
     ]
    },
    {
     "name": "stdout",
     "output_type": "stream",
     "text": [
      "19534001.74508067\n",
      "87118\n",
      "591531.7978862531\n",
      "85928\n",
      "9383216.051390085\n",
      "75862\n",
      "2012560.0327818473\n",
      "76976\n"
     ]
    },
    {
     "name": "stderr",
     "output_type": "stream",
     "text": [
      "C:\\Users\\Bronwen\\Anaconda3\\envs\\learn-env\\lib\\site-packages\\statsmodels\\base\\model.py:508: ConvergenceWarning: Maximum Likelihood optimization failed to converge. Check mle_retvals\n",
      "  \"Check mle_retvals\", ConvergenceWarning)\n"
     ]
    },
    {
     "name": "stdout",
     "output_type": "stream",
     "text": [
      "3750012.3815702843\n",
      "92587\n",
      "586442.3486352751\n",
      "70755\n",
      "154166254.63814774\n",
      "87119\n",
      "10049078.646764755\n",
      "94759\n",
      "3604648.590788518\n",
      "58366\n"
     ]
    },
    {
     "name": "stderr",
     "output_type": "stream",
     "text": [
      "C:\\Users\\Bronwen\\Anaconda3\\envs\\learn-env\\lib\\site-packages\\statsmodels\\base\\model.py:508: ConvergenceWarning: Maximum Likelihood optimization failed to converge. Check mle_retvals\n",
      "  \"Check mle_retvals\", ConvergenceWarning)\n"
     ]
    },
    {
     "name": "stdout",
     "output_type": "stream",
     "text": [
      "36680282.66388006\n",
      "81206\n"
     ]
    },
    {
     "name": "stderr",
     "output_type": "stream",
     "text": [
      "C:\\Users\\Bronwen\\Anaconda3\\envs\\learn-env\\lib\\site-packages\\statsmodels\\base\\model.py:508: ConvergenceWarning: Maximum Likelihood optimization failed to converge. Check mle_retvals\n",
      "  \"Check mle_retvals\", ConvergenceWarning)\n"
     ]
    },
    {
     "name": "stdout",
     "output_type": "stream",
     "text": [
      "32550230.044757385\n",
      "58231\n"
     ]
    },
    {
     "name": "stderr",
     "output_type": "stream",
     "text": [
      "C:\\Users\\Bronwen\\Anaconda3\\envs\\learn-env\\lib\\site-packages\\statsmodels\\base\\model.py:508: ConvergenceWarning: Maximum Likelihood optimization failed to converge. Check mle_retvals\n",
      "  \"Check mle_retvals\", ConvergenceWarning)\n"
     ]
    },
    {
     "name": "stdout",
     "output_type": "stream",
     "text": [
      "64236446.49233303\n",
      "70463\n",
      "169248.08635605275\n",
      "79870\n",
      "224905801.0280963\n",
      "71922\n",
      "36448364.54166216\n",
      "72892\n",
      "26872048.32414051\n",
      "87062\n",
      "265461.6730714649\n",
      "82890\n",
      "18134565.941997923\n",
      "94520\n",
      "1053518.479963194\n",
      "84501\n",
      "374063.473670886\n",
      "100161\n",
      "4835012.184091502\n",
      "97364\n",
      "1600593.3184645989\n",
      "84482\n"
     ]
    },
    {
     "name": "stderr",
     "output_type": "stream",
     "text": [
      "C:\\Users\\Bronwen\\Anaconda3\\envs\\learn-env\\lib\\site-packages\\statsmodels\\base\\model.py:508: ConvergenceWarning: Maximum Likelihood optimization failed to converge. Check mle_retvals\n",
      "  \"Check mle_retvals\", ConvergenceWarning)\n"
     ]
    },
    {
     "name": "stdout",
     "output_type": "stream",
     "text": [
      "12722279.87992489\n",
      "82087\n",
      "1114872.0182536119\n",
      "66821\n",
      "39373708.50802324\n",
      "73104\n",
      "10166112.538801115\n",
      "67506\n",
      "507501.48490113055\n",
      "91989\n"
     ]
    },
    {
     "name": "stderr",
     "output_type": "stream",
     "text": [
      "C:\\Users\\Bronwen\\Anaconda3\\envs\\learn-env\\lib\\site-packages\\statsmodels\\base\\model.py:508: ConvergenceWarning: Maximum Likelihood optimization failed to converge. Check mle_retvals\n",
      "  \"Check mle_retvals\", ConvergenceWarning)\n"
     ]
    },
    {
     "name": "stdout",
     "output_type": "stream",
     "text": [
      "44292235.27572026\n",
      "95511\n",
      "17201906.267166097\n",
      "65100\n",
      "29519932.993458033\n",
      "67746\n"
     ]
    },
    {
     "name": "stderr",
     "output_type": "stream",
     "text": [
      "C:\\Users\\Bronwen\\Anaconda3\\envs\\learn-env\\lib\\site-packages\\statsmodels\\base\\model.py:508: ConvergenceWarning: Maximum Likelihood optimization failed to converge. Check mle_retvals\n",
      "  \"Check mle_retvals\", ConvergenceWarning)\n"
     ]
    },
    {
     "name": "stdout",
     "output_type": "stream",
     "text": [
      "42474462.36321829\n",
      "62598\n",
      "19040725.94231107\n",
      "63580\n",
      "128530.57358572497\n",
      "65105\n",
      "8036720.299752101\n",
      "87518\n",
      "419572.5347930249\n",
      "87048\n",
      "5652965.655283557\n",
      "95094\n",
      "463144285.1284565\n",
      "68175\n"
     ]
    },
    {
     "name": "stderr",
     "output_type": "stream",
     "text": [
      "C:\\Users\\Bronwen\\Anaconda3\\envs\\learn-env\\lib\\site-packages\\statsmodels\\base\\model.py:508: ConvergenceWarning: Maximum Likelihood optimization failed to converge. Check mle_retvals\n",
      "  \"Check mle_retvals\", ConvergenceWarning)\n"
     ]
    },
    {
     "name": "stdout",
     "output_type": "stream",
     "text": [
      "57523904.81454058\n",
      "69338\n",
      "7148558.111908746\n",
      "94657\n"
     ]
    },
    {
     "name": "stderr",
     "output_type": "stream",
     "text": [
      "C:\\Users\\Bronwen\\Anaconda3\\envs\\learn-env\\lib\\site-packages\\statsmodels\\base\\model.py:508: ConvergenceWarning: Maximum Likelihood optimization failed to converge. Check mle_retvals\n",
      "  \"Check mle_retvals\", ConvergenceWarning)\n"
     ]
    },
    {
     "name": "stdout",
     "output_type": "stream",
     "text": [
      "9202088.540447388\n",
      "93856\n",
      "25664.707237497936\n",
      "81988\n"
     ]
    },
    {
     "name": "stderr",
     "output_type": "stream",
     "text": [
      "C:\\Users\\Bronwen\\Anaconda3\\envs\\learn-env\\lib\\site-packages\\statsmodels\\base\\model.py:508: ConvergenceWarning: Maximum Likelihood optimization failed to converge. Check mle_retvals\n",
      "  \"Check mle_retvals\", ConvergenceWarning)\n"
     ]
    },
    {
     "name": "stdout",
     "output_type": "stream",
     "text": [
      "2585511.459785073\n",
      "59072\n"
     ]
    },
    {
     "name": "stderr",
     "output_type": "stream",
     "text": [
      "C:\\Users\\Bronwen\\Anaconda3\\envs\\learn-env\\lib\\site-packages\\statsmodels\\base\\model.py:508: ConvergenceWarning: Maximum Likelihood optimization failed to converge. Check mle_retvals\n",
      "  \"Check mle_retvals\", ConvergenceWarning)\n"
     ]
    },
    {
     "name": "stdout",
     "output_type": "stream",
     "text": [
      "52876510.48098135\n",
      "67639\n"
     ]
    },
    {
     "name": "stderr",
     "output_type": "stream",
     "text": [
      "C:\\Users\\Bronwen\\Anaconda3\\envs\\learn-env\\lib\\site-packages\\statsmodels\\base\\model.py:508: ConvergenceWarning: Maximum Likelihood optimization failed to converge. Check mle_retvals\n",
      "  \"Check mle_retvals\", ConvergenceWarning)\n"
     ]
    },
    {
     "name": "stdout",
     "output_type": "stream",
     "text": [
      "40891184.86260164\n",
      "69856\n",
      "23058406.763249267\n",
      "73102\n",
      "1611841.8691378098\n",
      "79212\n"
     ]
    },
    {
     "name": "stderr",
     "output_type": "stream",
     "text": [
      "C:\\Users\\Bronwen\\Anaconda3\\envs\\learn-env\\lib\\site-packages\\statsmodels\\base\\model.py:508: ConvergenceWarning: Maximum Likelihood optimization failed to converge. Check mle_retvals\n",
      "  \"Check mle_retvals\", ConvergenceWarning)\n"
     ]
    },
    {
     "name": "stdout",
     "output_type": "stream",
     "text": [
      "2318148.3406792697\n",
      "82078\n",
      "8300098.936443833\n",
      "93936\n"
     ]
    },
    {
     "name": "stderr",
     "output_type": "stream",
     "text": [
      "C:\\Users\\Bronwen\\Anaconda3\\envs\\learn-env\\lib\\site-packages\\statsmodels\\base\\model.py:508: ConvergenceWarning: Maximum Likelihood optimization failed to converge. Check mle_retvals\n",
      "  \"Check mle_retvals\", ConvergenceWarning)\n"
     ]
    },
    {
     "name": "stdout",
     "output_type": "stream",
     "text": [
      "9017917.056636702\n",
      "98515\n",
      "1731046.9910047054\n",
      "65342\n"
     ]
    },
    {
     "name": "stderr",
     "output_type": "stream",
     "text": [
      "C:\\Users\\Bronwen\\Anaconda3\\envs\\learn-env\\lib\\site-packages\\statsmodels\\base\\model.py:508: ConvergenceWarning: Maximum Likelihood optimization failed to converge. Check mle_retvals\n",
      "  \"Check mle_retvals\", ConvergenceWarning)\n"
     ]
    },
    {
     "name": "stdout",
     "output_type": "stream",
     "text": [
      "8136300.260012987\n",
      "58328\n",
      "32393861.06933225\n",
      "94047\n"
     ]
    },
    {
     "name": "stderr",
     "output_type": "stream",
     "text": [
      "C:\\Users\\Bronwen\\Anaconda3\\envs\\learn-env\\lib\\site-packages\\statsmodels\\base\\model.py:508: ConvergenceWarning: Maximum Likelihood optimization failed to converge. Check mle_retvals\n",
      "  \"Check mle_retvals\", ConvergenceWarning)\n"
     ]
    },
    {
     "name": "stdout",
     "output_type": "stream",
     "text": [
      "14084523.526384344\n",
      "82280\n",
      "53089584.504101686\n",
      "72813\n",
      "14281814.954877084\n",
      "80156\n",
      "14585289.424756506\n",
      "92016\n"
     ]
    },
    {
     "name": "stderr",
     "output_type": "stream",
     "text": [
      "C:\\Users\\Bronwen\\Anaconda3\\envs\\learn-env\\lib\\site-packages\\statsmodels\\base\\model.py:508: ConvergenceWarning: Maximum Likelihood optimization failed to converge. Check mle_retvals\n",
      "  \"Check mle_retvals\", ConvergenceWarning)\n"
     ]
    },
    {
     "name": "stdout",
     "output_type": "stream",
     "text": [
      "17960549.627809197\n",
      "90249\n",
      "26519819.287674367\n",
      "60119\n"
     ]
    },
    {
     "name": "stderr",
     "output_type": "stream",
     "text": [
      "C:\\Users\\Bronwen\\Anaconda3\\envs\\learn-env\\lib\\site-packages\\statsmodels\\base\\model.py:508: ConvergenceWarning: Maximum Likelihood optimization failed to converge. Check mle_retvals\n",
      "  \"Check mle_retvals\", ConvergenceWarning)\n"
     ]
    },
    {
     "name": "stdout",
     "output_type": "stream",
     "text": [
      "11039849.800578991\n",
      "71785\n",
      "7071921.239771411\n",
      "72734\n",
      "68145289.20907834\n",
      "79787\n"
     ]
    },
    {
     "name": "stderr",
     "output_type": "stream",
     "text": [
      "C:\\Users\\Bronwen\\Anaconda3\\envs\\learn-env\\lib\\site-packages\\statsmodels\\base\\model.py:508: ConvergenceWarning: Maximum Likelihood optimization failed to converge. Check mle_retvals\n",
      "  \"Check mle_retvals\", ConvergenceWarning)\n"
     ]
    },
    {
     "name": "stdout",
     "output_type": "stream",
     "text": [
      "1386815.0262944386\n",
      "81228\n"
     ]
    },
    {
     "name": "stderr",
     "output_type": "stream",
     "text": [
      "C:\\Users\\Bronwen\\Anaconda3\\envs\\learn-env\\lib\\site-packages\\statsmodels\\base\\model.py:508: ConvergenceWarning: Maximum Likelihood optimization failed to converge. Check mle_retvals\n",
      "  \"Check mle_retvals\", ConvergenceWarning)\n"
     ]
    },
    {
     "name": "stdout",
     "output_type": "stream",
     "text": [
      "60932190.459515356\n",
      "77048\n"
     ]
    },
    {
     "name": "stderr",
     "output_type": "stream",
     "text": [
      "C:\\Users\\Bronwen\\Anaconda3\\envs\\learn-env\\lib\\site-packages\\statsmodels\\base\\model.py:508: ConvergenceWarning: Maximum Likelihood optimization failed to converge. Check mle_retvals\n",
      "  \"Check mle_retvals\", ConvergenceWarning)\n"
     ]
    },
    {
     "name": "stdout",
     "output_type": "stream",
     "text": [
      "1736440.3986860241\n",
      "80075\n",
      "1688823.5114439975\n",
      "71975\n",
      "41179762.108734086\n",
      "60633\n",
      "783966.1869586401\n",
      "90749\n",
      "5304668.233957824\n",
      "75558\n",
      "175079.0424675419\n",
      "92260\n",
      "19397770.336730767\n",
      "88705\n",
      "7086739.688982943\n",
      "92586\n"
     ]
    },
    {
     "name": "stderr",
     "output_type": "stream",
     "text": [
      "C:\\Users\\Bronwen\\Anaconda3\\envs\\learn-env\\lib\\site-packages\\statsmodels\\base\\model.py:508: ConvergenceWarning: Maximum Likelihood optimization failed to converge. Check mle_retvals\n",
      "  \"Check mle_retvals\", ConvergenceWarning)\n"
     ]
    },
    {
     "name": "stdout",
     "output_type": "stream",
     "text": [
      "2793971.440321444\n",
      "65326\n"
     ]
    },
    {
     "name": "stderr",
     "output_type": "stream",
     "text": [
      "C:\\Users\\Bronwen\\Anaconda3\\envs\\learn-env\\lib\\site-packages\\statsmodels\\base\\model.py:508: ConvergenceWarning: Maximum Likelihood optimization failed to converge. Check mle_retvals\n",
      "  \"Check mle_retvals\", ConvergenceWarning)\n"
     ]
    },
    {
     "name": "stdout",
     "output_type": "stream",
     "text": [
      "112339887.64689755\n",
      "82829\n",
      "34144066.19925755\n",
      "87875\n",
      "39931158.92582409\n",
      "82462\n",
      "4954393.812691515\n",
      "91265\n",
      "1892163.5686713322\n",
      "73191\n",
      "5076930.950753877\n",
      "73084\n",
      "1157529.6035676233\n",
      "92419\n",
      "629897.479893658\n",
      "66057\n",
      "1297506.9660447277\n",
      "60636\n",
      "77627533.71268426\n",
      "71498\n"
     ]
    },
    {
     "name": "stderr",
     "output_type": "stream",
     "text": [
      "C:\\Users\\Bronwen\\Anaconda3\\envs\\learn-env\\lib\\site-packages\\statsmodels\\base\\model.py:508: ConvergenceWarning: Maximum Likelihood optimization failed to converge. Check mle_retvals\n",
      "  \"Check mle_retvals\", ConvergenceWarning)\n"
     ]
    },
    {
     "name": "stdout",
     "output_type": "stream",
     "text": [
      "18909259.144152418\n",
      "60287\n",
      "3414275.864254041\n",
      "80283\n"
     ]
    },
    {
     "name": "stderr",
     "output_type": "stream",
     "text": [
      "C:\\Users\\Bronwen\\Anaconda3\\envs\\learn-env\\lib\\site-packages\\statsmodels\\base\\model.py:508: ConvergenceWarning: Maximum Likelihood optimization failed to converge. Check mle_retvals\n",
      "  \"Check mle_retvals\", ConvergenceWarning)\n"
     ]
    },
    {
     "name": "stdout",
     "output_type": "stream",
     "text": [
      "1406896.9509631202\n",
      "58442\n",
      "191554.33629519987\n",
      "72682\n",
      "24361720.683798797\n",
      "88590\n",
      "12927859.711628383\n",
      "72801\n",
      "10587787.540217489\n",
      "72948\n",
      "4841829.088113217\n",
      "74570\n",
      "5422032.784002007\n",
      "64857\n",
      "20781540.12140606\n",
      "84409\n",
      "1576283.4214754566\n",
      "78916\n",
      "90347972.75382587\n",
      "73056\n",
      "11265813.073337538\n",
      "74549\n",
      "5153952.055641195\n",
      "100376\n",
      "15370558.632526893\n",
      "72659\n",
      "1630035.594996292\n",
      "72817\n",
      "18299996.351312973\n",
      "94656\n"
     ]
    },
    {
     "name": "stderr",
     "output_type": "stream",
     "text": [
      "C:\\Users\\Bronwen\\Anaconda3\\envs\\learn-env\\lib\\site-packages\\statsmodels\\base\\model.py:508: ConvergenceWarning: Maximum Likelihood optimization failed to converge. Check mle_retvals\n",
      "  \"Check mle_retvals\", ConvergenceWarning)\n"
     ]
    },
    {
     "name": "stdout",
     "output_type": "stream",
     "text": [
      "9767308.737513611\n",
      "58449\n",
      "4174372.7410088265\n",
      "81429\n",
      "17061366.5771496\n",
      "67660\n",
      "6731413.677790901\n",
      "79720\n",
      "625945.990720534\n",
      "91308\n",
      "870358.2490787037\n",
      "84413\n",
      "167751867.18751806\n",
      "90879\n"
     ]
    },
    {
     "name": "stderr",
     "output_type": "stream",
     "text": [
      "C:\\Users\\Bronwen\\Anaconda3\\envs\\learn-env\\lib\\site-packages\\statsmodels\\base\\model.py:508: ConvergenceWarning: Maximum Likelihood optimization failed to converge. Check mle_retvals\n",
      "  \"Check mle_retvals\", ConvergenceWarning)\n"
     ]
    },
    {
     "name": "stdout",
     "output_type": "stream",
     "text": [
      "4247911.073023108\n",
      "69857\n",
      "5062564.046232292\n",
      "81276\n"
     ]
    },
    {
     "name": "stderr",
     "output_type": "stream",
     "text": [
      "C:\\Users\\Bronwen\\Anaconda3\\envs\\learn-env\\lib\\site-packages\\statsmodels\\base\\model.py:508: ConvergenceWarning: Maximum Likelihood optimization failed to converge. Check mle_retvals\n",
      "  \"Check mle_retvals\", ConvergenceWarning)\n"
     ]
    },
    {
     "name": "stdout",
     "output_type": "stream",
     "text": [
      "136839670.04336977\n",
      "58422\n",
      "13595878.102739954\n",
      "65978\n",
      "856398.6408705488\n",
      "75908\n",
      "5659832.47375675\n",
      "59920\n",
      "1124885.201418126\n",
      "94464\n"
     ]
    },
    {
     "name": "stderr",
     "output_type": "stream",
     "text": [
      "C:\\Users\\Bronwen\\Anaconda3\\envs\\learn-env\\lib\\site-packages\\statsmodels\\base\\model.py:508: ConvergenceWarning: Maximum Likelihood optimization failed to converge. Check mle_retvals\n",
      "  \"Check mle_retvals\", ConvergenceWarning)\n"
     ]
    },
    {
     "name": "stdout",
     "output_type": "stream",
     "text": [
      "37783782.46773758\n",
      "79689\n"
     ]
    },
    {
     "name": "stderr",
     "output_type": "stream",
     "text": [
      "C:\\Users\\Bronwen\\Anaconda3\\envs\\learn-env\\lib\\site-packages\\statsmodels\\base\\model.py:508: ConvergenceWarning: Maximum Likelihood optimization failed to converge. Check mle_retvals\n",
      "  \"Check mle_retvals\", ConvergenceWarning)\n"
     ]
    },
    {
     "name": "stdout",
     "output_type": "stream",
     "text": [
      "22673773.321158387\n",
      "92555\n"
     ]
    },
    {
     "name": "stderr",
     "output_type": "stream",
     "text": [
      "C:\\Users\\Bronwen\\Anaconda3\\envs\\learn-env\\lib\\site-packages\\statsmodels\\base\\model.py:508: ConvergenceWarning: Maximum Likelihood optimization failed to converge. Check mle_retvals\n",
      "  \"Check mle_retvals\", ConvergenceWarning)\n"
     ]
    },
    {
     "name": "stdout",
     "output_type": "stream",
     "text": [
      "72286525.9944551\n",
      "78741\n"
     ]
    },
    {
     "name": "stderr",
     "output_type": "stream",
     "text": [
      "C:\\Users\\Bronwen\\Anaconda3\\envs\\learn-env\\lib\\site-packages\\statsmodels\\base\\model.py:508: ConvergenceWarning: Maximum Likelihood optimization failed to converge. Check mle_retvals\n",
      "  \"Check mle_retvals\", ConvergenceWarning)\n"
     ]
    },
    {
     "name": "stdout",
     "output_type": "stream",
     "text": [
      "29683349.31701401\n",
      "84212\n",
      "816988.6647307712\n",
      "79395\n",
      "26484072.58705144\n",
      "78948\n",
      "34589842.88415117\n",
      "60367\n",
      "107613970.56883398\n",
      "78109\n"
     ]
    },
    {
     "name": "stderr",
     "output_type": "stream",
     "text": [
      "C:\\Users\\Bronwen\\Anaconda3\\envs\\learn-env\\lib\\site-packages\\statsmodels\\base\\model.py:508: ConvergenceWarning: Maximum Likelihood optimization failed to converge. Check mle_retvals\n",
      "  \"Check mle_retvals\", ConvergenceWarning)\n"
     ]
    },
    {
     "name": "stdout",
     "output_type": "stream",
     "text": [
      "22473654.97778405\n",
      "87873\n"
     ]
    },
    {
     "name": "stderr",
     "output_type": "stream",
     "text": [
      "C:\\Users\\Bronwen\\Anaconda3\\envs\\learn-env\\lib\\site-packages\\statsmodels\\base\\model.py:508: ConvergenceWarning: Maximum Likelihood optimization failed to converge. Check mle_retvals\n",
      "  \"Check mle_retvals\", ConvergenceWarning)\n"
     ]
    },
    {
     "name": "stdout",
     "output_type": "stream",
     "text": [
      "998537.7152691126\n",
      "91217\n",
      "522261.2056853026\n",
      "92635\n",
      "404688.0663895983\n",
      "66029\n",
      "2304725.1085544853\n",
      "69273\n"
     ]
    },
    {
     "name": "stderr",
     "output_type": "stream",
     "text": [
      "C:\\Users\\Bronwen\\Anaconda3\\envs\\learn-env\\lib\\site-packages\\statsmodels\\base\\model.py:508: ConvergenceWarning: Maximum Likelihood optimization failed to converge. Check mle_retvals\n",
      "  \"Check mle_retvals\", ConvergenceWarning)\n"
     ]
    },
    {
     "name": "stdout",
     "output_type": "stream",
     "text": [
      "41726.17190283739\n",
      "81308\n",
      "1907778.501359795\n",
      "86290\n",
      "1373293.7647765458\n",
      "76726\n",
      "1657465.1258335859\n",
      "85877\n"
     ]
    },
    {
     "name": "stderr",
     "output_type": "stream",
     "text": [
      "C:\\Users\\Bronwen\\Anaconda3\\envs\\learn-env\\lib\\site-packages\\statsmodels\\base\\model.py:508: ConvergenceWarning: Maximum Likelihood optimization failed to converge. Check mle_retvals\n",
      "  \"Check mle_retvals\", ConvergenceWarning)\n"
     ]
    },
    {
     "name": "stdout",
     "output_type": "stream",
     "text": [
      "142032941.00486916\n",
      "61072\n",
      "142691529.651784\n",
      "91832\n",
      "1596079.3865976632\n",
      "69438\n",
      "29316313.272962235\n",
      "417443\n",
      "42134573.60791447\n",
      "80793\n",
      "1005946.759198108\n",
      "63830\n",
      "44099089.46596795\n",
      "73310\n"
     ]
    },
    {
     "name": "stderr",
     "output_type": "stream",
     "text": [
      "C:\\Users\\Bronwen\\Anaconda3\\envs\\learn-env\\lib\\site-packages\\statsmodels\\base\\model.py:508: ConvergenceWarning: Maximum Likelihood optimization failed to converge. Check mle_retvals\n",
      "  \"Check mle_retvals\", ConvergenceWarning)\n"
     ]
    },
    {
     "name": "stdout",
     "output_type": "stream",
     "text": [
      "5804634.844308148\n",
      "94228\n",
      "260285.1489560019\n",
      "99304\n",
      "36883418.52066372\n",
      "72945\n",
      "11993400.905765926\n",
      "71163\n",
      "7278890.802334887\n",
      "82222\n"
     ]
    },
    {
     "name": "stderr",
     "output_type": "stream",
     "text": [
      "C:\\Users\\Bronwen\\Anaconda3\\envs\\learn-env\\lib\\site-packages\\statsmodels\\base\\model.py:508: ConvergenceWarning: Maximum Likelihood optimization failed to converge. Check mle_retvals\n",
      "  \"Check mle_retvals\", ConvergenceWarning)\n"
     ]
    },
    {
     "name": "stdout",
     "output_type": "stream",
     "text": [
      "88001690.70286798\n",
      "67460\n",
      "12417350.595333233\n",
      "88641\n",
      "24645089.16952069\n",
      "63932\n",
      "4698521.271381995\n",
      "67302\n"
     ]
    },
    {
     "name": "stderr",
     "output_type": "stream",
     "text": [
      "C:\\Users\\Bronwen\\Anaconda3\\envs\\learn-env\\lib\\site-packages\\statsmodels\\base\\model.py:508: ConvergenceWarning: Maximum Likelihood optimization failed to converge. Check mle_retvals\n",
      "  \"Check mle_retvals\", ConvergenceWarning)\n"
     ]
    },
    {
     "name": "stdout",
     "output_type": "stream",
     "text": [
      "2283424.017711545\n",
      "60259\n",
      "6638508.145125356\n",
      "73479\n"
     ]
    },
    {
     "name": "stderr",
     "output_type": "stream",
     "text": [
      "C:\\Users\\Bronwen\\Anaconda3\\envs\\learn-env\\lib\\site-packages\\statsmodels\\base\\model.py:508: ConvergenceWarning: Maximum Likelihood optimization failed to converge. Check mle_retvals\n",
      "  \"Check mle_retvals\", ConvergenceWarning)\n"
     ]
    },
    {
     "name": "stdout",
     "output_type": "stream",
     "text": [
      "220908.2897756732\n",
      "84382\n",
      "61187914.266979\n",
      "79698\n"
     ]
    },
    {
     "name": "stderr",
     "output_type": "stream",
     "text": [
      "C:\\Users\\Bronwen\\Anaconda3\\envs\\learn-env\\lib\\site-packages\\statsmodels\\base\\model.py:508: ConvergenceWarning: Maximum Likelihood optimization failed to converge. Check mle_retvals\n",
      "  \"Check mle_retvals\", ConvergenceWarning)\n"
     ]
    },
    {
     "name": "stdout",
     "output_type": "stream",
     "text": [
      "475765.57600581774\n",
      "83904\n",
      "364145.3340343371\n",
      "82034\n",
      "814818432.8318039\n",
      "98913\n",
      "70957249.22299258\n",
      "75717\n",
      "169468.652193078\n",
      "72806\n",
      "194737539.65049854\n",
      "85891\n",
      "11488890.802476479\n",
      "83402\n",
      "527007.3822422151\n",
      "93801\n"
     ]
    },
    {
     "name": "stderr",
     "output_type": "stream",
     "text": [
      "C:\\Users\\Bronwen\\Anaconda3\\envs\\learn-env\\lib\\site-packages\\statsmodels\\base\\model.py:508: ConvergenceWarning: Maximum Likelihood optimization failed to converge. Check mle_retvals\n",
      "  \"Check mle_retvals\", ConvergenceWarning)\n"
     ]
    },
    {
     "name": "stdout",
     "output_type": "stream",
     "text": [
      "2568740.186066346\n",
      "70751\n",
      "4650758.807026011\n",
      "91196\n",
      "2367308.4503984554\n",
      "95031\n",
      "1077350254.0971723\n",
      "72678\n",
      "7104350.855866042\n",
      "81192\n",
      "778048897.3281914\n",
      "71736\n"
     ]
    },
    {
     "name": "stderr",
     "output_type": "stream",
     "text": [
      "C:\\Users\\Bronwen\\Anaconda3\\envs\\learn-env\\lib\\site-packages\\statsmodels\\base\\model.py:508: ConvergenceWarning: Maximum Likelihood optimization failed to converge. Check mle_retvals\n",
      "  \"Check mle_retvals\", ConvergenceWarning)\n"
     ]
    },
    {
     "name": "stdout",
     "output_type": "stream",
     "text": [
      "43350827.80504048\n",
      "84506\n"
     ]
    },
    {
     "name": "stderr",
     "output_type": "stream",
     "text": [
      "C:\\Users\\Bronwen\\Anaconda3\\envs\\learn-env\\lib\\site-packages\\statsmodels\\base\\model.py:508: ConvergenceWarning: Maximum Likelihood optimization failed to converge. Check mle_retvals\n",
      "  \"Check mle_retvals\", ConvergenceWarning)\n"
     ]
    },
    {
     "name": "stdout",
     "output_type": "stream",
     "text": [
      "23608116.39691342\n",
      "100015\n"
     ]
    },
    {
     "name": "stderr",
     "output_type": "stream",
     "text": [
      "C:\\Users\\Bronwen\\Anaconda3\\envs\\learn-env\\lib\\site-packages\\statsmodels\\base\\model.py:508: ConvergenceWarning: Maximum Likelihood optimization failed to converge. Check mle_retvals\n",
      "  \"Check mle_retvals\", ConvergenceWarning)\n"
     ]
    },
    {
     "name": "stdout",
     "output_type": "stream",
     "text": [
      "73542061.12004428\n",
      "82463\n",
      "3232386.409489341\n",
      "69435\n"
     ]
    },
    {
     "name": "stderr",
     "output_type": "stream",
     "text": [
      "C:\\Users\\Bronwen\\Anaconda3\\envs\\learn-env\\lib\\site-packages\\statsmodels\\base\\model.py:508: ConvergenceWarning: Maximum Likelihood optimization failed to converge. Check mle_retvals\n",
      "  \"Check mle_retvals\", ConvergenceWarning)\n"
     ]
    },
    {
     "name": "stdout",
     "output_type": "stream",
     "text": [
      "5487588.407439159\n",
      "78083\n",
      "20642802.12943649\n",
      "65734\n",
      "50966808.41943842\n",
      "72341\n",
      "80089787.0541958\n",
      "70747\n",
      "2344132.5667095315\n",
      "69756\n",
      "1158279.7889129682\n",
      "79218\n"
     ]
    },
    {
     "name": "stderr",
     "output_type": "stream",
     "text": [
      "C:\\Users\\Bronwen\\Anaconda3\\envs\\learn-env\\lib\\site-packages\\statsmodels\\base\\model.py:508: ConvergenceWarning: Maximum Likelihood optimization failed to converge. Check mle_retvals\n",
      "  \"Check mle_retvals\", ConvergenceWarning)\n"
     ]
    },
    {
     "name": "stdout",
     "output_type": "stream",
     "text": [
      "4374563.386422775\n",
      "90880\n",
      "4316505.107003097\n",
      "72891\n"
     ]
    },
    {
     "name": "stderr",
     "output_type": "stream",
     "text": [
      "C:\\Users\\Bronwen\\Anaconda3\\envs\\learn-env\\lib\\site-packages\\statsmodels\\base\\model.py:508: ConvergenceWarning: Maximum Likelihood optimization failed to converge. Check mle_retvals\n",
      "  \"Check mle_retvals\", ConvergenceWarning)\n"
     ]
    },
    {
     "name": "stdout",
     "output_type": "stream",
     "text": [
      "20683556.635505386\n",
      "60708\n",
      "140687799.07248917\n",
      "95033\n",
      "26615868.214959614\n",
      "98514\n",
      "1115075.9565689713\n",
      "97357\n",
      "5378909.030871453\n",
      "91993\n",
      "138904.51671692572\n",
      "69996\n",
      "40743191.06769491\n",
      "63907\n",
      "17702168.17168387\n",
      "70613\n",
      "5104046.583405142\n",
      "79413\n",
      "25727287.11088831\n",
      "65975\n",
      "1983025.2385593287\n",
      "64400\n",
      "818332.7827397145\n",
      "91343\n",
      "187919.02051924533\n",
      "72142\n",
      "18749228.119223613\n",
      "85903\n"
     ]
    },
    {
     "name": "stderr",
     "output_type": "stream",
     "text": [
      "C:\\Users\\Bronwen\\Anaconda3\\envs\\learn-env\\lib\\site-packages\\statsmodels\\base\\model.py:508: ConvergenceWarning: Maximum Likelihood optimization failed to converge. Check mle_retvals\n",
      "  \"Check mle_retvals\", ConvergenceWarning)\n"
     ]
    },
    {
     "name": "stdout",
     "output_type": "stream",
     "text": [
      "4727675.573276377\n",
      "91263\n",
      "360971.908709763\n",
      "69977\n",
      "33883633.283288874\n",
      "72110\n",
      "65044468.29318833\n",
      "99243\n"
     ]
    },
    {
     "name": "stderr",
     "output_type": "stream",
     "text": [
      "C:\\Users\\Bronwen\\Anaconda3\\envs\\learn-env\\lib\\site-packages\\statsmodels\\base\\model.py:508: ConvergenceWarning: Maximum Likelihood optimization failed to converge. Check mle_retvals\n",
      "  \"Check mle_retvals\", ConvergenceWarning)\n"
     ]
    },
    {
     "name": "stdout",
     "output_type": "stream",
     "text": [
      "61122501.571441546\n",
      "63868\n",
      "61271056.63085823\n",
      "60859\n",
      "111017394.65355685\n",
      "72131\n",
      "4208412.431483695\n",
      "85278\n",
      "74866157.95620458\n",
      "85406\n",
      "32309579.094991315\n",
      "75516\n",
      "2638249.3974589612\n",
      "77524\n"
     ]
    },
    {
     "name": "stderr",
     "output_type": "stream",
     "text": [
      "C:\\Users\\Bronwen\\Anaconda3\\envs\\learn-env\\lib\\site-packages\\statsmodels\\base\\model.py:508: ConvergenceWarning: Maximum Likelihood optimization failed to converge. Check mle_retvals\n",
      "  \"Check mle_retvals\", ConvergenceWarning)\n"
     ]
    },
    {
     "name": "stdout",
     "output_type": "stream",
     "text": [
      "5646226.9046369735\n",
      "91938\n",
      "35239841.88148316\n",
      "91963\n",
      "1331164.957772374\n",
      "95299\n"
     ]
    },
    {
     "name": "stderr",
     "output_type": "stream",
     "text": [
      "C:\\Users\\Bronwen\\Anaconda3\\envs\\learn-env\\lib\\site-packages\\statsmodels\\base\\model.py:508: ConvergenceWarning: Maximum Likelihood optimization failed to converge. Check mle_retvals\n",
      "  \"Check mle_retvals\", ConvergenceWarning)\n"
     ]
    },
    {
     "name": "stdout",
     "output_type": "stream",
     "text": [
      "23274662.57732647\n",
      "78906\n",
      "10510237.268996505\n",
      "91067\n",
      "661476.5548165257\n",
      "63021\n",
      "171971.20851936148\n",
      "77314\n",
      "20022757.18618806\n",
      "80794\n"
     ]
    },
    {
     "name": "stderr",
     "output_type": "stream",
     "text": [
      "C:\\Users\\Bronwen\\Anaconda3\\envs\\learn-env\\lib\\site-packages\\statsmodels\\base\\model.py:508: ConvergenceWarning: Maximum Likelihood optimization failed to converge. Check mle_retvals\n",
      "  \"Check mle_retvals\", ConvergenceWarning)\n"
     ]
    },
    {
     "name": "stdout",
     "output_type": "stream",
     "text": [
      "7502175.235857236\n",
      "90658\n",
      "2497994.7223982834\n",
      "74477\n",
      "97497.5876337409\n",
      "73245\n",
      "10767933.578183029\n",
      "89459\n"
     ]
    },
    {
     "name": "stderr",
     "output_type": "stream",
     "text": [
      "C:\\Users\\Bronwen\\Anaconda3\\envs\\learn-env\\lib\\site-packages\\statsmodels\\base\\model.py:508: ConvergenceWarning: Maximum Likelihood optimization failed to converge. Check mle_retvals\n",
      "  \"Check mle_retvals\", ConvergenceWarning)\n"
     ]
    },
    {
     "name": "stdout",
     "output_type": "stream",
     "text": [
      "8438395.441450251\n",
      "81193\n",
      "13615622.238129672\n",
      "66924\n",
      "3262178.6189918546\n",
      "62932\n"
     ]
    },
    {
     "name": "stderr",
     "output_type": "stream",
     "text": [
      "C:\\Users\\Bronwen\\Anaconda3\\envs\\learn-env\\lib\\site-packages\\statsmodels\\base\\model.py:508: ConvergenceWarning: Maximum Likelihood optimization failed to converge. Check mle_retvals\n",
      "  \"Check mle_retvals\", ConvergenceWarning)\n"
     ]
    },
    {
     "name": "stdout",
     "output_type": "stream",
     "text": [
      "13709151.0581812\n",
      "82108\n",
      "61454392.47079482\n",
      "65082\n",
      "4416349.903086367\n",
      "65983\n",
      "1880079.890527774\n",
      "72663\n",
      "35837506.86381379\n",
      "94147\n",
      "29852782.771893192\n",
      "72570\n",
      "25739471.576898254\n",
      "62647\n",
      "27627334.793037437\n",
      "72373\n"
     ]
    },
    {
     "name": "stderr",
     "output_type": "stream",
     "text": [
      "C:\\Users\\Bronwen\\Anaconda3\\envs\\learn-env\\lib\\site-packages\\statsmodels\\base\\model.py:508: ConvergenceWarning: Maximum Likelihood optimization failed to converge. Check mle_retvals\n",
      "  \"Check mle_retvals\", ConvergenceWarning)\n"
     ]
    },
    {
     "name": "stdout",
     "output_type": "stream",
     "text": [
      "23815160.380557884\n",
      "84509\n"
     ]
    },
    {
     "name": "stderr",
     "output_type": "stream",
     "text": [
      "C:\\Users\\Bronwen\\Anaconda3\\envs\\learn-env\\lib\\site-packages\\statsmodels\\base\\model.py:508: ConvergenceWarning: Maximum Likelihood optimization failed to converge. Check mle_retvals\n",
      "  \"Check mle_retvals\", ConvergenceWarning)\n"
     ]
    },
    {
     "name": "stdout",
     "output_type": "stream",
     "text": [
      "5752247.366949623\n",
      "60906\n"
     ]
    },
    {
     "name": "stderr",
     "output_type": "stream",
     "text": [
      "C:\\Users\\Bronwen\\Anaconda3\\envs\\learn-env\\lib\\site-packages\\statsmodels\\base\\model.py:508: ConvergenceWarning: Maximum Likelihood optimization failed to converge. Check mle_retvals\n",
      "  \"Check mle_retvals\", ConvergenceWarning)\n"
     ]
    },
    {
     "name": "stdout",
     "output_type": "stream",
     "text": [
      "6276970.982776882\n",
      "93636\n",
      "130811.69646217162\n",
      "73146\n",
      "55098497.69685878\n",
      "74154\n",
      "12214909.256279547\n",
      "68606\n",
      "2316506382.7533746\n",
      "74474\n",
      "4868351.313936032\n",
      "72070\n",
      "23853956.476668715\n",
      "79410\n",
      "74694427.8348516\n",
      "77396\n",
      "16939882.2067964\n",
      "97160\n",
      "111198097.18825535\n",
      "75890\n",
      "1614181.7915307754\n",
      "71259\n",
      "169323.06270864635\n",
      "69179\n"
     ]
    },
    {
     "name": "stderr",
     "output_type": "stream",
     "text": [
      "C:\\Users\\Bronwen\\Anaconda3\\envs\\learn-env\\lib\\site-packages\\statsmodels\\base\\model.py:508: ConvergenceWarning: Maximum Likelihood optimization failed to converge. Check mle_retvals\n",
      "  \"Check mle_retvals\", ConvergenceWarning)\n"
     ]
    },
    {
     "name": "stdout",
     "output_type": "stream",
     "text": [
      "8499510.90795043\n",
      "91328\n"
     ]
    },
    {
     "name": "stderr",
     "output_type": "stream",
     "text": [
      "C:\\Users\\Bronwen\\Anaconda3\\envs\\learn-env\\lib\\site-packages\\statsmodels\\base\\model.py:508: ConvergenceWarning: Maximum Likelihood optimization failed to converge. Check mle_retvals\n",
      "  \"Check mle_retvals\", ConvergenceWarning)\n"
     ]
    },
    {
     "name": "stdout",
     "output_type": "stream",
     "text": [
      "16839030.960341167\n",
      "72192\n",
      "73375182.2235417\n",
      "65053\n",
      "38632989.93800111\n",
      "60133\n"
     ]
    },
    {
     "name": "stderr",
     "output_type": "stream",
     "text": [
      "C:\\Users\\Bronwen\\Anaconda3\\envs\\learn-env\\lib\\site-packages\\statsmodels\\base\\model.py:508: ConvergenceWarning: Maximum Likelihood optimization failed to converge. Check mle_retvals\n",
      "  \"Check mle_retvals\", ConvergenceWarning)\n"
     ]
    },
    {
     "name": "stdout",
     "output_type": "stream",
     "text": [
      "743987.0785909032\n",
      "78186\n",
      "43276428.27387979\n",
      "82073\n"
     ]
    },
    {
     "name": "stderr",
     "output_type": "stream",
     "text": [
      "C:\\Users\\Bronwen\\Anaconda3\\envs\\learn-env\\lib\\site-packages\\statsmodels\\base\\model.py:508: ConvergenceWarning: Maximum Likelihood optimization failed to converge. Check mle_retvals\n",
      "  \"Check mle_retvals\", ConvergenceWarning)\n"
     ]
    },
    {
     "name": "stdout",
     "output_type": "stream",
     "text": [
      "212587872.6536767\n",
      "80212\n"
     ]
    },
    {
     "name": "stderr",
     "output_type": "stream",
     "text": [
      "C:\\Users\\Bronwen\\Anaconda3\\envs\\learn-env\\lib\\site-packages\\statsmodels\\base\\model.py:508: ConvergenceWarning: Maximum Likelihood optimization failed to converge. Check mle_retvals\n",
      "  \"Check mle_retvals\", ConvergenceWarning)\n"
     ]
    },
    {
     "name": "stdout",
     "output_type": "stream",
     "text": [
      "32914462.49396913\n",
      "85197\n",
      "1999308.6918109283\n",
      "78953\n",
      "5616388.3796821805\n",
      "69740\n",
      "826460.5481669474\n",
      "75918\n",
      "1534387.9944301753\n",
      "86327\n",
      "1907075.6941458017\n",
      "65796\n",
      "120816179.87031956\n",
      "65332\n"
     ]
    },
    {
     "name": "stderr",
     "output_type": "stream",
     "text": [
      "C:\\Users\\Bronwen\\Anaconda3\\envs\\learn-env\\lib\\site-packages\\statsmodels\\base\\model.py:508: ConvergenceWarning: Maximum Likelihood optimization failed to converge. Check mle_retvals\n",
      "  \"Check mle_retvals\", ConvergenceWarning)\n"
     ]
    },
    {
     "name": "stdout",
     "output_type": "stream",
     "text": [
      "16161996.814305216\n",
      "82104\n",
      "1296107.6155711408\n",
      "63413\n",
      "49353098.531776205\n",
      "65108\n",
      "7777354.964836578\n",
      "82059\n",
      "442420425.35297745\n",
      "94006\n",
      "24227367.741583545\n",
      "67352\n",
      "1261002.1442865287\n",
      "86347\n",
      "201454125.04143444\n",
      "88768\n",
      "11451428.6310303\n",
      "100205\n"
     ]
    },
    {
     "name": "stderr",
     "output_type": "stream",
     "text": [
      "C:\\Users\\Bronwen\\Anaconda3\\envs\\learn-env\\lib\\site-packages\\statsmodels\\base\\model.py:508: ConvergenceWarning: Maximum Likelihood optimization failed to converge. Check mle_retvals\n",
      "  \"Check mle_retvals\", ConvergenceWarning)\n"
     ]
    },
    {
     "name": "stdout",
     "output_type": "stream",
     "text": [
      "3873922.2398245027\n",
      "74872\n",
      "8379162.165762538\n",
      "62297\n",
      "205705411.9582588\n",
      "88455\n",
      "708215.3952704424\n",
      "92550\n",
      "12293915.921460595\n",
      "399580\n",
      "5875128.826897575\n",
      "62461\n"
     ]
    },
    {
     "name": "stderr",
     "output_type": "stream",
     "text": [
      "C:\\Users\\Bronwen\\Anaconda3\\envs\\learn-env\\lib\\site-packages\\statsmodels\\base\\model.py:508: ConvergenceWarning: Maximum Likelihood optimization failed to converge. Check mle_retvals\n",
      "  \"Check mle_retvals\", ConvergenceWarning)\n"
     ]
    },
    {
     "name": "stdout",
     "output_type": "stream",
     "text": [
      "24643406.297363825\n",
      "65988\n",
      "9589787.01774699\n",
      "84731\n",
      "1514734.0884696587\n",
      "100000\n",
      "12398898.682601025\n",
      "74952\n"
     ]
    },
    {
     "name": "stderr",
     "output_type": "stream",
     "text": [
      "C:\\Users\\Bronwen\\Anaconda3\\envs\\learn-env\\lib\\site-packages\\statsmodels\\base\\model.py:508: ConvergenceWarning: Maximum Likelihood optimization failed to converge. Check mle_retvals\n",
      "  \"Check mle_retvals\", ConvergenceWarning)\n"
     ]
    },
    {
     "name": "stdout",
     "output_type": "stream",
     "text": [
      "149242016.4938416\n",
      "86971\n"
     ]
    },
    {
     "name": "stderr",
     "output_type": "stream",
     "text": [
      "C:\\Users\\Bronwen\\Anaconda3\\envs\\learn-env\\lib\\site-packages\\statsmodels\\base\\model.py:508: ConvergenceWarning: Maximum Likelihood optimization failed to converge. Check mle_retvals\n",
      "  \"Check mle_retvals\", ConvergenceWarning)\n"
     ]
    },
    {
     "name": "stdout",
     "output_type": "stream",
     "text": [
      "36983164.344236806\n",
      "79908\n",
      "57685.206340660996\n",
      "79603\n",
      "2213814.5229476914\n",
      "76682\n",
      "24332842.19943315\n",
      "65732\n"
     ]
    },
    {
     "name": "stderr",
     "output_type": "stream",
     "text": [
      "C:\\Users\\Bronwen\\Anaconda3\\envs\\learn-env\\lib\\site-packages\\statsmodels\\base\\model.py:508: ConvergenceWarning: Maximum Likelihood optimization failed to converge. Check mle_retvals\n",
      "  \"Check mle_retvals\", ConvergenceWarning)\n"
     ]
    },
    {
     "name": "stdout",
     "output_type": "stream",
     "text": [
      "110353670.54712054\n",
      "68601\n",
      "36631534.23661804\n",
      "83902\n",
      "20232183.788141824\n",
      "95768\n"
     ]
    },
    {
     "name": "stderr",
     "output_type": "stream",
     "text": [
      "C:\\Users\\Bronwen\\Anaconda3\\envs\\learn-env\\lib\\site-packages\\statsmodels\\base\\model.py:508: ConvergenceWarning: Maximum Likelihood optimization failed to converge. Check mle_retvals\n",
      "  \"Check mle_retvals\", ConvergenceWarning)\n"
     ]
    },
    {
     "name": "stdout",
     "output_type": "stream",
     "text": [
      "1049637.809650788\n",
      "76969\n",
      "15806447.067526976\n",
      "71875\n",
      "1732266.056832131\n",
      "84576\n"
     ]
    },
    {
     "name": "stderr",
     "output_type": "stream",
     "text": [
      "C:\\Users\\Bronwen\\Anaconda3\\envs\\learn-env\\lib\\site-packages\\statsmodels\\base\\model.py:508: ConvergenceWarning: Maximum Likelihood optimization failed to converge. Check mle_retvals\n",
      "  \"Check mle_retvals\", ConvergenceWarning)\n"
     ]
    },
    {
     "name": "stdout",
     "output_type": "stream",
     "text": [
      "97949095.29563794\n",
      "78002\n",
      "8538282.331360893\n",
      "89941\n",
      "6185923.701141756\n",
      "88435\n",
      "67309.49106118843\n",
      "73113\n",
      "4050001.6682853163\n",
      "77936\n",
      "313974.68532647646\n",
      "84235\n",
      "3687270.161419037\n",
      "69980\n",
      "50751501.75289863\n",
      "60830\n"
     ]
    },
    {
     "name": "stderr",
     "output_type": "stream",
     "text": [
      "C:\\Users\\Bronwen\\Anaconda3\\envs\\learn-env\\lib\\site-packages\\statsmodels\\base\\model.py:508: ConvergenceWarning: Maximum Likelihood optimization failed to converge. Check mle_retvals\n",
      "  \"Check mle_retvals\", ConvergenceWarning)\n"
     ]
    },
    {
     "name": "stdout",
     "output_type": "stream",
     "text": [
      "54706898.73122215\n",
      "90785\n",
      "15959540.878256937\n",
      "79700\n"
     ]
    },
    {
     "name": "stderr",
     "output_type": "stream",
     "text": [
      "C:\\Users\\Bronwen\\Anaconda3\\envs\\learn-env\\lib\\site-packages\\statsmodels\\base\\model.py:508: ConvergenceWarning: Maximum Likelihood optimization failed to converge. Check mle_retvals\n",
      "  \"Check mle_retvals\", ConvergenceWarning)\n"
     ]
    },
    {
     "name": "stdout",
     "output_type": "stream",
     "text": [
      "105962.7012374675\n",
      "61045\n",
      "154672262.68661207\n",
      "68165\n",
      "20148891.61955776\n",
      "85048\n"
     ]
    },
    {
     "name": "stderr",
     "output_type": "stream",
     "text": [
      "C:\\Users\\Bronwen\\Anaconda3\\envs\\learn-env\\lib\\site-packages\\statsmodels\\base\\model.py:508: ConvergenceWarning: Maximum Likelihood optimization failed to converge. Check mle_retvals\n",
      "  \"Check mle_retvals\", ConvergenceWarning)\n"
     ]
    },
    {
     "name": "stdout",
     "output_type": "stream",
     "text": [
      "4838278.218133701\n",
      "63646\n",
      "2160473.7871720204\n",
      "77471\n",
      "4305857.259344188\n",
      "70167\n",
      "1147071.5616661117\n",
      "60942\n"
     ]
    },
    {
     "name": "stderr",
     "output_type": "stream",
     "text": [
      "C:\\Users\\Bronwen\\Anaconda3\\envs\\learn-env\\lib\\site-packages\\statsmodels\\base\\model.py:508: ConvergenceWarning: Maximum Likelihood optimization failed to converge. Check mle_retvals\n",
      "  \"Check mle_retvals\", ConvergenceWarning)\n"
     ]
    },
    {
     "name": "stdout",
     "output_type": "stream",
     "text": [
      "1486346.9296031576\n",
      "58251\n",
      "12180368.680924276\n",
      "72947\n",
      "45151406.060024954\n",
      "79466\n",
      "29921835.92147095\n",
      "84422\n",
      "38781814.006476656\n",
      "62684\n",
      "1863173.3375816285\n",
      "86346\n",
      "3130716.2362879803\n",
      "72000\n"
     ]
    },
    {
     "name": "stderr",
     "output_type": "stream",
     "text": [
      "C:\\Users\\Bronwen\\Anaconda3\\envs\\learn-env\\lib\\site-packages\\statsmodels\\base\\model.py:508: ConvergenceWarning: Maximum Likelihood optimization failed to converge. Check mle_retvals\n",
      "  \"Check mle_retvals\", ConvergenceWarning)\n"
     ]
    },
    {
     "name": "stdout",
     "output_type": "stream",
     "text": [
      "310923030.0696737\n",
      "93634\n",
      "3744969.851708551\n",
      "74623\n",
      "92149943.12721215\n",
      "99319\n",
      "17102711.822072573\n",
      "64836\n",
      "33991832.35407807\n",
      "95240\n",
      "37657510.3319168\n",
      "65037\n",
      "80469814.31175166\n",
      "91915\n",
      "94748.15171518647\n",
      "91717\n"
     ]
    },
    {
     "name": "stderr",
     "output_type": "stream",
     "text": [
      "C:\\Users\\Bronwen\\Anaconda3\\envs\\learn-env\\lib\\site-packages\\statsmodels\\base\\model.py:508: ConvergenceWarning: Maximum Likelihood optimization failed to converge. Check mle_retvals\n",
      "  \"Check mle_retvals\", ConvergenceWarning)\n"
     ]
    },
    {
     "name": "stdout",
     "output_type": "stream",
     "text": [
      "12170246.208068341\n",
      "80296\n"
     ]
    },
    {
     "name": "stderr",
     "output_type": "stream",
     "text": [
      "C:\\Users\\Bronwen\\Anaconda3\\envs\\learn-env\\lib\\site-packages\\statsmodels\\base\\model.py:508: ConvergenceWarning: Maximum Likelihood optimization failed to converge. Check mle_retvals\n",
      "  \"Check mle_retvals\", ConvergenceWarning)\n"
     ]
    },
    {
     "name": "stdout",
     "output_type": "stream",
     "text": [
      "76944.97559377269\n",
      "79007\n"
     ]
    },
    {
     "name": "stderr",
     "output_type": "stream",
     "text": [
      "C:\\Users\\Bronwen\\Anaconda3\\envs\\learn-env\\lib\\site-packages\\statsmodels\\base\\model.py:508: ConvergenceWarning: Maximum Likelihood optimization failed to converge. Check mle_retvals\n",
      "  \"Check mle_retvals\", ConvergenceWarning)\n"
     ]
    },
    {
     "name": "stdout",
     "output_type": "stream",
     "text": [
      "64201276.26812877\n",
      "82880\n",
      "2102300.303806943\n",
      "89862\n",
      "2196679.9586965507\n",
      "59356\n",
      "8823165.487082565\n",
      "77433\n"
     ]
    },
    {
     "name": "stderr",
     "output_type": "stream",
     "text": [
      "C:\\Users\\Bronwen\\Anaconda3\\envs\\learn-env\\lib\\site-packages\\statsmodels\\base\\model.py:508: ConvergenceWarning: Maximum Likelihood optimization failed to converge. Check mle_retvals\n",
      "  \"Check mle_retvals\", ConvergenceWarning)\n"
     ]
    },
    {
     "name": "stdout",
     "output_type": "stream",
     "text": [
      "75904907.13214552\n",
      "95106\n",
      "1030427187.7443302\n",
      "85649\n",
      "19749925.301307283\n",
      "72935\n",
      "66707202.574304104\n",
      "99856\n",
      "513068227.5425714\n",
      "71858\n",
      "7993879.721122662\n",
      "73744\n"
     ]
    },
    {
     "name": "stderr",
     "output_type": "stream",
     "text": [
      "C:\\Users\\Bronwen\\Anaconda3\\envs\\learn-env\\lib\\site-packages\\statsmodels\\base\\model.py:508: ConvergenceWarning: Maximum Likelihood optimization failed to converge. Check mle_retvals\n",
      "  \"Check mle_retvals\", ConvergenceWarning)\n"
     ]
    },
    {
     "name": "stdout",
     "output_type": "stream",
     "text": [
      "14937701.078228066\n",
      "84417\n"
     ]
    },
    {
     "name": "stderr",
     "output_type": "stream",
     "text": [
      "C:\\Users\\Bronwen\\Anaconda3\\envs\\learn-env\\lib\\site-packages\\statsmodels\\base\\model.py:508: ConvergenceWarning: Maximum Likelihood optimization failed to converge. Check mle_retvals\n",
      "  \"Check mle_retvals\", ConvergenceWarning)\n"
     ]
    },
    {
     "name": "stdout",
     "output_type": "stream",
     "text": [
      "11898421.778605597\n",
      "99340\n",
      "149494891.64558387\n",
      "60994\n",
      "3936551.4898607493\n",
      "98500\n",
      "2310316.8392150314\n",
      "69757\n",
      "8143811.335106042\n",
      "73347\n",
      "55711467.112470366\n",
      "78170\n",
      "42943961.469025865\n",
      "94999\n",
      "738509047.6437076\n",
      "92238\n",
      "64223.01928799689\n",
      "68041\n",
      "2253524.535354994\n",
      "92110\n",
      "3953321.04224789\n",
      "65114\n",
      "37028228.183426335\n",
      "77419\n",
      "8151895.175775806\n",
      "88794\n",
      "63432733.37289407\n",
      "98555\n",
      "16542315.318668682\n",
      "62667\n",
      "159416217.9611717\n",
      "75223\n"
     ]
    },
    {
     "name": "stderr",
     "output_type": "stream",
     "text": [
      "C:\\Users\\Bronwen\\Anaconda3\\envs\\learn-env\\lib\\site-packages\\statsmodels\\base\\model.py:508: ConvergenceWarning: Maximum Likelihood optimization failed to converge. Check mle_retvals\n",
      "  \"Check mle_retvals\", ConvergenceWarning)\n"
     ]
    },
    {
     "name": "stdout",
     "output_type": "stream",
     "text": [
      "4798395.854807957\n",
      "65021\n",
      "23084981.95680105\n",
      "60278\n"
     ]
    },
    {
     "name": "stderr",
     "output_type": "stream",
     "text": [
      "C:\\Users\\Bronwen\\Anaconda3\\envs\\learn-env\\lib\\site-packages\\statsmodels\\base\\model.py:508: ConvergenceWarning: Maximum Likelihood optimization failed to converge. Check mle_retvals\n",
      "  \"Check mle_retvals\", ConvergenceWarning)\n"
     ]
    },
    {
     "name": "stdout",
     "output_type": "stream",
     "text": [
      "291382.23788721504\n",
      "79875\n",
      "25332703.888938267\n",
      "78443\n",
      "3114244.715209223\n",
      "87033\n",
      "67314185.28571248\n",
      "67355\n",
      "961204.5520044111\n",
      "60660\n",
      "27048187.038259406\n",
      "98164\n",
      "27232358.335962843\n",
      "86966\n",
      "11859421.902060445\n",
      "78099\n",
      "18750976.0493113\n",
      "94554\n",
      "1469354.2667338669\n",
      "74581\n",
      "3707418.1146088317\n",
      "75187\n",
      "16675988.477518883\n",
      "89805\n",
      "16189524.007551923\n",
      "67050\n",
      "80186239.7123983\n",
      "99878\n",
      "763404471.6724418\n",
      "84474\n",
      "9683650.359273883\n",
      "58384\n",
      "214579486.69365415\n",
      "71977\n",
      "2890095.5236582244\n",
      "71183\n",
      "586117.660021299\n",
      "399583\n",
      "8363247.203964168\n",
      "95071\n"
     ]
    },
    {
     "name": "stderr",
     "output_type": "stream",
     "text": [
      "C:\\Users\\Bronwen\\Anaconda3\\envs\\learn-env\\lib\\site-packages\\statsmodels\\base\\model.py:508: ConvergenceWarning: Maximum Likelihood optimization failed to converge. Check mle_retvals\n",
      "  \"Check mle_retvals\", ConvergenceWarning)\n"
     ]
    },
    {
     "name": "stdout",
     "output_type": "stream",
     "text": [
      "2088793.6605250977\n",
      "70811\n"
     ]
    },
    {
     "name": "stderr",
     "output_type": "stream",
     "text": [
      "C:\\Users\\Bronwen\\Anaconda3\\envs\\learn-env\\lib\\site-packages\\statsmodels\\base\\model.py:508: ConvergenceWarning: Maximum Likelihood optimization failed to converge. Check mle_retvals\n",
      "  \"Check mle_retvals\", ConvergenceWarning)\n"
     ]
    },
    {
     "name": "stdout",
     "output_type": "stream",
     "text": [
      "3522864.1246787347\n",
      "87091\n"
     ]
    },
    {
     "name": "stderr",
     "output_type": "stream",
     "text": [
      "C:\\Users\\Bronwen\\Anaconda3\\envs\\learn-env\\lib\\site-packages\\statsmodels\\base\\model.py:508: ConvergenceWarning: Maximum Likelihood optimization failed to converge. Check mle_retvals\n",
      "  \"Check mle_retvals\", ConvergenceWarning)\n"
     ]
    },
    {
     "name": "stdout",
     "output_type": "stream",
     "text": [
      "3893184.6233231574\n",
      "65702\n"
     ]
    },
    {
     "name": "stderr",
     "output_type": "stream",
     "text": [
      "C:\\Users\\Bronwen\\Anaconda3\\envs\\learn-env\\lib\\site-packages\\statsmodels\\base\\model.py:508: ConvergenceWarning: Maximum Likelihood optimization failed to converge. Check mle_retvals\n",
      "  \"Check mle_retvals\", ConvergenceWarning)\n"
     ]
    },
    {
     "name": "stdout",
     "output_type": "stream",
     "text": [
      "21767388.477470927\n",
      "85914\n"
     ]
    },
    {
     "name": "stderr",
     "output_type": "stream",
     "text": [
      "C:\\Users\\Bronwen\\Anaconda3\\envs\\learn-env\\lib\\site-packages\\statsmodels\\base\\model.py:508: ConvergenceWarning: Maximum Likelihood optimization failed to converge. Check mle_retvals\n",
      "  \"Check mle_retvals\", ConvergenceWarning)\n"
     ]
    },
    {
     "name": "stdout",
     "output_type": "stream",
     "text": [
      "857988.2229763841\n",
      "89908\n",
      "1314474.7572562345\n",
      "90910\n",
      "16709721.257156428\n",
      "64203\n",
      "19316836.077582765\n",
      "66528\n",
      "47505049.821799584\n",
      "83409\n",
      "3642534.6255355403\n",
      "66932\n",
      "873710157.8663088\n",
      "78938\n",
      "333296411.4887151\n",
      "59500\n",
      "1388146.6719820444\n",
      "92578\n",
      "13435689.441536868\n",
      "65104\n",
      "481486.74716067483\n",
      "81376\n",
      "191213157.8698936\n",
      "60975\n",
      "3302106.069179806\n",
      "417457\n"
     ]
    },
    {
     "name": "stderr",
     "output_type": "stream",
     "text": [
      "C:\\Users\\Bronwen\\Anaconda3\\envs\\learn-env\\lib\\site-packages\\statsmodels\\base\\model.py:508: ConvergenceWarning: Maximum Likelihood optimization failed to converge. Check mle_retvals\n",
      "  \"Check mle_retvals\", ConvergenceWarning)\n"
     ]
    },
    {
     "name": "stdout",
     "output_type": "stream",
     "text": [
      "10538291.803730894\n",
      "62474\n",
      "81653575.43321992\n",
      "65098\n",
      "4718268.359478971\n",
      "79626\n",
      "11565603.982167069\n",
      "98537\n",
      "8512434.848029245\n",
      "64591\n",
      "6759647.325152198\n",
      "78072\n",
      "26654150.143072356\n",
      "87089\n",
      "797541.3753355829\n",
      "99873\n",
      "674376948.5942005\n",
      "59096\n",
      "29878858.595756937\n",
      "79026\n",
      "41091602.75897831\n",
      "88581\n",
      "29187494.88198649\n",
      "97183\n",
      "3374559.778586167\n",
      "82470\n",
      "6015396.699718052\n",
      "65361\n"
     ]
    },
    {
     "name": "stderr",
     "output_type": "stream",
     "text": [
      "C:\\Users\\Bronwen\\Anaconda3\\envs\\learn-env\\lib\\site-packages\\statsmodels\\base\\model.py:508: ConvergenceWarning: Maximum Likelihood optimization failed to converge. Check mle_retvals\n",
      "  \"Check mle_retvals\", ConvergenceWarning)\n"
     ]
    },
    {
     "name": "stdout",
     "output_type": "stream",
     "text": [
      "145393544.05957502\n",
      "72683\n",
      "2654877.361843551\n",
      "86325\n",
      "22239257.220924646\n",
      "60987\n",
      "221001210.8949793\n",
      "85299\n"
     ]
    },
    {
     "name": "stderr",
     "output_type": "stream",
     "text": [
      "C:\\Users\\Bronwen\\Anaconda3\\envs\\learn-env\\lib\\site-packages\\statsmodels\\base\\model.py:508: ConvergenceWarning: Maximum Likelihood optimization failed to converge. Check mle_retvals\n",
      "  \"Check mle_retvals\", ConvergenceWarning)\n"
     ]
    },
    {
     "name": "stdout",
     "output_type": "stream",
     "text": [
      "35356152.877030015\n",
      "66012\n",
      "3471286.2020393945\n",
      "61928\n",
      "25482109.08333518\n",
      "70503\n",
      "2087032.9849118956\n",
      "82060\n",
      "6222195.334040927\n",
      "70952\n",
      "217992961.63260674\n",
      "81267\n"
     ]
    },
    {
     "name": "stderr",
     "output_type": "stream",
     "text": [
      "C:\\Users\\Bronwen\\Anaconda3\\envs\\learn-env\\lib\\site-packages\\statsmodels\\base\\model.py:508: ConvergenceWarning: Maximum Likelihood optimization failed to converge. Check mle_retvals\n",
      "  \"Check mle_retvals\", ConvergenceWarning)\n"
     ]
    },
    {
     "name": "stdout",
     "output_type": "stream",
     "text": [
      "34564401.73186605\n",
      "59070\n",
      "1788050.1815458252\n",
      "64439\n",
      "174303647.2203795\n",
      "88592\n",
      "1922553.5274742707\n",
      "79691\n",
      "5136870.914503606\n",
      "82847\n",
      "1567264.8535691681\n",
      "84500\n",
      "73015194.47969802\n",
      "92731\n",
      "17710769.97932037\n",
      "65129\n"
     ]
    },
    {
     "name": "stderr",
     "output_type": "stream",
     "text": [
      "C:\\Users\\Bronwen\\Anaconda3\\envs\\learn-env\\lib\\site-packages\\statsmodels\\base\\model.py:508: ConvergenceWarning: Maximum Likelihood optimization failed to converge. Check mle_retvals\n",
      "  \"Check mle_retvals\", ConvergenceWarning)\n"
     ]
    },
    {
     "name": "stdout",
     "output_type": "stream",
     "text": [
      "37704445.03313006\n",
      "94889\n",
      "14614378.243663054\n",
      "91460\n",
      "2531554.736235886\n",
      "68029\n",
      "1570382.0109413494\n",
      "79344\n"
     ]
    },
    {
     "name": "stderr",
     "output_type": "stream",
     "text": [
      "C:\\Users\\Bronwen\\Anaconda3\\envs\\learn-env\\lib\\site-packages\\statsmodels\\base\\model.py:508: ConvergenceWarning: Maximum Likelihood optimization failed to converge. Check mle_retvals\n",
      "  \"Check mle_retvals\", ConvergenceWarning)\n"
     ]
    },
    {
     "name": "stdout",
     "output_type": "stream",
     "text": [
      "42254040.604820766\n",
      "76549\n",
      "8811017.65963645\n",
      "60813\n",
      "71104453.25573258\n",
      "91525\n",
      "1867971.2116965584\n",
      "99344\n",
      "52404118.18736895\n",
      "64433\n",
      "31294677.995922603\n",
      "91330\n",
      "2022431.9104530334\n",
      "65018\n"
     ]
    },
    {
     "name": "stderr",
     "output_type": "stream",
     "text": [
      "C:\\Users\\Bronwen\\Anaconda3\\envs\\learn-env\\lib\\site-packages\\statsmodels\\base\\model.py:508: ConvergenceWarning: Maximum Likelihood optimization failed to converge. Check mle_retvals\n",
      "  \"Check mle_retvals\", ConvergenceWarning)\n"
     ]
    },
    {
     "name": "stdout",
     "output_type": "stream",
     "text": [
      "100015463.64929539\n",
      "84126\n",
      "2236900.138736972\n",
      "94094\n",
      "2386579.6381440912\n",
      "81993\n",
      "35440302.320800625\n",
      "93092\n",
      "3766779.073208158\n",
      "74937\n"
     ]
    },
    {
     "name": "stderr",
     "output_type": "stream",
     "text": [
      "C:\\Users\\Bronwen\\Anaconda3\\envs\\learn-env\\lib\\site-packages\\statsmodels\\base\\model.py:508: ConvergenceWarning: Maximum Likelihood optimization failed to converge. Check mle_retvals\n",
      "  \"Check mle_retvals\", ConvergenceWarning)\n"
     ]
    },
    {
     "name": "stdout",
     "output_type": "stream",
     "text": [
      "273607091.9006219\n",
      "59928\n",
      "2899295.469440398\n",
      "81167\n"
     ]
    },
    {
     "name": "stderr",
     "output_type": "stream",
     "text": [
      "C:\\Users\\Bronwen\\Anaconda3\\envs\\learn-env\\lib\\site-packages\\statsmodels\\base\\model.py:508: ConvergenceWarning: Maximum Likelihood optimization failed to converge. Check mle_retvals\n",
      "  \"Check mle_retvals\", ConvergenceWarning)\n"
     ]
    },
    {
     "name": "stdout",
     "output_type": "stream",
     "text": [
      "68716366.7553806\n",
      "95512\n"
     ]
    },
    {
     "name": "stderr",
     "output_type": "stream",
     "text": [
      "C:\\Users\\Bronwen\\Anaconda3\\envs\\learn-env\\lib\\site-packages\\statsmodels\\base\\model.py:508: ConvergenceWarning: Maximum Likelihood optimization failed to converge. Check mle_retvals\n",
      "  \"Check mle_retvals\", ConvergenceWarning)\n"
     ]
    },
    {
     "name": "stdout",
     "output_type": "stream",
     "text": [
      "8611617.777644936\n",
      "68610\n",
      "2848628071.084938\n",
      "63922\n",
      "236248.804645852\n",
      "98616\n",
      "34214736.12624633\n",
      "76522\n",
      "62057898.62364874\n",
      "65106\n",
      "5372587.767182013\n",
      "62344\n"
     ]
    },
    {
     "name": "stderr",
     "output_type": "stream",
     "text": [
      "C:\\Users\\Bronwen\\Anaconda3\\envs\\learn-env\\lib\\site-packages\\statsmodels\\base\\model.py:508: ConvergenceWarning: Maximum Likelihood optimization failed to converge. Check mle_retvals\n",
      "  \"Check mle_retvals\", ConvergenceWarning)\n"
     ]
    },
    {
     "name": "stdout",
     "output_type": "stream",
     "text": [
      "1936113.1154647183\n",
      "69720\n"
     ]
    },
    {
     "name": "stderr",
     "output_type": "stream",
     "text": [
      "C:\\Users\\Bronwen\\Anaconda3\\envs\\learn-env\\lib\\site-packages\\statsmodels\\base\\model.py:508: ConvergenceWarning: Maximum Likelihood optimization failed to converge. Check mle_retvals\n",
      "  \"Check mle_retvals\", ConvergenceWarning)\n"
     ]
    },
    {
     "name": "stdout",
     "output_type": "stream",
     "text": [
      "19725664.551211037\n",
      "82535\n",
      "2547627.379847944\n",
      "62470\n",
      "75493665.85484338\n",
      "94229\n",
      "48291.17993376588\n",
      "65022\n",
      "19965919.055329964\n",
      "98521\n",
      "7247121.796270725\n",
      "84459\n"
     ]
    },
    {
     "name": "stderr",
     "output_type": "stream",
     "text": [
      "C:\\Users\\Bronwen\\Anaconda3\\envs\\learn-env\\lib\\site-packages\\statsmodels\\base\\model.py:508: ConvergenceWarning: Maximum Likelihood optimization failed to converge. Check mle_retvals\n",
      "  \"Check mle_retvals\", ConvergenceWarning)\n"
     ]
    },
    {
     "name": "stdout",
     "output_type": "stream",
     "text": [
      "6673025.463629427\n",
      "82826\n",
      "67116219.41586438\n",
      "82780\n",
      "25121294.30693357\n",
      "81839\n"
     ]
    },
    {
     "name": "stderr",
     "output_type": "stream",
     "text": [
      "C:\\Users\\Bronwen\\Anaconda3\\envs\\learn-env\\lib\\site-packages\\statsmodels\\base\\model.py:508: ConvergenceWarning: Maximum Likelihood optimization failed to converge. Check mle_retvals\n",
      "  \"Check mle_retvals\", ConvergenceWarning)\n"
     ]
    },
    {
     "name": "stdout",
     "output_type": "stream",
     "text": [
      "325592204.84497947\n",
      "59050\n",
      "76885376.16060635\n",
      "74161\n",
      "31130483.181015443\n",
      "95630\n"
     ]
    },
    {
     "name": "stderr",
     "output_type": "stream",
     "text": [
      "C:\\Users\\Bronwen\\Anaconda3\\envs\\learn-env\\lib\\site-packages\\statsmodels\\base\\model.py:508: ConvergenceWarning: Maximum Likelihood optimization failed to converge. Check mle_retvals\n",
      "  \"Check mle_retvals\", ConvergenceWarning)\n"
     ]
    },
    {
     "name": "stdout",
     "output_type": "stream",
     "text": [
      "6270696.246391927\n",
      "76755\n"
     ]
    },
    {
     "name": "stderr",
     "output_type": "stream",
     "text": [
      "C:\\Users\\Bronwen\\Anaconda3\\envs\\learn-env\\lib\\site-packages\\statsmodels\\base\\model.py:508: ConvergenceWarning: Maximum Likelihood optimization failed to converge. Check mle_retvals\n",
      "  \"Check mle_retvals\", ConvergenceWarning)\n"
     ]
    },
    {
     "name": "stdout",
     "output_type": "stream",
     "text": [
      "42337888.318933174\n",
      "65713\n",
      "11155958.405580591\n",
      "71746\n",
      "21894838.06487585\n",
      "94186\n",
      "638684.5835558468\n",
      "65029\n",
      "12267090.940885248\n",
      "79021\n",
      "35913323.796057925\n",
      "87068\n",
      "793312.2783897034\n",
      "94645\n",
      "16505.082198192278\n",
      "60685\n",
      "953525424.4437231\n",
      "77920\n"
     ]
    },
    {
     "name": "stderr",
     "output_type": "stream",
     "text": [
      "C:\\Users\\Bronwen\\Anaconda3\\envs\\learn-env\\lib\\site-packages\\statsmodels\\base\\model.py:508: ConvergenceWarning: Maximum Likelihood optimization failed to converge. Check mle_retvals\n",
      "  \"Check mle_retvals\", ConvergenceWarning)\n"
     ]
    },
    {
     "name": "stdout",
     "output_type": "stream",
     "text": [
      "1895229.644874873\n",
      "59052\n",
      "12977872.85386266\n",
      "94358\n",
      "404884.4226424117\n",
      "86292\n",
      "981870.3214257315\n",
      "65316\n",
      "36033933.45704533\n",
      "82506\n",
      "137439.57032738562\n",
      "74123\n",
      "10730921.719349328\n",
      "92636\n"
     ]
    },
    {
     "name": "stderr",
     "output_type": "stream",
     "text": [
      "C:\\Users\\Bronwen\\Anaconda3\\envs\\learn-env\\lib\\site-packages\\statsmodels\\base\\model.py:508: ConvergenceWarning: Maximum Likelihood optimization failed to converge. Check mle_retvals\n",
      "  \"Check mle_retvals\", ConvergenceWarning)\n"
     ]
    },
    {
     "name": "stdout",
     "output_type": "stream",
     "text": [
      "7489381.535615088\n",
      "63808\n",
      "71682826.82680975\n",
      "91233\n",
      "3964707.0658609523\n",
      "74120\n",
      "4207630.116634494\n",
      "87045\n",
      "672815.4008432056\n",
      "65885\n"
     ]
    },
    {
     "name": "stderr",
     "output_type": "stream",
     "text": [
      "C:\\Users\\Bronwen\\Anaconda3\\envs\\learn-env\\lib\\site-packages\\statsmodels\\base\\model.py:508: ConvergenceWarning: Maximum Likelihood optimization failed to converge. Check mle_retvals\n",
      "  \"Check mle_retvals\", ConvergenceWarning)\n"
     ]
    },
    {
     "name": "stdout",
     "output_type": "stream",
     "text": [
      "6384551.722690278\n",
      "69428\n",
      "2962704.4038474993\n",
      "79736\n",
      "3257397.9936053148\n",
      "81513\n",
      "6707397.853369964\n",
      "65743\n",
      "4374112.431137027\n",
      "76776\n",
      "913849.0911856234\n",
      "82082\n",
      "32992548.559868198\n",
      "74202\n",
      "2774648.730912479\n",
      "61035\n",
      "32519402.23996538\n",
      "63410\n"
     ]
    },
    {
     "name": "stderr",
     "output_type": "stream",
     "text": [
      "C:\\Users\\Bronwen\\Anaconda3\\envs\\learn-env\\lib\\site-packages\\statsmodels\\base\\model.py:508: ConvergenceWarning: Maximum Likelihood optimization failed to converge. Check mle_retvals\n",
      "  \"Check mle_retvals\", ConvergenceWarning)\n"
     ]
    },
    {
     "name": "stdout",
     "output_type": "stream",
     "text": [
      "1581962.1937481072\n",
      "81536\n",
      "702528.1811805151\n",
      "69421\n",
      "4076207.790102166\n",
      "65036\n"
     ]
    },
    {
     "name": "stderr",
     "output_type": "stream",
     "text": [
      "C:\\Users\\Bronwen\\Anaconda3\\envs\\learn-env\\lib\\site-packages\\statsmodels\\base\\model.py:508: ConvergenceWarning: Maximum Likelihood optimization failed to converge. Check mle_retvals\n",
      "  \"Check mle_retvals\", ConvergenceWarning)\n"
     ]
    },
    {
     "name": "stdout",
     "output_type": "stream",
     "text": [
      "2846443.3242345396\n",
      "86017\n",
      "638632.6061248978\n",
      "60267\n",
      "11305688.590563385\n",
      "91336\n"
     ]
    },
    {
     "name": "stderr",
     "output_type": "stream",
     "text": [
      "C:\\Users\\Bronwen\\Anaconda3\\envs\\learn-env\\lib\\site-packages\\statsmodels\\base\\model.py:508: ConvergenceWarning: Maximum Likelihood optimization failed to converge. Check mle_retvals\n",
      "  \"Check mle_retvals\", ConvergenceWarning)\n"
     ]
    },
    {
     "name": "stdout",
     "output_type": "stream",
     "text": [
      "131165217.80875035\n",
      "72692\n"
     ]
    },
    {
     "name": "stderr",
     "output_type": "stream",
     "text": [
      "C:\\Users\\Bronwen\\Anaconda3\\envs\\learn-env\\lib\\site-packages\\statsmodels\\base\\model.py:508: ConvergenceWarning: Maximum Likelihood optimization failed to converge. Check mle_retvals\n",
      "  \"Check mle_retvals\", ConvergenceWarning)\n"
     ]
    },
    {
     "name": "stdout",
     "output_type": "stream",
     "text": [
      "5002035.857116393\n",
      "67984\n",
      "4342914.638630306\n",
      "65976\n",
      "13714072.541029667\n",
      "76459\n",
      "17628681.34654553\n",
      "92847\n",
      "29310521.77883784\n",
      "94129\n",
      "43762529.750343665\n",
      "66726\n",
      "24764566.76115357\n",
      "87029\n",
      "550014.9453372894\n",
      "99237\n"
     ]
    },
    {
     "name": "stderr",
     "output_type": "stream",
     "text": [
      "C:\\Users\\Bronwen\\Anaconda3\\envs\\learn-env\\lib\\site-packages\\statsmodels\\base\\model.py:508: ConvergenceWarning: Maximum Likelihood optimization failed to converge. Check mle_retvals\n",
      "  \"Check mle_retvals\", ConvergenceWarning)\n"
     ]
    },
    {
     "name": "stdout",
     "output_type": "stream",
     "text": [
      "100422482.02738993\n",
      "78267\n",
      "14088869.701226514\n",
      "59469\n",
      "665996.6278698805\n",
      "74540\n",
      "2715870.6053323373\n",
      "91211\n",
      "9681151.566313509\n",
      "77103\n",
      "4845600.50670224\n",
      "62779\n"
     ]
    },
    {
     "name": "stderr",
     "output_type": "stream",
     "text": [
      "C:\\Users\\Bronwen\\Anaconda3\\envs\\learn-env\\lib\\site-packages\\statsmodels\\base\\model.py:508: ConvergenceWarning: Maximum Likelihood optimization failed to converge. Check mle_retvals\n",
      "  \"Check mle_retvals\", ConvergenceWarning)\n"
     ]
    },
    {
     "name": "stdout",
     "output_type": "stream",
     "text": [
      "47796879.38033864\n",
      "78427\n",
      "785985.9964506931\n",
      "67468\n"
     ]
    },
    {
     "name": "stderr",
     "output_type": "stream",
     "text": [
      "C:\\Users\\Bronwen\\Anaconda3\\envs\\learn-env\\lib\\site-packages\\statsmodels\\base\\model.py:508: ConvergenceWarning: Maximum Likelihood optimization failed to converge. Check mle_retvals\n",
      "  \"Check mle_retvals\", ConvergenceWarning)\n"
     ]
    },
    {
     "name": "stdout",
     "output_type": "stream",
     "text": [
      "1464642.134661764\n",
      "73323\n"
     ]
    },
    {
     "name": "stderr",
     "output_type": "stream",
     "text": [
      "C:\\Users\\Bronwen\\Anaconda3\\envs\\learn-env\\lib\\site-packages\\statsmodels\\base\\model.py:508: ConvergenceWarning: Maximum Likelihood optimization failed to converge. Check mle_retvals\n",
      "  \"Check mle_retvals\", ConvergenceWarning)\n"
     ]
    },
    {
     "name": "stdout",
     "output_type": "stream",
     "text": [
      "8766126.193827853\n",
      "94676\n"
     ]
    },
    {
     "name": "stderr",
     "output_type": "stream",
     "text": [
      "C:\\Users\\Bronwen\\Anaconda3\\envs\\learn-env\\lib\\site-packages\\statsmodels\\base\\model.py:508: ConvergenceWarning: Maximum Likelihood optimization failed to converge. Check mle_retvals\n",
      "  \"Check mle_retvals\", ConvergenceWarning)\n"
     ]
    },
    {
     "name": "stdout",
     "output_type": "stream",
     "text": [
      "36479790.16659899\n",
      "72177\n",
      "51316776.59920196\n",
      "67743\n",
      "35236936.02898224\n",
      "82820\n",
      "726483.6419534567\n",
      "60242\n",
      "17358776.83435077\n",
      "92518\n",
      "4909247.290876036\n",
      "86647\n",
      "2646125.9643909996\n",
      "62698\n",
      "110134386.64063115\n",
      "59124\n",
      "1388458.323425261\n",
      "81528\n",
      "58743665.42669113\n",
      "88746\n",
      "1276458.349816011\n",
      "67099\n",
      "82361260.23216327\n",
      "65362\n",
      "53461560.29891072\n",
      "78130\n",
      "62709019.665710434\n",
      "78006\n",
      "624815.4270165953\n",
      "73130\n",
      "93924908.91136119\n",
      "87890\n",
      "8848227.307992551\n",
      "100047\n",
      "11496806.898253625\n",
      "81514\n"
     ]
    },
    {
     "name": "stderr",
     "output_type": "stream",
     "text": [
      "C:\\Users\\Bronwen\\Anaconda3\\envs\\learn-env\\lib\\site-packages\\statsmodels\\base\\model.py:508: ConvergenceWarning: Maximum Likelihood optimization failed to converge. Check mle_retvals\n",
      "  \"Check mle_retvals\", ConvergenceWarning)\n"
     ]
    },
    {
     "name": "stdout",
     "output_type": "stream",
     "text": [
      "12359979.155260408\n",
      "71204\n",
      "16187513.949015489\n",
      "74452\n",
      "5060836.203181625\n",
      "77953\n"
     ]
    },
    {
     "name": "stderr",
     "output_type": "stream",
     "text": [
      "C:\\Users\\Bronwen\\Anaconda3\\envs\\learn-env\\lib\\site-packages\\statsmodels\\base\\model.py:508: ConvergenceWarning: Maximum Likelihood optimization failed to converge. Check mle_retvals\n",
      "  \"Check mle_retvals\", ConvergenceWarning)\n"
     ]
    },
    {
     "name": "stdout",
     "output_type": "stream",
     "text": [
      "25105320.71814859\n",
      "84230\n"
     ]
    },
    {
     "name": "stderr",
     "output_type": "stream",
     "text": [
      "C:\\Users\\Bronwen\\Anaconda3\\envs\\learn-env\\lib\\site-packages\\statsmodels\\base\\model.py:508: ConvergenceWarning: Maximum Likelihood optimization failed to converge. Check mle_retvals\n",
      "  \"Check mle_retvals\", ConvergenceWarning)\n"
     ]
    },
    {
     "name": "stdout",
     "output_type": "stream",
     "text": [
      "33605822.72213604\n",
      "86387\n",
      "90040912.23233739\n",
      "61926\n",
      "298447350.3180847\n",
      "65052\n",
      "7373828.198494703\n",
      "63457\n",
      "7900790.280735061\n",
      "65989\n",
      "148885.24186655358\n",
      "69983\n",
      "2545281.51192208\n",
      "74454\n",
      "1207160.1730537477\n",
      "91874\n"
     ]
    },
    {
     "name": "stderr",
     "output_type": "stream",
     "text": [
      "C:\\Users\\Bronwen\\Anaconda3\\envs\\learn-env\\lib\\site-packages\\statsmodels\\base\\model.py:508: ConvergenceWarning: Maximum Likelihood optimization failed to converge. Check mle_retvals\n",
      "  \"Check mle_retvals\", ConvergenceWarning)\n"
     ]
    },
    {
     "name": "stdout",
     "output_type": "stream",
     "text": [
      "3492670.227966877\n",
      "94196\n",
      "3523666.1764806425\n",
      "81404\n"
     ]
    },
    {
     "name": "stderr",
     "output_type": "stream",
     "text": [
      "C:\\Users\\Bronwen\\Anaconda3\\envs\\learn-env\\lib\\site-packages\\statsmodels\\base\\model.py:508: ConvergenceWarning: Maximum Likelihood optimization failed to converge. Check mle_retvals\n",
      "  \"Check mle_retvals\", ConvergenceWarning)\n"
     ]
    },
    {
     "name": "stdout",
     "output_type": "stream",
     "text": [
      "848085.7172036518\n",
      "59130\n"
     ]
    },
    {
     "name": "stderr",
     "output_type": "stream",
     "text": [
      "C:\\Users\\Bronwen\\Anaconda3\\envs\\learn-env\\lib\\site-packages\\statsmodels\\base\\model.py:508: ConvergenceWarning: Maximum Likelihood optimization failed to converge. Check mle_retvals\n",
      "  \"Check mle_retvals\", ConvergenceWarning)\n"
     ]
    },
    {
     "name": "stdout",
     "output_type": "stream",
     "text": [
      "69405017.90271887\n",
      "66997\n",
      "63163899.0213411\n",
      "78897\n",
      "10900978.988903044\n",
      "94536\n",
      "8509655.25252758\n",
      "97164\n",
      "12947216.280212358\n",
      "60657\n",
      "2553668.9048381764\n",
      "65042\n"
     ]
    },
    {
     "name": "stderr",
     "output_type": "stream",
     "text": [
      "C:\\Users\\Bronwen\\Anaconda3\\envs\\learn-env\\lib\\site-packages\\statsmodels\\base\\model.py:508: ConvergenceWarning: Maximum Likelihood optimization failed to converge. Check mle_retvals\n",
      "  \"Check mle_retvals\", ConvergenceWarning)\n"
     ]
    },
    {
     "name": "stdout",
     "output_type": "stream",
     "text": [
      "13492077.072382048\n",
      "79573\n"
     ]
    },
    {
     "name": "stderr",
     "output_type": "stream",
     "text": [
      "C:\\Users\\Bronwen\\Anaconda3\\envs\\learn-env\\lib\\site-packages\\statsmodels\\base\\model.py:508: ConvergenceWarning: Maximum Likelihood optimization failed to converge. Check mle_retvals\n",
      "  \"Check mle_retvals\", ConvergenceWarning)\n"
     ]
    },
    {
     "name": "stdout",
     "output_type": "stream",
     "text": [
      "767284377.4082825\n",
      "84519\n",
      "903317.7074645422\n",
      "62650\n",
      "238647851.38360357\n",
      "100048\n"
     ]
    },
    {
     "name": "stderr",
     "output_type": "stream",
     "text": [
      "C:\\Users\\Bronwen\\Anaconda3\\envs\\learn-env\\lib\\site-packages\\statsmodels\\base\\model.py:508: ConvergenceWarning: Maximum Likelihood optimization failed to converge. Check mle_retvals\n",
      "  \"Check mle_retvals\", ConvergenceWarning)\n"
     ]
    },
    {
     "name": "stdout",
     "output_type": "stream",
     "text": [
      "5529131.56798289\n",
      "72180\n",
      "1755947.8592636157\n",
      "59427\n",
      "1710335.3592587337\n",
      "75476\n",
      "2322467.29877782\n",
      "99247\n",
      "3159826.870459623\n",
      "96849\n",
      "31174808.110162757\n",
      "100032\n",
      "22386350.953169297\n",
      "61089\n",
      "2144104.3046635743\n",
      "65051\n",
      "47261355.16090529\n",
      "59433\n",
      "569008.1003510496\n",
      "67403\n",
      "1553012.179696154\n",
      "65016\n",
      "3622125.905579447\n",
      "65907\n"
     ]
    },
    {
     "name": "stderr",
     "output_type": "stream",
     "text": [
      "C:\\Users\\Bronwen\\Anaconda3\\envs\\learn-env\\lib\\site-packages\\statsmodels\\base\\model.py:508: ConvergenceWarning: Maximum Likelihood optimization failed to converge. Check mle_retvals\n",
      "  \"Check mle_retvals\", ConvergenceWarning)\n"
     ]
    },
    {
     "name": "stdout",
     "output_type": "stream",
     "text": [
      "1317343.1614570993\n",
      "78424\n"
     ]
    },
    {
     "name": "stderr",
     "output_type": "stream",
     "text": [
      "C:\\Users\\Bronwen\\Anaconda3\\envs\\learn-env\\lib\\site-packages\\statsmodels\\base\\model.py:508: ConvergenceWarning: Maximum Likelihood optimization failed to converge. Check mle_retvals\n",
      "  \"Check mle_retvals\", ConvergenceWarning)\n"
     ]
    },
    {
     "name": "stdout",
     "output_type": "stream",
     "text": [
      "345300.70432045625\n",
      "65123\n",
      "15615190.661237832\n",
      "82754\n",
      "33417257.543801427\n",
      "73348\n",
      "19688447.481635187\n",
      "65024\n",
      "31460436.614523847\n",
      "417452\n",
      "1639394.4256891687\n",
      "65010\n",
      "19242648.99097563\n",
      "65300\n"
     ]
    },
    {
     "name": "stderr",
     "output_type": "stream",
     "text": [
      "C:\\Users\\Bronwen\\Anaconda3\\envs\\learn-env\\lib\\site-packages\\statsmodels\\base\\model.py:508: ConvergenceWarning: Maximum Likelihood optimization failed to converge. Check mle_retvals\n",
      "  \"Check mle_retvals\", ConvergenceWarning)\n"
     ]
    },
    {
     "name": "stdout",
     "output_type": "stream",
     "text": [
      "20038012.421057336\n",
      "74365\n",
      "28160256.575618602\n",
      "79130\n"
     ]
    },
    {
     "name": "stderr",
     "output_type": "stream",
     "text": [
      "C:\\Users\\Bronwen\\Anaconda3\\envs\\learn-env\\lib\\site-packages\\statsmodels\\base\\model.py:508: ConvergenceWarning: Maximum Likelihood optimization failed to converge. Check mle_retvals\n",
      "  \"Check mle_retvals\", ConvergenceWarning)\n"
     ]
    },
    {
     "name": "stdout",
     "output_type": "stream",
     "text": [
      "21285863.51402219\n",
      "65459\n",
      "11077579.181509461\n",
      "82920\n",
      "2180096.532105992\n",
      "94119\n",
      "9532806.799209766\n",
      "67003\n",
      "254888883.6432045\n",
      "62408\n"
     ]
    },
    {
     "name": "stderr",
     "output_type": "stream",
     "text": [
      "C:\\Users\\Bronwen\\Anaconda3\\envs\\learn-env\\lib\\site-packages\\statsmodels\\base\\model.py:508: ConvergenceWarning: Maximum Likelihood optimization failed to converge. Check mle_retvals\n",
      "  \"Check mle_retvals\", ConvergenceWarning)\n"
     ]
    },
    {
     "name": "stdout",
     "output_type": "stream",
     "text": [
      "2211038.7946013333\n",
      "65117\n",
      "15776022.313974181\n",
      "59053\n"
     ]
    },
    {
     "name": "stderr",
     "output_type": "stream",
     "text": [
      "C:\\Users\\Bronwen\\Anaconda3\\envs\\learn-env\\lib\\site-packages\\statsmodels\\base\\model.py:508: ConvergenceWarning: Maximum Likelihood optimization failed to converge. Check mle_retvals\n",
      "  \"Check mle_retvals\", ConvergenceWarning)\n"
     ]
    },
    {
     "name": "stdout",
     "output_type": "stream",
     "text": [
      "13583648.25393306\n",
      "94262\n",
      "57617461.44782982\n",
      "82209\n",
      "22583112.225972403\n",
      "82083\n",
      "50396491.19077659\n",
      "71688\n"
     ]
    },
    {
     "name": "stderr",
     "output_type": "stream",
     "text": [
      "C:\\Users\\Bronwen\\Anaconda3\\envs\\learn-env\\lib\\site-packages\\statsmodels\\base\\model.py:508: ConvergenceWarning: Maximum Likelihood optimization failed to converge. Check mle_retvals\n",
      "  \"Check mle_retvals\", ConvergenceWarning)\n"
     ]
    },
    {
     "name": "stdout",
     "output_type": "stream",
     "text": [
      "263793.02926661546\n",
      "78003\n",
      "85754949.88814434\n",
      "71694\n"
     ]
    },
    {
     "name": "stderr",
     "output_type": "stream",
     "text": [
      "C:\\Users\\Bronwen\\Anaconda3\\envs\\learn-env\\lib\\site-packages\\statsmodels\\base\\model.py:508: ConvergenceWarning: Maximum Likelihood optimization failed to converge. Check mle_retvals\n",
      "  \"Check mle_retvals\", ConvergenceWarning)\n"
     ]
    },
    {
     "name": "stdout",
     "output_type": "stream",
     "text": [
      "45886149.843308516\n",
      "64920\n",
      "50636.63145219921\n",
      "64434\n",
      "628181.6365725778\n",
      "60224\n",
      "22184323.787436284\n",
      "67957\n",
      "29529769.19576763\n",
      "71207\n",
      "6781739.128842017\n",
      "89725\n",
      "115549212.73713394\n",
      "91337\n"
     ]
    },
    {
     "name": "stderr",
     "output_type": "stream",
     "text": [
      "C:\\Users\\Bronwen\\Anaconda3\\envs\\learn-env\\lib\\site-packages\\statsmodels\\base\\model.py:508: ConvergenceWarning: Maximum Likelihood optimization failed to converge. Check mle_retvals\n",
      "  \"Check mle_retvals\", ConvergenceWarning)\n"
     ]
    },
    {
     "name": "stdout",
     "output_type": "stream",
     "text": [
      "45856814.80997244\n",
      "82523\n",
      "14384077.172710735\n",
      "65320\n",
      "38829638.71287622\n",
      "74428\n",
      "24651318.551394403\n",
      "66953\n",
      "810833009.253506\n",
      "80912\n",
      "282159733.69074476\n",
      "91505\n",
      "262444022.32768488\n",
      "82819\n",
      "343826.29391989356\n",
      "78168\n"
     ]
    },
    {
     "name": "stderr",
     "output_type": "stream",
     "text": [
      "C:\\Users\\Bronwen\\Anaconda3\\envs\\learn-env\\lib\\site-packages\\statsmodels\\base\\model.py:508: ConvergenceWarning: Maximum Likelihood optimization failed to converge. Check mle_retvals\n",
      "  \"Check mle_retvals\", ConvergenceWarning)\n"
     ]
    },
    {
     "name": "stdout",
     "output_type": "stream",
     "text": [
      "5660438.116526959\n",
      "69755\n",
      "401368.4576259557\n",
      "83081\n",
      "215696.77915661377\n",
      "67508\n",
      "952302.274586654\n",
      "82546\n",
      "2508338.0962320096\n",
      "94630\n",
      "1739064.5347772364\n",
      "96754\n"
     ]
    },
    {
     "name": "stderr",
     "output_type": "stream",
     "text": [
      "C:\\Users\\Bronwen\\Anaconda3\\envs\\learn-env\\lib\\site-packages\\statsmodels\\base\\model.py:508: ConvergenceWarning: Maximum Likelihood optimization failed to converge. Check mle_retvals\n",
      "  \"Check mle_retvals\", ConvergenceWarning)\n"
     ]
    },
    {
     "name": "stdout",
     "output_type": "stream",
     "text": [
      "4227235.624093736\n",
      "99674\n",
      "120018068.42583302\n",
      "74107\n",
      "3316914.831350552\n",
      "69251\n",
      "3350437.364936108\n",
      "88752\n",
      "876447.2801060717\n",
      "95178\n",
      "184353118.87589687\n",
      "84512\n",
      "2762768.588135085\n",
      "73368\n",
      "82873582.23820749\n",
      "72146\n",
      "14191806.027071128\n",
      "74820\n",
      "1258087.1726203328\n",
      "66005\n",
      "1543203.7491596849\n",
      "91928\n"
     ]
    },
    {
     "name": "stderr",
     "output_type": "stream",
     "text": [
      "C:\\Users\\Bronwen\\Anaconda3\\envs\\learn-env\\lib\\site-packages\\statsmodels\\base\\model.py:508: ConvergenceWarning: Maximum Likelihood optimization failed to converge. Check mle_retvals\n",
      "  \"Check mle_retvals\", ConvergenceWarning)\n"
     ]
    },
    {
     "name": "stdout",
     "output_type": "stream",
     "text": [
      "84320247.25791794\n",
      "59332\n",
      "3408783.1566809975\n",
      "78015\n"
     ]
    },
    {
     "name": "stderr",
     "output_type": "stream",
     "text": [
      "C:\\Users\\Bronwen\\Anaconda3\\envs\\learn-env\\lib\\site-packages\\statsmodels\\base\\model.py:508: ConvergenceWarning: Maximum Likelihood optimization failed to converge. Check mle_retvals\n",
      "  \"Check mle_retvals\", ConvergenceWarning)\n"
     ]
    },
    {
     "name": "stdout",
     "output_type": "stream",
     "text": [
      "6883036.0183098\n",
      "82173\n",
      "145390665.0402654\n",
      "62634\n",
      "411228402.29269373\n",
      "79006\n",
      "229792666.53030396\n",
      "80931\n"
     ]
    },
    {
     "name": "stderr",
     "output_type": "stream",
     "text": [
      "C:\\Users\\Bronwen\\Anaconda3\\envs\\learn-env\\lib\\site-packages\\statsmodels\\base\\model.py:508: ConvergenceWarning: Maximum Likelihood optimization failed to converge. Check mle_retvals\n",
      "  \"Check mle_retvals\", ConvergenceWarning)\n"
     ]
    },
    {
     "name": "stdout",
     "output_type": "stream",
     "text": [
      "91485192.8266636\n",
      "70141\n",
      "396606491.1483421\n",
      "67341\n",
      "247724.22977016732\n",
      "61024\n"
     ]
    },
    {
     "name": "stderr",
     "output_type": "stream",
     "text": [
      "C:\\Users\\Bronwen\\Anaconda3\\envs\\learn-env\\lib\\site-packages\\statsmodels\\base\\model.py:508: ConvergenceWarning: Maximum Likelihood optimization failed to converge. Check mle_retvals\n",
      "  \"Check mle_retvals\", ConvergenceWarning)\n"
     ]
    },
    {
     "name": "stdout",
     "output_type": "stream",
     "text": [
      "222691128.10441643\n",
      "82767\n",
      "5008266.673141673\n",
      "67320\n"
     ]
    },
    {
     "name": "stderr",
     "output_type": "stream",
     "text": [
      "C:\\Users\\Bronwen\\Anaconda3\\envs\\learn-env\\lib\\site-packages\\statsmodels\\base\\model.py:508: ConvergenceWarning: Maximum Likelihood optimization failed to converge. Check mle_retvals\n",
      "  \"Check mle_retvals\", ConvergenceWarning)\n"
     ]
    },
    {
     "name": "stdout",
     "output_type": "stream",
     "text": [
      "43009371.31380029\n",
      "82538\n",
      "34905703.383980915\n",
      "65071\n",
      "2166254.8242848357\n",
      "81190\n"
     ]
    },
    {
     "name": "stderr",
     "output_type": "stream",
     "text": [
      "C:\\Users\\Bronwen\\Anaconda3\\envs\\learn-env\\lib\\site-packages\\statsmodels\\base\\model.py:508: ConvergenceWarning: Maximum Likelihood optimization failed to converge. Check mle_retvals\n",
      "  \"Check mle_retvals\", ConvergenceWarning)\n"
     ]
    },
    {
     "name": "stdout",
     "output_type": "stream",
     "text": [
      "962167399.2985876\n",
      "59216\n"
     ]
    },
    {
     "name": "stderr",
     "output_type": "stream",
     "text": [
      "C:\\Users\\Bronwen\\Anaconda3\\envs\\learn-env\\lib\\site-packages\\statsmodels\\base\\model.py:508: ConvergenceWarning: Maximum Likelihood optimization failed to converge. Check mle_retvals\n",
      "  \"Check mle_retvals\", ConvergenceWarning)\n"
     ]
    },
    {
     "name": "stdout",
     "output_type": "stream",
     "text": [
      "32998351.522042193\n",
      "79199\n",
      "1165693.698697631\n",
      "99649\n",
      "235811289.97317475\n",
      "63076\n",
      "11666034.914409006\n",
      "65085\n"
     ]
    },
    {
     "name": "stderr",
     "output_type": "stream",
     "text": [
      "C:\\Users\\Bronwen\\Anaconda3\\envs\\learn-env\\lib\\site-packages\\statsmodels\\base\\model.py:508: ConvergenceWarning: Maximum Likelihood optimization failed to converge. Check mle_retvals\n",
      "  \"Check mle_retvals\", ConvergenceWarning)\n"
     ]
    },
    {
     "name": "stdout",
     "output_type": "stream",
     "text": [
      "700777.1027418354\n",
      "67978\n"
     ]
    },
    {
     "name": "stderr",
     "output_type": "stream",
     "text": [
      "C:\\Users\\Bronwen\\Anaconda3\\envs\\learn-env\\lib\\site-packages\\statsmodels\\base\\model.py:508: ConvergenceWarning: Maximum Likelihood optimization failed to converge. Check mle_retvals\n",
      "  \"Check mle_retvals\", ConvergenceWarning)\n"
     ]
    },
    {
     "name": "stdout",
     "output_type": "stream",
     "text": [
      "8179539.183700281\n",
      "82908\n",
      "1719561.3357554644\n",
      "78251\n"
     ]
    },
    {
     "name": "stderr",
     "output_type": "stream",
     "text": [
      "C:\\Users\\Bronwen\\Anaconda3\\envs\\learn-env\\lib\\site-packages\\statsmodels\\base\\model.py:508: ConvergenceWarning: Maximum Likelihood optimization failed to converge. Check mle_retvals\n",
      "  \"Check mle_retvals\", ConvergenceWarning)\n"
     ]
    },
    {
     "name": "stdout",
     "output_type": "stream",
     "text": [
      "91099792.675895\n",
      "82925\n",
      "12950716.23743258\n",
      "69255\n",
      "21911225.700569592\n",
      "100033\n",
      "2160923.865288569\n",
      "76236\n"
     ]
    },
    {
     "name": "stderr",
     "output_type": "stream",
     "text": [
      "C:\\Users\\Bronwen\\Anaconda3\\envs\\learn-env\\lib\\site-packages\\statsmodels\\base\\model.py:508: ConvergenceWarning: Maximum Likelihood optimization failed to converge. Check mle_retvals\n",
      "  \"Check mle_retvals\", ConvergenceWarning)\n"
     ]
    },
    {
     "name": "stdout",
     "output_type": "stream",
     "text": [
      "103891401.61306138\n",
      "93788\n",
      "674304.0969981854\n",
      "61929\n",
      "165234897.14786273\n",
      "87454\n",
      "1396449.204703691\n",
      "72081\n",
      "2676812.023862389\n",
      "62347\n",
      "82570635.57012294\n",
      "94610\n",
      "12586664.848789744\n",
      "72140\n",
      "75189647.04969907\n",
      "81409\n"
     ]
    },
    {
     "name": "stderr",
     "output_type": "stream",
     "text": [
      "C:\\Users\\Bronwen\\Anaconda3\\envs\\learn-env\\lib\\site-packages\\statsmodels\\base\\model.py:508: ConvergenceWarning: Maximum Likelihood optimization failed to converge. Check mle_retvals\n",
      "  \"Check mle_retvals\", ConvergenceWarning)\n"
     ]
    },
    {
     "name": "stdout",
     "output_type": "stream",
     "text": [
      "319677.6218232472\n",
      "71175\n",
      "25304955.133470267\n",
      "64753\n",
      "36969007.15323883\n",
      "76528\n"
     ]
    },
    {
     "name": "stderr",
     "output_type": "stream",
     "text": [
      "C:\\Users\\Bronwen\\Anaconda3\\envs\\learn-env\\lib\\site-packages\\statsmodels\\base\\model.py:508: ConvergenceWarning: Maximum Likelihood optimization failed to converge. Check mle_retvals\n",
      "  \"Check mle_retvals\", ConvergenceWarning)\n"
     ]
    },
    {
     "name": "stdout",
     "output_type": "stream",
     "text": [
      "287832607.2321268\n",
      "78455\n",
      "3423217.8335592435\n",
      "67711\n",
      "131740451.53251903\n",
      "59174\n"
     ]
    },
    {
     "name": "stderr",
     "output_type": "stream",
     "text": [
      "C:\\Users\\Bronwen\\Anaconda3\\envs\\learn-env\\lib\\site-packages\\statsmodels\\base\\model.py:508: ConvergenceWarning: Maximum Likelihood optimization failed to converge. Check mle_retvals\n",
      "  \"Check mle_retvals\", ConvergenceWarning)\n"
     ]
    },
    {
     "name": "stdout",
     "output_type": "stream",
     "text": [
      "619286.8362964563\n",
      "65994\n"
     ]
    },
    {
     "name": "stderr",
     "output_type": "stream",
     "text": [
      "C:\\Users\\Bronwen\\Anaconda3\\envs\\learn-env\\lib\\site-packages\\statsmodels\\base\\model.py:508: ConvergenceWarning: Maximum Likelihood optimization failed to converge. Check mle_retvals\n",
      "  \"Check mle_retvals\", ConvergenceWarning)\n"
     ]
    },
    {
     "name": "stdout",
     "output_type": "stream",
     "text": [
      "1667351.8497572537\n",
      "85400\n",
      "50905402.79924469\n",
      "82214\n"
     ]
    },
    {
     "name": "stderr",
     "output_type": "stream",
     "text": [
      "C:\\Users\\Bronwen\\Anaconda3\\envs\\learn-env\\lib\\site-packages\\statsmodels\\base\\model.py:508: ConvergenceWarning: Maximum Likelihood optimization failed to converge. Check mle_retvals\n",
      "  \"Check mle_retvals\", ConvergenceWarning)\n"
     ]
    },
    {
     "name": "stdout",
     "output_type": "stream",
     "text": [
      "26587670.65752716\n",
      "82411\n"
     ]
    },
    {
     "name": "stderr",
     "output_type": "stream",
     "text": [
      "C:\\Users\\Bronwen\\Anaconda3\\envs\\learn-env\\lib\\site-packages\\statsmodels\\base\\model.py:508: ConvergenceWarning: Maximum Likelihood optimization failed to converge. Check mle_retvals\n",
      "  \"Check mle_retvals\", ConvergenceWarning)\n"
     ]
    },
    {
     "name": "stdout",
     "output_type": "stream",
     "text": [
      "3060902.4842402413\n",
      "65434\n",
      "22100490.63862745\n",
      "78711\n"
     ]
    },
    {
     "name": "stderr",
     "output_type": "stream",
     "text": [
      "C:\\Users\\Bronwen\\Anaconda3\\envs\\learn-env\\lib\\site-packages\\statsmodels\\base\\model.py:508: ConvergenceWarning: Maximum Likelihood optimization failed to converge. Check mle_retvals\n",
      "  \"Check mle_retvals\", ConvergenceWarning)\n"
     ]
    },
    {
     "name": "stdout",
     "output_type": "stream",
     "text": [
      "189222.64664485454\n",
      "78445\n",
      "5904502.725315785\n",
      "67005\n"
     ]
    },
    {
     "name": "stderr",
     "output_type": "stream",
     "text": [
      "C:\\Users\\Bronwen\\Anaconda3\\envs\\learn-env\\lib\\site-packages\\statsmodels\\base\\model.py:508: ConvergenceWarning: Maximum Likelihood optimization failed to converge. Check mle_retvals\n",
      "  \"Check mle_retvals\", ConvergenceWarning)\n"
     ]
    },
    {
     "name": "stdout",
     "output_type": "stream",
     "text": [
      "232550702.21599373\n",
      "71787\n",
      "96764439.07683453\n",
      "71212\n",
      "2649383.056692931\n",
      "82178\n",
      "680921.8835111292\n",
      "65197\n",
      "5008467.493045905\n",
      "64431\n",
      "15002706.357070291\n",
      "73225\n",
      "68284743.81839374\n",
      "78103\n",
      "12061931.313029664\n",
      "64408\n",
      "837858.5502492372\n",
      "95292\n"
     ]
    },
    {
     "name": "stderr",
     "output_type": "stream",
     "text": [
      "C:\\Users\\Bronwen\\Anaconda3\\envs\\learn-env\\lib\\site-packages\\statsmodels\\base\\model.py:508: ConvergenceWarning: Maximum Likelihood optimization failed to converge. Check mle_retvals\n",
      "  \"Check mle_retvals\", ConvergenceWarning)\n"
     ]
    },
    {
     "name": "stdout",
     "output_type": "stream",
     "text": [
      "69698664.86914979\n",
      "82800\n",
      "5163468.900952598\n",
      "65081\n"
     ]
    },
    {
     "name": "stderr",
     "output_type": "stream",
     "text": [
      "C:\\Users\\Bronwen\\Anaconda3\\envs\\learn-env\\lib\\site-packages\\statsmodels\\base\\model.py:508: ConvergenceWarning: Maximum Likelihood optimization failed to converge. Check mle_retvals\n",
      "  \"Check mle_retvals\", ConvergenceWarning)\n"
     ]
    },
    {
     "name": "stdout",
     "output_type": "stream",
     "text": [
      "27179105.747409094\n",
      "76975\n",
      "16604315.040097281\n",
      "70659\n",
      "256213417.75729966\n",
      "59233\n",
      "1086174.1787175327\n",
      "82860\n",
      "20465881.55652296\n",
      "81628\n",
      "85470308.35083702\n",
      "61971\n",
      "10093675.123744715\n",
      "59087\n",
      "90173735.37683055\n",
      "81270\n"
     ]
    },
    {
     "name": "stderr",
     "output_type": "stream",
     "text": [
      "C:\\Users\\Bronwen\\Anaconda3\\envs\\learn-env\\lib\\site-packages\\statsmodels\\base\\model.py:508: ConvergenceWarning: Maximum Likelihood optimization failed to converge. Check mle_retvals\n",
      "  \"Check mle_retvals\", ConvergenceWarning)\n"
     ]
    },
    {
     "name": "stdout",
     "output_type": "stream",
     "text": [
      "143238270.63682112\n",
      "63804\n",
      "190597048.57116514\n",
      "99306\n",
      "9439907.72776161\n",
      "58377\n"
     ]
    },
    {
     "name": "stderr",
     "output_type": "stream",
     "text": [
      "C:\\Users\\Bronwen\\Anaconda3\\envs\\learn-env\\lib\\site-packages\\statsmodels\\base\\model.py:508: ConvergenceWarning: Maximum Likelihood optimization failed to converge. Check mle_retvals\n",
      "  \"Check mle_retvals\", ConvergenceWarning)\n"
     ]
    },
    {
     "name": "stdout",
     "output_type": "stream",
     "text": [
      "29597769.403437816\n",
      "62329\n"
     ]
    },
    {
     "name": "stderr",
     "output_type": "stream",
     "text": [
      "C:\\Users\\Bronwen\\Anaconda3\\envs\\learn-env\\lib\\site-packages\\statsmodels\\base\\model.py:508: ConvergenceWarning: Maximum Likelihood optimization failed to converge. Check mle_retvals\n",
      "  \"Check mle_retvals\", ConvergenceWarning)\n"
     ]
    },
    {
     "name": "stdout",
     "output_type": "stream",
     "text": [
      "1844984.3982391073\n",
      "73242\n",
      "1130314.6263858587\n",
      "80883\n"
     ]
    },
    {
     "name": "stderr",
     "output_type": "stream",
     "text": [
      "C:\\Users\\Bronwen\\Anaconda3\\envs\\learn-env\\lib\\site-packages\\statsmodels\\base\\model.py:508: ConvergenceWarning: Maximum Likelihood optimization failed to converge. Check mle_retvals\n",
      "  \"Check mle_retvals\", ConvergenceWarning)\n"
     ]
    },
    {
     "name": "stdout",
     "output_type": "stream",
     "text": [
      "59642652.57672443\n",
      "65005\n",
      "20969568.654885814\n",
      "62358\n",
      "5285875.492435063\n",
      "77421\n",
      "164078.5696643042\n",
      "61061\n",
      "11632189.818107054\n",
      "81150\n"
     ]
    },
    {
     "name": "stderr",
     "output_type": "stream",
     "text": [
      "C:\\Users\\Bronwen\\Anaconda3\\envs\\learn-env\\lib\\site-packages\\statsmodels\\base\\model.py:508: ConvergenceWarning: Maximum Likelihood optimization failed to converge. Check mle_retvals\n",
      "  \"Check mle_retvals\", ConvergenceWarning)\n"
     ]
    },
    {
     "name": "stdout",
     "output_type": "stream",
     "text": [
      "602672067.8720251\n",
      "59055\n",
      "295406205.0779506\n",
      "65061\n",
      "58601941.08200961\n",
      "94901\n",
      "14872634.515404925\n",
      "74117\n"
     ]
    },
    {
     "name": "stderr",
     "output_type": "stream",
     "text": [
      "C:\\Users\\Bronwen\\Anaconda3\\envs\\learn-env\\lib\\site-packages\\statsmodels\\base\\model.py:508: ConvergenceWarning: Maximum Likelihood optimization failed to converge. Check mle_retvals\n",
      "  \"Check mle_retvals\", ConvergenceWarning)\n"
     ]
    },
    {
     "name": "stdout",
     "output_type": "stream",
     "text": [
      "33168209.275381695\n",
      "81602\n",
      "71364813.86783504\n",
      "82201\n",
      "185454551.90054\n",
      "59211\n",
      "69710895.50195643\n",
      "74229\n",
      "4604733.571126984\n",
      "73345\n",
      "220785361.46177998\n",
      "80155\n",
      "40790945.66682565\n",
      "62690\n"
     ]
    },
    {
     "name": "stderr",
     "output_type": "stream",
     "text": [
      "C:\\Users\\Bronwen\\Anaconda3\\envs\\learn-env\\lib\\site-packages\\statsmodels\\base\\model.py:508: ConvergenceWarning: Maximum Likelihood optimization failed to converge. Check mle_retvals\n",
      "  \"Check mle_retvals\", ConvergenceWarning)\n"
     ]
    },
    {
     "name": "stdout",
     "output_type": "stream",
     "text": [
      "81101611.01322153\n",
      "82443\n",
      "31213525.61482518\n",
      "88025\n",
      "74488189.70958896\n",
      "68133\n",
      "10598162.27464056\n",
      "64793\n",
      "40721803.33523059\n",
      "84473\n",
      "11044993.955454512\n",
      "62573\n",
      "90384417.034436\n",
      "76486\n",
      "13123902.398627391\n",
      "82402\n",
      "18118182.50557372\n",
      "64860\n",
      "569480812.1080097\n",
      "76632\n",
      "3565978.983694726\n",
      "99062\n",
      "78400027.11172594\n",
      "65055\n",
      "8925181.991210891\n",
      "87245\n",
      "20738148.828580983\n",
      "98283\n",
      "10046878.866584305\n",
      "99867\n",
      "561043511.508936\n",
      "79574\n"
     ]
    },
    {
     "name": "stderr",
     "output_type": "stream",
     "text": [
      "C:\\Users\\Bronwen\\Anaconda3\\envs\\learn-env\\lib\\site-packages\\statsmodels\\base\\model.py:508: ConvergenceWarning: Maximum Likelihood optimization failed to converge. Check mle_retvals\n",
      "  \"Check mle_retvals\", ConvergenceWarning)\n"
     ]
    },
    {
     "name": "stdout",
     "output_type": "stream",
     "text": [
      "42648641.79837138\n",
      "59321\n"
     ]
    },
    {
     "name": "stderr",
     "output_type": "stream",
     "text": [
      "C:\\Users\\Bronwen\\Anaconda3\\envs\\learn-env\\lib\\site-packages\\statsmodels\\base\\model.py:508: ConvergenceWarning: Maximum Likelihood optimization failed to converge. Check mle_retvals\n",
      "  \"Check mle_retvals\", ConvergenceWarning)\n"
     ]
    },
    {
     "name": "stdout",
     "output_type": "stream",
     "text": [
      "1572563.3955125802\n",
      "65079\n"
     ]
    },
    {
     "name": "stderr",
     "output_type": "stream",
     "text": [
      "C:\\Users\\Bronwen\\Anaconda3\\envs\\learn-env\\lib\\site-packages\\statsmodels\\base\\model.py:508: ConvergenceWarning: Maximum Likelihood optimization failed to converge. Check mle_retvals\n",
      "  \"Check mle_retvals\", ConvergenceWarning)\n"
     ]
    },
    {
     "name": "stdout",
     "output_type": "stream",
     "text": [
      "10265923.01069431\n",
      "82072\n"
     ]
    },
    {
     "name": "stderr",
     "output_type": "stream",
     "text": [
      "C:\\Users\\Bronwen\\Anaconda3\\envs\\learn-env\\lib\\site-packages\\statsmodels\\base\\model.py:508: ConvergenceWarning: Maximum Likelihood optimization failed to converge. Check mle_retvals\n",
      "  \"Check mle_retvals\", ConvergenceWarning)\n"
     ]
    },
    {
     "name": "stdout",
     "output_type": "stream",
     "text": [
      "7150740.630799974\n",
      "82866\n",
      "2514963.037145575\n",
      "94629\n"
     ]
    },
    {
     "name": "stderr",
     "output_type": "stream",
     "text": [
      "C:\\Users\\Bronwen\\Anaconda3\\envs\\learn-env\\lib\\site-packages\\statsmodels\\base\\model.py:508: ConvergenceWarning: Maximum Likelihood optimization failed to converge. Check mle_retvals\n",
      "  \"Check mle_retvals\", ConvergenceWarning)\n"
     ]
    },
    {
     "name": "stdout",
     "output_type": "stream",
     "text": [
      "1929787.9093497128\n",
      "95775\n",
      "15674550.022122461\n",
      "58298\n"
     ]
    },
    {
     "name": "stderr",
     "output_type": "stream",
     "text": [
      "C:\\Users\\Bronwen\\Anaconda3\\envs\\learn-env\\lib\\site-packages\\statsmodels\\base\\model.py:508: ConvergenceWarning: Maximum Likelihood optimization failed to converge. Check mle_retvals\n",
      "  \"Check mle_retvals\", ConvergenceWarning)\n"
     ]
    },
    {
     "name": "stdout",
     "output_type": "stream",
     "text": [
      "142312549.4573841\n",
      "62589\n",
      "186565422.04881185\n",
      "65972\n",
      "510511.16046214505\n",
      "78939\n",
      "182244024.53759786\n",
      "68171\n",
      "14128772.369233852\n",
      "75502\n"
     ]
    },
    {
     "name": "stderr",
     "output_type": "stream",
     "text": [
      "C:\\Users\\Bronwen\\Anaconda3\\envs\\learn-env\\lib\\site-packages\\statsmodels\\base\\model.py:508: ConvergenceWarning: Maximum Likelihood optimization failed to converge. Check mle_retvals\n",
      "  \"Check mle_retvals\", ConvergenceWarning)\n"
     ]
    },
    {
     "name": "stdout",
     "output_type": "stream",
     "text": [
      "1472481.833004963\n",
      "64858\n"
     ]
    },
    {
     "name": "stderr",
     "output_type": "stream",
     "text": [
      "C:\\Users\\Bronwen\\Anaconda3\\envs\\learn-env\\lib\\site-packages\\statsmodels\\base\\model.py:508: ConvergenceWarning: Maximum Likelihood optimization failed to converge. Check mle_retvals\n",
      "  \"Check mle_retvals\", ConvergenceWarning)\n"
     ]
    },
    {
     "name": "stdout",
     "output_type": "stream",
     "text": [
      "8098634.794116961\n",
      "71210\n",
      "8699799.903485244\n",
      "81539\n",
      "324633873.51185685\n",
      "74132\n",
      "29417886.14613949\n",
      "83874\n",
      "1289313.561759596\n",
      "58303\n",
      "5926568.448195937\n",
      "74223\n",
      "4482801.129144554\n",
      "59416\n",
      "21746831.618179373\n",
      "79050\n"
     ]
    },
    {
     "name": "stderr",
     "output_type": "stream",
     "text": [
      "C:\\Users\\Bronwen\\Anaconda3\\envs\\learn-env\\lib\\site-packages\\statsmodels\\base\\model.py:508: ConvergenceWarning: Maximum Likelihood optimization failed to converge. Check mle_retvals\n",
      "  \"Check mle_retvals\", ConvergenceWarning)\n"
     ]
    },
    {
     "name": "stdout",
     "output_type": "stream",
     "text": [
      "149053373.48275432\n",
      "92592\n",
      "21580356.276405063\n",
      "81220\n",
      "472800905.45838356\n",
      "81194\n",
      "342922098.9783684\n",
      "81143\n"
     ]
    },
    {
     "name": "stderr",
     "output_type": "stream",
     "text": [
      "C:\\Users\\Bronwen\\Anaconda3\\envs\\learn-env\\lib\\site-packages\\statsmodels\\base\\model.py:508: ConvergenceWarning: Maximum Likelihood optimization failed to converge. Check mle_retvals\n",
      "  \"Check mle_retvals\", ConvergenceWarning)\n"
     ]
    },
    {
     "name": "stdout",
     "output_type": "stream",
     "text": [
      "591011.2931904708\n",
      "86317\n",
      "3210657.841709756\n",
      "90739\n",
      "8467687.29742783\n",
      "82054\n",
      "29964929.430953465\n",
      "94688\n"
     ]
    },
    {
     "name": "stderr",
     "output_type": "stream",
     "text": [
      "C:\\Users\\Bronwen\\Anaconda3\\envs\\learn-env\\lib\\site-packages\\statsmodels\\base\\model.py:508: ConvergenceWarning: Maximum Likelihood optimization failed to converge. Check mle_retvals\n",
      "  \"Check mle_retvals\", ConvergenceWarning)\n"
     ]
    },
    {
     "name": "stdout",
     "output_type": "stream",
     "text": [
      "182392350.87267274\n",
      "81135\n",
      "26877029.65351364\n",
      "70487\n",
      "86793434.51457998\n",
      "59455\n",
      "5660770.991869548\n",
      "58347\n",
      "47890141.83240748\n",
      "79750\n",
      "239385896.4743251\n",
      "65111\n",
      "32645209.060119797\n",
      "58296\n",
      "108735988.53450508\n",
      "100121\n",
      "31335867.69398569\n",
      "70409\n",
      "75331916.37613718\n",
      "67525\n",
      "40063003.25727705\n",
      "60243\n",
      "80608210.81898972\n",
      "65350\n"
     ]
    },
    {
     "name": "stderr",
     "output_type": "stream",
     "text": [
      "C:\\Users\\Bronwen\\Anaconda3\\envs\\learn-env\\lib\\site-packages\\statsmodels\\base\\model.py:508: ConvergenceWarning: Maximum Likelihood optimization failed to converge. Check mle_retvals\n",
      "  \"Check mle_retvals\", ConvergenceWarning)\n"
     ]
    },
    {
     "name": "stdout",
     "output_type": "stream",
     "text": [
      "4534154.58354753\n",
      "69576\n",
      "924321.5121618577\n",
      "82498\n",
      "7247335.486669632\n",
      "77091\n",
      "32101563.806551963\n",
      "65974\n"
     ]
    },
    {
     "name": "stderr",
     "output_type": "stream",
     "text": [
      "C:\\Users\\Bronwen\\Anaconda3\\envs\\learn-env\\lib\\site-packages\\statsmodels\\base\\model.py:508: ConvergenceWarning: Maximum Likelihood optimization failed to converge. Check mle_retvals\n",
      "  \"Check mle_retvals\", ConvergenceWarning)\n"
     ]
    },
    {
     "name": "stdout",
     "output_type": "stream",
     "text": [
      "73450690.2665762\n",
      "82564\n",
      "3715040.1803054744\n",
      "59348\n",
      "18395443.88399856\n",
      "59212\n",
      "50681960.69187375\n",
      "99309\n",
      "3154083.0708874534\n",
      "63593\n",
      "62249954.57072288\n",
      "86342\n"
     ]
    },
    {
     "name": "stderr",
     "output_type": "stream",
     "text": [
      "C:\\Users\\Bronwen\\Anaconda3\\envs\\learn-env\\lib\\site-packages\\statsmodels\\base\\model.py:508: ConvergenceWarning: Maximum Likelihood optimization failed to converge. Check mle_retvals\n",
      "  \"Check mle_retvals\", ConvergenceWarning)\n"
     ]
    },
    {
     "name": "stdout",
     "output_type": "stream",
     "text": [
      "110551.0673937073\n",
      "98471\n",
      "75654712.23319052\n",
      "80917\n",
      "8436420.833081488\n",
      "71264\n",
      "11983613.259381581\n",
      "94529\n",
      "342715.92427428684\n",
      "98112\n",
      "32975309.407648973\n",
      "67313\n",
      "2467860.622565606\n",
      "94028\n"
     ]
    },
    {
     "name": "stderr",
     "output_type": "stream",
     "text": [
      "C:\\Users\\Bronwen\\Anaconda3\\envs\\learn-env\\lib\\site-packages\\statsmodels\\base\\model.py:508: ConvergenceWarning: Maximum Likelihood optimization failed to converge. Check mle_retvals\n",
      "  \"Check mle_retvals\", ConvergenceWarning)\n"
     ]
    },
    {
     "name": "stdout",
     "output_type": "stream",
     "text": [
      "4569794.402465728\n",
      "71735\n",
      "605809661.7767172\n",
      "89919\n",
      "27844326.75891875\n",
      "82204\n",
      "90836853.03228097\n",
      "78237\n",
      "21590059.685672775\n",
      "98472\n",
      "283034748.8529045\n",
      "65046\n",
      "1519363.8606981386\n",
      "58252\n",
      "4816571.343603471\n",
      "82825\n",
      "3716618.7658817307\n",
      "88798\n",
      "5992277.119156352\n",
      "59459\n",
      "260718.89525078773\n",
      "73182\n",
      "162908787.3395178\n",
      "94013\n",
      "74140274.24562332\n",
      "68137\n",
      "13679907.936743135\n",
      "92547\n",
      "156736685.89948088\n",
      "59118\n",
      "58576313.78024559\n",
      "87216\n",
      "62540140.12962929\n",
      "85133\n",
      "625144.0036669944\n",
      "65006\n",
      "30625519.130610783\n",
      "81606\n",
      "7284980.544248447\n",
      "62606\n",
      "379444018.7174839\n",
      "58332\n",
      "83561994.63425049\n",
      "59125\n"
     ]
    },
    {
     "name": "stderr",
     "output_type": "stream",
     "text": [
      "C:\\Users\\Bronwen\\Anaconda3\\envs\\learn-env\\lib\\site-packages\\statsmodels\\base\\model.py:508: ConvergenceWarning: Maximum Likelihood optimization failed to converge. Check mle_retvals\n",
      "  \"Check mle_retvals\", ConvergenceWarning)\n"
     ]
    },
    {
     "name": "stdout",
     "output_type": "stream",
     "text": [
      "21918773.40836689\n",
      "84554\n",
      "249279544.49662417\n",
      "60247\n"
     ]
    },
    {
     "name": "stderr",
     "output_type": "stream",
     "text": [
      "C:\\Users\\Bronwen\\Anaconda3\\envs\\learn-env\\lib\\site-packages\\statsmodels\\base\\model.py:508: ConvergenceWarning: Maximum Likelihood optimization failed to converge. Check mle_retvals\n",
      "  \"Check mle_retvals\", ConvergenceWarning)\n"
     ]
    },
    {
     "name": "stdout",
     "output_type": "stream",
     "text": [
      "7427094.176413029\n",
      "65008\n",
      "1724976.2181491791\n",
      "58228\n",
      "1556427.8334696076\n",
      "82092\n"
     ]
    },
    {
     "name": "stderr",
     "output_type": "stream",
     "text": [
      "C:\\Users\\Bronwen\\Anaconda3\\envs\\learn-env\\lib\\site-packages\\statsmodels\\base\\model.py:508: ConvergenceWarning: Maximum Likelihood optimization failed to converge. Check mle_retvals\n",
      "  \"Check mle_retvals\", ConvergenceWarning)\n"
     ]
    },
    {
     "name": "stdout",
     "output_type": "stream",
     "text": [
      "128754414.22280963\n",
      "58401\n",
      "661636.1363092705\n",
      "66933\n",
      "12024170.209665928\n",
      "68144\n",
      "5741354.11973021\n",
      "67413\n",
      "4922941.465856273\n",
      "69733\n",
      "250473727.70203918\n",
      "82241\n",
      "51730470.89577874\n",
      "79397\n",
      "61302850.507540844\n",
      "67463\n",
      "31170446.460345637\n",
      "69411\n"
     ]
    },
    {
     "name": "stderr",
     "output_type": "stream",
     "text": [
      "C:\\Users\\Bronwen\\Anaconda3\\envs\\learn-env\\lib\\site-packages\\statsmodels\\base\\model.py:508: ConvergenceWarning: Maximum Likelihood optimization failed to converge. Check mle_retvals\n",
      "  \"Check mle_retvals\", ConvergenceWarning)\n"
     ]
    },
    {
     "name": "stdout",
     "output_type": "stream",
     "text": [
      "1638250747.6038203\n",
      "62431\n",
      "1148707.8420832618\n",
      "81493\n",
      "6393416.369924158\n",
      "82050\n",
      "4589726.211956218\n",
      "98566\n",
      "4400911.907984378\n",
      "58281\n",
      "4703895.779636288\n",
      "81868\n"
     ]
    },
    {
     "name": "stderr",
     "output_type": "stream",
     "text": [
      "C:\\Users\\Bronwen\\Anaconda3\\envs\\learn-env\\lib\\site-packages\\statsmodels\\base\\model.py:508: ConvergenceWarning: Maximum Likelihood optimization failed to converge. Check mle_retvals\n",
      "  \"Check mle_retvals\", ConvergenceWarning)\n"
     ]
    },
    {
     "name": "stdout",
     "output_type": "stream",
     "text": [
      "19340037.028288055\n",
      "65056\n",
      "868333.1696631797\n",
      "82248\n"
     ]
    },
    {
     "name": "stderr",
     "output_type": "stream",
     "text": [
      "C:\\Users\\Bronwen\\Anaconda3\\envs\\learn-env\\lib\\site-packages\\statsmodels\\base\\model.py:508: ConvergenceWarning: Maximum Likelihood optimization failed to converge. Check mle_retvals\n",
      "  \"Check mle_retvals\", ConvergenceWarning)\n"
     ]
    },
    {
     "name": "stdout",
     "output_type": "stream",
     "text": [
      "1023620.5922354199\n",
      "80120\n",
      "5036836.143193082\n",
      "59313\n",
      "447875.68306664936\n",
      "59064\n"
     ]
    },
    {
     "name": "stderr",
     "output_type": "stream",
     "text": [
      "C:\\Users\\Bronwen\\Anaconda3\\envs\\learn-env\\lib\\site-packages\\statsmodels\\base\\model.py:508: ConvergenceWarning: Maximum Likelihood optimization failed to converge. Check mle_retvals\n",
      "  \"Check mle_retvals\", ConvergenceWarning)\n"
     ]
    },
    {
     "name": "stdout",
     "output_type": "stream",
     "text": [
      "49580226.35527989\n",
      "67295\n",
      "377346996.43557936\n",
      "82219\n",
      "8692719.892564166\n",
      "61947\n"
     ]
    },
    {
     "name": "stderr",
     "output_type": "stream",
     "text": [
      "C:\\Users\\Bronwen\\Anaconda3\\envs\\learn-env\\lib\\site-packages\\statsmodels\\base\\model.py:508: ConvergenceWarning: Maximum Likelihood optimization failed to converge. Check mle_retvals\n",
      "  \"Check mle_retvals\", ConvergenceWarning)\n"
     ]
    },
    {
     "name": "stdout",
     "output_type": "stream",
     "text": [
      "238787976.49067464\n",
      "71197\n",
      "18427163.72524818\n",
      "78172\n",
      "29619185.843623437\n",
      "81174\n",
      "58057948.724405095\n",
      "74204\n",
      "78833710.74723832\n",
      "85397\n",
      "11690726.519760173\n",
      "59965\n",
      "44471961.68765055\n",
      "71691\n"
     ]
    },
    {
     "name": "stderr",
     "output_type": "stream",
     "text": [
      "C:\\Users\\Bronwen\\Anaconda3\\envs\\learn-env\\lib\\site-packages\\statsmodels\\base\\model.py:508: ConvergenceWarning: Maximum Likelihood optimization failed to converge. Check mle_retvals\n",
      "  \"Check mle_retvals\", ConvergenceWarning)\n"
     ]
    },
    {
     "name": "stdout",
     "output_type": "stream",
     "text": [
      "11482792.278088698\n",
      "63453\n",
      "3805219.5218933793\n",
      "82943\n",
      "4973446.587764812\n",
      "81550\n",
      "162865673.4228115\n",
      "59131\n",
      "96563870.67095625\n",
      "70129\n",
      "198553213.2320534\n",
      "64430\n",
      "97609512.05745402\n",
      "65072\n"
     ]
    },
    {
     "name": "stderr",
     "output_type": "stream",
     "text": [
      "C:\\Users\\Bronwen\\Anaconda3\\envs\\learn-env\\lib\\site-packages\\statsmodels\\base\\model.py:508: ConvergenceWarning: Maximum Likelihood optimization failed to converge. Check mle_retvals\n",
      "  \"Check mle_retvals\", ConvergenceWarning)\n"
     ]
    },
    {
     "name": "stdout",
     "output_type": "stream",
     "text": [
      "20347185.518974494\n",
      "60211\n",
      "154025691.6871346\n",
      "60251\n"
     ]
    },
    {
     "name": "stderr",
     "output_type": "stream",
     "text": [
      "C:\\Users\\Bronwen\\Anaconda3\\envs\\learn-env\\lib\\site-packages\\statsmodels\\base\\model.py:508: ConvergenceWarning: Maximum Likelihood optimization failed to converge. Check mle_retvals\n",
      "  \"Check mle_retvals\", ConvergenceWarning)\n"
     ]
    },
    {
     "name": "stdout",
     "output_type": "stream",
     "text": [
      "43265464.24744709\n",
      "82923\n",
      "38573784.98058543\n",
      "94150\n",
      "13857895.093990993\n",
      "98080\n",
      "10096347.821746591\n",
      "84042\n",
      "51931373.27940373\n",
      "94202\n",
      "1931658.3817579448\n",
      "99852\n",
      "537255457.8156576\n",
      "65113\n"
     ]
    },
    {
     "name": "stderr",
     "output_type": "stream",
     "text": [
      "C:\\Users\\Bronwen\\Anaconda3\\envs\\learn-env\\lib\\site-packages\\statsmodels\\base\\model.py:508: ConvergenceWarning: Maximum Likelihood optimization failed to converge. Check mle_retvals\n",
      "  \"Check mle_retvals\", ConvergenceWarning)\n"
     ]
    },
    {
     "name": "stdout",
     "output_type": "stream",
     "text": [
      "115034925.39925842\n",
      "97172\n",
      "4080783.8255769713\n",
      "98562\n",
      "6112695.382077836\n",
      "67343\n",
      "720911.7164980225\n",
      "81538\n",
      "78006247.29372647\n",
      "67455\n",
      "398102.3679678871\n",
      "81138\n",
      "4036206.210229039\n",
      "65852\n"
     ]
    },
    {
     "name": "stderr",
     "output_type": "stream",
     "text": [
      "C:\\Users\\Bronwen\\Anaconda3\\envs\\learn-env\\lib\\site-packages\\statsmodels\\base\\model.py:508: ConvergenceWarning: Maximum Likelihood optimization failed to converge. Check mle_retvals\n",
      "  \"Check mle_retvals\", ConvergenceWarning)\n"
     ]
    },
    {
     "name": "stdout",
     "output_type": "stream",
     "text": [
      "4991680.738082269\n",
      "67415\n",
      "44786915.44201954\n",
      "81162\n"
     ]
    },
    {
     "name": "stderr",
     "output_type": "stream",
     "text": [
      "C:\\Users\\Bronwen\\Anaconda3\\envs\\learn-env\\lib\\site-packages\\statsmodels\\base\\model.py:508: ConvergenceWarning: Maximum Likelihood optimization failed to converge. Check mle_retvals\n",
      "  \"Check mle_retvals\", ConvergenceWarning)\n"
     ]
    },
    {
     "name": "stdout",
     "output_type": "stream",
     "text": [
      "27195895.80574274\n",
      "94353\n",
      "9575385.986316636\n",
      "63441\n",
      "65943892.01966262\n",
      "59274\n",
      "88081282.888091\n",
      "84396\n",
      "196863771.9091188\n",
      "86665\n",
      "175248373.75425106\n",
      "59047\n",
      "208313828.44077152\n",
      "73340\n",
      "30107203.930452466\n",
      "82798\n",
      "9115619.789921781\n",
      "61163\n",
      "199127941.77127674\n",
      "93641\n",
      "520598442.2507604\n",
      "97325\n"
     ]
    },
    {
     "name": "stderr",
     "output_type": "stream",
     "text": [
      "C:\\Users\\Bronwen\\Anaconda3\\envs\\learn-env\\lib\\site-packages\\statsmodels\\base\\model.py:508: ConvergenceWarning: Maximum Likelihood optimization failed to converge. Check mle_retvals\n",
      "  \"Check mle_retvals\", ConvergenceWarning)\n"
     ]
    },
    {
     "name": "stdout",
     "output_type": "stream",
     "text": [
      "1466956.7437144574\n",
      "81133\n"
     ]
    },
    {
     "name": "stderr",
     "output_type": "stream",
     "text": [
      "C:\\Users\\Bronwen\\Anaconda3\\envs\\learn-env\\lib\\site-packages\\statsmodels\\base\\model.py:508: ConvergenceWarning: Maximum Likelihood optimization failed to converge. Check mle_retvals\n",
      "  \"Check mle_retvals\", ConvergenceWarning)\n"
     ]
    },
    {
     "name": "stdout",
     "output_type": "stream",
     "text": [
      "2532842.9494670904\n",
      "64457\n",
      "168017668.32099348\n",
      "81671\n",
      "4010198.545093833\n",
      "65502\n"
     ]
    },
    {
     "name": "stderr",
     "output_type": "stream",
     "text": [
      "C:\\Users\\Bronwen\\Anaconda3\\envs\\learn-env\\lib\\site-packages\\statsmodels\\base\\model.py:508: ConvergenceWarning: Maximum Likelihood optimization failed to converge. Check mle_retvals\n",
      "  \"Check mle_retvals\", ConvergenceWarning)\n"
     ]
    },
    {
     "name": "stdout",
     "output_type": "stream",
     "text": [
      "1187368.59585911\n",
      "67864\n",
      "1975618.1626931268\n",
      "62594\n",
      "118353277.02524288\n",
      "69627\n",
      "417316.6016984904\n",
      "82519\n",
      "749692.7556791393\n",
      "77423\n"
     ]
    },
    {
     "name": "stderr",
     "output_type": "stream",
     "text": [
      "C:\\Users\\Bronwen\\Anaconda3\\envs\\learn-env\\lib\\site-packages\\statsmodels\\base\\model.py:508: ConvergenceWarning: Maximum Likelihood optimization failed to converge. Check mle_retvals\n",
      "  \"Check mle_retvals\", ConvergenceWarning)\n"
     ]
    },
    {
     "name": "stdout",
     "output_type": "stream",
     "text": [
      "2567352.5302743316\n",
      "82086\n",
      "62373780.85021136\n",
      "65990\n"
     ]
    },
    {
     "name": "stderr",
     "output_type": "stream",
     "text": [
      "C:\\Users\\Bronwen\\Anaconda3\\envs\\learn-env\\lib\\site-packages\\statsmodels\\base\\model.py:508: ConvergenceWarning: Maximum Likelihood optimization failed to converge. Check mle_retvals\n",
      "  \"Check mle_retvals\", ConvergenceWarning)\n"
     ]
    },
    {
     "name": "stdout",
     "output_type": "stream",
     "text": [
      "122339420.31533019\n",
      "62629\n"
     ]
    },
    {
     "name": "stderr",
     "output_type": "stream",
     "text": [
      "C:\\Users\\Bronwen\\Anaconda3\\envs\\learn-env\\lib\\site-packages\\statsmodels\\base\\model.py:508: ConvergenceWarning: Maximum Likelihood optimization failed to converge. Check mle_retvals\n",
      "  \"Check mle_retvals\", ConvergenceWarning)\n"
     ]
    },
    {
     "name": "stdout",
     "output_type": "stream",
     "text": [
      "117603871.08851548\n",
      "70189\n",
      "175781997.02575314\n",
      "80941\n",
      "56907669.28483027\n",
      "60672\n",
      "480922864.6830864\n",
      "74928\n",
      "189187450.4238742\n",
      "67381\n",
      "47182449.59421275\n",
      "80500\n",
      "15268644.675912943\n",
      "70047\n",
      "77689438.34667203\n",
      "94073\n"
     ]
    },
    {
     "name": "stderr",
     "output_type": "stream",
     "text": [
      "C:\\Users\\Bronwen\\Anaconda3\\envs\\learn-env\\lib\\site-packages\\statsmodels\\base\\model.py:508: ConvergenceWarning: Maximum Likelihood optimization failed to converge. Check mle_retvals\n",
      "  \"Check mle_retvals\", ConvergenceWarning)\n"
     ]
    },
    {
     "name": "stdout",
     "output_type": "stream",
     "text": [
      "743687.6461867075\n",
      "65069\n"
     ]
    },
    {
     "name": "stderr",
     "output_type": "stream",
     "text": [
      "C:\\Users\\Bronwen\\Anaconda3\\envs\\learn-env\\lib\\site-packages\\statsmodels\\base\\model.py:508: ConvergenceWarning: Maximum Likelihood optimization failed to converge. Check mle_retvals\n",
      "  \"Check mle_retvals\", ConvergenceWarning)\n"
     ]
    },
    {
     "name": "stdout",
     "output_type": "stream",
     "text": [
      "130885480.78915374\n",
      "60659\n",
      "53894197.49905999\n",
      "82069\n",
      "30085964.530779302\n",
      "81149\n",
      "22931190.375586916\n",
      "81751\n",
      "102625905.72089212\n",
      "94156\n",
      "33569925.69852718\n",
      "59256\n",
      "79505136.99429126\n",
      "58250\n",
      "75864150.05706263\n",
      "70617\n",
      "7631216.487150991\n",
      "60226\n",
      "1057570.3819175442\n",
      "82790\n",
      "699565.1941763295\n",
      "94537\n"
     ]
    },
    {
     "name": "stderr",
     "output_type": "stream",
     "text": [
      "C:\\Users\\Bronwen\\Anaconda3\\envs\\learn-env\\lib\\site-packages\\statsmodels\\base\\model.py:508: ConvergenceWarning: Maximum Likelihood optimization failed to converge. Check mle_retvals\n",
      "  \"Check mle_retvals\", ConvergenceWarning)\n"
     ]
    },
    {
     "name": "stdout",
     "output_type": "stream",
     "text": [
      "99125576.64862736\n",
      "82517\n",
      "1711656.826600644\n",
      "62367\n",
      "6492580.389114954\n",
      "62458\n",
      "8060868.661818867\n",
      "67353\n",
      "80932.71727588552\n",
      "87067\n",
      "11741346.247617241\n",
      "65127\n",
      "193775.19655690392\n",
      "87065\n"
     ]
    },
    {
     "name": "stderr",
     "output_type": "stream",
     "text": [
      "C:\\Users\\Bronwen\\Anaconda3\\envs\\learn-env\\lib\\site-packages\\statsmodels\\base\\model.py:508: ConvergenceWarning: Maximum Likelihood optimization failed to converge. Check mle_retvals\n",
      "  \"Check mle_retvals\", ConvergenceWarning)\n"
     ]
    },
    {
     "name": "stdout",
     "output_type": "stream",
     "text": [
      "689602.1760159975\n",
      "78629\n",
      "15026515.009844517\n",
      "94191\n",
      "5114877.548974562\n",
      "83066\n",
      "1023021.1049204904\n",
      "64019\n"
     ]
    },
    {
     "name": "stderr",
     "output_type": "stream",
     "text": [
      "C:\\Users\\Bronwen\\Anaconda3\\envs\\learn-env\\lib\\site-packages\\statsmodels\\base\\model.py:508: ConvergenceWarning: Maximum Likelihood optimization failed to converge. Check mle_retvals\n",
      "  \"Check mle_retvals\", ConvergenceWarning)\n"
     ]
    },
    {
     "name": "stdout",
     "output_type": "stream",
     "text": [
      "10416577.514927238\n",
      "67510\n"
     ]
    },
    {
     "name": "stderr",
     "output_type": "stream",
     "text": [
      "C:\\Users\\Bronwen\\Anaconda3\\envs\\learn-env\\lib\\site-packages\\statsmodels\\base\\model.py:508: ConvergenceWarning: Maximum Likelihood optimization failed to converge. Check mle_retvals\n",
      "  \"Check mle_retvals\", ConvergenceWarning)\n"
     ]
    },
    {
     "name": "stdout",
     "output_type": "stream",
     "text": [
      "2784666.7125834236\n",
      "62364\n"
     ]
    },
    {
     "name": "stderr",
     "output_type": "stream",
     "text": [
      "C:\\Users\\Bronwen\\Anaconda3\\envs\\learn-env\\lib\\site-packages\\statsmodels\\base\\model.py:508: ConvergenceWarning: Maximum Likelihood optimization failed to converge. Check mle_retvals\n",
      "  \"Check mle_retvals\", ConvergenceWarning)\n"
     ]
    },
    {
     "name": "stdout",
     "output_type": "stream",
     "text": [
      "492556950.6446087\n",
      "99077\n",
      "7188492.827666888\n",
      "67712\n",
      "79292702.08768788\n",
      "85122\n",
      "2472512.2481602933\n",
      "77991\n",
      "38114264.64715579\n",
      "80721\n",
      "24086470.385147966\n",
      "81181\n"
     ]
    },
    {
     "name": "stderr",
     "output_type": "stream",
     "text": [
      "C:\\Users\\Bronwen\\Anaconda3\\envs\\learn-env\\lib\\site-packages\\statsmodels\\base\\model.py:508: ConvergenceWarning: Maximum Likelihood optimization failed to converge. Check mle_retvals\n",
      "  \"Check mle_retvals\", ConvergenceWarning)\n"
     ]
    },
    {
     "name": "stdout",
     "output_type": "stream",
     "text": [
      "2015582.196047098\n",
      "62406\n",
      "32905002.28961765\n",
      "67299\n",
      "4424118.74866725\n",
      "63255\n",
      "1539192.058275179\n",
      "82862\n",
      "57836316.758029446\n",
      "82558\n"
     ]
    },
    {
     "name": "stderr",
     "output_type": "stream",
     "text": [
      "C:\\Users\\Bronwen\\Anaconda3\\envs\\learn-env\\lib\\site-packages\\statsmodels\\base\\model.py:508: ConvergenceWarning: Maximum Likelihood optimization failed to converge. Check mle_retvals\n",
      "  \"Check mle_retvals\", ConvergenceWarning)\n"
     ]
    },
    {
     "name": "stdout",
     "output_type": "stream",
     "text": [
      "4518476.649491338\n",
      "67348\n",
      "25244426.475724794\n",
      "82864\n",
      "15332529.935159897\n",
      "58334\n",
      "28270388.99756944\n",
      "87917\n",
      "137600981.9777077\n",
      "59243\n",
      "39473752.53341712\n",
      "62421\n"
     ]
    },
    {
     "name": "stderr",
     "output_type": "stream",
     "text": [
      "C:\\Users\\Bronwen\\Anaconda3\\envs\\learn-env\\lib\\site-packages\\statsmodels\\base\\model.py:508: ConvergenceWarning: Maximum Likelihood optimization failed to converge. Check mle_retvals\n",
      "  \"Check mle_retvals\", ConvergenceWarning)\n"
     ]
    },
    {
     "name": "stdout",
     "output_type": "stream",
     "text": [
      "21582975.212902095\n",
      "74331\n",
      "6039862.845373843\n",
      "87199\n",
      "2805026.964781083\n",
      "66966\n",
      "13226773.571574967\n",
      "81712\n",
      "32222642.805068605\n",
      "70220\n",
      "15651358.921255166\n",
      "80599\n",
      "169556672.04819924\n",
      "81656\n"
     ]
    },
    {
     "name": "stderr",
     "output_type": "stream",
     "text": [
      "C:\\Users\\Bronwen\\Anaconda3\\envs\\learn-env\\lib\\site-packages\\statsmodels\\base\\model.py:508: ConvergenceWarning: Maximum Likelihood optimization failed to converge. Check mle_retvals\n",
      "  \"Check mle_retvals\", ConvergenceWarning)\n"
     ]
    },
    {
     "name": "stdout",
     "output_type": "stream",
     "text": [
      "4563542.187488499\n",
      "92179\n"
     ]
    },
    {
     "name": "stderr",
     "output_type": "stream",
     "text": [
      "C:\\Users\\Bronwen\\Anaconda3\\envs\\learn-env\\lib\\site-packages\\statsmodels\\base\\model.py:508: ConvergenceWarning: Maximum Likelihood optimization failed to converge. Check mle_retvals\n",
      "  \"Check mle_retvals\", ConvergenceWarning)\n"
     ]
    },
    {
     "name": "stdout",
     "output_type": "stream",
     "text": [
      "15026860.07966862\n",
      "73224\n",
      "2839743.028336202\n",
      "81209\n",
      "429316159.9676566\n",
      "70010\n",
      "333496959.9141029\n",
      "61239\n",
      "10238700.31626219\n",
      "62605\n",
      "364996681.6650635\n",
      "67963\n",
      "10450172.276297836\n",
      "62568\n"
     ]
    },
    {
     "name": "stderr",
     "output_type": "stream",
     "text": [
      "C:\\Users\\Bronwen\\Anaconda3\\envs\\learn-env\\lib\\site-packages\\statsmodels\\base\\model.py:508: ConvergenceWarning: Maximum Likelihood optimization failed to converge. Check mle_retvals\n",
      "  \"Check mle_retvals\", ConvergenceWarning)\n"
     ]
    },
    {
     "name": "stdout",
     "output_type": "stream",
     "text": [
      "1389061.057318169\n",
      "94331\n",
      "993123.2321304912\n",
      "82577\n",
      "28740006.82557081\n",
      "82587\n"
     ]
    },
    {
     "name": "stderr",
     "output_type": "stream",
     "text": [
      "C:\\Users\\Bronwen\\Anaconda3\\envs\\learn-env\\lib\\site-packages\\statsmodels\\base\\model.py:508: ConvergenceWarning: Maximum Likelihood optimization failed to converge. Check mle_retvals\n",
      "  \"Check mle_retvals\", ConvergenceWarning)\n"
     ]
    },
    {
     "name": "stdout",
     "output_type": "stream",
     "text": [
      "415227.86538211774\n",
      "100037\n"
     ]
    },
    {
     "name": "stderr",
     "output_type": "stream",
     "text": [
      "C:\\Users\\Bronwen\\Anaconda3\\envs\\learn-env\\lib\\site-packages\\statsmodels\\base\\model.py:508: ConvergenceWarning: Maximum Likelihood optimization failed to converge. Check mle_retvals\n",
      "  \"Check mle_retvals\", ConvergenceWarning)\n"
     ]
    },
    {
     "name": "stdout",
     "output_type": "stream",
     "text": [
      "10182319.892542485\n",
      "67445\n",
      "3963870.792721483\n",
      "94161\n",
      "113194.47788728829\n",
      "83124\n",
      "40425231.49532826\n",
      "85111\n"
     ]
    },
    {
     "name": "stderr",
     "output_type": "stream",
     "text": [
      "C:\\Users\\Bronwen\\Anaconda3\\envs\\learn-env\\lib\\site-packages\\statsmodels\\base\\model.py:508: ConvergenceWarning: Maximum Likelihood optimization failed to converge. Check mle_retvals\n",
      "  \"Check mle_retvals\", ConvergenceWarning)\n"
     ]
    },
    {
     "name": "stdout",
     "output_type": "stream",
     "text": [
      "12368228.765735967\n",
      "58242\n"
     ]
    },
    {
     "name": "stderr",
     "output_type": "stream",
     "text": [
      "C:\\Users\\Bronwen\\Anaconda3\\envs\\learn-env\\lib\\site-packages\\statsmodels\\base\\model.py:508: ConvergenceWarning: Maximum Likelihood optimization failed to converge. Check mle_retvals\n",
      "  \"Check mle_retvals\", ConvergenceWarning)\n"
     ]
    },
    {
     "name": "stdout",
     "output_type": "stream",
     "text": [
      "3437242.0784517927\n",
      "81114\n",
      "77527219.55248113\n",
      "58345\n",
      "59151146.25693013\n",
      "59137\n",
      "13394899.275761649\n",
      "86447\n",
      "30835994.867468424\n",
      "61046\n",
      "9595413.346502215\n",
      "82833\n",
      "21257763.758127134\n",
      "87396\n",
      "6369784.55690063\n",
      "59195\n",
      "17165398.61910624\n",
      "58259\n",
      "177083038.5497903\n",
      "82177\n",
      "87443388.3121671\n",
      "62626\n",
      "131769099.69480035\n",
      "82942\n",
      "28361824.702107213\n",
      "58202\n",
      "39107305.78924426\n",
      "81478\n"
     ]
    },
    {
     "name": "stderr",
     "output_type": "stream",
     "text": [
      "C:\\Users\\Bronwen\\Anaconda3\\envs\\learn-env\\lib\\site-packages\\statsmodels\\base\\model.py:508: ConvergenceWarning: Maximum Likelihood optimization failed to converge. Check mle_retvals\n",
      "  \"Check mle_retvals\", ConvergenceWarning)\n"
     ]
    },
    {
     "name": "stdout",
     "output_type": "stream",
     "text": [
      "39810637.73760664\n",
      "59176\n"
     ]
    },
    {
     "name": "stderr",
     "output_type": "stream",
     "text": [
      "C:\\Users\\Bronwen\\Anaconda3\\envs\\learn-env\\lib\\site-packages\\statsmodels\\base\\model.py:508: ConvergenceWarning: Maximum Likelihood optimization failed to converge. Check mle_retvals\n",
      "  \"Check mle_retvals\", ConvergenceWarning)\n"
     ]
    },
    {
     "name": "stdout",
     "output_type": "stream",
     "text": [
      "1220233.1027520006\n",
      "84546\n",
      "2259754.9753137366\n",
      "58351\n",
      "103919551.86478484\n",
      "82774\n",
      "95501129.6454608\n",
      "68778\n",
      "1019600.4834978224\n",
      "62430\n",
      "648182.3913028871\n",
      "70215\n",
      "26195035.328632213\n",
      "62433\n",
      "2957541.113148003\n",
      "66516\n",
      "30055531.183780324\n",
      "66509\n",
      "43861180.561924115\n",
      "58327\n",
      "342332495.228729\n",
      "96805\n",
      "523131.02463243314\n",
      "96822\n",
      "1943058.969760492\n",
      "58333\n",
      "69400379.2941401\n"
     ]
    }
   ],
   "source": [
    "#creating dictionary of mean-squared error results\n",
    "#from modeling 5 steps beyond training set and comparing to test set\n",
    "msedict={}\n",
    "early = time.time()\n",
    "for colname in ninthdf.columns:\n",
    "    try:\n",
    "        print(colname)\n",
    "        error = eval_model(ninthdf[colname],bestpdq,bestpdqs,splitsize,5)\n",
    "        msedict[colname] = error\n",
    "    except:\n",
    "        continue\n",
    "late=time.time()"
   ]
  },
  {
   "cell_type": "code",
   "execution_count": 260,
   "metadata": {},
   "outputs": [
    {
     "data": {
      "text/plain": [
       "24552.594704389572"
      ]
     },
     "execution_count": 260,
     "metadata": {},
     "output_type": "execute_result"
    }
   ],
   "source": [
    "#timing how long it took to evaluate the models for a ninth of the data\n",
    "#for each, comparing 5 steps (months) into the test set\n",
    "late-early"
   ]
  },
  {
   "cell_type": "code",
   "execution_count": 263,
   "metadata": {},
   "outputs": [
    {
     "data": {
      "text/plain": [
       "6.820165195663771"
      ]
     },
     "execution_count": 263,
     "metadata": {},
     "output_type": "execute_result"
    }
   ],
   "source": [
    "24552.594704389572/60/60 #it actually took 6.8 hours"
   ]
  },
  {
   "cell_type": "code",
   "execution_count": 257,
   "metadata": {},
   "outputs": [
    {
     "data": {
      "text/plain": [
       "8.66466427637471"
      ]
     },
     "execution_count": 257,
     "metadata": {},
     "output_type": "execute_result"
    }
   ],
   "source": [
    "38.249897480010986/2*1631/60/60 #the estimated hours to compute"
   ]
  },
  {
   "cell_type": "code",
   "execution_count": 267,
   "metadata": {},
   "outputs": [],
   "source": [
    "#saving msedict as .csv file by first saving it to a two-row DataFrame\n",
    "errdf = pd.DataFrame(data=msedict, index=[0,1])\n",
    "errdf.to_csv(\"files/MSE-9th.csv\")"
   ]
  },
  {
   "cell_type": "code",
   "execution_count": 14,
   "metadata": {},
   "outputs": [
    {
     "data": {
      "text/html": [
       "<div>\n",
       "<style scoped>\n",
       "    .dataframe tbody tr th:only-of-type {\n",
       "        vertical-align: middle;\n",
       "    }\n",
       "\n",
       "    .dataframe tbody tr th {\n",
       "        vertical-align: top;\n",
       "    }\n",
       "\n",
       "    .dataframe thead th {\n",
       "        text-align: right;\n",
       "    }\n",
       "</style>\n",
       "<table border=\"1\" class=\"dataframe\">\n",
       "  <thead>\n",
       "    <tr style=\"text-align: right;\">\n",
       "      <th></th>\n",
       "      <th>Unnamed: 0</th>\n",
       "      <th>74101</th>\n",
       "      <th>69816</th>\n",
       "      <th>93123</th>\n",
       "      <th>90654</th>\n",
       "      <th>86026</th>\n",
       "      <th>70829</th>\n",
       "      <th>91685</th>\n",
       "      <th>66843</th>\n",
       "      <th>92598</th>\n",
       "      <th>...</th>\n",
       "      <th>68778</th>\n",
       "      <th>62430</th>\n",
       "      <th>70215</th>\n",
       "      <th>62433</th>\n",
       "      <th>66516</th>\n",
       "      <th>66509</th>\n",
       "      <th>58327</th>\n",
       "      <th>96805</th>\n",
       "      <th>96822</th>\n",
       "      <th>58333</th>\n",
       "    </tr>\n",
       "  </thead>\n",
       "  <tbody>\n",
       "    <tr>\n",
       "      <th>0</th>\n",
       "      <td>0</td>\n",
       "      <td>1.850395e+06</td>\n",
       "      <td>8.551655e+06</td>\n",
       "      <td>626281.083696</td>\n",
       "      <td>889659.669041</td>\n",
       "      <td>2.525542e+06</td>\n",
       "      <td>7.796490e+07</td>\n",
       "      <td>4.087185e+06</td>\n",
       "      <td>1.235700e+07</td>\n",
       "      <td>249077.719554</td>\n",
       "      <td>...</td>\n",
       "      <td>1.019600e+06</td>\n",
       "      <td>648182.391303</td>\n",
       "      <td>2.619504e+07</td>\n",
       "      <td>2.957541e+06</td>\n",
       "      <td>3.005553e+07</td>\n",
       "      <td>4.386118e+07</td>\n",
       "      <td>3.423325e+08</td>\n",
       "      <td>523131.024632</td>\n",
       "      <td>1.943059e+06</td>\n",
       "      <td>6.940038e+07</td>\n",
       "    </tr>\n",
       "    <tr>\n",
       "      <th>1</th>\n",
       "      <td>1</td>\n",
       "      <td>1.850395e+06</td>\n",
       "      <td>8.551655e+06</td>\n",
       "      <td>626281.083696</td>\n",
       "      <td>889659.669041</td>\n",
       "      <td>2.525542e+06</td>\n",
       "      <td>7.796490e+07</td>\n",
       "      <td>4.087185e+06</td>\n",
       "      <td>1.235700e+07</td>\n",
       "      <td>249077.719554</td>\n",
       "      <td>...</td>\n",
       "      <td>1.019600e+06</td>\n",
       "      <td>648182.391303</td>\n",
       "      <td>2.619504e+07</td>\n",
       "      <td>2.957541e+06</td>\n",
       "      <td>3.005553e+07</td>\n",
       "      <td>4.386118e+07</td>\n",
       "      <td>3.423325e+08</td>\n",
       "      <td>523131.024632</td>\n",
       "      <td>1.943059e+06</td>\n",
       "      <td>6.940038e+07</td>\n",
       "    </tr>\n",
       "  </tbody>\n",
       "</table>\n",
       "<p>2 rows × 1549 columns</p>\n",
       "</div>"
      ],
      "text/plain": [
       "   Unnamed: 0         74101         69816          93123          90654  \\\n",
       "0           0  1.850395e+06  8.551655e+06  626281.083696  889659.669041   \n",
       "1           1  1.850395e+06  8.551655e+06  626281.083696  889659.669041   \n",
       "\n",
       "          86026         70829         91685         66843          92598  \\\n",
       "0  2.525542e+06  7.796490e+07  4.087185e+06  1.235700e+07  249077.719554   \n",
       "1  2.525542e+06  7.796490e+07  4.087185e+06  1.235700e+07  249077.719554   \n",
       "\n",
       "       ...              68778          62430         70215         62433  \\\n",
       "0      ...       1.019600e+06  648182.391303  2.619504e+07  2.957541e+06   \n",
       "1      ...       1.019600e+06  648182.391303  2.619504e+07  2.957541e+06   \n",
       "\n",
       "          66516         66509         58327          96805         96822  \\\n",
       "0  3.005553e+07  4.386118e+07  3.423325e+08  523131.024632  1.943059e+06   \n",
       "1  3.005553e+07  4.386118e+07  3.423325e+08  523131.024632  1.943059e+06   \n",
       "\n",
       "          58333  \n",
       "0  6.940038e+07  \n",
       "1  6.940038e+07  \n",
       "\n",
       "[2 rows x 1549 columns]"
      ]
     },
     "execution_count": 14,
     "metadata": {},
     "output_type": "execute_result"
    }
   ],
   "source": [
    "errdf = pd.read_csv(\"files/MSE-9th.csv\")\n",
    "errdf.head()"
   ]
  },
  {
   "cell_type": "code",
   "execution_count": 269,
   "metadata": {},
   "outputs": [
    {
     "name": "stdout",
     "output_type": "stream",
     "text": [
      "<class 'pandas.core.frame.DataFrame'>\n",
      "RangeIndex: 2 entries, 0 to 1\n",
      "Columns: 1549 entries, Unnamed: 0 to 58333\n",
      "dtypes: float64(1548), int64(1)\n",
      "memory usage: 24.3 KB\n"
     ]
    }
   ],
   "source": [
    "errdf.info()"
   ]
  },
  {
   "cell_type": "code",
   "execution_count": 137,
   "metadata": {},
   "outputs": [
    {
     "data": {
      "text/html": [
       "<div>\n",
       "<style scoped>\n",
       "    .dataframe tbody tr th:only-of-type {\n",
       "        vertical-align: middle;\n",
       "    }\n",
       "\n",
       "    .dataframe tbody tr th {\n",
       "        vertical-align: top;\n",
       "    }\n",
       "\n",
       "    .dataframe thead th {\n",
       "        text-align: right;\n",
       "    }\n",
       "</style>\n",
       "<table border=\"1\" class=\"dataframe\">\n",
       "  <thead>\n",
       "    <tr style=\"text-align: right;\">\n",
       "      <th></th>\n",
       "      <th>0</th>\n",
       "      <th>1</th>\n",
       "    </tr>\n",
       "  </thead>\n",
       "  <tbody>\n",
       "    <tr>\n",
       "      <th>count</th>\n",
       "      <td>1.548000e+03</td>\n",
       "      <td>1.548000e+03</td>\n",
       "    </tr>\n",
       "    <tr>\n",
       "      <th>mean</th>\n",
       "      <td>4.736214e+07</td>\n",
       "      <td>4.736214e+07</td>\n",
       "    </tr>\n",
       "    <tr>\n",
       "      <th>std</th>\n",
       "      <td>1.481003e+08</td>\n",
       "      <td>1.481003e+08</td>\n",
       "    </tr>\n",
       "    <tr>\n",
       "      <th>min</th>\n",
       "      <td>1.523236e+04</td>\n",
       "      <td>1.523236e+04</td>\n",
       "    </tr>\n",
       "    <tr>\n",
       "      <th>25%</th>\n",
       "      <td>2.181634e+06</td>\n",
       "      <td>2.181634e+06</td>\n",
       "    </tr>\n",
       "    <tr>\n",
       "      <th>50%</th>\n",
       "      <td>9.484388e+06</td>\n",
       "      <td>9.484388e+06</td>\n",
       "    </tr>\n",
       "    <tr>\n",
       "      <th>75%</th>\n",
       "      <td>3.601848e+07</td>\n",
       "      <td>3.601848e+07</td>\n",
       "    </tr>\n",
       "    <tr>\n",
       "      <th>max</th>\n",
       "      <td>2.848628e+09</td>\n",
       "      <td>2.848628e+09</td>\n",
       "    </tr>\n",
       "  </tbody>\n",
       "</table>\n",
       "</div>"
      ],
      "text/plain": [
       "                  0             1\n",
       "count  1.548000e+03  1.548000e+03\n",
       "mean   4.736214e+07  4.736214e+07\n",
       "std    1.481003e+08  1.481003e+08\n",
       "min    1.523236e+04  1.523236e+04\n",
       "25%    2.181634e+06  2.181634e+06\n",
       "50%    9.484388e+06  9.484388e+06\n",
       "75%    3.601848e+07  3.601848e+07\n",
       "max    2.848628e+09  2.848628e+09"
      ]
     },
     "execution_count": 137,
     "metadata": {},
     "output_type": "execute_result"
    }
   ],
   "source": [
    "errdf.drop(columns=[\"Unnamed: 0\"], inplace=True)\n",
    "errdf.T.describe()"
   ]
  },
  {
   "cell_type": "markdown",
   "metadata": {},
   "source": [
    "The smallest MSE value is about 15,232 and the 25th percentile is at 2,181,634 so I will look to use only the lowest 20 or so values and take those RegionID's from the pricedf dataframe."
   ]
  },
  {
   "cell_type": "markdown",
   "metadata": {},
   "source": [
    "### Finding the 20 RegionID's with the lowest mean-squared error"
   ]
  },
  {
   "cell_type": "code",
   "execution_count": 138,
   "metadata": {},
   "outputs": [
    {
     "name": "stdout",
     "output_type": "stream",
     "text": [
      "<class 'pandas.core.frame.DataFrame'>\n",
      "Index: 1548 entries, 74101 to 58333\n",
      "Data columns (total 2 columns):\n",
      "0    1548 non-null float64\n",
      "1    1548 non-null float64\n",
      "dtypes: float64(2)\n",
      "memory usage: 36.3+ KB\n"
     ]
    }
   ],
   "source": [
    "#transposing the dataframe such that the RegionID's are the index\n",
    "msedf = errdf.T\n",
    "msedf.info()"
   ]
  },
  {
   "cell_type": "code",
   "execution_count": 139,
   "metadata": {},
   "outputs": [
    {
     "data": {
      "text/html": [
       "<div>\n",
       "<style scoped>\n",
       "    .dataframe tbody tr th:only-of-type {\n",
       "        vertical-align: middle;\n",
       "    }\n",
       "\n",
       "    .dataframe tbody tr th {\n",
       "        vertical-align: top;\n",
       "    }\n",
       "\n",
       "    .dataframe thead th {\n",
       "        text-align: right;\n",
       "    }\n",
       "</style>\n",
       "<table border=\"1\" class=\"dataframe\">\n",
       "  <thead>\n",
       "    <tr style=\"text-align: right;\">\n",
       "      <th></th>\n",
       "      <th>0</th>\n",
       "      <th>1</th>\n",
       "    </tr>\n",
       "  </thead>\n",
       "  <tbody>\n",
       "    <tr>\n",
       "      <th>74101</th>\n",
       "      <td>1.850395e+06</td>\n",
       "      <td>1.850395e+06</td>\n",
       "    </tr>\n",
       "    <tr>\n",
       "      <th>69816</th>\n",
       "      <td>8.551655e+06</td>\n",
       "      <td>8.551655e+06</td>\n",
       "    </tr>\n",
       "    <tr>\n",
       "      <th>93123</th>\n",
       "      <td>6.262811e+05</td>\n",
       "      <td>6.262811e+05</td>\n",
       "    </tr>\n",
       "    <tr>\n",
       "      <th>90654</th>\n",
       "      <td>8.896597e+05</td>\n",
       "      <td>8.896597e+05</td>\n",
       "    </tr>\n",
       "    <tr>\n",
       "      <th>86026</th>\n",
       "      <td>2.525542e+06</td>\n",
       "      <td>2.525542e+06</td>\n",
       "    </tr>\n",
       "  </tbody>\n",
       "</table>\n",
       "</div>"
      ],
      "text/plain": [
       "                  0             1\n",
       "74101  1.850395e+06  1.850395e+06\n",
       "69816  8.551655e+06  8.551655e+06\n",
       "93123  6.262811e+05  6.262811e+05\n",
       "90654  8.896597e+05  8.896597e+05\n",
       "86026  2.525542e+06  2.525542e+06"
      ]
     },
     "execution_count": 139,
     "metadata": {},
     "output_type": "execute_result"
    }
   ],
   "source": [
    "msedf.head()"
   ]
  },
  {
   "cell_type": "code",
   "execution_count": 140,
   "metadata": {},
   "outputs": [
    {
     "name": "stdout",
     "output_type": "stream",
     "text": [
      "<class 'pandas.core.frame.DataFrame'>\n",
      "Index: 20 entries, 91191 to 88815\n",
      "Data columns (total 2 columns):\n",
      "0    20 non-null float64\n",
      "1    20 non-null float64\n",
      "dtypes: float64(2)\n",
      "memory usage: 480.0+ bytes\n"
     ]
    }
   ],
   "source": [
    "#sorting dataframe on column 0 from smallest to largest and selecting the smallest 20\n",
    "lowest20df = msedf.sort_values(by=[0],axis='index',ascending=True,na_position='last').head(20)\n",
    "lowest20df.info()"
   ]
  },
  {
   "cell_type": "code",
   "execution_count": 5,
   "metadata": {},
   "outputs": [
    {
     "data": {
      "text/html": [
       "<div>\n",
       "<style scoped>\n",
       "    .dataframe tbody tr th:only-of-type {\n",
       "        vertical-align: middle;\n",
       "    }\n",
       "\n",
       "    .dataframe tbody tr th {\n",
       "        vertical-align: top;\n",
       "    }\n",
       "\n",
       "    .dataframe thead th {\n",
       "        text-align: right;\n",
       "    }\n",
       "</style>\n",
       "<table border=\"1\" class=\"dataframe\">\n",
       "  <thead>\n",
       "    <tr style=\"text-align: right;\">\n",
       "      <th></th>\n",
       "      <th>0</th>\n",
       "      <th>1</th>\n",
       "    </tr>\n",
       "  </thead>\n",
       "  <tbody>\n",
       "    <tr>\n",
       "      <th>count</th>\n",
       "      <td>20.000000</td>\n",
       "      <td>20.000000</td>\n",
       "    </tr>\n",
       "    <tr>\n",
       "      <th>mean</th>\n",
       "      <td>50335.258209</td>\n",
       "      <td>50335.258209</td>\n",
       "    </tr>\n",
       "    <tr>\n",
       "      <th>std</th>\n",
       "      <td>22912.523610</td>\n",
       "      <td>22912.523610</td>\n",
       "    </tr>\n",
       "    <tr>\n",
       "      <th>min</th>\n",
       "      <td>15232.356185</td>\n",
       "      <td>15232.356185</td>\n",
       "    </tr>\n",
       "    <tr>\n",
       "      <th>25%</th>\n",
       "      <td>32187.937164</td>\n",
       "      <td>32187.937164</td>\n",
       "    </tr>\n",
       "    <tr>\n",
       "      <th>50%</th>\n",
       "      <td>51212.419879</td>\n",
       "      <td>51212.419879</td>\n",
       "    </tr>\n",
       "    <tr>\n",
       "      <th>75%</th>\n",
       "      <td>68345.223265</td>\n",
       "      <td>68345.223265</td>\n",
       "    </tr>\n",
       "    <tr>\n",
       "      <th>max</th>\n",
       "      <td>86301.479292</td>\n",
       "      <td>86301.479292</td>\n",
       "    </tr>\n",
       "  </tbody>\n",
       "</table>\n",
       "</div>"
      ],
      "text/plain": [
       "                  0             1\n",
       "count     20.000000     20.000000\n",
       "mean   50335.258209  50335.258209\n",
       "std    22912.523610  22912.523610\n",
       "min    15232.356185  15232.356185\n",
       "25%    32187.937164  32187.937164\n",
       "50%    51212.419879  51212.419879\n",
       "75%    68345.223265  68345.223265\n",
       "max    86301.479292  86301.479292"
      ]
     },
     "execution_count": 5,
     "metadata": {},
     "output_type": "execute_result"
    }
   ],
   "source": [
    "lowest20df.describe()"
   ]
  },
  {
   "cell_type": "code",
   "execution_count": 141,
   "metadata": {},
   "outputs": [
    {
     "data": {
      "text/html": [
       "<div>\n",
       "<style scoped>\n",
       "    .dataframe tbody tr th:only-of-type {\n",
       "        vertical-align: middle;\n",
       "    }\n",
       "\n",
       "    .dataframe tbody tr th {\n",
       "        vertical-align: top;\n",
       "    }\n",
       "\n",
       "    .dataframe thead th {\n",
       "        text-align: right;\n",
       "    }\n",
       "</style>\n",
       "<table border=\"1\" class=\"dataframe\">\n",
       "  <thead>\n",
       "    <tr style=\"text-align: right;\">\n",
       "      <th></th>\n",
       "      <th>0</th>\n",
       "      <th>1</th>\n",
       "    </tr>\n",
       "  </thead>\n",
       "  <tbody>\n",
       "    <tr>\n",
       "      <th>91191</th>\n",
       "      <td>15232.356185</td>\n",
       "      <td>91191</td>\n",
       "    </tr>\n",
       "    <tr>\n",
       "      <th>74248</th>\n",
       "      <td>15741.249506</td>\n",
       "      <td>74248</td>\n",
       "    </tr>\n",
       "    <tr>\n",
       "      <th>94645</th>\n",
       "      <td>16505.082198</td>\n",
       "      <td>94645</td>\n",
       "    </tr>\n",
       "    <tr>\n",
       "      <th>93856</th>\n",
       "      <td>25664.707237</td>\n",
       "      <td>93856</td>\n",
       "    </tr>\n",
       "    <tr>\n",
       "      <th>74482</th>\n",
       "      <td>29680.100767</td>\n",
       "      <td>74482</td>\n",
       "    </tr>\n",
       "  </tbody>\n",
       "</table>\n",
       "</div>"
      ],
      "text/plain": [
       "                  0      1\n",
       "91191  15232.356185  91191\n",
       "74248  15741.249506  74248\n",
       "94645  16505.082198  94645\n",
       "93856  25664.707237  93856\n",
       "74482  29680.100767  74482"
      ]
     },
     "execution_count": 141,
     "metadata": {},
     "output_type": "execute_result"
    }
   ],
   "source": [
    "#since the index containing the RegionID's is important, I will put it into column 1\n",
    "lowest20df[1]=lowest20df.index\n",
    "lowest20df.head()"
   ]
  },
  {
   "cell_type": "markdown",
   "metadata": {},
   "source": [
    "# Step 5: Forecasting 2 years ahead\n",
    "Then, looking at the increase in price and its confidence interval.\n",
    "I will choose 5 that are expected to increase in price, or at least have the smallest percent decrease."
   ]
  },
  {
   "cell_type": "code",
   "execution_count": 145,
   "metadata": {},
   "outputs": [
    {
     "data": {
      "text/html": [
       "<div>\n",
       "<style scoped>\n",
       "    .dataframe tbody tr th:only-of-type {\n",
       "        vertical-align: middle;\n",
       "    }\n",
       "\n",
       "    .dataframe tbody tr th {\n",
       "        vertical-align: top;\n",
       "    }\n",
       "\n",
       "    .dataframe thead th {\n",
       "        text-align: right;\n",
       "    }\n",
       "</style>\n",
       "<table border=\"1\" class=\"dataframe\">\n",
       "  <thead>\n",
       "    <tr style=\"text-align: right;\">\n",
       "      <th></th>\n",
       "      <th>91191</th>\n",
       "      <th>74248</th>\n",
       "      <th>94645</th>\n",
       "      <th>93856</th>\n",
       "      <th>74482</th>\n",
       "      <th>92114</th>\n",
       "      <th>94278</th>\n",
       "      <th>69273</th>\n",
       "      <th>94229</th>\n",
       "      <th>64920</th>\n",
       "      <th>74379</th>\n",
       "      <th>79908</th>\n",
       "      <th>70156</th>\n",
       "      <th>92238</th>\n",
       "      <th>88435</th>\n",
       "      <th>84504</th>\n",
       "      <th>80293</th>\n",
       "      <th>80296</th>\n",
       "      <th>67353</th>\n",
       "      <th>88815</th>\n",
       "    </tr>\n",
       "    <tr>\n",
       "      <th>time</th>\n",
       "      <th></th>\n",
       "      <th></th>\n",
       "      <th></th>\n",
       "      <th></th>\n",
       "      <th></th>\n",
       "      <th></th>\n",
       "      <th></th>\n",
       "      <th></th>\n",
       "      <th></th>\n",
       "      <th></th>\n",
       "      <th></th>\n",
       "      <th></th>\n",
       "      <th></th>\n",
       "      <th></th>\n",
       "      <th></th>\n",
       "      <th></th>\n",
       "      <th></th>\n",
       "      <th></th>\n",
       "      <th></th>\n",
       "      <th></th>\n",
       "    </tr>\n",
       "  </thead>\n",
       "  <tbody>\n",
       "    <tr>\n",
       "      <th>1996-04-01</th>\n",
       "      <td>105400.0</td>\n",
       "      <td>96000.0</td>\n",
       "      <td>103700.0</td>\n",
       "      <td>91400.0</td>\n",
       "      <td>99600.0</td>\n",
       "      <td>88900.0</td>\n",
       "      <td>83000.0</td>\n",
       "      <td>129800.0</td>\n",
       "      <td>95000.0</td>\n",
       "      <td>83700.0</td>\n",
       "      <td>102400.0</td>\n",
       "      <td>92300.0</td>\n",
       "      <td>83700.0</td>\n",
       "      <td>99200.0</td>\n",
       "      <td>110700.0</td>\n",
       "      <td>147500.0</td>\n",
       "      <td>111800.0</td>\n",
       "      <td>92300.0</td>\n",
       "      <td>84000.0</td>\n",
       "      <td>63000.0</td>\n",
       "    </tr>\n",
       "    <tr>\n",
       "      <th>1996-05-01</th>\n",
       "      <td>105400.0</td>\n",
       "      <td>96200.0</td>\n",
       "      <td>104100.0</td>\n",
       "      <td>91400.0</td>\n",
       "      <td>100000.0</td>\n",
       "      <td>88900.0</td>\n",
       "      <td>83000.0</td>\n",
       "      <td>129400.0</td>\n",
       "      <td>95500.0</td>\n",
       "      <td>84000.0</td>\n",
       "      <td>102400.0</td>\n",
       "      <td>92400.0</td>\n",
       "      <td>84000.0</td>\n",
       "      <td>99200.0</td>\n",
       "      <td>111200.0</td>\n",
       "      <td>148300.0</td>\n",
       "      <td>111800.0</td>\n",
       "      <td>92900.0</td>\n",
       "      <td>84000.0</td>\n",
       "      <td>63000.0</td>\n",
       "    </tr>\n",
       "    <tr>\n",
       "      <th>1996-06-01</th>\n",
       "      <td>105500.0</td>\n",
       "      <td>96500.0</td>\n",
       "      <td>104500.0</td>\n",
       "      <td>91300.0</td>\n",
       "      <td>100400.0</td>\n",
       "      <td>88900.0</td>\n",
       "      <td>83000.0</td>\n",
       "      <td>129000.0</td>\n",
       "      <td>95900.0</td>\n",
       "      <td>84200.0</td>\n",
       "      <td>102500.0</td>\n",
       "      <td>92400.0</td>\n",
       "      <td>84300.0</td>\n",
       "      <td>99200.0</td>\n",
       "      <td>111600.0</td>\n",
       "      <td>148700.0</td>\n",
       "      <td>111900.0</td>\n",
       "      <td>93300.0</td>\n",
       "      <td>84000.0</td>\n",
       "      <td>63000.0</td>\n",
       "    </tr>\n",
       "    <tr>\n",
       "      <th>1996-07-01</th>\n",
       "      <td>105600.0</td>\n",
       "      <td>96800.0</td>\n",
       "      <td>105000.0</td>\n",
       "      <td>91300.0</td>\n",
       "      <td>100700.0</td>\n",
       "      <td>88800.0</td>\n",
       "      <td>83000.0</td>\n",
       "      <td>128700.0</td>\n",
       "      <td>96400.0</td>\n",
       "      <td>84500.0</td>\n",
       "      <td>102700.0</td>\n",
       "      <td>92500.0</td>\n",
       "      <td>84400.0</td>\n",
       "      <td>99300.0</td>\n",
       "      <td>112100.0</td>\n",
       "      <td>148700.0</td>\n",
       "      <td>112100.0</td>\n",
       "      <td>93700.0</td>\n",
       "      <td>84000.0</td>\n",
       "      <td>63100.0</td>\n",
       "    </tr>\n",
       "    <tr>\n",
       "      <th>1996-08-01</th>\n",
       "      <td>105800.0</td>\n",
       "      <td>97000.0</td>\n",
       "      <td>105500.0</td>\n",
       "      <td>91200.0</td>\n",
       "      <td>101000.0</td>\n",
       "      <td>88800.0</td>\n",
       "      <td>83200.0</td>\n",
       "      <td>128600.0</td>\n",
       "      <td>96900.0</td>\n",
       "      <td>84700.0</td>\n",
       "      <td>102900.0</td>\n",
       "      <td>92700.0</td>\n",
       "      <td>84500.0</td>\n",
       "      <td>99300.0</td>\n",
       "      <td>112500.0</td>\n",
       "      <td>148200.0</td>\n",
       "      <td>112400.0</td>\n",
       "      <td>93900.0</td>\n",
       "      <td>84000.0</td>\n",
       "      <td>63100.0</td>\n",
       "    </tr>\n",
       "  </tbody>\n",
       "</table>\n",
       "</div>"
      ],
      "text/plain": [
       "               91191    74248     94645    93856     74482    92114    94278  \\\n",
       "time                                                                           \n",
       "1996-04-01  105400.0  96000.0  103700.0  91400.0   99600.0  88900.0  83000.0   \n",
       "1996-05-01  105400.0  96200.0  104100.0  91400.0  100000.0  88900.0  83000.0   \n",
       "1996-06-01  105500.0  96500.0  104500.0  91300.0  100400.0  88900.0  83000.0   \n",
       "1996-07-01  105600.0  96800.0  105000.0  91300.0  100700.0  88800.0  83000.0   \n",
       "1996-08-01  105800.0  97000.0  105500.0  91200.0  101000.0  88800.0  83200.0   \n",
       "\n",
       "               69273    94229    64920     74379    79908    70156    92238  \\\n",
       "time                                                                          \n",
       "1996-04-01  129800.0  95000.0  83700.0  102400.0  92300.0  83700.0  99200.0   \n",
       "1996-05-01  129400.0  95500.0  84000.0  102400.0  92400.0  84000.0  99200.0   \n",
       "1996-06-01  129000.0  95900.0  84200.0  102500.0  92400.0  84300.0  99200.0   \n",
       "1996-07-01  128700.0  96400.0  84500.0  102700.0  92500.0  84400.0  99300.0   \n",
       "1996-08-01  128600.0  96900.0  84700.0  102900.0  92700.0  84500.0  99300.0   \n",
       "\n",
       "               88435     84504     80293    80296    67353    88815  \n",
       "time                                                                 \n",
       "1996-04-01  110700.0  147500.0  111800.0  92300.0  84000.0  63000.0  \n",
       "1996-05-01  111200.0  148300.0  111800.0  92900.0  84000.0  63000.0  \n",
       "1996-06-01  111600.0  148700.0  111900.0  93300.0  84000.0  63000.0  \n",
       "1996-07-01  112100.0  148700.0  112100.0  93700.0  84000.0  63100.0  \n",
       "1996-08-01  112500.0  148200.0  112400.0  93900.0  84000.0  63100.0  "
      ]
     },
     "execution_count": 145,
     "metadata": {},
     "output_type": "execute_result"
    }
   ],
   "source": [
    "#selecting from pricedf the columns of RegionID's that had the lowest MSE, now in lowest20df\n",
    "cols = [region for region in lowest20df[1]]\n",
    "final20df = pricedf[cols]\n",
    "final20df.head()"
   ]
  },
  {
   "cell_type": "code",
   "execution_count": 146,
   "metadata": {
    "scrolled": true
   },
   "outputs": [
    {
     "name": "stdout",
     "output_type": "stream",
     "text": [
      "<class 'pandas.core.frame.DataFrame'>\n",
      "DatetimeIndex: 265 entries, 1996-04-01 to 2018-04-01\n",
      "Data columns (total 20 columns):\n",
      "91191    265 non-null float64\n",
      "74248    265 non-null float64\n",
      "94645    265 non-null float64\n",
      "93856    265 non-null float64\n",
      "74482    265 non-null float64\n",
      "92114    265 non-null float64\n",
      "94278    265 non-null float64\n",
      "69273    265 non-null float64\n",
      "94229    265 non-null float64\n",
      "64920    265 non-null float64\n",
      "74379    265 non-null float64\n",
      "79908    265 non-null float64\n",
      "70156    265 non-null float64\n",
      "92238    265 non-null float64\n",
      "88435    265 non-null float64\n",
      "84504    265 non-null float64\n",
      "80293    265 non-null float64\n",
      "80296    265 non-null float64\n",
      "67353    265 non-null float64\n",
      "88815    265 non-null float64\n",
      "dtypes: float64(20)\n",
      "memory usage: 43.5 KB\n"
     ]
    }
   ],
   "source": [
    "final20df.info()"
   ]
  },
  {
   "cell_type": "code",
   "execution_count": 97,
   "metadata": {},
   "outputs": [],
   "source": [
    "#forecast function\n",
    "def fcast(aseries,combo,combos,seriesname):\n",
    "    '''\n",
    "    Takes in a time Series and forecasts 24 steps ahead and determines corresponding 95% confidence interval values with a fitted statsmodels' SARIMAX, specifically for the monthly range 2018-05-01 to 2020-04-01.\n",
    "    \n",
    "    Args\n",
    "        aseries (pandas Series): a Series with an index of DateTime in date order\n",
    "        combo (list or array-like of integers): the p, d, q values for the SARIMAX \"order\" parameter\n",
    "        combos (list or array-like of integers): the P, D, Q and periodicity values for the SARIMAX seasonal_order parameter\n",
    "        seriesname (String, float or integer): the name of aseries that then becomes the predictions' column name as a String: \n",
    "        \n",
    "    Returns\n",
    "        newdf (pandas DataFrame): a DateTimeIndex from 2018-05-01 to 2020-04-01 at monthly intervals with three columns (lower aseries.column[0], upper aseries.column[0], forecast seriesname): one each for the predicted values, and the lower and upper bounds of their 95% confidence intervals\n",
    "    '''\n",
    "    model = sm.tsa.statespace.SARIMAX(aseries, order=combo, seasonal_order=combos, enforce_stationarity=False,enforce_invertibility=False, freq='MS')\n",
    "    # fit model\n",
    "    fittedmodel = model.fit(disp=0,cov_type=\"approx\",low_memory=True)#telling it to run using less memory\n",
    "    forcas = fittedmodel.forecast(24) #2 years from last date\n",
    "    preds = fittedmodel.get_prediction(start=pd.to_datetime(\"2018-05-01\"), end=pd.to_datetime(\"2020-04-01\"))\n",
    "    \n",
    "    confidence = preds.conf_int()#the default encompasses 95%\n",
    "    newdf = pd.DataFrame(confidence, index=pd.date_range(start = '2018-05-01', end = '2020-04-01', freq = 'MS'))\n",
    "    \n",
    "    seriesname = str(seriesname)\n",
    "    newdf[\"forecast \"+seriesname] = forcas\n",
    "    \n",
    "    return newdf"
   ]
  },
  {
   "cell_type": "code",
   "execution_count": 98,
   "metadata": {},
   "outputs": [
    {
     "data": {
      "text/html": [
       "<div>\n",
       "<style scoped>\n",
       "    .dataframe tbody tr th:only-of-type {\n",
       "        vertical-align: middle;\n",
       "    }\n",
       "\n",
       "    .dataframe tbody tr th {\n",
       "        vertical-align: top;\n",
       "    }\n",
       "\n",
       "    .dataframe thead th {\n",
       "        text-align: right;\n",
       "    }\n",
       "</style>\n",
       "<table border=\"1\" class=\"dataframe\">\n",
       "  <thead>\n",
       "    <tr style=\"text-align: right;\">\n",
       "      <th></th>\n",
       "      <th>91191</th>\n",
       "      <th>74248</th>\n",
       "      <th>94645</th>\n",
       "      <th>93856</th>\n",
       "      <th>74482</th>\n",
       "      <th>92114</th>\n",
       "      <th>94278</th>\n",
       "      <th>69273</th>\n",
       "      <th>94229</th>\n",
       "      <th>64920</th>\n",
       "      <th>74379</th>\n",
       "      <th>79908</th>\n",
       "      <th>70156</th>\n",
       "      <th>92238</th>\n",
       "      <th>88435</th>\n",
       "      <th>84504</th>\n",
       "      <th>80293</th>\n",
       "      <th>80296</th>\n",
       "      <th>67353</th>\n",
       "      <th>88815</th>\n",
       "    </tr>\n",
       "    <tr>\n",
       "      <th>time</th>\n",
       "      <th></th>\n",
       "      <th></th>\n",
       "      <th></th>\n",
       "      <th></th>\n",
       "      <th></th>\n",
       "      <th></th>\n",
       "      <th></th>\n",
       "      <th></th>\n",
       "      <th></th>\n",
       "      <th></th>\n",
       "      <th></th>\n",
       "      <th></th>\n",
       "      <th></th>\n",
       "      <th></th>\n",
       "      <th></th>\n",
       "      <th></th>\n",
       "      <th></th>\n",
       "      <th></th>\n",
       "      <th></th>\n",
       "      <th></th>\n",
       "    </tr>\n",
       "  </thead>\n",
       "  <tbody>\n",
       "    <tr>\n",
       "      <th>2017-12-01</th>\n",
       "      <td>193300.0</td>\n",
       "      <td>202700.0</td>\n",
       "      <td>207200.0</td>\n",
       "      <td>176800.0</td>\n",
       "      <td>182100.0</td>\n",
       "      <td>184100.0</td>\n",
       "      <td>208200.0</td>\n",
       "      <td>181100.0</td>\n",
       "      <td>192000.0</td>\n",
       "      <td>182000.0</td>\n",
       "      <td>181300.0</td>\n",
       "      <td>198100.0</td>\n",
       "      <td>216000.0</td>\n",
       "      <td>198300.0</td>\n",
       "      <td>210700.0</td>\n",
       "      <td>198500.0</td>\n",
       "      <td>196900.0</td>\n",
       "      <td>205900.0</td>\n",
       "      <td>188500.0</td>\n",
       "      <td>193100.0</td>\n",
       "    </tr>\n",
       "    <tr>\n",
       "      <th>2018-01-01</th>\n",
       "      <td>194300.0</td>\n",
       "      <td>205000.0</td>\n",
       "      <td>206700.0</td>\n",
       "      <td>177200.0</td>\n",
       "      <td>182500.0</td>\n",
       "      <td>184000.0</td>\n",
       "      <td>207400.0</td>\n",
       "      <td>181500.0</td>\n",
       "      <td>193000.0</td>\n",
       "      <td>183200.0</td>\n",
       "      <td>182000.0</td>\n",
       "      <td>198000.0</td>\n",
       "      <td>217300.0</td>\n",
       "      <td>198100.0</td>\n",
       "      <td>211600.0</td>\n",
       "      <td>199100.0</td>\n",
       "      <td>197600.0</td>\n",
       "      <td>206100.0</td>\n",
       "      <td>187500.0</td>\n",
       "      <td>194500.0</td>\n",
       "    </tr>\n",
       "    <tr>\n",
       "      <th>2018-02-01</th>\n",
       "      <td>196000.0</td>\n",
       "      <td>207500.0</td>\n",
       "      <td>205400.0</td>\n",
       "      <td>178700.0</td>\n",
       "      <td>183500.0</td>\n",
       "      <td>183500.0</td>\n",
       "      <td>208100.0</td>\n",
       "      <td>182200.0</td>\n",
       "      <td>194100.0</td>\n",
       "      <td>183300.0</td>\n",
       "      <td>182900.0</td>\n",
       "      <td>196800.0</td>\n",
       "      <td>217600.0</td>\n",
       "      <td>199400.0</td>\n",
       "      <td>212400.0</td>\n",
       "      <td>200400.0</td>\n",
       "      <td>198700.0</td>\n",
       "      <td>206800.0</td>\n",
       "      <td>187800.0</td>\n",
       "      <td>195300.0</td>\n",
       "    </tr>\n",
       "    <tr>\n",
       "      <th>2018-03-01</th>\n",
       "      <td>198100.0</td>\n",
       "      <td>210700.0</td>\n",
       "      <td>203700.0</td>\n",
       "      <td>180600.0</td>\n",
       "      <td>185300.0</td>\n",
       "      <td>183200.0</td>\n",
       "      <td>210100.0</td>\n",
       "      <td>182800.0</td>\n",
       "      <td>195500.0</td>\n",
       "      <td>183600.0</td>\n",
       "      <td>184000.0</td>\n",
       "      <td>196300.0</td>\n",
       "      <td>217900.0</td>\n",
       "      <td>202100.0</td>\n",
       "      <td>212200.0</td>\n",
       "      <td>201700.0</td>\n",
       "      <td>199900.0</td>\n",
       "      <td>208000.0</td>\n",
       "      <td>189500.0</td>\n",
       "      <td>195500.0</td>\n",
       "    </tr>\n",
       "    <tr>\n",
       "      <th>2018-04-01</th>\n",
       "      <td>199400.0</td>\n",
       "      <td>213000.0</td>\n",
       "      <td>202100.0</td>\n",
       "      <td>181500.0</td>\n",
       "      <td>186700.0</td>\n",
       "      <td>183300.0</td>\n",
       "      <td>211800.0</td>\n",
       "      <td>183300.0</td>\n",
       "      <td>196500.0</td>\n",
       "      <td>184100.0</td>\n",
       "      <td>184800.0</td>\n",
       "      <td>196900.0</td>\n",
       "      <td>218500.0</td>\n",
       "      <td>203900.0</td>\n",
       "      <td>211400.0</td>\n",
       "      <td>202000.0</td>\n",
       "      <td>200200.0</td>\n",
       "      <td>208500.0</td>\n",
       "      <td>190500.0</td>\n",
       "      <td>195200.0</td>\n",
       "    </tr>\n",
       "  </tbody>\n",
       "</table>\n",
       "</div>"
      ],
      "text/plain": [
       "               91191     74248     94645     93856     74482     92114  \\\n",
       "time                                                                     \n",
       "2017-12-01  193300.0  202700.0  207200.0  176800.0  182100.0  184100.0   \n",
       "2018-01-01  194300.0  205000.0  206700.0  177200.0  182500.0  184000.0   \n",
       "2018-02-01  196000.0  207500.0  205400.0  178700.0  183500.0  183500.0   \n",
       "2018-03-01  198100.0  210700.0  203700.0  180600.0  185300.0  183200.0   \n",
       "2018-04-01  199400.0  213000.0  202100.0  181500.0  186700.0  183300.0   \n",
       "\n",
       "               94278     69273     94229     64920     74379     79908  \\\n",
       "time                                                                     \n",
       "2017-12-01  208200.0  181100.0  192000.0  182000.0  181300.0  198100.0   \n",
       "2018-01-01  207400.0  181500.0  193000.0  183200.0  182000.0  198000.0   \n",
       "2018-02-01  208100.0  182200.0  194100.0  183300.0  182900.0  196800.0   \n",
       "2018-03-01  210100.0  182800.0  195500.0  183600.0  184000.0  196300.0   \n",
       "2018-04-01  211800.0  183300.0  196500.0  184100.0  184800.0  196900.0   \n",
       "\n",
       "               70156     92238     88435     84504     80293     80296  \\\n",
       "time                                                                     \n",
       "2017-12-01  216000.0  198300.0  210700.0  198500.0  196900.0  205900.0   \n",
       "2018-01-01  217300.0  198100.0  211600.0  199100.0  197600.0  206100.0   \n",
       "2018-02-01  217600.0  199400.0  212400.0  200400.0  198700.0  206800.0   \n",
       "2018-03-01  217900.0  202100.0  212200.0  201700.0  199900.0  208000.0   \n",
       "2018-04-01  218500.0  203900.0  211400.0  202000.0  200200.0  208500.0   \n",
       "\n",
       "               67353     88815  \n",
       "time                            \n",
       "2017-12-01  188500.0  193100.0  \n",
       "2018-01-01  187500.0  194500.0  \n",
       "2018-02-01  187800.0  195300.0  \n",
       "2018-03-01  189500.0  195500.0  \n",
       "2018-04-01  190500.0  195200.0  "
      ]
     },
     "execution_count": 98,
     "metadata": {},
     "output_type": "execute_result"
    }
   ],
   "source": [
    "final20df.tail()"
   ]
  },
  {
   "cell_type": "code",
   "execution_count": 157,
   "metadata": {
    "scrolled": true
   },
   "outputs": [
    {
     "data": {
      "text/html": [
       "<div>\n",
       "<style scoped>\n",
       "    .dataframe tbody tr th:only-of-type {\n",
       "        vertical-align: middle;\n",
       "    }\n",
       "\n",
       "    .dataframe tbody tr th {\n",
       "        vertical-align: top;\n",
       "    }\n",
       "\n",
       "    .dataframe thead th {\n",
       "        text-align: right;\n",
       "    }\n",
       "</style>\n",
       "<table border=\"1\" class=\"dataframe\">\n",
       "  <thead>\n",
       "    <tr style=\"text-align: right;\">\n",
       "      <th></th>\n",
       "      <th>91191</th>\n",
       "      <th>74248</th>\n",
       "      <th>94645</th>\n",
       "      <th>93856</th>\n",
       "      <th>74482</th>\n",
       "      <th>92114</th>\n",
       "      <th>94278</th>\n",
       "      <th>69273</th>\n",
       "      <th>94229</th>\n",
       "      <th>64920</th>\n",
       "      <th>...</th>\n",
       "      <th>79908</th>\n",
       "      <th>70156</th>\n",
       "      <th>92238</th>\n",
       "      <th>88435</th>\n",
       "      <th>84504</th>\n",
       "      <th>80293</th>\n",
       "      <th>80296</th>\n",
       "      <th>67353</th>\n",
       "      <th>88815</th>\n",
       "      <th>times</th>\n",
       "    </tr>\n",
       "  </thead>\n",
       "  <tbody>\n",
       "    <tr>\n",
       "      <th>0</th>\n",
       "      <td>199400.0</td>\n",
       "      <td>213000.0</td>\n",
       "      <td>202100.0</td>\n",
       "      <td>181500.0</td>\n",
       "      <td>186700.0</td>\n",
       "      <td>183300.0</td>\n",
       "      <td>211800.0</td>\n",
       "      <td>183300.0</td>\n",
       "      <td>196500.0</td>\n",
       "      <td>184100.0</td>\n",
       "      <td>...</td>\n",
       "      <td>196900.0</td>\n",
       "      <td>218500.0</td>\n",
       "      <td>203900.0</td>\n",
       "      <td>211400.0</td>\n",
       "      <td>202000.0</td>\n",
       "      <td>200200.0</td>\n",
       "      <td>208500.0</td>\n",
       "      <td>190500.0</td>\n",
       "      <td>195200.0</td>\n",
       "      <td>2018-04-01</td>\n",
       "    </tr>\n",
       "    <tr>\n",
       "      <th>2020-04-01</th>\n",
       "      <td>4.0</td>\n",
       "      <td>4.0</td>\n",
       "      <td>4.0</td>\n",
       "      <td>4.0</td>\n",
       "      <td>4.0</td>\n",
       "      <td>4.0</td>\n",
       "      <td>4.0</td>\n",
       "      <td>4.0</td>\n",
       "      <td>4.0</td>\n",
       "      <td>4.0</td>\n",
       "      <td>...</td>\n",
       "      <td>4.0</td>\n",
       "      <td>4.0</td>\n",
       "      <td>4.0</td>\n",
       "      <td>4.0</td>\n",
       "      <td>4.0</td>\n",
       "      <td>4.0</td>\n",
       "      <td>4.0</td>\n",
       "      <td>4.0</td>\n",
       "      <td>4.0</td>\n",
       "      <td>2020-04-01</td>\n",
       "    </tr>\n",
       "  </tbody>\n",
       "</table>\n",
       "<p>2 rows × 21 columns</p>\n",
       "</div>"
      ],
      "text/plain": [
       "               91191     74248     94645     93856     74482     92114  \\\n",
       "0           199400.0  213000.0  202100.0  181500.0  186700.0  183300.0   \n",
       "2020-04-01       4.0       4.0       4.0       4.0       4.0       4.0   \n",
       "\n",
       "               94278     69273     94229     64920    ...         79908  \\\n",
       "0           211800.0  183300.0  196500.0  184100.0    ...      196900.0   \n",
       "2020-04-01       4.0       4.0       4.0       4.0    ...           4.0   \n",
       "\n",
       "               70156     92238     88435     84504     80293     80296  \\\n",
       "0           218500.0  203900.0  211400.0  202000.0  200200.0  208500.0   \n",
       "2020-04-01       4.0       4.0       4.0       4.0       4.0       4.0   \n",
       "\n",
       "               67353     88815      times  \n",
       "0           190500.0  195200.0 2018-04-01  \n",
       "2020-04-01       4.0       4.0 2020-04-01  \n",
       "\n",
       "[2 rows x 21 columns]"
      ]
     },
     "execution_count": 157,
     "metadata": {},
     "output_type": "execute_result"
    }
   ],
   "source": [
    "#creating a dataframe solely of the last actual value (2018-04-01)\n",
    "#in anticipation of comparing it to the last forecasted value\n",
    "fc20last = [num for num in final20df.loc[\"2018-04-01\"]]\n",
    "forecast20df = pd.DataFrame(data = [fc20last], columns = final20df.columns)\n",
    "forecast20df.loc[\"2020-04-01\"]=4 #initializing a new row for the last forecosted value\n",
    "forecast20df[\"times\"]=[pd.to_datetime(\"2018-04-01\"),pd.to_datetime(\"2020-04-01\")] #creating a column with the desired dates\n",
    "forecast20df.head()"
   ]
  },
  {
   "cell_type": "code",
   "execution_count": 159,
   "metadata": {
    "scrolled": true
   },
   "outputs": [
    {
     "name": "stdout",
     "output_type": "stream",
     "text": [
      "<class 'pandas.core.frame.DataFrame'>\n",
      "DatetimeIndex: 2 entries, 2018-04-01 to 2020-04-01\n",
      "Data columns (total 20 columns):\n",
      "91191    2 non-null float64\n",
      "74248    2 non-null float64\n",
      "94645    2 non-null float64\n",
      "93856    2 non-null float64\n",
      "74482    2 non-null float64\n",
      "92114    2 non-null float64\n",
      "94278    2 non-null float64\n",
      "69273    2 non-null float64\n",
      "94229    2 non-null float64\n",
      "64920    2 non-null float64\n",
      "74379    2 non-null float64\n",
      "79908    2 non-null float64\n",
      "70156    2 non-null float64\n",
      "92238    2 non-null float64\n",
      "88435    2 non-null float64\n",
      "84504    2 non-null float64\n",
      "80293    2 non-null float64\n",
      "80296    2 non-null float64\n",
      "67353    2 non-null float64\n",
      "88815    2 non-null float64\n",
      "dtypes: float64(20)\n",
      "memory usage: 336.0 bytes\n"
     ]
    }
   ],
   "source": [
    "forecast20df.set_index(\"times\", inplace=True)#transforming the times column into a DateTimeIndex\n",
    "forecast20df.info()"
   ]
  },
  {
   "cell_type": "markdown",
   "metadata": {},
   "source": [
    "### Generation of forecasts and their confidence intervals"
   ]
  },
  {
   "cell_type": "code",
   "execution_count": 104,
   "metadata": {},
   "outputs": [
    {
     "name": "stderr",
     "output_type": "stream",
     "text": [
      "C:\\Users\\Bronwen\\Anaconda3\\envs\\learn-env\\lib\\site-packages\\statsmodels\\base\\model.py:508: ConvergenceWarning: Maximum Likelihood optimization failed to converge. Check mle_retvals\n",
      "  \"Check mle_retvals\", ConvergenceWarning)\n",
      "C:\\Users\\Bronwen\\Anaconda3\\envs\\learn-env\\lib\\site-packages\\statsmodels\\base\\model.py:508: ConvergenceWarning: Maximum Likelihood optimization failed to converge. Check mle_retvals\n",
      "  \"Check mle_retvals\", ConvergenceWarning)\n",
      "C:\\Users\\Bronwen\\Anaconda3\\envs\\learn-env\\lib\\site-packages\\statsmodels\\base\\model.py:508: ConvergenceWarning: Maximum Likelihood optimization failed to converge. Check mle_retvals\n",
      "  \"Check mle_retvals\", ConvergenceWarning)\n"
     ]
    }
   ],
   "source": [
    "#make list of dataframes of the confidence intervals for graphing and comparisons\n",
    "listofdfs = []\n",
    "begin = time.time()\n",
    "for colname in final20df.columns:\n",
    "    thisdf = fcast(final20df[colname],bestpdq,bestpdqs,colname)#modeling and forecasting 24 steps in advance\n",
    "    listofdfs.append(thisdf)\n",
    "    lastworst = thisdf.loc[\"2020-04-01\", thisdf.columns[0]]#getting the lower bound of the confidence interval for the last predicted value\n",
    "    forecast20df.loc[\"2020-04-01\",colname] = lastworst\n",
    "end = time.time()"
   ]
  },
  {
   "cell_type": "code",
   "execution_count": null,
   "metadata": {},
   "outputs": [],
   "source": [
    "#saving forecast20df, which contains \n",
    "#the last observed value and last lower bound predicted value\n",
    "forecast20df.to_csv(\"files/pred20.csv\")"
   ]
  },
  {
   "cell_type": "code",
   "execution_count": 170,
   "metadata": {
    "scrolled": true
   },
   "outputs": [
    {
     "name": "stdout",
     "output_type": "stream",
     "text": [
      "<class 'pandas.core.frame.DataFrame'>\n",
      "DatetimeIndex: 24 entries, 2018-05-01 to 2020-04-01\n",
      "Freq: MS\n",
      "Data columns (total 60 columns):\n",
      "lower 91191       24 non-null float64\n",
      "upper 91191       24 non-null float64\n",
      "forecast 91191    24 non-null float64\n",
      "lower 74248       24 non-null float64\n",
      "upper 74248       24 non-null float64\n",
      "forecast 74248    24 non-null float64\n",
      "lower 94645       24 non-null float64\n",
      "upper 94645       24 non-null float64\n",
      "forecast 94645    24 non-null float64\n",
      "lower 93856       24 non-null float64\n",
      "upper 93856       24 non-null float64\n",
      "forecast 93856    24 non-null float64\n",
      "lower 74482       24 non-null float64\n",
      "upper 74482       24 non-null float64\n",
      "forecast 74482    24 non-null float64\n",
      "lower 92114       24 non-null float64\n",
      "upper 92114       24 non-null float64\n",
      "forecast 92114    24 non-null float64\n",
      "lower 94278       24 non-null float64\n",
      "upper 94278       24 non-null float64\n",
      "forecast 94278    24 non-null float64\n",
      "lower 69273       24 non-null float64\n",
      "upper 69273       24 non-null float64\n",
      "forecast 69273    24 non-null float64\n",
      "lower 94229       24 non-null float64\n",
      "upper 94229       24 non-null float64\n",
      "forecast 94229    24 non-null float64\n",
      "lower 64920       24 non-null float64\n",
      "upper 64920       24 non-null float64\n",
      "forecast 64920    24 non-null float64\n",
      "lower 74379       24 non-null float64\n",
      "upper 74379       24 non-null float64\n",
      "forecast 74379    24 non-null float64\n",
      "lower 79908       24 non-null float64\n",
      "upper 79908       24 non-null float64\n",
      "forecast 79908    24 non-null float64\n",
      "lower 70156       24 non-null float64\n",
      "upper 70156       24 non-null float64\n",
      "forecast 70156    24 non-null float64\n",
      "lower 92238       24 non-null float64\n",
      "upper 92238       24 non-null float64\n",
      "forecast 92238    24 non-null float64\n",
      "lower 88435       24 non-null float64\n",
      "upper 88435       24 non-null float64\n",
      "forecast 88435    24 non-null float64\n",
      "lower 84504       24 non-null float64\n",
      "upper 84504       24 non-null float64\n",
      "forecast 84504    24 non-null float64\n",
      "lower 80293       24 non-null float64\n",
      "upper 80293       24 non-null float64\n",
      "forecast 80293    24 non-null float64\n",
      "lower 80296       24 non-null float64\n",
      "upper 80296       24 non-null float64\n",
      "forecast 80296    24 non-null float64\n",
      "lower 67353       24 non-null float64\n",
      "upper 67353       24 non-null float64\n",
      "forecast 67353    24 non-null float64\n",
      "lower 88815       24 non-null float64\n",
      "upper 88815       24 non-null float64\n",
      "forecast 88815    24 non-null float64\n",
      "dtypes: float64(60)\n",
      "memory usage: 12.1 KB\n"
     ]
    }
   ],
   "source": [
    "confidf = pd.concat(listofdfs, axis=1)\n",
    "confidf.info()"
   ]
  },
  {
   "cell_type": "code",
   "execution_count": 171,
   "metadata": {},
   "outputs": [],
   "source": [
    "#saving the 95% confidence interval bounds and forecasts for 24 steps for each of 20 RegionID's\n",
    "confidf.to_csv(\"files/ConfidenceIntervals.csv\")"
   ]
  },
  {
   "cell_type": "code",
   "execution_count": 106,
   "metadata": {},
   "outputs": [
    {
     "data": {
      "text/plain": [
       "406.96426010131836"
      ]
     },
     "execution_count": 106,
     "metadata": {},
     "output_type": "execute_result"
    }
   ],
   "source": [
    "end-begin #how long it took to generate forecasts"
   ]
  },
  {
   "cell_type": "code",
   "execution_count": 1,
   "metadata": {},
   "outputs": [
    {
     "data": {
      "text/plain": [
       "6.782666666666667"
      ]
     },
     "execution_count": 1,
     "metadata": {},
     "output_type": "execute_result"
    }
   ],
   "source": [
    "406.96/60 #calculating the time in minutes"
   ]
  },
  {
   "cell_type": "code",
   "execution_count": 15,
   "metadata": {
    "scrolled": true
   },
   "outputs": [
    {
     "data": {
      "text/html": [
       "<div>\n",
       "<style scoped>\n",
       "    .dataframe tbody tr th:only-of-type {\n",
       "        vertical-align: middle;\n",
       "    }\n",
       "\n",
       "    .dataframe tbody tr th {\n",
       "        vertical-align: top;\n",
       "    }\n",
       "\n",
       "    .dataframe thead th {\n",
       "        text-align: right;\n",
       "    }\n",
       "</style>\n",
       "<table border=\"1\" class=\"dataframe\">\n",
       "  <thead>\n",
       "    <tr style=\"text-align: right;\">\n",
       "      <th></th>\n",
       "      <th>Unnamed: 0</th>\n",
       "      <th>lower 91191</th>\n",
       "      <th>upper 91191</th>\n",
       "      <th>forecast 91191</th>\n",
       "      <th>lower 74248</th>\n",
       "      <th>upper 74248</th>\n",
       "      <th>forecast 74248</th>\n",
       "      <th>lower 94645</th>\n",
       "      <th>upper 94645</th>\n",
       "      <th>forecast 94645</th>\n",
       "      <th>...</th>\n",
       "      <th>forecast 80293</th>\n",
       "      <th>lower 80296</th>\n",
       "      <th>upper 80296</th>\n",
       "      <th>forecast 80296</th>\n",
       "      <th>lower 67353</th>\n",
       "      <th>upper 67353</th>\n",
       "      <th>forecast 67353</th>\n",
       "      <th>lower 88815</th>\n",
       "      <th>upper 88815</th>\n",
       "      <th>forecast 88815</th>\n",
       "    </tr>\n",
       "  </thead>\n",
       "  <tbody>\n",
       "    <tr>\n",
       "      <th>0</th>\n",
       "      <td>2018-05-01</td>\n",
       "      <td>199982.784448</td>\n",
       "      <td>200988.789063</td>\n",
       "      <td>200485.786755</td>\n",
       "      <td>213719.281892</td>\n",
       "      <td>215520.509066</td>\n",
       "      <td>214619.895479</td>\n",
       "      <td>198977.076868</td>\n",
       "      <td>201326.946266</td>\n",
       "      <td>200152.011567</td>\n",
       "      <td>...</td>\n",
       "      <td>200369.934125</td>\n",
       "      <td>207491.164083</td>\n",
       "      <td>210571.358899</td>\n",
       "      <td>209031.261491</td>\n",
       "      <td>190393.449551</td>\n",
       "      <td>193948.147450</td>\n",
       "      <td>192170.798500</td>\n",
       "      <td>193803.628763</td>\n",
       "      <td>195328.242475</td>\n",
       "      <td>194565.935619</td>\n",
       "    </tr>\n",
       "    <tr>\n",
       "      <th>1</th>\n",
       "      <td>2018-06-01</td>\n",
       "      <td>200243.256599</td>\n",
       "      <td>202764.828513</td>\n",
       "      <td>201504.042556</td>\n",
       "      <td>214252.683325</td>\n",
       "      <td>218498.218039</td>\n",
       "      <td>216375.450682</td>\n",
       "      <td>195078.217343</td>\n",
       "      <td>201376.559138</td>\n",
       "      <td>198227.388240</td>\n",
       "      <td>...</td>\n",
       "      <td>200066.483239</td>\n",
       "      <td>205180.642698</td>\n",
       "      <td>213062.329703</td>\n",
       "      <td>209121.486200</td>\n",
       "      <td>187566.254600</td>\n",
       "      <td>196616.334166</td>\n",
       "      <td>192091.294383</td>\n",
       "      <td>190936.924297</td>\n",
       "      <td>195020.332583</td>\n",
       "      <td>192978.628440</td>\n",
       "    </tr>\n",
       "    <tr>\n",
       "      <th>2</th>\n",
       "      <td>2018-07-01</td>\n",
       "      <td>200245.874578</td>\n",
       "      <td>204730.046484</td>\n",
       "      <td>202487.960531</td>\n",
       "      <td>215006.645090</td>\n",
       "      <td>222291.861515</td>\n",
       "      <td>218649.253302</td>\n",
       "      <td>190396.962053</td>\n",
       "      <td>202125.594528</td>\n",
       "      <td>196261.278290</td>\n",
       "      <td>...</td>\n",
       "      <td>199573.628027</td>\n",
       "      <td>201085.714863</td>\n",
       "      <td>215291.268080</td>\n",
       "      <td>208188.491471</td>\n",
       "      <td>181684.200556</td>\n",
       "      <td>197941.125184</td>\n",
       "      <td>189812.662870</td>\n",
       "      <td>187006.027184</td>\n",
       "      <td>194605.958900</td>\n",
       "      <td>190805.993042</td>\n",
       "    </tr>\n",
       "    <tr>\n",
       "      <th>3</th>\n",
       "      <td>2018-08-01</td>\n",
       "      <td>199919.685172</td>\n",
       "      <td>206733.715816</td>\n",
       "      <td>203326.700494</td>\n",
       "      <td>214562.727064</td>\n",
       "      <td>225383.152355</td>\n",
       "      <td>219972.939710</td>\n",
       "      <td>184787.870692</td>\n",
       "      <td>203217.227981</td>\n",
       "      <td>194002.549337</td>\n",
       "      <td>...</td>\n",
       "      <td>199253.585825</td>\n",
       "      <td>195717.601990</td>\n",
       "      <td>217505.620097</td>\n",
       "      <td>206611.611044</td>\n",
       "      <td>174771.678845</td>\n",
       "      <td>199647.387354</td>\n",
       "      <td>187209.533099</td>\n",
       "      <td>182508.786454</td>\n",
       "      <td>194445.719003</td>\n",
       "      <td>188477.252729</td>\n",
       "    </tr>\n",
       "    <tr>\n",
       "      <th>4</th>\n",
       "      <td>2018-09-01</td>\n",
       "      <td>199287.831224</td>\n",
       "      <td>208747.232059</td>\n",
       "      <td>204017.531641</td>\n",
       "      <td>213355.169600</td>\n",
       "      <td>228144.092471</td>\n",
       "      <td>220749.631035</td>\n",
       "      <td>177995.346871</td>\n",
       "      <td>204228.316526</td>\n",
       "      <td>191111.831699</td>\n",
       "      <td>...</td>\n",
       "      <td>198965.206035</td>\n",
       "      <td>190878.491161</td>\n",
       "      <td>221328.144785</td>\n",
       "      <td>206103.317973</td>\n",
       "      <td>167463.805342</td>\n",
       "      <td>202169.105164</td>\n",
       "      <td>184816.455253</td>\n",
       "      <td>177082.544924</td>\n",
       "      <td>194068.471601</td>\n",
       "      <td>185575.508263</td>\n",
       "    </tr>\n",
       "  </tbody>\n",
       "</table>\n",
       "<p>5 rows × 61 columns</p>\n",
       "</div>"
      ],
      "text/plain": [
       "   Unnamed: 0    lower 91191    upper 91191  forecast 91191    lower 74248  \\\n",
       "0  2018-05-01  199982.784448  200988.789063   200485.786755  213719.281892   \n",
       "1  2018-06-01  200243.256599  202764.828513   201504.042556  214252.683325   \n",
       "2  2018-07-01  200245.874578  204730.046484   202487.960531  215006.645090   \n",
       "3  2018-08-01  199919.685172  206733.715816   203326.700494  214562.727064   \n",
       "4  2018-09-01  199287.831224  208747.232059   204017.531641  213355.169600   \n",
       "\n",
       "     upper 74248  forecast 74248    lower 94645    upper 94645  \\\n",
       "0  215520.509066   214619.895479  198977.076868  201326.946266   \n",
       "1  218498.218039   216375.450682  195078.217343  201376.559138   \n",
       "2  222291.861515   218649.253302  190396.962053  202125.594528   \n",
       "3  225383.152355   219972.939710  184787.870692  203217.227981   \n",
       "4  228144.092471   220749.631035  177995.346871  204228.316526   \n",
       "\n",
       "   forecast 94645       ...        forecast 80293    lower 80296  \\\n",
       "0   200152.011567       ...         200369.934125  207491.164083   \n",
       "1   198227.388240       ...         200066.483239  205180.642698   \n",
       "2   196261.278290       ...         199573.628027  201085.714863   \n",
       "3   194002.549337       ...         199253.585825  195717.601990   \n",
       "4   191111.831699       ...         198965.206035  190878.491161   \n",
       "\n",
       "     upper 80296  forecast 80296    lower 67353    upper 67353  \\\n",
       "0  210571.358899   209031.261491  190393.449551  193948.147450   \n",
       "1  213062.329703   209121.486200  187566.254600  196616.334166   \n",
       "2  215291.268080   208188.491471  181684.200556  197941.125184   \n",
       "3  217505.620097   206611.611044  174771.678845  199647.387354   \n",
       "4  221328.144785   206103.317973  167463.805342  202169.105164   \n",
       "\n",
       "   forecast 67353    lower 88815    upper 88815  forecast 88815  \n",
       "0   192170.798500  193803.628763  195328.242475   194565.935619  \n",
       "1   192091.294383  190936.924297  195020.332583   192978.628440  \n",
       "2   189812.662870  187006.027184  194605.958900   190805.993042  \n",
       "3   187209.533099  182508.786454  194445.719003   188477.252729  \n",
       "4   184816.455253  177082.544924  194068.471601   185575.508263  \n",
       "\n",
       "[5 rows x 61 columns]"
      ]
     },
     "execution_count": 15,
     "metadata": {},
     "output_type": "execute_result"
    }
   ],
   "source": [
    "confidf = pd.read_csv(\"files/ConfidenceIntervals.csv\")\n",
    "confidf.head()"
   ]
  },
  {
   "cell_type": "code",
   "execution_count": 16,
   "metadata": {
    "collapsed": true
   },
   "outputs": [
    {
     "name": "stdout",
     "output_type": "stream",
     "text": [
      "<class 'pandas.core.frame.DataFrame'>\n",
      "DatetimeIndex: 24 entries, 2018-05-01 to 2020-04-01\n",
      "Data columns (total 61 columns):\n",
      "times             24 non-null object\n",
      "lower 91191       24 non-null float64\n",
      "upper 91191       24 non-null float64\n",
      "forecast 91191    24 non-null float64\n",
      "lower 74248       24 non-null float64\n",
      "upper 74248       24 non-null float64\n",
      "forecast 74248    24 non-null float64\n",
      "lower 94645       24 non-null float64\n",
      "upper 94645       24 non-null float64\n",
      "forecast 94645    24 non-null float64\n",
      "lower 93856       24 non-null float64\n",
      "upper 93856       24 non-null float64\n",
      "forecast 93856    24 non-null float64\n",
      "lower 74482       24 non-null float64\n",
      "upper 74482       24 non-null float64\n",
      "forecast 74482    24 non-null float64\n",
      "lower 92114       24 non-null float64\n",
      "upper 92114       24 non-null float64\n",
      "forecast 92114    24 non-null float64\n",
      "lower 94278       24 non-null float64\n",
      "upper 94278       24 non-null float64\n",
      "forecast 94278    24 non-null float64\n",
      "lower 69273       24 non-null float64\n",
      "upper 69273       24 non-null float64\n",
      "forecast 69273    24 non-null float64\n",
      "lower 94229       24 non-null float64\n",
      "upper 94229       24 non-null float64\n",
      "forecast 94229    24 non-null float64\n",
      "lower 64920       24 non-null float64\n",
      "upper 64920       24 non-null float64\n",
      "forecast 64920    24 non-null float64\n",
      "lower 74379       24 non-null float64\n",
      "upper 74379       24 non-null float64\n",
      "forecast 74379    24 non-null float64\n",
      "lower 79908       24 non-null float64\n",
      "upper 79908       24 non-null float64\n",
      "forecast 79908    24 non-null float64\n",
      "lower 70156       24 non-null float64\n",
      "upper 70156       24 non-null float64\n",
      "forecast 70156    24 non-null float64\n",
      "lower 92238       24 non-null float64\n",
      "upper 92238       24 non-null float64\n",
      "forecast 92238    24 non-null float64\n",
      "lower 88435       24 non-null float64\n",
      "upper 88435       24 non-null float64\n",
      "forecast 88435    24 non-null float64\n",
      "lower 84504       24 non-null float64\n",
      "upper 84504       24 non-null float64\n",
      "forecast 84504    24 non-null float64\n",
      "lower 80293       24 non-null float64\n",
      "upper 80293       24 non-null float64\n",
      "forecast 80293    24 non-null float64\n",
      "lower 80296       24 non-null float64\n",
      "upper 80296       24 non-null float64\n",
      "forecast 80296    24 non-null float64\n",
      "lower 67353       24 non-null float64\n",
      "upper 67353       24 non-null float64\n",
      "forecast 67353    24 non-null float64\n",
      "lower 88815       24 non-null float64\n",
      "upper 88815       24 non-null float64\n",
      "forecast 88815    24 non-null float64\n",
      "dtypes: float64(60), object(1)\n",
      "memory usage: 11.6+ KB\n"
     ]
    }
   ],
   "source": [
    "#after reading in the DataFrame, setting the dates to be the DateTimeIndex\n",
    "confidf.rename(columns={\"Unnamed: 0\":\"times\"}, inplace=True)\n",
    "confidf.set_index(pd.to_datetime(confidf[\"times\"]), inplace=True)\n",
    "confidf.drop(columns=\"times\", inplace=True)\n",
    "confidf.info()"
   ]
  },
  {
   "cell_type": "markdown",
   "metadata": {},
   "source": [
    "### Looking at Forecasted Percent Change\n",
    "Taking an aside to consider the difference between the price of the last forecasted date and the last observed date for a business audience."
   ]
  },
  {
   "cell_type": "code",
   "execution_count": 152,
   "metadata": {},
   "outputs": [],
   "source": [
    "#calculating the percent change for each RegionID using the forecast column\n",
    "percentchange = dict()\n",
    "for idx, colname in enumerate(confidf):\n",
    "    if idx%3==0 and idx!=0:\n",
    "        percentchange[colname[9:]] = confidf.loc[pd.to_datetime(\"2020-04-01\"),colname]\n",
    "    else:\n",
    "        continue"
   ]
  },
  {
   "cell_type": "code",
   "execution_count": 153,
   "metadata": {
    "collapsed": true
   },
   "outputs": [
    {
     "data": {
      "text/plain": [
       "{'91191': 12.09901711636976,\n",
       " '74248': 21.433544212393464,\n",
       " '94645': -56.8763693098712,\n",
       " '93856': 6.292141538254368,\n",
       " '74482': 12.279075185746123,\n",
       " '92114': -7.552722137516668,\n",
       " '94278': 30.619861295077968,\n",
       " '69273': 4.883748610784943,\n",
       " '94229': -15.822284496894431,\n",
       " '64920': -0.5085634146179305,\n",
       " '74379': 17.595186593761376,\n",
       " '79908': -0.20343297153769913,\n",
       " '70156': -45.92314613146017,\n",
       " '92238': 16.661529681163174,\n",
       " '88435': -76.57656219123818,\n",
       " '84504': -3.0966913139419474,\n",
       " '80293': -7.148488055190184,\n",
       " '80296': -17.678233795310412,\n",
       " '67353': -29.15504284434603,\n",
       " '88815': -45.214718344164055}"
      ]
     },
     "execution_count": 153,
     "metadata": {},
     "output_type": "execute_result"
    }
   ],
   "source": [
    "for key, predval in percentchange.items():\n",
    "    lastrealval = final20df.loc[pd.to_datetime(\"2018-04-01\"),key]\n",
    "    percentchange[key] = (predval-lastrealval)/lastrealval*100\n",
    "percentchange"
   ]
  },
  {
   "cell_type": "markdown",
   "metadata": {},
   "source": [
    "The above was to look at the forecast percent change for the RegionID's (specifically 74379, 92114, 74248, 69273, and 91191) for the PowerPoint presentation."
   ]
  },
  {
   "cell_type": "markdown",
   "metadata": {},
   "source": [
    "### Graphing the 24-step forecasts"
   ]
  },
  {
   "cell_type": "code",
   "execution_count": 165,
   "metadata": {
    "scrolled": true
   },
   "outputs": [
    {
     "data": {
      "text/html": [
       "<div>\n",
       "<style scoped>\n",
       "    .dataframe tbody tr th:only-of-type {\n",
       "        vertical-align: middle;\n",
       "    }\n",
       "\n",
       "    .dataframe tbody tr th {\n",
       "        vertical-align: top;\n",
       "    }\n",
       "\n",
       "    .dataframe thead th {\n",
       "        text-align: right;\n",
       "    }\n",
       "</style>\n",
       "<table border=\"1\" class=\"dataframe\">\n",
       "  <thead>\n",
       "    <tr style=\"text-align: right;\">\n",
       "      <th>times</th>\n",
       "      <th>Last Record</th>\n",
       "      <th>Last Pred</th>\n",
       "      <th>RegionID</th>\n",
       "      <th>Percent Change</th>\n",
       "    </tr>\n",
       "  </thead>\n",
       "  <tbody>\n",
       "    <tr>\n",
       "      <th>91191</th>\n",
       "      <td>199400.0</td>\n",
       "      <td>165918.049134</td>\n",
       "      <td>91191</td>\n",
       "      <td>-16.791349</td>\n",
       "    </tr>\n",
       "    <tr>\n",
       "      <th>74248</th>\n",
       "      <td>213000.0</td>\n",
       "      <td>162443.130247</td>\n",
       "      <td>74248</td>\n",
       "      <td>-23.735620</td>\n",
       "    </tr>\n",
       "    <tr>\n",
       "      <th>94645</th>\n",
       "      <td>202100.0</td>\n",
       "      <td>-114363.068525</td>\n",
       "      <td>94645</td>\n",
       "      <td>-156.587367</td>\n",
       "    </tr>\n",
       "    <tr>\n",
       "      <th>93856</th>\n",
       "      <td>181500.0</td>\n",
       "      <td>16844.039220</td>\n",
       "      <td>93856</td>\n",
       "      <td>-90.719538</td>\n",
       "    </tr>\n",
       "    <tr>\n",
       "      <th>74482</th>\n",
       "      <td>186700.0</td>\n",
       "      <td>118535.461398</td>\n",
       "      <td>74482</td>\n",
       "      <td>-36.510197</td>\n",
       "    </tr>\n",
       "    <tr>\n",
       "      <th>92114</th>\n",
       "      <td>183300.0</td>\n",
       "      <td>127682.845290</td>\n",
       "      <td>92114</td>\n",
       "      <td>-30.342147</td>\n",
       "    </tr>\n",
       "    <tr>\n",
       "      <th>94278</th>\n",
       "      <td>211800.0</td>\n",
       "      <td>48736.716916</td>\n",
       "      <td>94278</td>\n",
       "      <td>-76.989274</td>\n",
       "    </tr>\n",
       "    <tr>\n",
       "      <th>69273</th>\n",
       "      <td>183300.0</td>\n",
       "      <td>140302.529452</td>\n",
       "      <td>69273</td>\n",
       "      <td>-23.457431</td>\n",
       "    </tr>\n",
       "    <tr>\n",
       "      <th>94229</th>\n",
       "      <td>196500.0</td>\n",
       "      <td>-35228.547763</td>\n",
       "      <td>94229</td>\n",
       "      <td>-117.928014</td>\n",
       "    </tr>\n",
       "    <tr>\n",
       "      <th>64920</th>\n",
       "      <td>184100.0</td>\n",
       "      <td>38336.585028</td>\n",
       "      <td>64920</td>\n",
       "      <td>-79.176217</td>\n",
       "    </tr>\n",
       "    <tr>\n",
       "      <th>74379</th>\n",
       "      <td>184800.0</td>\n",
       "      <td>124216.102983</td>\n",
       "      <td>74379</td>\n",
       "      <td>-32.783494</td>\n",
       "    </tr>\n",
       "    <tr>\n",
       "      <th>79908</th>\n",
       "      <td>196900.0</td>\n",
       "      <td>-266194.382414</td>\n",
       "      <td>79908</td>\n",
       "      <td>-235.192678</td>\n",
       "    </tr>\n",
       "    <tr>\n",
       "      <th>70156</th>\n",
       "      <td>218500.0</td>\n",
       "      <td>-26592.766214</td>\n",
       "      <td>70156</td>\n",
       "      <td>-112.170602</td>\n",
       "    </tr>\n",
       "    <tr>\n",
       "      <th>92238</th>\n",
       "      <td>203900.0</td>\n",
       "      <td>113550.768030</td>\n",
       "      <td>92238</td>\n",
       "      <td>-44.310560</td>\n",
       "    </tr>\n",
       "    <tr>\n",
       "      <th>88435</th>\n",
       "      <td>211400.0</td>\n",
       "      <td>-131046.191820</td>\n",
       "      <td>88435</td>\n",
       "      <td>-161.989684</td>\n",
       "    </tr>\n",
       "    <tr>\n",
       "      <th>84504</th>\n",
       "      <td>202000.0</td>\n",
       "      <td>32223.426803</td>\n",
       "      <td>84504</td>\n",
       "      <td>-84.047809</td>\n",
       "    </tr>\n",
       "    <tr>\n",
       "      <th>80293</th>\n",
       "      <td>200200.0</td>\n",
       "      <td>124417.127534</td>\n",
       "      <td>80293</td>\n",
       "      <td>-37.853583</td>\n",
       "    </tr>\n",
       "    <tr>\n",
       "      <th>80296</th>\n",
       "      <td>208500.0</td>\n",
       "      <td>-44829.970669</td>\n",
       "      <td>80296</td>\n",
       "      <td>-121.501185</td>\n",
       "    </tr>\n",
       "    <tr>\n",
       "      <th>67353</th>\n",
       "      <td>190500.0</td>\n",
       "      <td>-96681.641205</td>\n",
       "      <td>67353</td>\n",
       "      <td>-150.751518</td>\n",
       "    </tr>\n",
       "    <tr>\n",
       "      <th>88815</th>\n",
       "      <td>195200.0</td>\n",
       "      <td>-9751.516163</td>\n",
       "      <td>88815</td>\n",
       "      <td>-104.995654</td>\n",
       "    </tr>\n",
       "  </tbody>\n",
       "</table>\n",
       "</div>"
      ],
      "text/plain": [
       "times  Last Record      Last Pred RegionID  Percent Change\n",
       "91191     199400.0  165918.049134    91191      -16.791349\n",
       "74248     213000.0  162443.130247    74248      -23.735620\n",
       "94645     202100.0 -114363.068525    94645     -156.587367\n",
       "93856     181500.0   16844.039220    93856      -90.719538\n",
       "74482     186700.0  118535.461398    74482      -36.510197\n",
       "92114     183300.0  127682.845290    92114      -30.342147\n",
       "94278     211800.0   48736.716916    94278      -76.989274\n",
       "69273     183300.0  140302.529452    69273      -23.457431\n",
       "94229     196500.0  -35228.547763    94229     -117.928014\n",
       "64920     184100.0   38336.585028    64920      -79.176217\n",
       "74379     184800.0  124216.102983    74379      -32.783494\n",
       "79908     196900.0 -266194.382414    79908     -235.192678\n",
       "70156     218500.0  -26592.766214    70156     -112.170602\n",
       "92238     203900.0  113550.768030    92238      -44.310560\n",
       "88435     211400.0 -131046.191820    88435     -161.989684\n",
       "84504     202000.0   32223.426803    84504      -84.047809\n",
       "80293     200200.0  124417.127534    80293      -37.853583\n",
       "80296     208500.0  -44829.970669    80296     -121.501185\n",
       "67353     190500.0  -96681.641205    67353     -150.751518\n",
       "88815     195200.0   -9751.516163    88815     -104.995654"
      ]
     },
     "execution_count": 165,
     "metadata": {},
     "output_type": "execute_result"
    }
   ],
   "source": [
    "fore20df"
   ]
  },
  {
   "cell_type": "code",
   "execution_count": 25,
   "metadata": {},
   "outputs": [
    {
     "data": {
      "text/plain": [
       "['67353', '88815']"
      ]
     },
     "execution_count": 25,
     "metadata": {},
     "output_type": "execute_result"
    }
   ],
   "source": [
    "listofids = []\n",
    "for idx, col in enumerate(confidf.columns):\n",
    "    if idx%3==0:#each column that starts with lower\n",
    "        listofids.append(col[6:])#taking only the RegionID from the column name\n",
    "    else:\n",
    "        continue\n",
    "listofids[-2:]"
   ]
  },
  {
   "cell_type": "code",
   "execution_count": 21,
   "metadata": {},
   "outputs": [],
   "source": [
    "#putting 20 colors into a list with which to graph\n",
    "colors = [\"red\",\"green\",\"blue\",\"purple\",\"orange\",\n",
    "          \"black\",\"yellow\",\"cyan\",\"magenta\",\"violet\",\n",
    "          \"indigo\",\"white\",\"darkgreen\",\"lightpink\",\"lightblue\",\n",
    "         \"gold\",\"brown\",\"burlywood\",\"turquoise\",\"limegreen\"]"
   ]
  },
  {
   "cell_type": "code",
   "execution_count": 27,
   "metadata": {},
   "outputs": [
    {
     "data": {
      "image/png": "[encoded data removed]",
      "text/plain": [
       "<Figure size 864x576 with 1 Axes>"
      ]
     },
     "metadata": {},
     "output_type": "display_data"
    }
   ],
   "source": [
    "#creating a graph of the predictions\n",
    "fig = plt.figure(figsize = (12, 8))\n",
    "\n",
    "for regid,colo in zip(listofids,colors):\n",
    "    plt.plot(confidf['forecast '+str(regid)], label = str(regid), color=colo)\n",
    "    plt.fill_between(confidf.index, confidf['lower '+str(regid)], confidf['upper '+str(regid)], color=colo, alpha=.15)#, label = str(regid)+' confidence interval')\n",
    "\n",
    "plt.legend(loc=\"lower left\",ncol=2)\n",
    "plt.ylim(bottom=-200000)\n",
    "plt.ylim(top=400000)\n",
    "plt.xlim(left=736809.95)#if 736779.95 is a little before 2018-05, then adding 30 would almost put the beginning on the y-axis\n",
    "plt.xlim(right=737520.05)#similar to above for 2020-04\n",
    "plt.title(\"Forecasts for 20 RegionID's May 2018 - April 2020\")\n",
    "plt.ylabel(\"Forecasted House Prices\")\n",
    "plt.xlabel(\"Future Dates Beginning May 2018\")\n",
    "plt.savefig(\"files/20 RegionID Forecasts.png\")\n",
    "plt.show()"
   ]
  },
  {
   "cell_type": "markdown",
   "metadata": {},
   "source": [
    "Now creating another graph with only the five best RegionID's data, predictions (and confidence intervals) for the presentation."
   ]
  },
  {
   "cell_type": "code",
   "execution_count": 13,
   "metadata": {},
   "outputs": [
    {
     "data": {
      "text/html": [
       "<div>\n",
       "<style scoped>\n",
       "    .dataframe tbody tr th:only-of-type {\n",
       "        vertical-align: middle;\n",
       "    }\n",
       "\n",
       "    .dataframe tbody tr th {\n",
       "        vertical-align: top;\n",
       "    }\n",
       "\n",
       "    .dataframe thead th {\n",
       "        text-align: right;\n",
       "    }\n",
       "</style>\n",
       "<table border=\"1\" class=\"dataframe\">\n",
       "  <thead>\n",
       "    <tr style=\"text-align: right;\">\n",
       "      <th></th>\n",
       "      <th>RegionID</th>\n",
       "      <th>RegionName</th>\n",
       "      <th>City</th>\n",
       "      <th>State</th>\n",
       "      <th>Metro</th>\n",
       "      <th>CountyName</th>\n",
       "      <th>SizeRank</th>\n",
       "      <th>1996-04</th>\n",
       "      <th>1996-05</th>\n",
       "      <th>1996-06</th>\n",
       "      <th>...</th>\n",
       "      <th>2017-07</th>\n",
       "      <th>2017-08</th>\n",
       "      <th>2017-09</th>\n",
       "      <th>2017-10</th>\n",
       "      <th>2017-11</th>\n",
       "      <th>2017-12</th>\n",
       "      <th>2018-01</th>\n",
       "      <th>2018-02</th>\n",
       "      <th>2018-03</th>\n",
       "      <th>2018-04</th>\n",
       "    </tr>\n",
       "  </thead>\n",
       "  <tbody>\n",
       "    <tr>\n",
       "      <th>459</th>\n",
       "      <td>74379</td>\n",
       "      <td>37421</td>\n",
       "      <td>Chattanooga</td>\n",
       "      <td>TN</td>\n",
       "      <td>Chattanooga</td>\n",
       "      <td>Hamilton</td>\n",
       "      <td>460</td>\n",
       "      <td>102400.0</td>\n",
       "      <td>102400.0</td>\n",
       "      <td>102500.0</td>\n",
       "      <td>...</td>\n",
       "      <td>175300</td>\n",
       "      <td>176900</td>\n",
       "      <td>178600</td>\n",
       "      <td>179900</td>\n",
       "      <td>180800</td>\n",
       "      <td>181300</td>\n",
       "      <td>182000</td>\n",
       "      <td>182900</td>\n",
       "      <td>184000</td>\n",
       "      <td>184800</td>\n",
       "    </tr>\n",
       "    <tr>\n",
       "      <th>1185</th>\n",
       "      <td>91191</td>\n",
       "      <td>76017</td>\n",
       "      <td>Arlington</td>\n",
       "      <td>TX</td>\n",
       "      <td>Dallas-Fort Worth</td>\n",
       "      <td>Tarrant</td>\n",
       "      <td>1186</td>\n",
       "      <td>105400.0</td>\n",
       "      <td>105400.0</td>\n",
       "      <td>105500.0</td>\n",
       "      <td>...</td>\n",
       "      <td>188100</td>\n",
       "      <td>188900</td>\n",
       "      <td>189500</td>\n",
       "      <td>190700</td>\n",
       "      <td>192000</td>\n",
       "      <td>193300</td>\n",
       "      <td>194300</td>\n",
       "      <td>196000</td>\n",
       "      <td>198100</td>\n",
       "      <td>199400</td>\n",
       "    </tr>\n",
       "    <tr>\n",
       "      <th>2323</th>\n",
       "      <td>74248</td>\n",
       "      <td>37217</td>\n",
       "      <td>Nashville</td>\n",
       "      <td>TN</td>\n",
       "      <td>Nashville</td>\n",
       "      <td>Davidson</td>\n",
       "      <td>2324</td>\n",
       "      <td>96000.0</td>\n",
       "      <td>96200.0</td>\n",
       "      <td>96500.0</td>\n",
       "      <td>...</td>\n",
       "      <td>194000</td>\n",
       "      <td>195600</td>\n",
       "      <td>197000</td>\n",
       "      <td>198700</td>\n",
       "      <td>200500</td>\n",
       "      <td>202700</td>\n",
       "      <td>205000</td>\n",
       "      <td>207500</td>\n",
       "      <td>210700</td>\n",
       "      <td>213000</td>\n",
       "    </tr>\n",
       "    <tr>\n",
       "      <th>3626</th>\n",
       "      <td>92114</td>\n",
       "      <td>77833</td>\n",
       "      <td>Brenham</td>\n",
       "      <td>TX</td>\n",
       "      <td>Brenham</td>\n",
       "      <td>Washington</td>\n",
       "      <td>3627</td>\n",
       "      <td>88900.0</td>\n",
       "      <td>88900.0</td>\n",
       "      <td>88900.0</td>\n",
       "      <td>...</td>\n",
       "      <td>181400</td>\n",
       "      <td>182800</td>\n",
       "      <td>184200</td>\n",
       "      <td>184800</td>\n",
       "      <td>184500</td>\n",
       "      <td>184100</td>\n",
       "      <td>184000</td>\n",
       "      <td>183500</td>\n",
       "      <td>183200</td>\n",
       "      <td>183300</td>\n",
       "    </tr>\n",
       "    <tr>\n",
       "      <th>6307</th>\n",
       "      <td>69273</td>\n",
       "      <td>27282</td>\n",
       "      <td>High Point</td>\n",
       "      <td>NC</td>\n",
       "      <td>NaN</td>\n",
       "      <td>Guilford</td>\n",
       "      <td>6308</td>\n",
       "      <td>129800.0</td>\n",
       "      <td>129400.0</td>\n",
       "      <td>129000.0</td>\n",
       "      <td>...</td>\n",
       "      <td>180000</td>\n",
       "      <td>179600</td>\n",
       "      <td>179400</td>\n",
       "      <td>180000</td>\n",
       "      <td>180600</td>\n",
       "      <td>181100</td>\n",
       "      <td>181500</td>\n",
       "      <td>182200</td>\n",
       "      <td>182800</td>\n",
       "      <td>183300</td>\n",
       "    </tr>\n",
       "  </tbody>\n",
       "</table>\n",
       "<p>5 rows × 272 columns</p>\n",
       "</div>"
      ],
      "text/plain": [
       "      RegionID  RegionName         City State              Metro  CountyName  \\\n",
       "459      74379       37421  Chattanooga    TN        Chattanooga    Hamilton   \n",
       "1185     91191       76017    Arlington    TX  Dallas-Fort Worth     Tarrant   \n",
       "2323     74248       37217    Nashville    TN          Nashville    Davidson   \n",
       "3626     92114       77833      Brenham    TX            Brenham  Washington   \n",
       "6307     69273       27282   High Point    NC                NaN    Guilford   \n",
       "\n",
       "      SizeRank   1996-04   1996-05   1996-06   ...     2017-07  2017-08  \\\n",
       "459        460  102400.0  102400.0  102500.0   ...      175300   176900   \n",
       "1185      1186  105400.0  105400.0  105500.0   ...      188100   188900   \n",
       "2323      2324   96000.0   96200.0   96500.0   ...      194000   195600   \n",
       "3626      3627   88900.0   88900.0   88900.0   ...      181400   182800   \n",
       "6307      6308  129800.0  129400.0  129000.0   ...      180000   179600   \n",
       "\n",
       "      2017-09  2017-10  2017-11  2017-12  2018-01  2018-02  2018-03  2018-04  \n",
       "459    178600   179900   180800   181300   182000   182900   184000   184800  \n",
       "1185   189500   190700   192000   193300   194300   196000   198100   199400  \n",
       "2323   197000   198700   200500   202700   205000   207500   210700   213000  \n",
       "3626   184200   184800   184500   184100   184000   183500   183200   183300  \n",
       "6307   179400   180000   180600   181100   181500   182200   182800   183300  \n",
       "\n",
       "[5 rows x 272 columns]"
      ]
     },
     "execution_count": 13,
     "metadata": {},
     "output_type": "execute_result"
    }
   ],
   "source": [
    "best5info"
   ]
  },
  {
   "cell_type": "code",
   "execution_count": 34,
   "metadata": {},
   "outputs": [],
   "source": [
    "#convert the top 5 into a transposed dataframe of only the prices and dates\n",
    "best5df = transposeDF(best5info)\n",
    "best5df.head()"
   ]
  },
  {
   "cell_type": "code",
   "execution_count": 48,
   "metadata": {},
   "outputs": [
    {
     "data": {
      "image/png": "[encoded data removed]",
      "text/plain": [
       "<Figure size 864x576 with 1 Axes>"
      ]
     },
     "metadata": {},
     "output_type": "display_data"
    }
   ],
   "source": [
    "colors = [\"cyan\",\"darkblue\",\"green\",\"red\",\"purple\"]\n",
    "fig = plt.figure(figsize = (12, 8))\n",
    "\n",
    "for regid,colo,idx in zip(best5info.RegionID,colors,best5info.index):\n",
    "    plt.plot(best5df[regid], label = f\"{best5info.City[idx]}, {best5info.State[idx]}\", color=colo)\n",
    "    plt.plot(confidf['forecast '+str(regid)], label=\"_\", color=colo)#setting label to _ makes it not show in the legend\n",
    "    plt.fill_between(confidf.index, confidf['lower '+str(regid)], confidf['upper '+str(regid)], color=colo, alpha=.15)#, label = str(regid)+' confidence interval')\n",
    "\n",
    "plt.legend(loc=\"upper left\")\n",
    "plt.xlim(right=737650.05)#similar to previous graph; finding the correct spot to end the plot to work with the space\n",
    "plt.title(\"Data for Top Five with Forecasts until April 2020\")\n",
    "plt.ylabel(\"House Prices (in USD)\")\n",
    "plt.xlabel(\"Existing Data Starts April 1996, Future Dates Begin May 2018\")\n",
    "plt.savefig(\"files/TopFiveDataandForecasts.png\")\n",
    "plt.show()"
   ]
  },
  {
   "cell_type": "markdown",
   "metadata": {},
   "source": [
    "## Reviewing Expected Percent Change"
   ]
  },
  {
   "cell_type": "code",
   "execution_count": 102,
   "metadata": {},
   "outputs": [
    {
     "data": {
      "text/html": [
       "<div>\n",
       "<style scoped>\n",
       "    .dataframe tbody tr th:only-of-type {\n",
       "        vertical-align: middle;\n",
       "    }\n",
       "\n",
       "    .dataframe tbody tr th {\n",
       "        vertical-align: top;\n",
       "    }\n",
       "\n",
       "    .dataframe thead th {\n",
       "        text-align: right;\n",
       "    }\n",
       "</style>\n",
       "<table border=\"1\" class=\"dataframe\">\n",
       "  <thead>\n",
       "    <tr style=\"text-align: right;\">\n",
       "      <th></th>\n",
       "      <th>lower 91191</th>\n",
       "      <th>upper 91191</th>\n",
       "      <th>forecast 91191</th>\n",
       "    </tr>\n",
       "  </thead>\n",
       "  <tbody>\n",
       "    <tr>\n",
       "      <th>2018-05-01</th>\n",
       "      <td>199982.784448</td>\n",
       "      <td>200988.789063</td>\n",
       "      <td>200485.786755</td>\n",
       "    </tr>\n",
       "    <tr>\n",
       "      <th>2018-06-01</th>\n",
       "      <td>200243.256599</td>\n",
       "      <td>202764.828513</td>\n",
       "      <td>201504.042556</td>\n",
       "    </tr>\n",
       "    <tr>\n",
       "      <th>2018-07-01</th>\n",
       "      <td>200245.874578</td>\n",
       "      <td>204730.046484</td>\n",
       "      <td>202487.960531</td>\n",
       "    </tr>\n",
       "    <tr>\n",
       "      <th>2018-08-01</th>\n",
       "      <td>199919.685172</td>\n",
       "      <td>206733.715816</td>\n",
       "      <td>203326.700494</td>\n",
       "    </tr>\n",
       "    <tr>\n",
       "      <th>2018-09-01</th>\n",
       "      <td>199287.831224</td>\n",
       "      <td>208747.232059</td>\n",
       "      <td>204017.531641</td>\n",
       "    </tr>\n",
       "  </tbody>\n",
       "</table>\n",
       "</div>"
      ],
      "text/plain": [
       "              lower 91191    upper 91191  forecast 91191\n",
       "2018-05-01  199982.784448  200988.789063   200485.786755\n",
       "2018-06-01  200243.256599  202764.828513   201504.042556\n",
       "2018-07-01  200245.874578  204730.046484   202487.960531\n",
       "2018-08-01  199919.685172  206733.715816   203326.700494\n",
       "2018-09-01  199287.831224  208747.232059   204017.531641"
      ]
     },
     "execution_count": 102,
     "metadata": {},
     "output_type": "execute_result"
    }
   ],
   "source": [
    "#checking listofdfs is what I expect\n",
    "listofdfs[0].head()"
   ]
  },
  {
   "cell_type": "code",
   "execution_count": 103,
   "metadata": {},
   "outputs": [
    {
     "data": {
      "text/html": [
       "<div>\n",
       "<style scoped>\n",
       "    .dataframe tbody tr th:only-of-type {\n",
       "        vertical-align: middle;\n",
       "    }\n",
       "\n",
       "    .dataframe tbody tr th {\n",
       "        vertical-align: top;\n",
       "    }\n",
       "\n",
       "    .dataframe thead th {\n",
       "        text-align: right;\n",
       "    }\n",
       "</style>\n",
       "<table border=\"1\" class=\"dataframe\">\n",
       "  <thead>\n",
       "    <tr style=\"text-align: right;\">\n",
       "      <th></th>\n",
       "      <th>lower 74248</th>\n",
       "      <th>upper 74248</th>\n",
       "      <th>forecast 74248</th>\n",
       "    </tr>\n",
       "  </thead>\n",
       "  <tbody>\n",
       "    <tr>\n",
       "      <th>2019-12-01</th>\n",
       "      <td>179624.167494</td>\n",
       "      <td>315009.325189</td>\n",
       "      <td>247316.746342</td>\n",
       "    </tr>\n",
       "    <tr>\n",
       "      <th>2020-01-01</th>\n",
       "      <td>175229.615688</td>\n",
       "      <td>324110.416132</td>\n",
       "      <td>249670.015910</td>\n",
       "    </tr>\n",
       "    <tr>\n",
       "      <th>2020-02-01</th>\n",
       "      <td>170634.652162</td>\n",
       "      <td>333536.700412</td>\n",
       "      <td>252085.676287</td>\n",
       "    </tr>\n",
       "    <tr>\n",
       "      <th>2020-03-01</th>\n",
       "      <td>167399.598465</td>\n",
       "      <td>344822.353330</td>\n",
       "      <td>256110.975898</td>\n",
       "    </tr>\n",
       "    <tr>\n",
       "      <th>2020-04-01</th>\n",
       "      <td>162443.130247</td>\n",
       "      <td>354863.768097</td>\n",
       "      <td>258653.449172</td>\n",
       "    </tr>\n",
       "  </tbody>\n",
       "</table>\n",
       "</div>"
      ],
      "text/plain": [
       "              lower 74248    upper 74248  forecast 74248\n",
       "2019-12-01  179624.167494  315009.325189   247316.746342\n",
       "2020-01-01  175229.615688  324110.416132   249670.015910\n",
       "2020-02-01  170634.652162  333536.700412   252085.676287\n",
       "2020-03-01  167399.598465  344822.353330   256110.975898\n",
       "2020-04-01  162443.130247  354863.768097   258653.449172"
      ]
     },
     "execution_count": 103,
     "metadata": {},
     "output_type": "execute_result"
    }
   ],
   "source": [
    "listofdfs[1].tail()"
   ]
  },
  {
   "cell_type": "code",
   "execution_count": 8,
   "metadata": {
    "scrolled": true
   },
   "outputs": [
    {
     "data": {
      "text/html": [
       "<div>\n",
       "<style scoped>\n",
       "    .dataframe tbody tr th:only-of-type {\n",
       "        vertical-align: middle;\n",
       "    }\n",
       "\n",
       "    .dataframe tbody tr th {\n",
       "        vertical-align: top;\n",
       "    }\n",
       "\n",
       "    .dataframe thead th {\n",
       "        text-align: right;\n",
       "    }\n",
       "</style>\n",
       "<table border=\"1\" class=\"dataframe\">\n",
       "  <thead>\n",
       "    <tr style=\"text-align: right;\">\n",
       "      <th></th>\n",
       "      <th>times</th>\n",
       "      <th>91191</th>\n",
       "      <th>74248</th>\n",
       "      <th>94645</th>\n",
       "      <th>93856</th>\n",
       "      <th>74482</th>\n",
       "      <th>92114</th>\n",
       "      <th>94278</th>\n",
       "      <th>69273</th>\n",
       "      <th>94229</th>\n",
       "      <th>...</th>\n",
       "      <th>74379</th>\n",
       "      <th>79908</th>\n",
       "      <th>70156</th>\n",
       "      <th>92238</th>\n",
       "      <th>88435</th>\n",
       "      <th>84504</th>\n",
       "      <th>80293</th>\n",
       "      <th>80296</th>\n",
       "      <th>67353</th>\n",
       "      <th>88815</th>\n",
       "    </tr>\n",
       "  </thead>\n",
       "  <tbody>\n",
       "    <tr>\n",
       "      <th>0</th>\n",
       "      <td>2018-04-01</td>\n",
       "      <td>199400.000000</td>\n",
       "      <td>213000.000000</td>\n",
       "      <td>202100.000000</td>\n",
       "      <td>181500.00000</td>\n",
       "      <td>186700.000000</td>\n",
       "      <td>183300.00000</td>\n",
       "      <td>211800.000000</td>\n",
       "      <td>183300.000000</td>\n",
       "      <td>196500.000000</td>\n",
       "      <td>...</td>\n",
       "      <td>184800.000000</td>\n",
       "      <td>196900.000000</td>\n",
       "      <td>218500.000000</td>\n",
       "      <td>203900.00000</td>\n",
       "      <td>211400.00000</td>\n",
       "      <td>202000.000000</td>\n",
       "      <td>200200.000000</td>\n",
       "      <td>208500.000000</td>\n",
       "      <td>190500.000000</td>\n",
       "      <td>195200.000000</td>\n",
       "    </tr>\n",
       "    <tr>\n",
       "      <th>1</th>\n",
       "      <td>2020-04-01</td>\n",
       "      <td>165918.049134</td>\n",
       "      <td>162443.130247</td>\n",
       "      <td>-114363.068525</td>\n",
       "      <td>16844.03922</td>\n",
       "      <td>118535.461398</td>\n",
       "      <td>127682.84529</td>\n",
       "      <td>48736.716916</td>\n",
       "      <td>140302.529452</td>\n",
       "      <td>-35228.547763</td>\n",
       "      <td>...</td>\n",
       "      <td>124216.102983</td>\n",
       "      <td>-266194.382414</td>\n",
       "      <td>-26592.766214</td>\n",
       "      <td>113550.76803</td>\n",
       "      <td>-131046.19182</td>\n",
       "      <td>32223.426803</td>\n",
       "      <td>124417.127534</td>\n",
       "      <td>-44829.970669</td>\n",
       "      <td>-96681.641205</td>\n",
       "      <td>-9751.516163</td>\n",
       "    </tr>\n",
       "  </tbody>\n",
       "</table>\n",
       "<p>2 rows × 21 columns</p>\n",
       "</div>"
      ],
      "text/plain": [
       "        times          91191          74248          94645         93856  \\\n",
       "0  2018-04-01  199400.000000  213000.000000  202100.000000  181500.00000   \n",
       "1  2020-04-01  165918.049134  162443.130247 -114363.068525   16844.03922   \n",
       "\n",
       "           74482         92114          94278          69273          94229  \\\n",
       "0  186700.000000  183300.00000  211800.000000  183300.000000  196500.000000   \n",
       "1  118535.461398  127682.84529   48736.716916  140302.529452  -35228.547763   \n",
       "\n",
       "       ...                74379          79908          70156         92238  \\\n",
       "0      ...        184800.000000  196900.000000  218500.000000  203900.00000   \n",
       "1      ...        124216.102983 -266194.382414  -26592.766214  113550.76803   \n",
       "\n",
       "          88435          84504          80293          80296          67353  \\\n",
       "0  211400.00000  202000.000000  200200.000000  208500.000000  190500.000000   \n",
       "1 -131046.19182   32223.426803  124417.127534  -44829.970669  -96681.641205   \n",
       "\n",
       "           88815  \n",
       "0  195200.000000  \n",
       "1   -9751.516163  \n",
       "\n",
       "[2 rows x 21 columns]"
      ]
     },
     "execution_count": 8,
     "metadata": {},
     "output_type": "execute_result"
    }
   ],
   "source": [
    "#resuming with forecast20df\n",
    "forecast20df = pd.read_csv(\"files/pred20.csv\")\n",
    "forecast20df.head()"
   ]
  },
  {
   "cell_type": "code",
   "execution_count": 9,
   "metadata": {
    "scrolled": true
   },
   "outputs": [
    {
     "name": "stdout",
     "output_type": "stream",
     "text": [
      "<class 'pandas.core.frame.DataFrame'>\n",
      "Index: 2 entries, Last Record to Last Lower\n",
      "Data columns (total 20 columns):\n",
      "91191    2 non-null float64\n",
      "74248    2 non-null float64\n",
      "94645    2 non-null float64\n",
      "93856    2 non-null float64\n",
      "74482    2 non-null float64\n",
      "92114    2 non-null float64\n",
      "94278    2 non-null float64\n",
      "69273    2 non-null float64\n",
      "94229    2 non-null float64\n",
      "64920    2 non-null float64\n",
      "74379    2 non-null float64\n",
      "79908    2 non-null float64\n",
      "70156    2 non-null float64\n",
      "92238    2 non-null float64\n",
      "88435    2 non-null float64\n",
      "84504    2 non-null float64\n",
      "80293    2 non-null float64\n",
      "80296    2 non-null float64\n",
      "67353    2 non-null float64\n",
      "88815    2 non-null float64\n",
      "dtypes: float64(20)\n",
      "memory usage: 336.0+ bytes\n"
     ]
    }
   ],
   "source": [
    "#changing the read .CSV file to have more descriptive row names\n",
    "forecast20df.times = [\"Last Record\", \"Last Lower\"]\n",
    "forecast20df.set_index(\"times\",inplace=True)\n",
    "forecast20df.info()"
   ]
  },
  {
   "cell_type": "code",
   "execution_count": 9,
   "metadata": {},
   "outputs": [
    {
     "data": {
      "text/html": [
       "<div>\n",
       "<style scoped>\n",
       "    .dataframe tbody tr th:only-of-type {\n",
       "        vertical-align: middle;\n",
       "    }\n",
       "\n",
       "    .dataframe tbody tr th {\n",
       "        vertical-align: top;\n",
       "    }\n",
       "\n",
       "    .dataframe thead th {\n",
       "        text-align: right;\n",
       "    }\n",
       "</style>\n",
       "<table border=\"1\" class=\"dataframe\">\n",
       "  <thead>\n",
       "    <tr style=\"text-align: right;\">\n",
       "      <th>times</th>\n",
       "      <th>Last Record</th>\n",
       "      <th>Last Lower</th>\n",
       "      <th>RegionID</th>\n",
       "    </tr>\n",
       "  </thead>\n",
       "  <tbody>\n",
       "    <tr>\n",
       "      <th>91191</th>\n",
       "      <td>199400.0</td>\n",
       "      <td>165918.049134</td>\n",
       "      <td>91191</td>\n",
       "    </tr>\n",
       "    <tr>\n",
       "      <th>74248</th>\n",
       "      <td>213000.0</td>\n",
       "      <td>162443.130247</td>\n",
       "      <td>74248</td>\n",
       "    </tr>\n",
       "    <tr>\n",
       "      <th>94645</th>\n",
       "      <td>202100.0</td>\n",
       "      <td>-114363.068525</td>\n",
       "      <td>94645</td>\n",
       "    </tr>\n",
       "    <tr>\n",
       "      <th>93856</th>\n",
       "      <td>181500.0</td>\n",
       "      <td>16844.039220</td>\n",
       "      <td>93856</td>\n",
       "    </tr>\n",
       "    <tr>\n",
       "      <th>74482</th>\n",
       "      <td>186700.0</td>\n",
       "      <td>118535.461398</td>\n",
       "      <td>74482</td>\n",
       "    </tr>\n",
       "  </tbody>\n",
       "</table>\n",
       "</div>"
      ],
      "text/plain": [
       "times  Last Record     Last Lower RegionID\n",
       "91191     199400.0  165918.049134    91191\n",
       "74248     213000.0  162443.130247    74248\n",
       "94645     202100.0 -114363.068525    94645\n",
       "93856     181500.0   16844.039220    93856\n",
       "74482     186700.0  118535.461398    74482"
      ]
     },
     "execution_count": 9,
     "metadata": {},
     "output_type": "execute_result"
    }
   ],
   "source": [
    "#I have found it easier to add columns to a dataframe than rows so I will transpose it before doing some calculations\n",
    "fore20df = forecast20df.T\n",
    "fore20df[\"RegionID\"]=fore20df.index #adding the RegionID as a column\n",
    "fore20df.head()"
   ]
  },
  {
   "cell_type": "code",
   "execution_count": 10,
   "metadata": {},
   "outputs": [
    {
     "data": {
      "text/html": [
       "<div>\n",
       "<style scoped>\n",
       "    .dataframe tbody tr th:only-of-type {\n",
       "        vertical-align: middle;\n",
       "    }\n",
       "\n",
       "    .dataframe tbody tr th {\n",
       "        vertical-align: top;\n",
       "    }\n",
       "\n",
       "    .dataframe thead th {\n",
       "        text-align: right;\n",
       "    }\n",
       "</style>\n",
       "<table border=\"1\" class=\"dataframe\">\n",
       "  <thead>\n",
       "    <tr style=\"text-align: right;\">\n",
       "      <th>times</th>\n",
       "      <th>Last Record</th>\n",
       "      <th>Last Lower</th>\n",
       "      <th>RegionID</th>\n",
       "      <th>Percent Change</th>\n",
       "    </tr>\n",
       "  </thead>\n",
       "  <tbody>\n",
       "    <tr>\n",
       "      <th>91191</th>\n",
       "      <td>199400.0</td>\n",
       "      <td>165918.049134</td>\n",
       "      <td>91191</td>\n",
       "      <td>-16.791349</td>\n",
       "    </tr>\n",
       "    <tr>\n",
       "      <th>74248</th>\n",
       "      <td>213000.0</td>\n",
       "      <td>162443.130247</td>\n",
       "      <td>74248</td>\n",
       "      <td>-23.735620</td>\n",
       "    </tr>\n",
       "    <tr>\n",
       "      <th>94645</th>\n",
       "      <td>202100.0</td>\n",
       "      <td>-114363.068525</td>\n",
       "      <td>94645</td>\n",
       "      <td>-156.587367</td>\n",
       "    </tr>\n",
       "    <tr>\n",
       "      <th>93856</th>\n",
       "      <td>181500.0</td>\n",
       "      <td>16844.039220</td>\n",
       "      <td>93856</td>\n",
       "      <td>-90.719538</td>\n",
       "    </tr>\n",
       "    <tr>\n",
       "      <th>74482</th>\n",
       "      <td>186700.0</td>\n",
       "      <td>118535.461398</td>\n",
       "      <td>74482</td>\n",
       "      <td>-36.510197</td>\n",
       "    </tr>\n",
       "  </tbody>\n",
       "</table>\n",
       "</div>"
      ],
      "text/plain": [
       "times  Last Record     Last Lower RegionID  Percent Change\n",
       "91191     199400.0  165918.049134    91191      -16.791349\n",
       "74248     213000.0  162443.130247    74248      -23.735620\n",
       "94645     202100.0 -114363.068525    94645     -156.587367\n",
       "93856     181500.0   16844.039220    93856      -90.719538\n",
       "74482     186700.0  118535.461398    74482      -36.510197"
      ]
     },
     "execution_count": 10,
     "metadata": {},
     "output_type": "execute_result"
    }
   ],
   "source": [
    "#adding the change as a percentage of the original value\n",
    "fore20df[\"Percent Change\"] = [(p-r)/r*100 for r, p in zip(fore20df.loc[:,\"Last Record\"],fore20df.loc[:,\"Last Lower\"])]\n",
    "fore20df.head()"
   ]
  },
  {
   "cell_type": "code",
   "execution_count": 11,
   "metadata": {},
   "outputs": [],
   "source": [
    "#getting the five records with the highest percent change\n",
    "bestfive = fore20df.sort_values(by=\"Percent Change\").tail()"
   ]
  },
  {
   "cell_type": "code",
   "execution_count": 12,
   "metadata": {},
   "outputs": [
    {
     "data": {
      "text/html": [
       "<div>\n",
       "<style scoped>\n",
       "    .dataframe tbody tr th:only-of-type {\n",
       "        vertical-align: middle;\n",
       "    }\n",
       "\n",
       "    .dataframe tbody tr th {\n",
       "        vertical-align: top;\n",
       "    }\n",
       "\n",
       "    .dataframe thead th {\n",
       "        text-align: right;\n",
       "    }\n",
       "</style>\n",
       "<table border=\"1\" class=\"dataframe\">\n",
       "  <thead>\n",
       "    <tr style=\"text-align: right;\">\n",
       "      <th>times</th>\n",
       "      <th>Last Record</th>\n",
       "      <th>Last Lower</th>\n",
       "      <th>RegionID</th>\n",
       "      <th>Percent Change</th>\n",
       "    </tr>\n",
       "  </thead>\n",
       "  <tbody>\n",
       "    <tr>\n",
       "      <th>74379</th>\n",
       "      <td>184800.0</td>\n",
       "      <td>124216.102983</td>\n",
       "      <td>74379</td>\n",
       "      <td>-32.783494</td>\n",
       "    </tr>\n",
       "    <tr>\n",
       "      <th>92114</th>\n",
       "      <td>183300.0</td>\n",
       "      <td>127682.845290</td>\n",
       "      <td>92114</td>\n",
       "      <td>-30.342147</td>\n",
       "    </tr>\n",
       "    <tr>\n",
       "      <th>74248</th>\n",
       "      <td>213000.0</td>\n",
       "      <td>162443.130247</td>\n",
       "      <td>74248</td>\n",
       "      <td>-23.735620</td>\n",
       "    </tr>\n",
       "    <tr>\n",
       "      <th>69273</th>\n",
       "      <td>183300.0</td>\n",
       "      <td>140302.529452</td>\n",
       "      <td>69273</td>\n",
       "      <td>-23.457431</td>\n",
       "    </tr>\n",
       "    <tr>\n",
       "      <th>91191</th>\n",
       "      <td>199400.0</td>\n",
       "      <td>165918.049134</td>\n",
       "      <td>91191</td>\n",
       "      <td>-16.791349</td>\n",
       "    </tr>\n",
       "  </tbody>\n",
       "</table>\n",
       "</div>"
      ],
      "text/plain": [
       "times  Last Record     Last Lower RegionID  Percent Change\n",
       "74379     184800.0  124216.102983    74379      -32.783494\n",
       "92114     183300.0  127682.845290    92114      -30.342147\n",
       "74248     213000.0  162443.130247    74248      -23.735620\n",
       "69273     183300.0  140302.529452    69273      -23.457431\n",
       "91191     199400.0  165918.049134    91191      -16.791349"
      ]
     },
     "execution_count": 12,
     "metadata": {},
     "output_type": "execute_result"
    }
   ],
   "source": [
    "bestfive"
   ]
  },
  {
   "cell_type": "markdown",
   "metadata": {},
   "source": [
    "Although the percent change values are all negative, they are the most accurate predictions with this methodology, as they had the smallest mean-squared error.  At worst, they will still lose the investor a smaller amount of money than other RegionID's.\n",
    "\n",
    "The best five RegionID's to invest in are the following, as they are most likely to lose the least amount of value over the two-year period of April 2018 to April 2020: 74379, 92114, 74248, 69273, and 91191."
   ]
  },
  {
   "cell_type": "markdown",
   "metadata": {},
   "source": [
    "# Step 6: Summarizing results and looking back to the original data"
   ]
  },
  {
   "cell_type": "code",
   "execution_count": 133,
   "metadata": {},
   "outputs": [
    {
     "data": {
      "text/html": [
       "<div>\n",
       "<style scoped>\n",
       "    .dataframe tbody tr th:only-of-type {\n",
       "        vertical-align: middle;\n",
       "    }\n",
       "\n",
       "    .dataframe tbody tr th {\n",
       "        vertical-align: top;\n",
       "    }\n",
       "\n",
       "    .dataframe thead th {\n",
       "        text-align: right;\n",
       "    }\n",
       "</style>\n",
       "<table border=\"1\" class=\"dataframe\">\n",
       "  <thead>\n",
       "    <tr style=\"text-align: right;\">\n",
       "      <th></th>\n",
       "      <th>RegionID</th>\n",
       "      <th>RegionName</th>\n",
       "      <th>City</th>\n",
       "      <th>State</th>\n",
       "      <th>Metro</th>\n",
       "      <th>CountyName</th>\n",
       "      <th>SizeRank</th>\n",
       "      <th>1996-04</th>\n",
       "      <th>1996-05</th>\n",
       "      <th>1996-06</th>\n",
       "      <th>...</th>\n",
       "      <th>2017-07</th>\n",
       "      <th>2017-08</th>\n",
       "      <th>2017-09</th>\n",
       "      <th>2017-10</th>\n",
       "      <th>2017-11</th>\n",
       "      <th>2017-12</th>\n",
       "      <th>2018-01</th>\n",
       "      <th>2018-02</th>\n",
       "      <th>2018-03</th>\n",
       "      <th>2018-04</th>\n",
       "    </tr>\n",
       "  </thead>\n",
       "  <tbody>\n",
       "    <tr>\n",
       "      <th>0</th>\n",
       "      <td>84654</td>\n",
       "      <td>60657</td>\n",
       "      <td>Chicago</td>\n",
       "      <td>IL</td>\n",
       "      <td>Chicago</td>\n",
       "      <td>Cook</td>\n",
       "      <td>1</td>\n",
       "      <td>334200.0</td>\n",
       "      <td>335400.0</td>\n",
       "      <td>336500.0</td>\n",
       "      <td>...</td>\n",
       "      <td>1005500</td>\n",
       "      <td>1007500</td>\n",
       "      <td>1007800</td>\n",
       "      <td>1009600</td>\n",
       "      <td>1013300</td>\n",
       "      <td>1018700</td>\n",
       "      <td>1024400</td>\n",
       "      <td>1030700</td>\n",
       "      <td>1033800</td>\n",
       "      <td>1030600</td>\n",
       "    </tr>\n",
       "    <tr>\n",
       "      <th>1</th>\n",
       "      <td>90668</td>\n",
       "      <td>75070</td>\n",
       "      <td>McKinney</td>\n",
       "      <td>TX</td>\n",
       "      <td>Dallas-Fort Worth</td>\n",
       "      <td>Collin</td>\n",
       "      <td>2</td>\n",
       "      <td>235700.0</td>\n",
       "      <td>236900.0</td>\n",
       "      <td>236700.0</td>\n",
       "      <td>...</td>\n",
       "      <td>308000</td>\n",
       "      <td>310000</td>\n",
       "      <td>312500</td>\n",
       "      <td>314100</td>\n",
       "      <td>315000</td>\n",
       "      <td>316600</td>\n",
       "      <td>318100</td>\n",
       "      <td>319600</td>\n",
       "      <td>321100</td>\n",
       "      <td>321800</td>\n",
       "    </tr>\n",
       "    <tr>\n",
       "      <th>2</th>\n",
       "      <td>91982</td>\n",
       "      <td>77494</td>\n",
       "      <td>Katy</td>\n",
       "      <td>TX</td>\n",
       "      <td>Houston</td>\n",
       "      <td>Harris</td>\n",
       "      <td>3</td>\n",
       "      <td>210400.0</td>\n",
       "      <td>212200.0</td>\n",
       "      <td>212200.0</td>\n",
       "      <td>...</td>\n",
       "      <td>321000</td>\n",
       "      <td>320600</td>\n",
       "      <td>320200</td>\n",
       "      <td>320400</td>\n",
       "      <td>320800</td>\n",
       "      <td>321200</td>\n",
       "      <td>321200</td>\n",
       "      <td>323000</td>\n",
       "      <td>326900</td>\n",
       "      <td>329900</td>\n",
       "    </tr>\n",
       "    <tr>\n",
       "      <th>3</th>\n",
       "      <td>84616</td>\n",
       "      <td>60614</td>\n",
       "      <td>Chicago</td>\n",
       "      <td>IL</td>\n",
       "      <td>Chicago</td>\n",
       "      <td>Cook</td>\n",
       "      <td>4</td>\n",
       "      <td>498100.0</td>\n",
       "      <td>500900.0</td>\n",
       "      <td>503100.0</td>\n",
       "      <td>...</td>\n",
       "      <td>1289800</td>\n",
       "      <td>1287700</td>\n",
       "      <td>1287400</td>\n",
       "      <td>1291500</td>\n",
       "      <td>1296600</td>\n",
       "      <td>1299000</td>\n",
       "      <td>1302700</td>\n",
       "      <td>1306400</td>\n",
       "      <td>1308500</td>\n",
       "      <td>1307000</td>\n",
       "    </tr>\n",
       "    <tr>\n",
       "      <th>4</th>\n",
       "      <td>93144</td>\n",
       "      <td>79936</td>\n",
       "      <td>El Paso</td>\n",
       "      <td>TX</td>\n",
       "      <td>El Paso</td>\n",
       "      <td>El Paso</td>\n",
       "      <td>5</td>\n",
       "      <td>77300.0</td>\n",
       "      <td>77300.0</td>\n",
       "      <td>77300.0</td>\n",
       "      <td>...</td>\n",
       "      <td>119100</td>\n",
       "      <td>119400</td>\n",
       "      <td>120000</td>\n",
       "      <td>120300</td>\n",
       "      <td>120300</td>\n",
       "      <td>120300</td>\n",
       "      <td>120300</td>\n",
       "      <td>120500</td>\n",
       "      <td>121000</td>\n",
       "      <td>121500</td>\n",
       "    </tr>\n",
       "  </tbody>\n",
       "</table>\n",
       "<p>5 rows × 272 columns</p>\n",
       "</div>"
      ],
      "text/plain": [
       "   RegionID  RegionName      City State              Metro CountyName  \\\n",
       "0     84654       60657   Chicago    IL            Chicago       Cook   \n",
       "1     90668       75070  McKinney    TX  Dallas-Fort Worth     Collin   \n",
       "2     91982       77494      Katy    TX            Houston     Harris   \n",
       "3     84616       60614   Chicago    IL            Chicago       Cook   \n",
       "4     93144       79936   El Paso    TX            El Paso    El Paso   \n",
       "\n",
       "   SizeRank   1996-04   1996-05   1996-06   ...     2017-07  2017-08  2017-09  \\\n",
       "0         1  334200.0  335400.0  336500.0   ...     1005500  1007500  1007800   \n",
       "1         2  235700.0  236900.0  236700.0   ...      308000   310000   312500   \n",
       "2         3  210400.0  212200.0  212200.0   ...      321000   320600   320200   \n",
       "3         4  498100.0  500900.0  503100.0   ...     1289800  1287700  1287400   \n",
       "4         5   77300.0   77300.0   77300.0   ...      119100   119400   120000   \n",
       "\n",
       "   2017-10  2017-11  2017-12  2018-01  2018-02  2018-03  2018-04  \n",
       "0  1009600  1013300  1018700  1024400  1030700  1033800  1030600  \n",
       "1   314100   315000   316600   318100   319600   321100   321800  \n",
       "2   320400   320800   321200   321200   323000   326900   329900  \n",
       "3  1291500  1296600  1299000  1302700  1306400  1308500  1307000  \n",
       "4   120300   120300   120300   120300   120500   121000   121500  \n",
       "\n",
       "[5 rows x 272 columns]"
      ]
     },
     "execution_count": 133,
     "metadata": {},
     "output_type": "execute_result"
    }
   ],
   "source": [
    "#For completeness' sake, I will pull these records from the original zillow_data\n",
    "data.head()"
   ]
  },
  {
   "cell_type": "code",
   "execution_count": 134,
   "metadata": {},
   "outputs": [
    {
     "data": {
      "text/plain": [
       "dtype('int64')"
      ]
     },
     "execution_count": 134,
     "metadata": {},
     "output_type": "execute_result"
    }
   ],
   "source": [
    "data.RegionID.dtype"
   ]
  },
  {
   "cell_type": "code",
   "execution_count": 12,
   "metadata": {},
   "outputs": [
    {
     "data": {
      "text/html": [
       "<div>\n",
       "<style scoped>\n",
       "    .dataframe tbody tr th:only-of-type {\n",
       "        vertical-align: middle;\n",
       "    }\n",
       "\n",
       "    .dataframe tbody tr th {\n",
       "        vertical-align: top;\n",
       "    }\n",
       "\n",
       "    .dataframe thead th {\n",
       "        text-align: right;\n",
       "    }\n",
       "</style>\n",
       "<table border=\"1\" class=\"dataframe\">\n",
       "  <thead>\n",
       "    <tr style=\"text-align: right;\">\n",
       "      <th></th>\n",
       "      <th>RegionID</th>\n",
       "      <th>RegionName</th>\n",
       "      <th>City</th>\n",
       "      <th>State</th>\n",
       "      <th>Metro</th>\n",
       "      <th>CountyName</th>\n",
       "      <th>SizeRank</th>\n",
       "      <th>1996-04</th>\n",
       "      <th>1996-05</th>\n",
       "      <th>1996-06</th>\n",
       "      <th>...</th>\n",
       "      <th>2017-07</th>\n",
       "      <th>2017-08</th>\n",
       "      <th>2017-09</th>\n",
       "      <th>2017-10</th>\n",
       "      <th>2017-11</th>\n",
       "      <th>2017-12</th>\n",
       "      <th>2018-01</th>\n",
       "      <th>2018-02</th>\n",
       "      <th>2018-03</th>\n",
       "      <th>2018-04</th>\n",
       "    </tr>\n",
       "  </thead>\n",
       "  <tbody>\n",
       "    <tr>\n",
       "      <th>459</th>\n",
       "      <td>74379</td>\n",
       "      <td>37421</td>\n",
       "      <td>Chattanooga</td>\n",
       "      <td>TN</td>\n",
       "      <td>Chattanooga</td>\n",
       "      <td>Hamilton</td>\n",
       "      <td>460</td>\n",
       "      <td>102400.0</td>\n",
       "      <td>102400.0</td>\n",
       "      <td>102500.0</td>\n",
       "      <td>...</td>\n",
       "      <td>175300</td>\n",
       "      <td>176900</td>\n",
       "      <td>178600</td>\n",
       "      <td>179900</td>\n",
       "      <td>180800</td>\n",
       "      <td>181300</td>\n",
       "      <td>182000</td>\n",
       "      <td>182900</td>\n",
       "      <td>184000</td>\n",
       "      <td>184800</td>\n",
       "    </tr>\n",
       "    <tr>\n",
       "      <th>1185</th>\n",
       "      <td>91191</td>\n",
       "      <td>76017</td>\n",
       "      <td>Arlington</td>\n",
       "      <td>TX</td>\n",
       "      <td>Dallas-Fort Worth</td>\n",
       "      <td>Tarrant</td>\n",
       "      <td>1186</td>\n",
       "      <td>105400.0</td>\n",
       "      <td>105400.0</td>\n",
       "      <td>105500.0</td>\n",
       "      <td>...</td>\n",
       "      <td>188100</td>\n",
       "      <td>188900</td>\n",
       "      <td>189500</td>\n",
       "      <td>190700</td>\n",
       "      <td>192000</td>\n",
       "      <td>193300</td>\n",
       "      <td>194300</td>\n",
       "      <td>196000</td>\n",
       "      <td>198100</td>\n",
       "      <td>199400</td>\n",
       "    </tr>\n",
       "    <tr>\n",
       "      <th>2323</th>\n",
       "      <td>74248</td>\n",
       "      <td>37217</td>\n",
       "      <td>Nashville</td>\n",
       "      <td>TN</td>\n",
       "      <td>Nashville</td>\n",
       "      <td>Davidson</td>\n",
       "      <td>2324</td>\n",
       "      <td>96000.0</td>\n",
       "      <td>96200.0</td>\n",
       "      <td>96500.0</td>\n",
       "      <td>...</td>\n",
       "      <td>194000</td>\n",
       "      <td>195600</td>\n",
       "      <td>197000</td>\n",
       "      <td>198700</td>\n",
       "      <td>200500</td>\n",
       "      <td>202700</td>\n",
       "      <td>205000</td>\n",
       "      <td>207500</td>\n",
       "      <td>210700</td>\n",
       "      <td>213000</td>\n",
       "    </tr>\n",
       "    <tr>\n",
       "      <th>3626</th>\n",
       "      <td>92114</td>\n",
       "      <td>77833</td>\n",
       "      <td>Brenham</td>\n",
       "      <td>TX</td>\n",
       "      <td>Brenham</td>\n",
       "      <td>Washington</td>\n",
       "      <td>3627</td>\n",
       "      <td>88900.0</td>\n",
       "      <td>88900.0</td>\n",
       "      <td>88900.0</td>\n",
       "      <td>...</td>\n",
       "      <td>181400</td>\n",
       "      <td>182800</td>\n",
       "      <td>184200</td>\n",
       "      <td>184800</td>\n",
       "      <td>184500</td>\n",
       "      <td>184100</td>\n",
       "      <td>184000</td>\n",
       "      <td>183500</td>\n",
       "      <td>183200</td>\n",
       "      <td>183300</td>\n",
       "    </tr>\n",
       "    <tr>\n",
       "      <th>6307</th>\n",
       "      <td>69273</td>\n",
       "      <td>27282</td>\n",
       "      <td>High Point</td>\n",
       "      <td>NC</td>\n",
       "      <td>NaN</td>\n",
       "      <td>Guilford</td>\n",
       "      <td>6308</td>\n",
       "      <td>129800.0</td>\n",
       "      <td>129400.0</td>\n",
       "      <td>129000.0</td>\n",
       "      <td>...</td>\n",
       "      <td>180000</td>\n",
       "      <td>179600</td>\n",
       "      <td>179400</td>\n",
       "      <td>180000</td>\n",
       "      <td>180600</td>\n",
       "      <td>181100</td>\n",
       "      <td>181500</td>\n",
       "      <td>182200</td>\n",
       "      <td>182800</td>\n",
       "      <td>183300</td>\n",
       "    </tr>\n",
       "  </tbody>\n",
       "</table>\n",
       "<p>5 rows × 272 columns</p>\n",
       "</div>"
      ],
      "text/plain": [
       "      RegionID  RegionName         City State              Metro  CountyName  \\\n",
       "459      74379       37421  Chattanooga    TN        Chattanooga    Hamilton   \n",
       "1185     91191       76017    Arlington    TX  Dallas-Fort Worth     Tarrant   \n",
       "2323     74248       37217    Nashville    TN          Nashville    Davidson   \n",
       "3626     92114       77833      Brenham    TX            Brenham  Washington   \n",
       "6307     69273       27282   High Point    NC                NaN    Guilford   \n",
       "\n",
       "      SizeRank   1996-04   1996-05   1996-06   ...     2017-07  2017-08  \\\n",
       "459        460  102400.0  102400.0  102500.0   ...      175300   176900   \n",
       "1185      1186  105400.0  105400.0  105500.0   ...      188100   188900   \n",
       "2323      2324   96000.0   96200.0   96500.0   ...      194000   195600   \n",
       "3626      3627   88900.0   88900.0   88900.0   ...      181400   182800   \n",
       "6307      6308  129800.0  129400.0  129000.0   ...      180000   179600   \n",
       "\n",
       "      2017-09  2017-10  2017-11  2017-12  2018-01  2018-02  2018-03  2018-04  \n",
       "459    178600   179900   180800   181300   182000   182900   184000   184800  \n",
       "1185   189500   190700   192000   193300   194300   196000   198100   199400  \n",
       "2323   197000   198700   200500   202700   205000   207500   210700   213000  \n",
       "3626   184200   184800   184500   184100   184000   183500   183200   183300  \n",
       "6307   179400   180000   180600   181100   181500   182200   182800   183300  \n",
       "\n",
       "[5 rows x 272 columns]"
      ]
     },
     "execution_count": 12,
     "metadata": {},
     "output_type": "execute_result"
    }
   ],
   "source": [
    "#since I know the RegionID is a column of integers, I don't need to compare the values as strings\n",
    "best5info = data[data.RegionID.isin([74379, 92114, 74248, 69273, 91191])]\n",
    "best5info"
   ]
  },
  {
   "cell_type": "markdown",
   "metadata": {},
   "source": [
    "Interestingly, two of them are in Texas and two in Tennessee, with the remaining one in North Carolina.\n",
    "\n",
    "The final ranking would be as follows:"
   ]
  },
  {
   "cell_type": "code",
   "execution_count": 167,
   "metadata": {},
   "outputs": [
    {
     "name": "stdout",
     "output_type": "stream",
     "text": [
      "5. Chattanooga, TN      RegionID: 74379, RegionName: 37421\n",
      "4. Brenham, TX      RegionID: 92114, RegionName: 77833\n",
      "3. Nashville, TN      RegionID: 74248, RegionName: 37217\n",
      "2. High Point, NC      RegionID: 69273, RegionName: 27282\n",
      "1. Arlington, TX      RegionID: 91191, RegionName: 76017\n"
     ]
    }
   ],
   "source": [
    "regionids = [74379, 92114, 74248, 69273, 91191]\n",
    "for idx,each in enumerate(regionids):\n",
    "    row = best5info[best5info.RegionID==each]\n",
    "    rank = 5-idx\n",
    "    print(f\"{rank}. {row.City.iloc[0]}, {row.State.iloc[0]}      RegionID: {each}, RegionName: {row.RegionName.iloc[0]}\")"
   ]
  },
  {
   "cell_type": "markdown",
   "metadata": {},
   "source": [
    "## To Sum Up:\n",
    "Of the median ninth of the dataset, the best places in which to invest are the five listed above, as in a worst-case scenario, they are the most certain to lose the least amount of money.  Time was a large factor in this analysis.  If you get shorter or longer times for the one-column analyses I had set up, you can then get a sense for how long it could take to run the loops over every column.\n",
    "\n",
    "Since these are the best of the median, the best places that are closest to the average over the entire time period may be different and more closely match the model, since it was made with `avgtseries`."
   ]
  }
 ],
 "metadata": {
  "kernelspec": {
   "display_name": "Python 3",
   "language": "python",
   "name": "python3"
  },
  "language_info": {
   "codemirror_mode": {
    "name": "ipython",
    "version": 3
   },
   "file_extension": ".py",
   "mimetype": "text/x-python",
   "name": "python",
   "nbconvert_exporter": "python",
   "pygments_lexer": "ipython3",
   "version": "3.6.6"
  }
 },
 "nbformat": 4,
 "nbformat_minor": 2
}
